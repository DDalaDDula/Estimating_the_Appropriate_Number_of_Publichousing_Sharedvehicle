{
 "cells": [
  {
   "attachments": {},
   "cell_type": "markdown",
   "metadata": {},
   "source": [
    "## 기본설정 및 함수정의"
   ]
  },
  {
   "cell_type": "code",
   "execution_count": 1,
   "metadata": {},
   "outputs": [],
   "source": [
    "import pandas as pd\n",
    "import numpy as np\n",
    "import plotly.express as px\n",
    "import plotly.graph_objects as go\n",
    "import plotly.graph_objs as go\n",
    "import plotly.offline as offline\n",
    "from folium.plugins import HeatMapWithTime\n",
    "from plotly.subplots import make_subplots\n",
    "import folium\n",
    "from folium import plugins\n",
    "from folium.plugins import HeatMap\n",
    "from folium import FeatureGroup\n",
    "import json\n",
    "import math\n",
    "import re\n",
    "from datetime import datetime\n",
    "import os\n",
    "import glob\n",
    "import subprocess\n",
    "from bs4 import BeautifulSoup as bs\n",
    "from shapely.geometry import Point, Polygon, LineString\n",
    "from shapely.ops import unary_union\n",
    "import geopandas as gpd\n",
    "from geopandas import GeoSeries\n",
    "import pyproj\n",
    "from tqdm import tqdm\n",
    "from keplergl import KeplerGl\n",
    "\n",
    "# tqdm의 pandas전용 메소드를 호출\n",
    "tqdm.pandas()\n",
    "# 모든 열이 생략되지 않도록 설정\n",
    "pd.set_option('display.max_columns', None)\n",
    " \n",
    "# Point를만드는 함수\n",
    "def make_point(x):\n",
    "    try:\n",
    "        return Point(x)\n",
    "    except Exception as e:\n",
    "        print(f\"An error occurred: {e}\")\n",
    "        return None\n",
    "# Polygon을 만드는 함수\n",
    "def make_pol(x):\n",
    "    try:\n",
    "        return Polygon(x[0])\n",
    "    except:\n",
    "        return Polygon(x[0][0])\n",
    "    \n",
    "# Linestring을 만드는 함수\n",
    "def make_lin(x):\n",
    "    try:\n",
    "        return LineString(x)\n",
    "    except:\n",
    "        return LineString(x[0])\n",
    "\n",
    "# 데이터프레임을 GeoPandas 데이터프레임으로 변환하는 함수 정의\n",
    "def geo_transform(DataFrame) :\n",
    "    # csv to geopandas\n",
    "    # lon, lat data를 geometry로 변경\n",
    "    DataFrame['lat'] = DataFrame['lat'].astype(float)\n",
    "    DataFrame['lon'] = DataFrame['lon'].astype(float)\n",
    "    DataFrame['geometry'] = DataFrame.progress_apply(lambda row : Point([row['lon'], row['lat']]), axis=1) # 위도 및 경도롤 GeoPandas Point 객체로 변환\n",
    "    DataFrame = gpd.GeoDataFrame(DataFrame, geometry='geometry')\n",
    "    DataFrame.crs = {'init':'epsg:4326'} # geopandas 데이터프레임의 좌표계를 EPSG 4326으로 설정\n",
    "    DataFrame = DataFrame.to_crs({'init':'epsg:4326'}) # 데이터프레임의 좌표계를 자체 좌표계에서 EPSG 4326으로 변환\n",
    "    return DataFrame"
   ]
  },
  {
   "cell_type": "markdown",
   "metadata": {},
   "source": [
    "##### 행정동"
   ]
  },
  {
   "cell_type": "code",
   "execution_count": 2,
   "metadata": {},
   "outputs": [],
   "source": [
    "# 하남시 행정동 데이터\n",
    "shapefile_path1 = \"SBJ_2411_001/bnd_dong_31180_2023_2Q/bnd_dong_31180_2023_2Q.shp\"\n",
    "hanam_gdf = gpd.read_file(shapefile_path1)\n",
    "hanam_gdf = hanam_gdf.to_crs(epsg=4326) #EPSG4326 형식으로 변환\n",
    "\n",
    "# 화성시 행정동 데이터\n",
    "shapefile_path2 = \"SBJ_2411_001/bnd_dong_31240_2023_2Q/bnd_dong_31240_2023_2Q.shp\"\n",
    "hwasung_gdf = gpd.read_file(shapefile_path2)\n",
    "hwasung_gdf = hwasung_gdf.to_crs(epsg=4326) #EPSG4326 형식으로 변환"
   ]
  },
  {
   "attachments": {},
   "cell_type": "markdown",
   "metadata": {},
   "source": [
    "#### 격자"
   ]
  },
  {
   "cell_type": "code",
   "execution_count": 3,
   "metadata": {},
   "outputs": [],
   "source": [
    "# GeoJSON 파일 불러오기\n",
    "with open('SBJ_2411_001/1-14.화성시_격자.geojson', encoding=\"UTF8\") as geojson_file:\n",
    "    geojson_data = json.load(geojson_file)\n",
    "grid_map_df = pd.json_normalize(geojson_data['features'])\n",
    "grid_map_df['geometry'] = grid_map_df['geometry.coordinates'].apply(lambda x : make_pol(x))\n",
    "grid_map_df.drop(columns=\"geometry.coordinates\", axis=1, inplace=True)\n",
    "grid_map_df = grid_map_df[~grid_map_df['properties.gid'].str.startswith('다아')]\n",
    "# grid_map_df 데이터프레임을 GeoDataFrame으로 변환\n",
    "grid_map_df = gpd.GeoDataFrame(grid_map_df, geometry='geometry')\n",
    "grid_dict = dict(zip(grid_map_df['properties.gid'], grid_map_df['geometry']))"
   ]
  },
  {
   "cell_type": "markdown",
   "metadata": {},
   "source": [
    "#### 상세 도로망"
   ]
  },
  {
   "cell_type": "code",
   "execution_count": 4,
   "metadata": {},
   "outputs": [],
   "source": [
    "# GeoJSON 파일 불러오기\n",
    "with open('SBJ_2411_001/1-3.화성시_상세도로망.geojson', encoding=\"UTF8\") as geojson_file:\n",
    "    geojson_data = json.load(geojson_file)\n",
    "roadsystem_df = pd.json_normalize(geojson_data['features'])\n",
    "roadsystem_df['geometry'] = roadsystem_df['geometry.coordinates'].apply(lambda x : make_lin(x))\n",
    "roadsystem_df['properties.link_id'] = roadsystem_df['properties.link_id'].astype(str)\n",
    "roadsystem_df.drop(columns=\"geometry.coordinates\", axis=1, inplace=True)\n",
    "# roadsystem_df 데이터프레임을 GeoDataFrame으로 변환\n",
    "roadsystem_df = gpd.GeoDataFrame(roadsystem_df, geometry='geometry')\n",
    "roadsystem_df['lanes'] = roadsystem_df['properties.up_lanes'] + roadsystem_df['properties.dw_lanes']"
   ]
  },
  {
   "cell_type": "markdown",
   "metadata": {},
   "source": [
    "#### 추정교통량"
   ]
  },
  {
   "cell_type": "code",
   "execution_count": 5,
   "metadata": {},
   "outputs": [
    {
     "name": "stderr",
     "output_type": "stream",
     "text": [
      "C:\\Users\\user\\AppData\\Local\\Temp\\ipykernel_21636\\2343557591.py:6: DtypeWarning:\n",
      "\n",
      "Columns (8) have mixed types. Specify dtype option on import or set low_memory=False.\n",
      "\n"
     ]
    }
   ],
   "source": [
    "# 도로 id와 geometry를 매핑한 딕셔너리 생성 : 추정교통량 data와 매핑 예정\n",
    "road_geo_dic = dict(zip(roadsystem_df['properties.link_id'], roadsystem_df['geometry']))\n",
    "# 도로 id와 lanes를 매핑한 딕셔너리 생성\n",
    "road_lanes_dic = dict(zip(roadsystem_df['properties.link_id'], roadsystem_df['lanes']))\n",
    "\n",
    "traffic_df = pd.read_csv('SBJ_2411_001/1-2.화성시_추정교통량.csv')\n",
    "traffic_df['year'] = traffic_df['year'].astype(str)\n",
    "traffic_df['link_id'] = traffic_df['link_id'].astype(str)\n",
    "traffic_df['link_id'] = traffic_df['link_id'].apply(lambda x : x[:-2])\n",
    "traffic_df = traffic_df[traffic_df['timeslot'] == 'all'] # 일별 누적교통량 사용\n",
    "traffic_df['lanes'] = traffic_df['link_id'].map(road_lanes_dic)\n",
    "traffic_df['geometry'] = traffic_df['link_id'].map(road_geo_dic)\n",
    "traffic_df = gpd.GeoDataFrame(traffic_df, geometry='geometry')"
   ]
  },
  {
   "cell_type": "markdown",
   "metadata": {},
   "source": [
    "#### 교통혼잡도 계산"
   ]
  },
  {
   "cell_type": "code",
   "execution_count": 6,
   "metadata": {},
   "outputs": [],
   "source": [
    "# 도로 등급별 시간당 차로당 용량 정의\n",
    "capacity_per_lane = {\n",
    "    101: 2000,  # 고속도로\n",
    "    102: 1800,  # 도시고속화도로\n",
    "    103: 1500,  # 일반국도\n",
    "    104: 1500,  # 특별/광역시도\n",
    "    105: 1200,  # 국가지원지방도\n",
    "    106: 1000,  # 지방도\n",
    "    107: 800,   # 시군도\n",
    "    108: 600    # 기타\n",
    "}\n",
    "\n",
    "# 도로 등급에 따른 시간당 차로당 용량 매핑\n",
    "traffic_df['capacity_per_lane'] = traffic_df['road_rank'].map(capacity_per_lane)\n",
    "\n",
    "# 도로 길이의 최소값 설정 (예: 1km로 최소값 제한)\n",
    "min_length = 1.0  # km\n",
    "\n",
    "# 도로 길이를 최소값으로 보정\n",
    "traffic_df['adjusted_length'] = np.maximum(traffic_df['road_length'], min_length)\n",
    "\n",
    "# 도로 용량 계산 (보정된 길이 사용)\n",
    "traffic_df['road_capacity'] = traffic_df['capacity_per_lane'] * traffic_df['lanes'] * traffic_df['adjusted_length']\n",
    "\n",
    "# 혼잡도 계산\n",
    "traffic_df['congestion'] = traffic_df['ALL_AADT'] / traffic_df['road_capacity']"
   ]
  },
  {
   "cell_type": "code",
   "execution_count": null,
   "metadata": {},
   "outputs": [],
   "source": [
    "# 맵 객체 생성 및 데이터 로드\n",
    "road_estimating_map = KeplerGl(height=1000, width=1500)\n",
    "road_estimating_map.add_data(data=traffic_df, name=\"추정교통량 데이터\")\n",
    "road_estimating_map.add_data(data=hwasung_gdf, name=\"격자 데이터\")\n",
    "# 맵 출력 및 상세설정\n",
    "road_estimating_map"
   ]
  },
  {
   "cell_type": "code",
   "execution_count": 32,
   "metadata": {},
   "outputs": [
    {
     "name": "stdout",
     "output_type": "stream",
     "text": [
      "Map saved to visualization/화성시 현황/화성시 교통혼잡도 map.html!\n"
     ]
    }
   ],
   "source": [
    "# 맵 저장\n",
    "road_estimating_map.save_to_html(file_name=\"visualization/화성시 현황/화성시 교통혼잡도 map.html\")"
   ]
  },
  {
   "cell_type": "markdown",
   "metadata": {},
   "source": [
    "#### 공유차량 이용현황"
   ]
  },
  {
   "cell_type": "code",
   "execution_count": 7,
   "metadata": {},
   "outputs": [],
   "source": [
    "sharecar_df = pd.read_csv('SBJ_2411_001/1-11.화성시_공유차량_이용현황.csv')\n",
    "cols_to_exclude = ['car_type', 'car_cnt', 'car_type']  # 제외할 열\n",
    "columns_to_fill = [col for col in sharecar_df.columns if col not in cols_to_exclude]\n",
    "sharecar_df[columns_to_fill] = sharecar_df[columns_to_fill].fillna(0)\n",
    "sharecar_df['car_type'] = sharecar_df['car_type'].fillna(\"\")\n",
    "\n",
    "from sklearn.linear_model import LinearRegression\n",
    "\n",
    "train_data = sharecar_df.dropna(subset=['car_cnt', 'total_cnt', 'total_tm'])  # 세 열 모두 값이 있는 데이터\n",
    "test_data = sharecar_df[sharecar_df['car_cnt'].isna()]  # car_cnt가 결측인 데이터\n",
    "\n",
    "X_train = train_data[['total_cnt', 'total_tm']]  # 독립 변수\n",
    "y_train = train_data['car_cnt']  # 종속 변수\n",
    "\n",
    "model = LinearRegression()\n",
    "model.fit(X_train, y_train)\n",
    "\n",
    "if not test_data.empty:\n",
    "    X_test = test_data[['total_cnt', 'total_tm']]\n",
    "    predicted_car_cnt = model.predict(X_test) \n",
    "    predicted_car_cnt = np.maximum(predicted_car_cnt, 1)\n",
    "    sharecar_df.loc[test_data.index, 'car_cnt'] = predicted_car_cnt.astype(int)\n",
    "\n",
    "for col in columns_to_fill:\n",
    "    if sharecar_df[col].dtype in ['float64', 'int64']:\n",
    "        sharecar_df[col] = sharecar_df[col].astype(int)\n",
    "sharecar_df[\"car_cnt\"] = sharecar_df[\"car_cnt\"].astype(int)\n",
    "\n",
    "\n",
    "last_two_cols = sharecar_df.columns[-2:].tolist()\n",
    "new_columns = list(sharecar_df.columns)\n",
    "new_columns = [col for col in new_columns if col not in last_two_cols] \n",
    "new_columns[2:2] = last_two_cols \n",
    "sharecar_df = sharecar_df[new_columns]"
   ]
  },
  {
   "cell_type": "markdown",
   "metadata": {},
   "source": [
    "##### 공공주택 데이터와 병합"
   ]
  },
  {
   "cell_type": "code",
   "execution_count": 8,
   "metadata": {},
   "outputs": [
    {
     "name": "stderr",
     "output_type": "stream",
     "text": [
      "100%|██████████| 30/30 [00:00<00:00, 13863.94it/s]\n",
      "c:\\Users\\user\\anaconda3\\envs\\GIS\\lib\\site-packages\\pyproj\\crs\\crs.py:141: FutureWarning:\n",
      "\n",
      "'+init=<authority>:<code>' syntax is deprecated. '<authority>:<code>' is the preferred initialization method. When making the change, be mindful of axis order changes: https://pyproj4.github.io/pyproj/stable/gotchas.html#axis-order-changes-in-proj-6\n",
      "\n",
      "c:\\Users\\user\\anaconda3\\envs\\GIS\\lib\\site-packages\\pyproj\\crs\\crs.py:141: FutureWarning:\n",
      "\n",
      "'+init=<authority>:<code>' syntax is deprecated. '<authority>:<code>' is the preferred initialization method. When making the change, be mindful of axis order changes: https://pyproj4.github.io/pyproj/stable/gotchas.html#axis-order-changes-in-proj-6\n",
      "\n",
      "c:\\Users\\user\\anaconda3\\envs\\GIS\\lib\\site-packages\\IPython\\core\\interactiveshell.py:3445: FutureWarning:\n",
      "\n",
      "The `op` parameter is deprecated and will be removed in a future release. Please use the `predicate` parameter instead.\n",
      "\n",
      "C:\\Users\\user\\AppData\\Local\\Temp\\ipykernel_21636\\74804098.py:45: UserWarning:\n",
      "\n",
      "CRS mismatch between the CRS of left geometries and the CRS of right geometries.\n",
      "Use `to_crs()` to reproject one of the input geometries to match the CRS of the other.\n",
      "\n",
      "Left CRS: +init=epsg:4326 +type=crs\n",
      "Right CRS: None\n",
      "\n",
      "\n"
     ]
    }
   ],
   "source": [
    "sharehouse_df = pd.read_csv('SBJ_2411_001/1-12.공공주택임대_정보(화성시).csv')\n",
    "\n",
    "# 그룹화 및 처리 함수 정의\n",
    "def process_matching_rows(group):\n",
    "    # 첫 번째와 두 번째 열: 같은 값이므로 하나의 값 선택\n",
    "    col1_value = group.iloc[0, 0]  # 첫 번째 열\n",
    "    col2_value = group.iloc[0, 1]  # 두 번째 열\n",
    "\n",
    "    # 세 번째 열: ','로 구분해 값 결합\n",
    "    col3_combined = \",\".join(group.iloc[:, 2].astype(str).unique())  # 세 번째 열\n",
    "\n",
    "    # 네 번째와 다섯 번째 열: 숫자 합산\n",
    "    col4_sum = group.iloc[:, 3].sum()  # 네 번째 열\n",
    "    col5_sum = group.iloc[:, 4].sum()  # 다섯 번째 열\n",
    "\n",
    "    # 여섯 번째와 일곱 번째 열: 같은 값이므로 하나의 값 선택\n",
    "    col6_value = group.iloc[0, 5]  # 여섯 번째 열\n",
    "    col7_value = group.iloc[0, 6]  # 일곱 번째 열\n",
    "\n",
    "    return pd.Series([col1_value, col2_value, col3_combined, col4_sum, col5_sum, col6_value, col7_value])\n",
    "\n",
    "# sharehouse_df를 blck_cd 기준으로 그룹화하고 처리\n",
    "processed_sharehouse = (\n",
    "    sharehouse_df.groupby(\"blck_cd\").apply(process_matching_rows)\n",
    ")\n",
    "\n",
    "# 열 이름 재설정\n",
    "processed_sharehouse.columns = [\n",
    "    \"col1_value\", \"col2_value\", \"col3_combined\", \"col4_sum\", \"col5_sum\", \"col6_value\", \"col7_value\"\n",
    "]\n",
    "\n",
    "# sharecar_df와 병합\n",
    "merged_df = pd.merge(sharecar_df, processed_sharehouse, on=\"blck_cd\", how=\"left\")\n",
    "merged_df = merged_df.iloc[:,2:]\n",
    "new_column_names = sharehouse_df.columns\n",
    "merged_df.columns = list(merged_df.columns[:-7]) + list(new_column_names)\n",
    "merged_df = geo_transform(merged_df)\n",
    "last_8_columns = merged_df.columns[-8:]\n",
    "remaining_columns = merged_df.columns[:-8]\n",
    "merged_df = merged_df[list(last_8_columns) + list(remaining_columns)]\n",
    "merged_df['parking_slot'] = merged_df['parking_slot'].astype(int)\n",
    "merged_df = merged_df.drop(columns=['lon', 'lat'])\n",
    "merged_gdf = merged_df.reset_index(drop=True)\n",
    "grid_map_gdf = grid_map_df.reset_index(drop=True)\n",
    "joined_gdf = gpd.sjoin(merged_df, grid_map_df, how='left', op='within')\n",
    "joined_gdf['geometry'] = joined_gdf['properties.gid'].map(grid_dict)\n",
    "target_column = joined_gdf.columns[-2]\n",
    "columns = list(joined_gdf.columns)\n",
    "columns.remove(target_column)\n",
    "columns.insert(5, target_column)\n",
    "joined_gdf = joined_gdf[columns]\n",
    "joined_gdf = joined_gdf.iloc[:,:-3]\n",
    "joined_gdf['type_left'] = joined_gdf['type_left'].apply(lambda x : '+'.join(x.split(',')))\n",
    "joined_gdf.rename(columns={'type_left':'type'}, inplace=True)\n",
    "joined_gdf['type'] = joined_gdf['type'].apply(\n",
    "    lambda x: '+'.join(sorted(x.split('+'))) if '+' in x else x\n",
    ")\n",
    "\n",
    "# 차량 활용 점수 (Vehicle Utilization Score, VUS) 계산코드드\n",
    "joined_gdf['car_cnt'] = joined_gdf['car_cnt'].fillna(0).replace(0, 1)  # 0으로 나눔 방지\n",
    "joined_gdf['total_cnt'] = joined_gdf['total_cnt'].fillna(0)\n",
    "joined_gdf['total_tm'] = joined_gdf['total_tm'].fillna(0)\n",
    "\n",
    "# 가중치 설정\n",
    "w1, w2 = 0.5, 0.5  # 기본값: 건수와 시간을 동일한 비중으로 고려\n",
    "\n",
    "# 차량 활용 점수 계산\n",
    "joined_gdf['vehicle_utilization_score'] = (\n",
    "    w1 * (joined_gdf['total_cnt'] / joined_gdf['car_cnt']) + \n",
    "    w2 * (joined_gdf['total_tm'] / joined_gdf['car_cnt'])\n",
    ")"
   ]
  },
  {
   "cell_type": "markdown",
   "metadata": {},
   "source": [
    "#### 시설"
   ]
  },
  {
   "cell_type": "markdown",
   "metadata": {},
   "source": [
    "##### 버스정류장 & 지하철역"
   ]
  },
  {
   "cell_type": "code",
   "execution_count": 9,
   "metadata": {},
   "outputs": [],
   "source": [
    "# 버스 정류장 및 지하철역 데이터 로드\n",
    "bus_stations_df = pd.read_csv('SBJ_2411_001/1-5.화성시_버스정류장.csv')\n",
    "subway_stations_df = pd.read_csv('SBJ_2411_001/1-6.화성시_지하철역.csv')"
   ]
  },
  {
   "cell_type": "code",
   "execution_count": 10,
   "metadata": {},
   "outputs": [],
   "source": [
    "from geopy.distance import geodesic\n",
    "\n",
    "# Function to calculate the distance to the nearest station (bus or subway)\n",
    "def calculate_nearest_distance(row, station_df):\n",
    "    point = (row['lat'], row['lon'])  # Point for the current row (car location)\n",
    "    distances = station_df.apply(lambda x: geodesic(point, (x['lat'], x['lon'])).meters, axis=1)\n",
    "    return distances.min()  # Return the minimum distance\n",
    "\n",
    "# Ensure latitude and longitude columns exist in the joined_gdf for calculations\n",
    "if 'lat' not in joined_gdf.columns or 'lon' not in joined_gdf.columns:\n",
    "    # Extract centroid from geometry if lat/lon not explicitly present\n",
    "    joined_gdf['lon'] = joined_gdf['geometry'].apply(lambda geom: geom.centroid.x)\n",
    "    joined_gdf['lat'] = joined_gdf['geometry'].apply(lambda geom: geom.centroid.y)\n",
    "\n",
    "# Calculate the nearest bus and subway station distances\n",
    "joined_gdf['nearest_bus_distance'] = joined_gdf.apply(calculate_nearest_distance, axis=1, station_df=bus_stations_df)\n",
    "joined_gdf['nearest_subway_distance'] = joined_gdf.apply(calculate_nearest_distance, axis=1, station_df=subway_stations_df)\n",
    "\n",
    "# Time usage columns and their total by group\n",
    "time_columns = [col for col in joined_gdf.columns if col.startswith('cnt_')]\n",
    "time_usage_with_distances = joined_gdf[['nearest_bus_distance', 'nearest_subway_distance'] + time_columns].copy()\n",
    "\n",
    "# Correlation analysis: distances vs time usage\n",
    "correlation_analysis = time_usage_with_distances.corr()"
   ]
  },
  {
   "cell_type": "markdown",
   "metadata": {},
   "source": [
    "#### 교통적 특성 상관관계 분석"
   ]
  },
  {
   "cell_type": "markdown",
   "metadata": {},
   "source": [
    "##### 교통시설 접근성"
   ]
  },
  {
   "cell_type": "code",
   "execution_count": 16,
   "metadata": {},
   "outputs": [
    {
     "data": {
      "image/png": "[encoded data removed]",
      "text/plain": [
       "<Figure size 800x600 with 1 Axes>"
      ]
     },
     "metadata": {},
     "output_type": "display_data"
    },
    {
     "name": "stdout",
     "output_type": "stream",
     "text": [
      "Correlation Coefficient: -0.07\n"
     ]
    }
   ],
   "source": [
    "import matplotlib.pyplot as plt\n",
    "import seaborn as sns\n",
    "\n",
    "# Scatter plot to visualize the relationship\n",
    "plt.figure(figsize=(8, 6))\n",
    "sns.scatterplot(\n",
    "    x='nearest_bus_distance',\n",
    "    y='vehicle_utilization_score',\n",
    "    data=joined_gdf,\n",
    "    alpha=0.7\n",
    ")\n",
    "plt.title('Scatter Plot: Vehicle Utilization Score vs Nearest Bus Distance')\n",
    "plt.xlabel('Nearest Bus Distance')\n",
    "plt.ylabel('Vehicle Utilization Score')\n",
    "plt.grid(True)\n",
    "plt.show()\n",
    "\n",
    "# Calculate and display the correlation coefficient\n",
    "correlation_coefficient = joined_gdf['vehicle_utilization_score'].corr(joined_gdf['nearest_bus_distance'])\n",
    "print(f\"Correlation Coefficient: {correlation_coefficient:.2f}\")\n"
   ]
  },
  {
   "cell_type": "code",
   "execution_count": 17,
   "metadata": {},
   "outputs": [
    {
     "data": {
      "image/png": "[encoded data removed]",
      "text/plain": [
       "<Figure size 800x600 with 1 Axes>"
      ]
     },
     "metadata": {},
     "output_type": "display_data"
    },
    {
     "name": "stdout",
     "output_type": "stream",
     "text": [
      "Correlation Coefficient: 0.56\n"
     ]
    }
   ],
   "source": [
    "import matplotlib.pyplot as plt\n",
    "import seaborn as sns\n",
    "\n",
    "# Scatter plot to visualize the relationship\n",
    "plt.figure(figsize=(8, 6))\n",
    "sns.scatterplot(\n",
    "    x='nearest_subway_distance',\n",
    "    y='vehicle_utilization_score',\n",
    "    data=joined_gdf,\n",
    "    alpha=0.7\n",
    ")\n",
    "plt.title('Scatter Plot: Vehicle Utilization Score vs Nearest Subway Distance')\n",
    "plt.xlabel('Nearest Subway Distance')\n",
    "plt.ylabel('Vehicle Utilization Score')\n",
    "plt.grid(True)\n",
    "plt.show()\n",
    "\n",
    "# Calculate and display the correlation coefficient\n",
    "correlation_coefficient = joined_gdf['vehicle_utilization_score'].corr(joined_gdf['nearest_subway_distance'])\n",
    "print(f\"Correlation Coefficient: {correlation_coefficient:.2f}\")\n"
   ]
  },
  {
   "cell_type": "markdown",
   "metadata": {},
   "source": [
    "##### 교통 네트워크 혼잡도"
   ]
  },
  {
   "cell_type": "code",
   "execution_count": 11,
   "metadata": {},
   "outputs": [],
   "source": [
    "# Create a function to calculate congestion within 300m buffer\n",
    "def calculate_congestion(buffer_geom, traffic_data):\n",
    "    total_congestion = 0\n",
    "    intersected_length = 0\n",
    "\n",
    "    for line_geom, congestion in zip(traffic_data['geometry'], traffic_data['congestion']):\n",
    "        if buffer_geom.intersects(line_geom):\n",
    "            intersection = buffer_geom.intersection(line_geom)\n",
    "            if isinstance(intersection, LineString):\n",
    "                length = intersection.length\n",
    "                total_congestion += congestion * length\n",
    "                intersected_length += length\n",
    "            elif intersection.geom_type == 'MultiLineString':\n",
    "                for sub_line in intersection:\n",
    "                    length = sub_line.length\n",
    "                    total_congestion += congestion * length\n",
    "                    intersected_length += length\n",
    "\n",
    "    # Avoid division by zero\n",
    "    if intersected_length == 0:\n",
    "        return 0\n",
    "\n",
    "    return total_congestion / intersected_length\n",
    "\n",
    "# Apply 300m buffer around sharehouse_car geometries and calculate congestion\n",
    "joined_gdf['congestion'] = joined_gdf['geometry'].apply(\n",
    "    lambda geom: calculate_congestion(geom.buffer(0.003), traffic_df)\n",
    ")"
   ]
  },
  {
   "cell_type": "code",
   "execution_count": 22,
   "metadata": {},
   "outputs": [
    {
     "data": {
      "image/png": "[encoded data removed]",
      "text/plain": [
       "<Figure size 800x600 with 1 Axes>"
      ]
     },
     "metadata": {},
     "output_type": "display_data"
    },
    {
     "data": {
      "text/plain": [
       "0.09881896095424496"
      ]
     },
     "execution_count": 22,
     "metadata": {},
     "output_type": "execute_result"
    }
   ],
   "source": [
    "import matplotlib.pyplot as plt\n",
    "import seaborn as sns\n",
    "\n",
    "# Scatter plot to visualize the relationship\n",
    "plt.figure(figsize=(8, 6))\n",
    "sns.scatterplot(\n",
    "    x='congestion',\n",
    "    y='vehicle_utilization_score',\n",
    "    data=joined_gdf,\n",
    "    alpha=0.7\n",
    ")\n",
    "plt.title('Scatter Plot: Congestion vs Vehicle Utilization Score')\n",
    "plt.xlabel('Congestion')\n",
    "plt.ylabel('Vehicle Utilization Score')\n",
    "plt.grid(True)\n",
    "plt.show()\n",
    "\n",
    "# Calculate and display the correlation coefficient\n",
    "correlation_coefficient = joined_gdf['congestion'].corr(joined_gdf['vehicle_utilization_score'])\n",
    "correlation_coefficient\n"
   ]
  },
  {
   "cell_type": "markdown",
   "metadata": {},
   "source": [
    "#### 모델 학습 준비"
   ]
  },
  {
   "cell_type": "code",
   "execution_count": 12,
   "metadata": {},
   "outputs": [],
   "source": [
    "property3_df = joined_gdf[['blck_cd', 'type', 'noh', 'total_cnt', 'total_tm', 'car_cnt', 'vehicle_utilization_score', 'nearest_bus_distance','nearest_subway_distance', 'congestion']]"
   ]
  },
  {
   "cell_type": "code",
   "execution_count": 13,
   "metadata": {},
   "outputs": [],
   "source": [
    "property3_df.to_csv('property3_df.csv', index=False)"
   ]
  }
 ],
 "metadata": {
  "kernelspec": {
   "display_name": "GIS",
   "language": "python",
   "name": "python3"
  },
  "language_info": {
   "codemirror_mode": {
    "name": "ipython",
    "version": 3
   },
   "file_extension": ".py",
   "mimetype": "text/x-python",
   "name": "python",
   "nbconvert_exporter": "python",
   "pygments_lexer": "ipython3",
   "version": "3.8.16"
  },
  "orig_nbformat": 4
 },
 "nbformat": 4,
 "nbformat_minor": 2
}

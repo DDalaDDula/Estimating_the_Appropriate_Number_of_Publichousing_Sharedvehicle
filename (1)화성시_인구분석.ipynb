{
 "cells": [
  {
   "attachments": {},
   "cell_type": "markdown",
   "metadata": {},
   "source": [
    "## 기본설정 및 함수정의"
   ]
  },
  {
   "cell_type": "code",
   "execution_count": 1,
   "metadata": {},
   "outputs": [],
   "source": [
    "import pandas as pd\n",
    "import numpy as np\n",
    "import plotly.express as px\n",
    "import plotly.graph_objects as go\n",
    "import plotly.graph_objs as go\n",
    "import plotly.offline as offline\n",
    "from folium.plugins import HeatMapWithTime\n",
    "from plotly.subplots import make_subplots\n",
    "import folium\n",
    "from folium import plugins\n",
    "from folium.plugins import HeatMap\n",
    "from folium import FeatureGroup\n",
    "import json\n",
    "import math\n",
    "import re\n",
    "from datetime import datetime\n",
    "import os\n",
    "import glob\n",
    "import subprocess\n",
    "from bs4 import BeautifulSoup as bs\n",
    "from shapely.geometry import Point, Polygon, LineString\n",
    "from shapely.ops import unary_union\n",
    "import geopandas as gpd\n",
    "from geopandas import GeoSeries\n",
    "import pyproj\n",
    "from tqdm import tqdm\n",
    "from keplergl import KeplerGl\n",
    "\n",
    "# tqdm의 pandas전용 메소드를 호출\n",
    "tqdm.pandas()\n",
    "# 모든 열이 생략되지 않도록 설정\n",
    "pd.set_option('display.max_columns', None)\n",
    "\n",
    "# 목표표 위도, 경도\n",
    "hwasung = [37.20387682941874, 127.0634311210021]\n",
    " \n",
    "# Point를만드는 함수\n",
    "def make_point(x):\n",
    "    try:\n",
    "        return Point(x)\n",
    "    except Exception as e:\n",
    "        print(f\"An error occurred: {e}\")\n",
    "        return None\n",
    "# Polygon을 만드는 함수\n",
    "def make_pol(x):\n",
    "    try:\n",
    "        return Polygon(x[0])\n",
    "    except:\n",
    "        return Polygon(x[0][0])\n",
    "    \n",
    "# Linestring을 만드는 함수\n",
    "def make_lin(x):\n",
    "    try:\n",
    "        return LineString(x)\n",
    "    except:\n",
    "        return LineString(x[0])\n",
    "\n",
    "# 데이터프레임을 GeoPandas 데이터프레임으로 변환하는 함수 정의\n",
    "def geo_transform(DataFrame) :\n",
    "    # csv to geopandas\n",
    "    # lon, lat data를 geometry로 변경\n",
    "    DataFrame['lat'] = DataFrame['lat'].astype(float)\n",
    "    DataFrame['lon'] = DataFrame['lon'].astype(float)\n",
    "    DataFrame['geometry'] = DataFrame.progress_apply(lambda row : Point([row['lon'], row['lat']]), axis=1) # 위도 및 경도롤 GeoPandas Point 객체로 변환\n",
    "    DataFrame = gpd.GeoDataFrame(DataFrame, geometry='geometry')\n",
    "    DataFrame.crs = {'init':'epsg:4326'} # geopandas 데이터프레임의 좌표계를 EPSG 4326으로 설정\n",
    "    DataFrame = DataFrame.to_crs({'init':'epsg:4326'}) # 데이터프레임의 좌표계를 자체 좌표계에서 EPSG 4326으로 변환\n",
    "    return DataFrame"
   ]
  },
  {
   "cell_type": "markdown",
   "metadata": {},
   "source": [
    "#### 대상구역"
   ]
  },
  {
   "cell_type": "code",
   "execution_count": 44,
   "metadata": {},
   "outputs": [],
   "source": [
    "# GeoJSON 파일 불러오기\n",
    "with open('SBJ_2411_001/3.대상구역도(하남교산).geojson', encoding=\"UTF8\") as geojson_file:\n",
    "    geojson_data = json.load(geojson_file)\n",
    "object_area_df = pd.json_normalize(geojson_data['features'])\n",
    "object_area_df['geometry'] = object_area_df['geometry.coordinates'].apply(lambda x : make_pol(x))\n",
    "object_area_df.drop(columns=\"geometry.coordinates\", inplace=True)\n",
    "object_area_df = gpd.GeoDataFrame(object_area_df, geometry='geometry')"
   ]
  },
  {
   "cell_type": "markdown",
   "metadata": {},
   "source": [
    "##### 격자"
   ]
  },
  {
   "cell_type": "code",
   "execution_count": 5,
   "metadata": {},
   "outputs": [],
   "source": [
    "# GeoJSON 파일 불러오기\n",
    "with open('SBJ_2411_001/2-14.하남시_격자.geojson', encoding=\"UTF8\") as geojson_file:\n",
    "    geojson_data = json.load(geojson_file)\n",
    "grid_map_df = pd.json_normalize(geojson_data['features'])\n",
    "grid_map_df['geometry'] = grid_map_df['geometry.coordinates'].apply(lambda x : make_pol(x))\n",
    "grid_map_df.drop(columns=\"geometry.coordinates\", axis=1, inplace=True)\n",
    "grid_map_df = grid_map_df[~grid_map_df['properties.gid'].str.startswith('다아')]\n",
    "# grid_map_df 데이터프레임을 GeoDataFrame으로 변환\n",
    "grid_map_df = gpd.GeoDataFrame(grid_map_df, geometry='geometry')"
   ]
  },
  {
   "cell_type": "markdown",
   "metadata": {},
   "source": [
    "##### 행정동"
   ]
  },
  {
   "cell_type": "code",
   "execution_count": 47,
   "metadata": {},
   "outputs": [],
   "source": [
    "# 하남시 행정동 데이터\n",
    "shapefile_path1 = \"SBJ_2411_001/bnd_dong_31180_2023_2Q/bnd_dong_31180_2023_2Q.shp\"\n",
    "hanam_gdf = gpd.read_file(shapefile_path1)\n",
    "hanam_gdf = hanam_gdf.to_crs(epsg=4326) #EPSG4326 형식으로 변환\n",
    "\n",
    "# 화성시 행정동 데이터\n",
    "shapefile_path2 = \"SBJ_2411_001/bnd_dong_31240_2023_2Q/bnd_dong_31240_2023_2Q.shp\"\n",
    "hwasung_gdf = gpd.read_file(shapefile_path2)\n",
    "hwasung_gdf = hwasung_gdf.to_crs(epsg=4326) #EPSG4326 형식으로 변환"
   ]
  },
  {
   "cell_type": "code",
   "execution_count": null,
   "metadata": {},
   "outputs": [],
   "source": [
    "# 맵 객체 생성 및 데이터 로드\n",
    "map = KeplerGl(height=1000, width=1500)\n",
    "map.add_data(data=object_area_df, name=\"대상구역 데이터\")\n",
    "map.add_data(data=grid_map_df, name=\"격자 데이터\")\n",
    "\n",
    "# 맵 출력 및 상세설정\n",
    "map"
   ]
  },
  {
   "attachments": {},
   "cell_type": "markdown",
   "metadata": {},
   "source": [
    "#### 격자(매핑용)"
   ]
  },
  {
   "cell_type": "code",
   "execution_count": 3,
   "metadata": {},
   "outputs": [],
   "source": [
    "# GeoJSON 파일 불러오기\n",
    "with open('SBJ_2411_001/1-14.화성시_격자.geojson', encoding=\"UTF8\") as geojson_file:\n",
    "    geojson_data = json.load(geojson_file)\n",
    "grid_map_df = pd.json_normalize(geojson_data['features'])\n",
    "grid_map_df['geometry'] = grid_map_df['geometry.coordinates'].apply(lambda x : make_pol(x))\n",
    "grid_map_df.drop(columns=\"geometry.coordinates\", axis=1, inplace=True)\n",
    "grid_map_df = grid_map_df[~grid_map_df['properties.gid'].str.startswith('다아')]\n",
    "# grid_map_df 데이터프레임을 GeoDataFrame으로 변환\n",
    "grid_map_df = gpd.GeoDataFrame(grid_map_df, geometry='geometry')"
   ]
  },
  {
   "cell_type": "code",
   "execution_count": null,
   "metadata": {},
   "outputs": [],
   "source": [
    "# 맵 객체 생성 및 데이터 로드\n",
    "hwasung_map = KeplerGl(height=1000, width=1500)\n",
    "hwasung_map.add_data(data=grid_map_df, name=\"격자 데이터\")\n",
    "\n",
    "# 맵 출력 및 상세설정\n",
    "hwasung_map"
   ]
  },
  {
   "cell_type": "code",
   "execution_count": 22,
   "metadata": {},
   "outputs": [
    {
     "name": "stdout",
     "output_type": "stream",
     "text": [
      "Map saved to visualization/화성시 현황/화성시 격자 map.html!\n"
     ]
    }
   ],
   "source": [
    "# 맵 저장\n",
    "hwasung_map.save_to_html(file_name=\"visualization/화성시 현황/화성시 격자 map.html\")"
   ]
  },
  {
   "attachments": {},
   "cell_type": "markdown",
   "metadata": {},
   "source": [
    "#### 격자인구통계"
   ]
  },
  {
   "cell_type": "code",
   "execution_count": 4,
   "metadata": {},
   "outputs": [],
   "source": [
    "respop_df = pd.read_csv('SBJ_2411_001/1-1.화성시_거주인구.csv')\n",
    "\n",
    "#grid ID 리스트 와 매핑 & respop_df 필터링\n",
    "grid_id = grid_map_df['properties.gid'].tolist() # gid는 전부 unique한 값\n",
    "grid_respop = respop_df[respop_df['gid'].isin(grid_id)]\n",
    "grid_respop = grid_respop.fillna(0)\n",
    "grid_respop = pd.concat([grid_respop.iloc[:, :2], grid_respop.iloc[:, 2:].astype(int)], axis=1)\n",
    "grid_respop['year'] = grid_respop['year'].astype(str)\n",
    "\n",
    "# 성별구분 없이 통합 및 세대별 인구수 데이터프레임으로 변환\n",
    "columns = ['gid', 'year']\n",
    "for i in range(2, len(grid_respop.columns)):\n",
    "    age = f'{grid_respop.columns[i][2:4]}대' if grid_respop.columns[i][2] != '1' else f'{grid_respop.columns[i][2:5]}대'\n",
    "    sex = '남' if grid_respop.columns[i][0] != 'm' else '여'\n",
    "    columns.append('%s_%s'%(age, sex))\n",
    "grid_respop.columns = columns\n",
    "# 인구 column & 고령인구 column & 고령인구 비율(%) column 생성\n",
    "grid_respop['인구'] = grid_respop.iloc[:, 2:].sum(axis=1)"
   ]
  },
  {
   "cell_type": "code",
   "execution_count": 5,
   "metadata": {},
   "outputs": [
    {
     "data": {
      "application/vnd.plotly.v1+json": {
       "config": {
        "plotlyServerURL": "https://plot.ly"
       },
       "data": [
        {
         "alignmentgroup": "True",
         "hovertemplate": "Age Group=%{x}<br>Population Count=%{marker.color}<extra></extra>",
         "legendgroup": "",
         "marker": {
          "color": [
           88285,
           130099,
           160278,
           108535,
           58592,
           17263,
           4047,
           106
          ],
          "coloraxis": "coloraxis",
          "pattern": {
           "shape": ""
          }
         },
         "name": "",
         "offsetgroup": "",
         "orientation": "v",
         "showlegend": false,
         "textposition": "auto",
         "type": "bar",
         "x": [
          "20대",
          "30대",
          "40대",
          "50대",
          "60대",
          "70대",
          "80대",
          "90대"
         ],
         "xaxis": "x",
         "y": [
          88285,
          130099,
          160278,
          108535,
          58592,
          17263,
          4047,
          106
         ],
         "yaxis": "y"
        }
       ],
       "layout": {
        "barmode": "relative",
        "coloraxis": {
         "colorbar": {
          "title": {
           "text": "Population Count"
          }
         },
         "colorscale": [
          [
           0,
           "#f0f921"
          ],
          [
           0.1111111111111111,
           "#fdca26"
          ],
          [
           0.2222222222222222,
           "#fb9f3a"
          ],
          [
           0.3333333333333333,
           "#ed7953"
          ],
          [
           0.4444444444444444,
           "#d8576b"
          ],
          [
           0.5555555555555556,
           "#bd3786"
          ],
          [
           0.6666666666666666,
           "#9c179e"
          ],
          [
           0.7777777777777778,
           "#7201a8"
          ],
          [
           0.8888888888888888,
           "#46039f"
          ],
          [
           1,
           "#0d0887"
          ]
         ]
        },
        "height": 600,
        "legend": {
         "tracegroupgap": 0
        },
        "margin": {
         "t": 60
        },
        "template": {
         "data": {
          "bar": [
           {
            "error_x": {
             "color": "#2a3f5f"
            },
            "error_y": {
             "color": "#2a3f5f"
            },
            "marker": {
             "line": {
              "color": "#E5ECF6",
              "width": 0.5
             },
             "pattern": {
              "fillmode": "overlay",
              "size": 10,
              "solidity": 0.2
             }
            },
            "type": "bar"
           }
          ],
          "barpolar": [
           {
            "marker": {
             "line": {
              "color": "#E5ECF6",
              "width": 0.5
             },
             "pattern": {
              "fillmode": "overlay",
              "size": 10,
              "solidity": 0.2
             }
            },
            "type": "barpolar"
           }
          ],
          "carpet": [
           {
            "aaxis": {
             "endlinecolor": "#2a3f5f",
             "gridcolor": "white",
             "linecolor": "white",
             "minorgridcolor": "white",
             "startlinecolor": "#2a3f5f"
            },
            "baxis": {
             "endlinecolor": "#2a3f5f",
             "gridcolor": "white",
             "linecolor": "white",
             "minorgridcolor": "white",
             "startlinecolor": "#2a3f5f"
            },
            "type": "carpet"
           }
          ],
          "choropleth": [
           {
            "colorbar": {
             "outlinewidth": 0,
             "ticks": ""
            },
            "type": "choropleth"
           }
          ],
          "contour": [
           {
            "colorbar": {
             "outlinewidth": 0,
             "ticks": ""
            },
            "colorscale": [
             [
              0,
              "#0d0887"
             ],
             [
              0.1111111111111111,
              "#46039f"
             ],
             [
              0.2222222222222222,
              "#7201a8"
             ],
             [
              0.3333333333333333,
              "#9c179e"
             ],
             [
              0.4444444444444444,
              "#bd3786"
             ],
             [
              0.5555555555555556,
              "#d8576b"
             ],
             [
              0.6666666666666666,
              "#ed7953"
             ],
             [
              0.7777777777777778,
              "#fb9f3a"
             ],
             [
              0.8888888888888888,
              "#fdca26"
             ],
             [
              1,
              "#f0f921"
             ]
            ],
            "type": "contour"
           }
          ],
          "contourcarpet": [
           {
            "colorbar": {
             "outlinewidth": 0,
             "ticks": ""
            },
            "type": "contourcarpet"
           }
          ],
          "heatmap": [
           {
            "colorbar": {
             "outlinewidth": 0,
             "ticks": ""
            },
            "colorscale": [
             [
              0,
              "#0d0887"
             ],
             [
              0.1111111111111111,
              "#46039f"
             ],
             [
              0.2222222222222222,
              "#7201a8"
             ],
             [
              0.3333333333333333,
              "#9c179e"
             ],
             [
              0.4444444444444444,
              "#bd3786"
             ],
             [
              0.5555555555555556,
              "#d8576b"
             ],
             [
              0.6666666666666666,
              "#ed7953"
             ],
             [
              0.7777777777777778,
              "#fb9f3a"
             ],
             [
              0.8888888888888888,
              "#fdca26"
             ],
             [
              1,
              "#f0f921"
             ]
            ],
            "type": "heatmap"
           }
          ],
          "heatmapgl": [
           {
            "colorbar": {
             "outlinewidth": 0,
             "ticks": ""
            },
            "colorscale": [
             [
              0,
              "#0d0887"
             ],
             [
              0.1111111111111111,
              "#46039f"
             ],
             [
              0.2222222222222222,
              "#7201a8"
             ],
             [
              0.3333333333333333,
              "#9c179e"
             ],
             [
              0.4444444444444444,
              "#bd3786"
             ],
             [
              0.5555555555555556,
              "#d8576b"
             ],
             [
              0.6666666666666666,
              "#ed7953"
             ],
             [
              0.7777777777777778,
              "#fb9f3a"
             ],
             [
              0.8888888888888888,
              "#fdca26"
             ],
             [
              1,
              "#f0f921"
             ]
            ],
            "type": "heatmapgl"
           }
          ],
          "histogram": [
           {
            "marker": {
             "pattern": {
              "fillmode": "overlay",
              "size": 10,
              "solidity": 0.2
             }
            },
            "type": "histogram"
           }
          ],
          "histogram2d": [
           {
            "colorbar": {
             "outlinewidth": 0,
             "ticks": ""
            },
            "colorscale": [
             [
              0,
              "#0d0887"
             ],
             [
              0.1111111111111111,
              "#46039f"
             ],
             [
              0.2222222222222222,
              "#7201a8"
             ],
             [
              0.3333333333333333,
              "#9c179e"
             ],
             [
              0.4444444444444444,
              "#bd3786"
             ],
             [
              0.5555555555555556,
              "#d8576b"
             ],
             [
              0.6666666666666666,
              "#ed7953"
             ],
             [
              0.7777777777777778,
              "#fb9f3a"
             ],
             [
              0.8888888888888888,
              "#fdca26"
             ],
             [
              1,
              "#f0f921"
             ]
            ],
            "type": "histogram2d"
           }
          ],
          "histogram2dcontour": [
           {
            "colorbar": {
             "outlinewidth": 0,
             "ticks": ""
            },
            "colorscale": [
             [
              0,
              "#0d0887"
             ],
             [
              0.1111111111111111,
              "#46039f"
             ],
             [
              0.2222222222222222,
              "#7201a8"
             ],
             [
              0.3333333333333333,
              "#9c179e"
             ],
             [
              0.4444444444444444,
              "#bd3786"
             ],
             [
              0.5555555555555556,
              "#d8576b"
             ],
             [
              0.6666666666666666,
              "#ed7953"
             ],
             [
              0.7777777777777778,
              "#fb9f3a"
             ],
             [
              0.8888888888888888,
              "#fdca26"
             ],
             [
              1,
              "#f0f921"
             ]
            ],
            "type": "histogram2dcontour"
           }
          ],
          "mesh3d": [
           {
            "colorbar": {
             "outlinewidth": 0,
             "ticks": ""
            },
            "type": "mesh3d"
           }
          ],
          "parcoords": [
           {
            "line": {
             "colorbar": {
              "outlinewidth": 0,
              "ticks": ""
             }
            },
            "type": "parcoords"
           }
          ],
          "pie": [
           {
            "automargin": true,
            "type": "pie"
           }
          ],
          "scatter": [
           {
            "fillpattern": {
             "fillmode": "overlay",
             "size": 10,
             "solidity": 0.2
            },
            "type": "scatter"
           }
          ],
          "scatter3d": [
           {
            "line": {
             "colorbar": {
              "outlinewidth": 0,
              "ticks": ""
             }
            },
            "marker": {
             "colorbar": {
              "outlinewidth": 0,
              "ticks": ""
             }
            },
            "type": "scatter3d"
           }
          ],
          "scattercarpet": [
           {
            "marker": {
             "colorbar": {
              "outlinewidth": 0,
              "ticks": ""
             }
            },
            "type": "scattercarpet"
           }
          ],
          "scattergeo": [
           {
            "marker": {
             "colorbar": {
              "outlinewidth": 0,
              "ticks": ""
             }
            },
            "type": "scattergeo"
           }
          ],
          "scattergl": [
           {
            "marker": {
             "colorbar": {
              "outlinewidth": 0,
              "ticks": ""
             }
            },
            "type": "scattergl"
           }
          ],
          "scattermapbox": [
           {
            "marker": {
             "colorbar": {
              "outlinewidth": 0,
              "ticks": ""
             }
            },
            "type": "scattermapbox"
           }
          ],
          "scatterpolar": [
           {
            "marker": {
             "colorbar": {
              "outlinewidth": 0,
              "ticks": ""
             }
            },
            "type": "scatterpolar"
           }
          ],
          "scatterpolargl": [
           {
            "marker": {
             "colorbar": {
              "outlinewidth": 0,
              "ticks": ""
             }
            },
            "type": "scatterpolargl"
           }
          ],
          "scatterternary": [
           {
            "marker": {
             "colorbar": {
              "outlinewidth": 0,
              "ticks": ""
             }
            },
            "type": "scatterternary"
           }
          ],
          "surface": [
           {
            "colorbar": {
             "outlinewidth": 0,
             "ticks": ""
            },
            "colorscale": [
             [
              0,
              "#0d0887"
             ],
             [
              0.1111111111111111,
              "#46039f"
             ],
             [
              0.2222222222222222,
              "#7201a8"
             ],
             [
              0.3333333333333333,
              "#9c179e"
             ],
             [
              0.4444444444444444,
              "#bd3786"
             ],
             [
              0.5555555555555556,
              "#d8576b"
             ],
             [
              0.6666666666666666,
              "#ed7953"
             ],
             [
              0.7777777777777778,
              "#fb9f3a"
             ],
             [
              0.8888888888888888,
              "#fdca26"
             ],
             [
              1,
              "#f0f921"
             ]
            ],
            "type": "surface"
           }
          ],
          "table": [
           {
            "cells": {
             "fill": {
              "color": "#EBF0F8"
             },
             "line": {
              "color": "white"
             }
            },
            "header": {
             "fill": {
              "color": "#C8D4E3"
             },
             "line": {
              "color": "white"
             }
            },
            "type": "table"
           }
          ]
         },
         "layout": {
          "annotationdefaults": {
           "arrowcolor": "#2a3f5f",
           "arrowhead": 0,
           "arrowwidth": 1
          },
          "autotypenumbers": "strict",
          "coloraxis": {
           "colorbar": {
            "outlinewidth": 0,
            "ticks": ""
           }
          },
          "colorscale": {
           "diverging": [
            [
             0,
             "#8e0152"
            ],
            [
             0.1,
             "#c51b7d"
            ],
            [
             0.2,
             "#de77ae"
            ],
            [
             0.3,
             "#f1b6da"
            ],
            [
             0.4,
             "#fde0ef"
            ],
            [
             0.5,
             "#f7f7f7"
            ],
            [
             0.6,
             "#e6f5d0"
            ],
            [
             0.7,
             "#b8e186"
            ],
            [
             0.8,
             "#7fbc41"
            ],
            [
             0.9,
             "#4d9221"
            ],
            [
             1,
             "#276419"
            ]
           ],
           "sequential": [
            [
             0,
             "#0d0887"
            ],
            [
             0.1111111111111111,
             "#46039f"
            ],
            [
             0.2222222222222222,
             "#7201a8"
            ],
            [
             0.3333333333333333,
             "#9c179e"
            ],
            [
             0.4444444444444444,
             "#bd3786"
            ],
            [
             0.5555555555555556,
             "#d8576b"
            ],
            [
             0.6666666666666666,
             "#ed7953"
            ],
            [
             0.7777777777777778,
             "#fb9f3a"
            ],
            [
             0.8888888888888888,
             "#fdca26"
            ],
            [
             1,
             "#f0f921"
            ]
           ],
           "sequentialminus": [
            [
             0,
             "#0d0887"
            ],
            [
             0.1111111111111111,
             "#46039f"
            ],
            [
             0.2222222222222222,
             "#7201a8"
            ],
            [
             0.3333333333333333,
             "#9c179e"
            ],
            [
             0.4444444444444444,
             "#bd3786"
            ],
            [
             0.5555555555555556,
             "#d8576b"
            ],
            [
             0.6666666666666666,
             "#ed7953"
            ],
            [
             0.7777777777777778,
             "#fb9f3a"
            ],
            [
             0.8888888888888888,
             "#fdca26"
            ],
            [
             1,
             "#f0f921"
            ]
           ]
          },
          "colorway": [
           "#636efa",
           "#EF553B",
           "#00cc96",
           "#ab63fa",
           "#FFA15A",
           "#19d3f3",
           "#FF6692",
           "#B6E880",
           "#FF97FF",
           "#FECB52"
          ],
          "font": {
           "color": "#2a3f5f"
          },
          "geo": {
           "bgcolor": "white",
           "lakecolor": "white",
           "landcolor": "#E5ECF6",
           "showlakes": true,
           "showland": true,
           "subunitcolor": "white"
          },
          "hoverlabel": {
           "align": "left"
          },
          "hovermode": "closest",
          "mapbox": {
           "style": "light"
          },
          "paper_bgcolor": "white",
          "plot_bgcolor": "#E5ECF6",
          "polar": {
           "angularaxis": {
            "gridcolor": "white",
            "linecolor": "white",
            "ticks": ""
           },
           "bgcolor": "#E5ECF6",
           "radialaxis": {
            "gridcolor": "white",
            "linecolor": "white",
            "ticks": ""
           }
          },
          "scene": {
           "xaxis": {
            "backgroundcolor": "#E5ECF6",
            "gridcolor": "white",
            "gridwidth": 2,
            "linecolor": "white",
            "showbackground": true,
            "ticks": "",
            "zerolinecolor": "white"
           },
           "yaxis": {
            "backgroundcolor": "#E5ECF6",
            "gridcolor": "white",
            "gridwidth": 2,
            "linecolor": "white",
            "showbackground": true,
            "ticks": "",
            "zerolinecolor": "white"
           },
           "zaxis": {
            "backgroundcolor": "#E5ECF6",
            "gridcolor": "white",
            "gridwidth": 2,
            "linecolor": "white",
            "showbackground": true,
            "ticks": "",
            "zerolinecolor": "white"
           }
          },
          "shapedefaults": {
           "line": {
            "color": "#2a3f5f"
           }
          },
          "ternary": {
           "aaxis": {
            "gridcolor": "white",
            "linecolor": "white",
            "ticks": ""
           },
           "baxis": {
            "gridcolor": "white",
            "linecolor": "white",
            "ticks": ""
           },
           "bgcolor": "#E5ECF6",
           "caxis": {
            "gridcolor": "white",
            "linecolor": "white",
            "ticks": ""
           }
          },
          "title": {
           "x": 0.05
          },
          "xaxis": {
           "automargin": true,
           "gridcolor": "white",
           "linecolor": "white",
           "ticks": "",
           "title": {
            "standoff": 15
           },
           "zerolinecolor": "white",
           "zerolinewidth": 2
          },
          "yaxis": {
           "automargin": true,
           "gridcolor": "white",
           "linecolor": "white",
           "ticks": "",
           "title": {
            "standoff": 15
           },
           "zerolinecolor": "white",
           "zerolinewidth": 2
          }
         }
        },
        "width": 1200,
        "xaxis": {
         "anchor": "y",
         "domain": [
          0,
          1
         ],
         "title": {
          "text": "Age Group"
         }
        },
        "yaxis": {
         "anchor": "x",
         "domain": [
          0,
          1
         ],
         "title": {
          "text": "Population Count"
         }
        }
       }
      }
     },
     "metadata": {},
     "output_type": "display_data"
    }
   ],
   "source": [
    "# 연령대별로 성별 통합\n",
    "grid_respop['20대'] = grid_respop['20대_여'] + grid_respop['20대_남']\n",
    "grid_respop['30대'] = grid_respop['30대_여'] + grid_respop['30대_남']\n",
    "grid_respop['40대'] = grid_respop['40대_여'] + grid_respop['40대_남']\n",
    "grid_respop['50대'] = grid_respop['50대_여'] + grid_respop['50대_남']\n",
    "grid_respop['60대'] = grid_respop['60대_여'] + grid_respop['60대_남']\n",
    "grid_respop['70대'] = grid_respop['70대_여'] + grid_respop['70대_남']\n",
    "grid_respop['80대'] = grid_respop['80대_여'] + grid_respop['80대_남']\n",
    "grid_respop['90대'] = grid_respop['90대_여'] + grid_respop['90대_남']\n",
    "grid_respop['100대'] = grid_respop['100대_여'] + grid_respop['100대_남']\n",
    "\n",
    "# 필요한 열만 선택\n",
    "age_totals = grid_respop[['year', '20대', '30대', '40대', '50대', '60대', '70대', '80대', '90대', '100대']]\n",
    "\n",
    "# 데이터프레임을 긴 형식으로 변환\n",
    "age_totals_melted = age_totals.melt(id_vars='year', var_name='Age Group', value_name='Count')\n",
    "\n",
    "# 연도별 연령대 분포 계산\n",
    "age_totals_yearly = age_totals_melted[['Age Group', 'Count']].groupby(['Age Group']).sum().reset_index()\n",
    "# 100대 연령대 제거\n",
    "age_totals_yearly = age_totals_yearly[age_totals_yearly['Age Group'] != '100대']\n",
    "\n",
    "# 연령대 종합 평균내기\n",
    "age_totals_yearly['Count'] = age_totals_yearly['Count'] / 4\n",
    "age_totals_yearly['Count'] = age_totals_yearly['Count'].astype(int)\n",
    "# 시각화\n",
    "fig = px.bar(\n",
    "    age_totals_yearly,\n",
    "    x='Age Group',\n",
    "    y='Count',\n",
    "    color='Count',\n",
    "    color_continuous_scale='Plasma_r',  # Plasma 색상 맵 사용\n",
    "    labels={'year': 'Year', 'Count': 'Population Count', 'Age Group': 'Age Group'},\n",
    ")\n",
    "fig.update_layout(height=600, width=1200)\n",
    "fig.show()"
   ]
  },
  {
   "cell_type": "code",
   "execution_count": 6,
   "metadata": {},
   "outputs": [],
   "source": [
    "gen_respop = grid_respop[['gid', '20대', '30대', '40대', '50대', '60대', '70대', '80대', '90대', '100대', '인구']]\n",
    "gen_respop = gen_respop.groupby('gid').sum().reset_index()\n",
    "\n",
    "# 격자 ID와 격자 폴리곤 각각을 매핑한 딕셔너리 생성\n",
    "map_dic = dict(zip(grid_map_df['properties.gid'], grid_map_df['geometry']))\n",
    "\n",
    "# 생성된 map_dic에 filtered_respop의 gid를 매핑하여 'geometry' column 생성\n",
    "geometry_lst = []\n",
    "for _, row in gen_respop.iterrows():\n",
    "    geometry_lst.append(map_dic[row['gid']])\n",
    "gen_respop['geometry'] = geometry_lst\n",
    "gen_respop = gpd.GeoDataFrame(gen_respop, geometry='geometry')"
   ]
  },
  {
   "cell_type": "code",
   "execution_count": null,
   "metadata": {},
   "outputs": [],
   "source": [
    "# 맵 객체 생성 및 데이터 로드\n",
    "hwasung_gridgenpop_map = KeplerGl(height=1000, width=1500)\n",
    "hwasung_gridgenpop_map.add_data(data=gen_respop, name=\"화성시 격자거주인구 데이터\")\n",
    "\n",
    "# 맵 출력 및 상세설정\n",
    "hwasung_gridgenpop_map"
   ]
  },
  {
   "cell_type": "code",
   "execution_count": 24,
   "metadata": {},
   "outputs": [
    {
     "name": "stdout",
     "output_type": "stream",
     "text": [
      "Map saved to visualization/화성시 현황/화성시 격자거주인구 map.html!\n"
     ]
    }
   ],
   "source": [
    "# 맵 저장\n",
    "hwasung_gridgenpop_map.save_to_html(file_name=\"visualization/화성시 현황/화성시 격자거주인구 map.html\")"
   ]
  },
  {
   "cell_type": "code",
   "execution_count": 183,
   "metadata": {},
   "outputs": [
    {
     "data": {
      "text/html": [
       "<div>\n",
       "<style scoped>\n",
       "    .dataframe tbody tr th:only-of-type {\n",
       "        vertical-align: middle;\n",
       "    }\n",
       "\n",
       "    .dataframe tbody tr th {\n",
       "        vertical-align: top;\n",
       "    }\n",
       "\n",
       "    .dataframe thead th {\n",
       "        text-align: right;\n",
       "    }\n",
       "</style>\n",
       "<table border=\"1\" class=\"dataframe\">\n",
       "  <thead>\n",
       "    <tr style=\"text-align: right;\">\n",
       "      <th></th>\n",
       "      <th>gid</th>\n",
       "      <th>year</th>\n",
       "      <th>20대_여</th>\n",
       "      <th>20대_남</th>\n",
       "      <th>30대_여</th>\n",
       "      <th>30대_남</th>\n",
       "      <th>40대_여</th>\n",
       "      <th>40대_남</th>\n",
       "      <th>50대_여</th>\n",
       "      <th>50대_남</th>\n",
       "      <th>60대_여</th>\n",
       "      <th>60대_남</th>\n",
       "      <th>70대_여</th>\n",
       "      <th>70대_남</th>\n",
       "      <th>80대_여</th>\n",
       "      <th>80대_남</th>\n",
       "      <th>90대_여</th>\n",
       "      <th>90대_남</th>\n",
       "      <th>100대_여</th>\n",
       "      <th>100대_남</th>\n",
       "      <th>인구</th>\n",
       "      <th>20대</th>\n",
       "      <th>30대</th>\n",
       "      <th>40대</th>\n",
       "      <th>50대</th>\n",
       "      <th>60대</th>\n",
       "      <th>70대</th>\n",
       "      <th>80대</th>\n",
       "      <th>90대</th>\n",
       "      <th>100대</th>\n",
       "    </tr>\n",
       "  </thead>\n",
       "  <tbody>\n",
       "    <tr>\n",
       "      <th>0</th>\n",
       "      <td>다사385011</td>\n",
       "      <td>2023</td>\n",
       "      <td>0</td>\n",
       "      <td>0</td>\n",
       "      <td>0</td>\n",
       "      <td>0</td>\n",
       "      <td>0</td>\n",
       "      <td>0</td>\n",
       "      <td>0</td>\n",
       "      <td>0</td>\n",
       "      <td>0</td>\n",
       "      <td>0</td>\n",
       "      <td>0</td>\n",
       "      <td>0</td>\n",
       "      <td>0</td>\n",
       "      <td>0</td>\n",
       "      <td>0</td>\n",
       "      <td>0</td>\n",
       "      <td>0</td>\n",
       "      <td>0</td>\n",
       "      <td>0</td>\n",
       "      <td>0</td>\n",
       "      <td>0</td>\n",
       "      <td>0</td>\n",
       "      <td>0</td>\n",
       "      <td>0</td>\n",
       "      <td>0</td>\n",
       "      <td>0</td>\n",
       "      <td>0</td>\n",
       "      <td>0</td>\n",
       "    </tr>\n",
       "    <tr>\n",
       "      <th>1</th>\n",
       "      <td>다사312110</td>\n",
       "      <td>2023</td>\n",
       "      <td>0</td>\n",
       "      <td>0</td>\n",
       "      <td>0</td>\n",
       "      <td>0</td>\n",
       "      <td>0</td>\n",
       "      <td>0</td>\n",
       "      <td>0</td>\n",
       "      <td>0</td>\n",
       "      <td>0</td>\n",
       "      <td>0</td>\n",
       "      <td>0</td>\n",
       "      <td>0</td>\n",
       "      <td>0</td>\n",
       "      <td>0</td>\n",
       "      <td>0</td>\n",
       "      <td>0</td>\n",
       "      <td>0</td>\n",
       "      <td>0</td>\n",
       "      <td>0</td>\n",
       "      <td>0</td>\n",
       "      <td>0</td>\n",
       "      <td>0</td>\n",
       "      <td>0</td>\n",
       "      <td>0</td>\n",
       "      <td>0</td>\n",
       "      <td>0</td>\n",
       "      <td>0</td>\n",
       "      <td>0</td>\n",
       "    </tr>\n",
       "    <tr>\n",
       "      <th>2</th>\n",
       "      <td>다사473033</td>\n",
       "      <td>2023</td>\n",
       "      <td>0</td>\n",
       "      <td>0</td>\n",
       "      <td>0</td>\n",
       "      <td>0</td>\n",
       "      <td>0</td>\n",
       "      <td>0</td>\n",
       "      <td>0</td>\n",
       "      <td>0</td>\n",
       "      <td>0</td>\n",
       "      <td>0</td>\n",
       "      <td>0</td>\n",
       "      <td>0</td>\n",
       "      <td>0</td>\n",
       "      <td>0</td>\n",
       "      <td>0</td>\n",
       "      <td>0</td>\n",
       "      <td>0</td>\n",
       "      <td>0</td>\n",
       "      <td>0</td>\n",
       "      <td>0</td>\n",
       "      <td>0</td>\n",
       "      <td>0</td>\n",
       "      <td>0</td>\n",
       "      <td>0</td>\n",
       "      <td>0</td>\n",
       "      <td>0</td>\n",
       "      <td>0</td>\n",
       "      <td>0</td>\n",
       "    </tr>\n",
       "    <tr>\n",
       "      <th>3</th>\n",
       "      <td>다사602117</td>\n",
       "      <td>2023</td>\n",
       "      <td>10</td>\n",
       "      <td>7</td>\n",
       "      <td>15</td>\n",
       "      <td>6</td>\n",
       "      <td>6</td>\n",
       "      <td>9</td>\n",
       "      <td>6</td>\n",
       "      <td>7</td>\n",
       "      <td>0</td>\n",
       "      <td>9</td>\n",
       "      <td>0</td>\n",
       "      <td>0</td>\n",
       "      <td>0</td>\n",
       "      <td>0</td>\n",
       "      <td>0</td>\n",
       "      <td>0</td>\n",
       "      <td>0</td>\n",
       "      <td>0</td>\n",
       "      <td>75</td>\n",
       "      <td>17</td>\n",
       "      <td>21</td>\n",
       "      <td>15</td>\n",
       "      <td>13</td>\n",
       "      <td>9</td>\n",
       "      <td>0</td>\n",
       "      <td>0</td>\n",
       "      <td>0</td>\n",
       "      <td>0</td>\n",
       "    </tr>\n",
       "    <tr>\n",
       "      <th>4</th>\n",
       "      <td>다사476205</td>\n",
       "      <td>2023</td>\n",
       "      <td>0</td>\n",
       "      <td>0</td>\n",
       "      <td>0</td>\n",
       "      <td>0</td>\n",
       "      <td>0</td>\n",
       "      <td>0</td>\n",
       "      <td>0</td>\n",
       "      <td>0</td>\n",
       "      <td>0</td>\n",
       "      <td>0</td>\n",
       "      <td>0</td>\n",
       "      <td>0</td>\n",
       "      <td>0</td>\n",
       "      <td>0</td>\n",
       "      <td>0</td>\n",
       "      <td>0</td>\n",
       "      <td>0</td>\n",
       "      <td>0</td>\n",
       "      <td>0</td>\n",
       "      <td>0</td>\n",
       "      <td>0</td>\n",
       "      <td>0</td>\n",
       "      <td>0</td>\n",
       "      <td>0</td>\n",
       "      <td>0</td>\n",
       "      <td>0</td>\n",
       "      <td>0</td>\n",
       "      <td>0</td>\n",
       "    </tr>\n",
       "    <tr>\n",
       "      <th>...</th>\n",
       "      <td>...</td>\n",
       "      <td>...</td>\n",
       "      <td>...</td>\n",
       "      <td>...</td>\n",
       "      <td>...</td>\n",
       "      <td>...</td>\n",
       "      <td>...</td>\n",
       "      <td>...</td>\n",
       "      <td>...</td>\n",
       "      <td>...</td>\n",
       "      <td>...</td>\n",
       "      <td>...</td>\n",
       "      <td>...</td>\n",
       "      <td>...</td>\n",
       "      <td>...</td>\n",
       "      <td>...</td>\n",
       "      <td>...</td>\n",
       "      <td>...</td>\n",
       "      <td>...</td>\n",
       "      <td>...</td>\n",
       "      <td>...</td>\n",
       "      <td>...</td>\n",
       "      <td>...</td>\n",
       "      <td>...</td>\n",
       "      <td>...</td>\n",
       "      <td>...</td>\n",
       "      <td>...</td>\n",
       "      <td>...</td>\n",
       "      <td>...</td>\n",
       "      <td>...</td>\n",
       "    </tr>\n",
       "    <tr>\n",
       "      <th>285531</th>\n",
       "      <td>다사513058</td>\n",
       "      <td>2020</td>\n",
       "      <td>0</td>\n",
       "      <td>0</td>\n",
       "      <td>0</td>\n",
       "      <td>0</td>\n",
       "      <td>0</td>\n",
       "      <td>0</td>\n",
       "      <td>0</td>\n",
       "      <td>0</td>\n",
       "      <td>0</td>\n",
       "      <td>0</td>\n",
       "      <td>0</td>\n",
       "      <td>0</td>\n",
       "      <td>0</td>\n",
       "      <td>0</td>\n",
       "      <td>0</td>\n",
       "      <td>0</td>\n",
       "      <td>0</td>\n",
       "      <td>0</td>\n",
       "      <td>0</td>\n",
       "      <td>0</td>\n",
       "      <td>0</td>\n",
       "      <td>0</td>\n",
       "      <td>0</td>\n",
       "      <td>0</td>\n",
       "      <td>0</td>\n",
       "      <td>0</td>\n",
       "      <td>0</td>\n",
       "      <td>0</td>\n",
       "    </tr>\n",
       "    <tr>\n",
       "      <th>285532</th>\n",
       "      <td>다사553001</td>\n",
       "      <td>2020</td>\n",
       "      <td>0</td>\n",
       "      <td>0</td>\n",
       "      <td>0</td>\n",
       "      <td>0</td>\n",
       "      <td>0</td>\n",
       "      <td>0</td>\n",
       "      <td>0</td>\n",
       "      <td>0</td>\n",
       "      <td>0</td>\n",
       "      <td>0</td>\n",
       "      <td>0</td>\n",
       "      <td>0</td>\n",
       "      <td>0</td>\n",
       "      <td>0</td>\n",
       "      <td>0</td>\n",
       "      <td>0</td>\n",
       "      <td>0</td>\n",
       "      <td>0</td>\n",
       "      <td>0</td>\n",
       "      <td>0</td>\n",
       "      <td>0</td>\n",
       "      <td>0</td>\n",
       "      <td>0</td>\n",
       "      <td>0</td>\n",
       "      <td>0</td>\n",
       "      <td>0</td>\n",
       "      <td>0</td>\n",
       "      <td>0</td>\n",
       "    </tr>\n",
       "    <tr>\n",
       "      <th>285533</th>\n",
       "      <td>다사517088</td>\n",
       "      <td>2020</td>\n",
       "      <td>0</td>\n",
       "      <td>0</td>\n",
       "      <td>0</td>\n",
       "      <td>0</td>\n",
       "      <td>0</td>\n",
       "      <td>0</td>\n",
       "      <td>0</td>\n",
       "      <td>0</td>\n",
       "      <td>0</td>\n",
       "      <td>0</td>\n",
       "      <td>0</td>\n",
       "      <td>0</td>\n",
       "      <td>0</td>\n",
       "      <td>0</td>\n",
       "      <td>0</td>\n",
       "      <td>0</td>\n",
       "      <td>0</td>\n",
       "      <td>0</td>\n",
       "      <td>0</td>\n",
       "      <td>0</td>\n",
       "      <td>0</td>\n",
       "      <td>0</td>\n",
       "      <td>0</td>\n",
       "      <td>0</td>\n",
       "      <td>0</td>\n",
       "      <td>0</td>\n",
       "      <td>0</td>\n",
       "      <td>0</td>\n",
       "    </tr>\n",
       "    <tr>\n",
       "      <th>285534</th>\n",
       "      <td>다사456150</td>\n",
       "      <td>2020</td>\n",
       "      <td>0</td>\n",
       "      <td>0</td>\n",
       "      <td>0</td>\n",
       "      <td>0</td>\n",
       "      <td>0</td>\n",
       "      <td>0</td>\n",
       "      <td>0</td>\n",
       "      <td>0</td>\n",
       "      <td>0</td>\n",
       "      <td>0</td>\n",
       "      <td>0</td>\n",
       "      <td>0</td>\n",
       "      <td>0</td>\n",
       "      <td>0</td>\n",
       "      <td>0</td>\n",
       "      <td>0</td>\n",
       "      <td>0</td>\n",
       "      <td>0</td>\n",
       "      <td>0</td>\n",
       "      <td>0</td>\n",
       "      <td>0</td>\n",
       "      <td>0</td>\n",
       "      <td>0</td>\n",
       "      <td>0</td>\n",
       "      <td>0</td>\n",
       "      <td>0</td>\n",
       "      <td>0</td>\n",
       "      <td>0</td>\n",
       "    </tr>\n",
       "    <tr>\n",
       "      <th>285535</th>\n",
       "      <td>다바423997</td>\n",
       "      <td>2020</td>\n",
       "      <td>0</td>\n",
       "      <td>0</td>\n",
       "      <td>0</td>\n",
       "      <td>0</td>\n",
       "      <td>0</td>\n",
       "      <td>0</td>\n",
       "      <td>0</td>\n",
       "      <td>0</td>\n",
       "      <td>0</td>\n",
       "      <td>0</td>\n",
       "      <td>0</td>\n",
       "      <td>0</td>\n",
       "      <td>0</td>\n",
       "      <td>0</td>\n",
       "      <td>0</td>\n",
       "      <td>0</td>\n",
       "      <td>0</td>\n",
       "      <td>0</td>\n",
       "      <td>0</td>\n",
       "      <td>0</td>\n",
       "      <td>0</td>\n",
       "      <td>0</td>\n",
       "      <td>0</td>\n",
       "      <td>0</td>\n",
       "      <td>0</td>\n",
       "      <td>0</td>\n",
       "      <td>0</td>\n",
       "      <td>0</td>\n",
       "    </tr>\n",
       "  </tbody>\n",
       "</table>\n",
       "<p>285480 rows × 30 columns</p>\n",
       "</div>"
      ],
      "text/plain": [
       "             gid  year  20대_여  20대_남  30대_여  30대_남  40대_여  40대_남  50대_여  \\\n",
       "0       다사385011  2023      0      0      0      0      0      0      0   \n",
       "1       다사312110  2023      0      0      0      0      0      0      0   \n",
       "2       다사473033  2023      0      0      0      0      0      0      0   \n",
       "3       다사602117  2023     10      7     15      6      6      9      6   \n",
       "4       다사476205  2023      0      0      0      0      0      0      0   \n",
       "...          ...   ...    ...    ...    ...    ...    ...    ...    ...   \n",
       "285531  다사513058  2020      0      0      0      0      0      0      0   \n",
       "285532  다사553001  2020      0      0      0      0      0      0      0   \n",
       "285533  다사517088  2020      0      0      0      0      0      0      0   \n",
       "285534  다사456150  2020      0      0      0      0      0      0      0   \n",
       "285535  다바423997  2020      0      0      0      0      0      0      0   \n",
       "\n",
       "        50대_남  60대_여  60대_남  70대_여  70대_남  80대_여  80대_남  90대_여  90대_남  100대_여  \\\n",
       "0           0      0      0      0      0      0      0      0      0       0   \n",
       "1           0      0      0      0      0      0      0      0      0       0   \n",
       "2           0      0      0      0      0      0      0      0      0       0   \n",
       "3           7      0      9      0      0      0      0      0      0       0   \n",
       "4           0      0      0      0      0      0      0      0      0       0   \n",
       "...       ...    ...    ...    ...    ...    ...    ...    ...    ...     ...   \n",
       "285531      0      0      0      0      0      0      0      0      0       0   \n",
       "285532      0      0      0      0      0      0      0      0      0       0   \n",
       "285533      0      0      0      0      0      0      0      0      0       0   \n",
       "285534      0      0      0      0      0      0      0      0      0       0   \n",
       "285535      0      0      0      0      0      0      0      0      0       0   \n",
       "\n",
       "        100대_남  인구  20대  30대  40대  50대  60대  70대  80대  90대  100대  \n",
       "0            0   0    0    0    0    0    0    0    0    0     0  \n",
       "1            0   0    0    0    0    0    0    0    0    0     0  \n",
       "2            0   0    0    0    0    0    0    0    0    0     0  \n",
       "3            0  75   17   21   15   13    9    0    0    0     0  \n",
       "4            0   0    0    0    0    0    0    0    0    0     0  \n",
       "...        ...  ..  ...  ...  ...  ...  ...  ...  ...  ...   ...  \n",
       "285531       0   0    0    0    0    0    0    0    0    0     0  \n",
       "285532       0   0    0    0    0    0    0    0    0    0     0  \n",
       "285533       0   0    0    0    0    0    0    0    0    0     0  \n",
       "285534       0   0    0    0    0    0    0    0    0    0     0  \n",
       "285535       0   0    0    0    0    0    0    0    0    0     0  \n",
       "\n",
       "[285480 rows x 30 columns]"
      ]
     },
     "execution_count": 183,
     "metadata": {},
     "output_type": "execute_result"
    }
   ],
   "source": [
    "grid_respop"
   ]
  },
  {
   "cell_type": "code",
   "execution_count": 7,
   "metadata": {},
   "outputs": [
    {
     "data": {
      "application/vnd.plotly.v1+json": {
       "config": {
        "plotlyServerURL": "https://plot.ly"
       },
       "data": [
        {
         "line": {
          "color": "#0d0887"
         },
         "mode": "lines+markers",
         "name": "40대",
         "type": "scatter",
         "x": [
          "2020",
          "2021",
          "2022",
          "2023"
         ],
         "y": [
          155331,
          158291,
          157423,
          170067
         ]
        },
        {
         "line": {
          "color": "#46039f"
         },
         "mode": "lines+markers",
         "name": "30대",
         "type": "scatter",
         "x": [
          "2020",
          "2021",
          "2022",
          "2023"
         ],
         "y": [
          132037,
          126436,
          121197,
          140727
         ]
        },
        {
         "line": {
          "color": "#7201a8"
         },
         "mode": "lines+markers",
         "name": "50대",
         "type": "scatter",
         "x": [
          "2020",
          "2021",
          "2022",
          "2023"
         ],
         "y": [
          98329,
          103271,
          109417,
          123123
         ]
        },
        {
         "line": {
          "color": "#9c179e"
         },
         "mode": "lines+markers",
         "name": "20대",
         "type": "scatter",
         "x": [
          "2020",
          "2021",
          "2022",
          "2023"
         ],
         "y": [
          87402,
          87826,
          84942,
          92972
         ]
        },
        {
         "line": {
          "color": "#bd3786"
         },
         "mode": "lines+markers",
         "name": "60대",
         "type": "scatter",
         "x": [
          "2020",
          "2021",
          "2022",
          "2023"
         ],
         "y": [
          51062,
          55769,
          59396,
          68144
         ]
        },
        {
         "line": {
          "color": "#d8576b"
         },
         "mode": "lines+markers",
         "name": "70대",
         "type": "scatter",
         "x": [
          "2020",
          "2021",
          "2022",
          "2023"
         ],
         "y": [
          14168,
          16190,
          17535,
          21161
         ]
        },
        {
         "line": {
          "color": "#ed7953"
         },
         "mode": "lines+markers",
         "name": "80대",
         "type": "scatter",
         "x": [
          "2020",
          "2021",
          "2022",
          "2023"
         ],
         "y": [
          3085,
          3779,
          4353,
          4971
         ]
        },
        {
         "line": {
          "color": "#fb9f3a"
         },
         "mode": "lines+markers",
         "name": "90대",
         "type": "scatter",
         "x": [
          "2020",
          "2021",
          "2022",
          "2023"
         ],
         "y": [
          93,
          120,
          91,
          121
         ]
        },
        {
         "line": {
          "color": "#fdca26"
         },
         "mode": "lines+markers",
         "name": "100대",
         "type": "scatter",
         "x": [
          "2020",
          "2021",
          "2022",
          "2023"
         ],
         "y": [
          6,
          0,
          0,
          0
         ]
        }
       ],
       "layout": {
        "height": 600,
        "template": {
         "data": {
          "bar": [
           {
            "error_x": {
             "color": "#2a3f5f"
            },
            "error_y": {
             "color": "#2a3f5f"
            },
            "marker": {
             "line": {
              "color": "#E5ECF6",
              "width": 0.5
             },
             "pattern": {
              "fillmode": "overlay",
              "size": 10,
              "solidity": 0.2
             }
            },
            "type": "bar"
           }
          ],
          "barpolar": [
           {
            "marker": {
             "line": {
              "color": "#E5ECF6",
              "width": 0.5
             },
             "pattern": {
              "fillmode": "overlay",
              "size": 10,
              "solidity": 0.2
             }
            },
            "type": "barpolar"
           }
          ],
          "carpet": [
           {
            "aaxis": {
             "endlinecolor": "#2a3f5f",
             "gridcolor": "white",
             "linecolor": "white",
             "minorgridcolor": "white",
             "startlinecolor": "#2a3f5f"
            },
            "baxis": {
             "endlinecolor": "#2a3f5f",
             "gridcolor": "white",
             "linecolor": "white",
             "minorgridcolor": "white",
             "startlinecolor": "#2a3f5f"
            },
            "type": "carpet"
           }
          ],
          "choropleth": [
           {
            "colorbar": {
             "outlinewidth": 0,
             "ticks": ""
            },
            "type": "choropleth"
           }
          ],
          "contour": [
           {
            "colorbar": {
             "outlinewidth": 0,
             "ticks": ""
            },
            "colorscale": [
             [
              0,
              "#0d0887"
             ],
             [
              0.1111111111111111,
              "#46039f"
             ],
             [
              0.2222222222222222,
              "#7201a8"
             ],
             [
              0.3333333333333333,
              "#9c179e"
             ],
             [
              0.4444444444444444,
              "#bd3786"
             ],
             [
              0.5555555555555556,
              "#d8576b"
             ],
             [
              0.6666666666666666,
              "#ed7953"
             ],
             [
              0.7777777777777778,
              "#fb9f3a"
             ],
             [
              0.8888888888888888,
              "#fdca26"
             ],
             [
              1,
              "#f0f921"
             ]
            ],
            "type": "contour"
           }
          ],
          "contourcarpet": [
           {
            "colorbar": {
             "outlinewidth": 0,
             "ticks": ""
            },
            "type": "contourcarpet"
           }
          ],
          "heatmap": [
           {
            "colorbar": {
             "outlinewidth": 0,
             "ticks": ""
            },
            "colorscale": [
             [
              0,
              "#0d0887"
             ],
             [
              0.1111111111111111,
              "#46039f"
             ],
             [
              0.2222222222222222,
              "#7201a8"
             ],
             [
              0.3333333333333333,
              "#9c179e"
             ],
             [
              0.4444444444444444,
              "#bd3786"
             ],
             [
              0.5555555555555556,
              "#d8576b"
             ],
             [
              0.6666666666666666,
              "#ed7953"
             ],
             [
              0.7777777777777778,
              "#fb9f3a"
             ],
             [
              0.8888888888888888,
              "#fdca26"
             ],
             [
              1,
              "#f0f921"
             ]
            ],
            "type": "heatmap"
           }
          ],
          "heatmapgl": [
           {
            "colorbar": {
             "outlinewidth": 0,
             "ticks": ""
            },
            "colorscale": [
             [
              0,
              "#0d0887"
             ],
             [
              0.1111111111111111,
              "#46039f"
             ],
             [
              0.2222222222222222,
              "#7201a8"
             ],
             [
              0.3333333333333333,
              "#9c179e"
             ],
             [
              0.4444444444444444,
              "#bd3786"
             ],
             [
              0.5555555555555556,
              "#d8576b"
             ],
             [
              0.6666666666666666,
              "#ed7953"
             ],
             [
              0.7777777777777778,
              "#fb9f3a"
             ],
             [
              0.8888888888888888,
              "#fdca26"
             ],
             [
              1,
              "#f0f921"
             ]
            ],
            "type": "heatmapgl"
           }
          ],
          "histogram": [
           {
            "marker": {
             "pattern": {
              "fillmode": "overlay",
              "size": 10,
              "solidity": 0.2
             }
            },
            "type": "histogram"
           }
          ],
          "histogram2d": [
           {
            "colorbar": {
             "outlinewidth": 0,
             "ticks": ""
            },
            "colorscale": [
             [
              0,
              "#0d0887"
             ],
             [
              0.1111111111111111,
              "#46039f"
             ],
             [
              0.2222222222222222,
              "#7201a8"
             ],
             [
              0.3333333333333333,
              "#9c179e"
             ],
             [
              0.4444444444444444,
              "#bd3786"
             ],
             [
              0.5555555555555556,
              "#d8576b"
             ],
             [
              0.6666666666666666,
              "#ed7953"
             ],
             [
              0.7777777777777778,
              "#fb9f3a"
             ],
             [
              0.8888888888888888,
              "#fdca26"
             ],
             [
              1,
              "#f0f921"
             ]
            ],
            "type": "histogram2d"
           }
          ],
          "histogram2dcontour": [
           {
            "colorbar": {
             "outlinewidth": 0,
             "ticks": ""
            },
            "colorscale": [
             [
              0,
              "#0d0887"
             ],
             [
              0.1111111111111111,
              "#46039f"
             ],
             [
              0.2222222222222222,
              "#7201a8"
             ],
             [
              0.3333333333333333,
              "#9c179e"
             ],
             [
              0.4444444444444444,
              "#bd3786"
             ],
             [
              0.5555555555555556,
              "#d8576b"
             ],
             [
              0.6666666666666666,
              "#ed7953"
             ],
             [
              0.7777777777777778,
              "#fb9f3a"
             ],
             [
              0.8888888888888888,
              "#fdca26"
             ],
             [
              1,
              "#f0f921"
             ]
            ],
            "type": "histogram2dcontour"
           }
          ],
          "mesh3d": [
           {
            "colorbar": {
             "outlinewidth": 0,
             "ticks": ""
            },
            "type": "mesh3d"
           }
          ],
          "parcoords": [
           {
            "line": {
             "colorbar": {
              "outlinewidth": 0,
              "ticks": ""
             }
            },
            "type": "parcoords"
           }
          ],
          "pie": [
           {
            "automargin": true,
            "type": "pie"
           }
          ],
          "scatter": [
           {
            "fillpattern": {
             "fillmode": "overlay",
             "size": 10,
             "solidity": 0.2
            },
            "type": "scatter"
           }
          ],
          "scatter3d": [
           {
            "line": {
             "colorbar": {
              "outlinewidth": 0,
              "ticks": ""
             }
            },
            "marker": {
             "colorbar": {
              "outlinewidth": 0,
              "ticks": ""
             }
            },
            "type": "scatter3d"
           }
          ],
          "scattercarpet": [
           {
            "marker": {
             "colorbar": {
              "outlinewidth": 0,
              "ticks": ""
             }
            },
            "type": "scattercarpet"
           }
          ],
          "scattergeo": [
           {
            "marker": {
             "colorbar": {
              "outlinewidth": 0,
              "ticks": ""
             }
            },
            "type": "scattergeo"
           }
          ],
          "scattergl": [
           {
            "marker": {
             "colorbar": {
              "outlinewidth": 0,
              "ticks": ""
             }
            },
            "type": "scattergl"
           }
          ],
          "scattermapbox": [
           {
            "marker": {
             "colorbar": {
              "outlinewidth": 0,
              "ticks": ""
             }
            },
            "type": "scattermapbox"
           }
          ],
          "scatterpolar": [
           {
            "marker": {
             "colorbar": {
              "outlinewidth": 0,
              "ticks": ""
             }
            },
            "type": "scatterpolar"
           }
          ],
          "scatterpolargl": [
           {
            "marker": {
             "colorbar": {
              "outlinewidth": 0,
              "ticks": ""
             }
            },
            "type": "scatterpolargl"
           }
          ],
          "scatterternary": [
           {
            "marker": {
             "colorbar": {
              "outlinewidth": 0,
              "ticks": ""
             }
            },
            "type": "scatterternary"
           }
          ],
          "surface": [
           {
            "colorbar": {
             "outlinewidth": 0,
             "ticks": ""
            },
            "colorscale": [
             [
              0,
              "#0d0887"
             ],
             [
              0.1111111111111111,
              "#46039f"
             ],
             [
              0.2222222222222222,
              "#7201a8"
             ],
             [
              0.3333333333333333,
              "#9c179e"
             ],
             [
              0.4444444444444444,
              "#bd3786"
             ],
             [
              0.5555555555555556,
              "#d8576b"
             ],
             [
              0.6666666666666666,
              "#ed7953"
             ],
             [
              0.7777777777777778,
              "#fb9f3a"
             ],
             [
              0.8888888888888888,
              "#fdca26"
             ],
             [
              1,
              "#f0f921"
             ]
            ],
            "type": "surface"
           }
          ],
          "table": [
           {
            "cells": {
             "fill": {
              "color": "#EBF0F8"
             },
             "line": {
              "color": "white"
             }
            },
            "header": {
             "fill": {
              "color": "#C8D4E3"
             },
             "line": {
              "color": "white"
             }
            },
            "type": "table"
           }
          ]
         },
         "layout": {
          "annotationdefaults": {
           "arrowcolor": "#2a3f5f",
           "arrowhead": 0,
           "arrowwidth": 1
          },
          "autotypenumbers": "strict",
          "coloraxis": {
           "colorbar": {
            "outlinewidth": 0,
            "ticks": ""
           }
          },
          "colorscale": {
           "diverging": [
            [
             0,
             "#8e0152"
            ],
            [
             0.1,
             "#c51b7d"
            ],
            [
             0.2,
             "#de77ae"
            ],
            [
             0.3,
             "#f1b6da"
            ],
            [
             0.4,
             "#fde0ef"
            ],
            [
             0.5,
             "#f7f7f7"
            ],
            [
             0.6,
             "#e6f5d0"
            ],
            [
             0.7,
             "#b8e186"
            ],
            [
             0.8,
             "#7fbc41"
            ],
            [
             0.9,
             "#4d9221"
            ],
            [
             1,
             "#276419"
            ]
           ],
           "sequential": [
            [
             0,
             "#0d0887"
            ],
            [
             0.1111111111111111,
             "#46039f"
            ],
            [
             0.2222222222222222,
             "#7201a8"
            ],
            [
             0.3333333333333333,
             "#9c179e"
            ],
            [
             0.4444444444444444,
             "#bd3786"
            ],
            [
             0.5555555555555556,
             "#d8576b"
            ],
            [
             0.6666666666666666,
             "#ed7953"
            ],
            [
             0.7777777777777778,
             "#fb9f3a"
            ],
            [
             0.8888888888888888,
             "#fdca26"
            ],
            [
             1,
             "#f0f921"
            ]
           ],
           "sequentialminus": [
            [
             0,
             "#0d0887"
            ],
            [
             0.1111111111111111,
             "#46039f"
            ],
            [
             0.2222222222222222,
             "#7201a8"
            ],
            [
             0.3333333333333333,
             "#9c179e"
            ],
            [
             0.4444444444444444,
             "#bd3786"
            ],
            [
             0.5555555555555556,
             "#d8576b"
            ],
            [
             0.6666666666666666,
             "#ed7953"
            ],
            [
             0.7777777777777778,
             "#fb9f3a"
            ],
            [
             0.8888888888888888,
             "#fdca26"
            ],
            [
             1,
             "#f0f921"
            ]
           ]
          },
          "colorway": [
           "#636efa",
           "#EF553B",
           "#00cc96",
           "#ab63fa",
           "#FFA15A",
           "#19d3f3",
           "#FF6692",
           "#B6E880",
           "#FF97FF",
           "#FECB52"
          ],
          "font": {
           "color": "#2a3f5f"
          },
          "geo": {
           "bgcolor": "white",
           "lakecolor": "white",
           "landcolor": "#E5ECF6",
           "showlakes": true,
           "showland": true,
           "subunitcolor": "white"
          },
          "hoverlabel": {
           "align": "left"
          },
          "hovermode": "closest",
          "mapbox": {
           "style": "light"
          },
          "paper_bgcolor": "white",
          "plot_bgcolor": "#E5ECF6",
          "polar": {
           "angularaxis": {
            "gridcolor": "white",
            "linecolor": "white",
            "ticks": ""
           },
           "bgcolor": "#E5ECF6",
           "radialaxis": {
            "gridcolor": "white",
            "linecolor": "white",
            "ticks": ""
           }
          },
          "scene": {
           "xaxis": {
            "backgroundcolor": "#E5ECF6",
            "gridcolor": "white",
            "gridwidth": 2,
            "linecolor": "white",
            "showbackground": true,
            "ticks": "",
            "zerolinecolor": "white"
           },
           "yaxis": {
            "backgroundcolor": "#E5ECF6",
            "gridcolor": "white",
            "gridwidth": 2,
            "linecolor": "white",
            "showbackground": true,
            "ticks": "",
            "zerolinecolor": "white"
           },
           "zaxis": {
            "backgroundcolor": "#E5ECF6",
            "gridcolor": "white",
            "gridwidth": 2,
            "linecolor": "white",
            "showbackground": true,
            "ticks": "",
            "zerolinecolor": "white"
           }
          },
          "shapedefaults": {
           "line": {
            "color": "#2a3f5f"
           }
          },
          "ternary": {
           "aaxis": {
            "gridcolor": "white",
            "linecolor": "white",
            "ticks": ""
           },
           "baxis": {
            "gridcolor": "white",
            "linecolor": "white",
            "ticks": ""
           },
           "bgcolor": "#E5ECF6",
           "caxis": {
            "gridcolor": "white",
            "linecolor": "white",
            "ticks": ""
           }
          },
          "title": {
           "x": 0.05
          },
          "xaxis": {
           "automargin": true,
           "gridcolor": "white",
           "linecolor": "white",
           "ticks": "",
           "title": {
            "standoff": 15
           },
           "zerolinecolor": "white",
           "zerolinewidth": 2
          },
          "yaxis": {
           "automargin": true,
           "gridcolor": "white",
           "linecolor": "white",
           "ticks": "",
           "title": {
            "standoff": 15
           },
           "zerolinecolor": "white",
           "zerolinewidth": 2
          }
         }
        },
        "width": 800,
        "xaxis": {
         "title": {
          "text": "Year"
         }
        },
        "yaxis": {
         "title": {
          "text": "Population"
         }
        }
       }
      }
     },
     "metadata": {},
     "output_type": "display_data"
    }
   ],
   "source": [
    "age_totals_gen = age_totals.groupby('year').sum().reset_index()\n",
    "# 각 세대별 총 인구수 계산 및 정렬\n",
    "total_pop = age_totals_gen.drop(columns='year').sum().sort_values(ascending=False)\n",
    "sorted_columns = total_pop.index.tolist()\n",
    "\n",
    "# 각 세대별로 데이터를 분리하여 선과 마커를 동시에 표시하는 그래프 생성\n",
    "fig = go.Figure()\n",
    "\n",
    "for column in sorted_columns:  # 'year' 열을 제외한 각 세대별 열에 대해 반복\n",
    "    fig.add_trace(go.Scatter(\n",
    "        x=age_totals_gen['year'], \n",
    "        y=age_totals_gen[column], \n",
    "        mode='lines+markers', \n",
    "        name=column\n",
    "    ))\n",
    "# 색상 업데이트\n",
    "colors =px.colors.sequential.Plasma # 컬러맵\n",
    "for i, trace in enumerate(fig.data):\n",
    "    trace.line.color = colors[i % len(colors)]\n",
    "# 그래프 레이아웃 설정\n",
    "fig.update_layout(\n",
    "    xaxis_title='Year',\n",
    "    yaxis_title='Population',\n",
    "    width=800,\n",
    "    height=600\n",
    ")\n",
    "\n",
    "# 그래프 시각화\n",
    "fig.show()"
   ]
  },
  {
   "cell_type": "code",
   "execution_count": 9,
   "metadata": {},
   "outputs": [
    {
     "data": {
      "text/html": [
       "<div>\n",
       "<style scoped>\n",
       "    .dataframe tbody tr th:only-of-type {\n",
       "        vertical-align: middle;\n",
       "    }\n",
       "\n",
       "    .dataframe tbody tr th {\n",
       "        vertical-align: top;\n",
       "    }\n",
       "\n",
       "    .dataframe thead th {\n",
       "        text-align: right;\n",
       "    }\n",
       "</style>\n",
       "<table border=\"1\" class=\"dataframe\">\n",
       "  <thead>\n",
       "    <tr style=\"text-align: right;\">\n",
       "      <th></th>\n",
       "      <th>연도</th>\n",
       "      <th>종합인구</th>\n",
       "    </tr>\n",
       "  </thead>\n",
       "  <tbody>\n",
       "    <tr>\n",
       "      <th>0</th>\n",
       "      <td>2020</td>\n",
       "      <td>541513</td>\n",
       "    </tr>\n",
       "    <tr>\n",
       "      <th>1</th>\n",
       "      <td>2021</td>\n",
       "      <td>551682</td>\n",
       "    </tr>\n",
       "    <tr>\n",
       "      <th>2</th>\n",
       "      <td>2022</td>\n",
       "      <td>554354</td>\n",
       "    </tr>\n",
       "    <tr>\n",
       "      <th>3</th>\n",
       "      <td>2023</td>\n",
       "      <td>621286</td>\n",
       "    </tr>\n",
       "  </tbody>\n",
       "</table>\n",
       "</div>"
      ],
      "text/plain": [
       "     연도    종합인구\n",
       "0  2020  541513\n",
       "1  2021  551682\n",
       "2  2022  554354\n",
       "3  2023  621286"
      ]
     },
     "execution_count": 9,
     "metadata": {},
     "output_type": "execute_result"
    }
   ],
   "source": [
    "year_lst = range(2020, 2024)\n",
    "year_pop = [] # 인구수 종합\n",
    "for year in year_lst:\n",
    "    # 해당 year의 인구수 종합\n",
    "    year_pop.append(grid_respop[grid_respop['year'] == str(year)]['인구'].sum())\n",
    "\n",
    "pop_df = pd.DataFrame({'연도':year_lst, '종합인구':year_pop})\n",
    "pop_df"
   ]
  },
  {
   "cell_type": "code",
   "execution_count": 10,
   "metadata": {},
   "outputs": [
    {
     "data": {
      "application/vnd.plotly.v1+json": {
       "config": {
        "plotlyServerURL": "https://plot.ly"
       },
       "data": [
        {
         "hovertemplate": "연도=%{x}<br>종합인구=%{y}<extra></extra>",
         "legendgroup": "",
         "line": {
          "color": "#636efa",
          "dash": "solid"
         },
         "marker": {
          "symbol": "circle"
         },
         "mode": "lines+markers",
         "name": "",
         "orientation": "v",
         "showlegend": false,
         "type": "scatter",
         "x": [
          2020,
          2021,
          2022,
          2023
         ],
         "xaxis": "x",
         "y": [
          541513,
          551682,
          554354,
          621286
         ],
         "yaxis": "y"
        }
       ],
       "layout": {
        "height": 800,
        "legend": {
         "tracegroupgap": 0
        },
        "margin": {
         "t": 60
        },
        "template": {
         "data": {
          "bar": [
           {
            "error_x": {
             "color": "#2a3f5f"
            },
            "error_y": {
             "color": "#2a3f5f"
            },
            "marker": {
             "line": {
              "color": "#E5ECF6",
              "width": 0.5
             },
             "pattern": {
              "fillmode": "overlay",
              "size": 10,
              "solidity": 0.2
             }
            },
            "type": "bar"
           }
          ],
          "barpolar": [
           {
            "marker": {
             "line": {
              "color": "#E5ECF6",
              "width": 0.5
             },
             "pattern": {
              "fillmode": "overlay",
              "size": 10,
              "solidity": 0.2
             }
            },
            "type": "barpolar"
           }
          ],
          "carpet": [
           {
            "aaxis": {
             "endlinecolor": "#2a3f5f",
             "gridcolor": "white",
             "linecolor": "white",
             "minorgridcolor": "white",
             "startlinecolor": "#2a3f5f"
            },
            "baxis": {
             "endlinecolor": "#2a3f5f",
             "gridcolor": "white",
             "linecolor": "white",
             "minorgridcolor": "white",
             "startlinecolor": "#2a3f5f"
            },
            "type": "carpet"
           }
          ],
          "choropleth": [
           {
            "colorbar": {
             "outlinewidth": 0,
             "ticks": ""
            },
            "type": "choropleth"
           }
          ],
          "contour": [
           {
            "colorbar": {
             "outlinewidth": 0,
             "ticks": ""
            },
            "colorscale": [
             [
              0,
              "#0d0887"
             ],
             [
              0.1111111111111111,
              "#46039f"
             ],
             [
              0.2222222222222222,
              "#7201a8"
             ],
             [
              0.3333333333333333,
              "#9c179e"
             ],
             [
              0.4444444444444444,
              "#bd3786"
             ],
             [
              0.5555555555555556,
              "#d8576b"
             ],
             [
              0.6666666666666666,
              "#ed7953"
             ],
             [
              0.7777777777777778,
              "#fb9f3a"
             ],
             [
              0.8888888888888888,
              "#fdca26"
             ],
             [
              1,
              "#f0f921"
             ]
            ],
            "type": "contour"
           }
          ],
          "contourcarpet": [
           {
            "colorbar": {
             "outlinewidth": 0,
             "ticks": ""
            },
            "type": "contourcarpet"
           }
          ],
          "heatmap": [
           {
            "colorbar": {
             "outlinewidth": 0,
             "ticks": ""
            },
            "colorscale": [
             [
              0,
              "#0d0887"
             ],
             [
              0.1111111111111111,
              "#46039f"
             ],
             [
              0.2222222222222222,
              "#7201a8"
             ],
             [
              0.3333333333333333,
              "#9c179e"
             ],
             [
              0.4444444444444444,
              "#bd3786"
             ],
             [
              0.5555555555555556,
              "#d8576b"
             ],
             [
              0.6666666666666666,
              "#ed7953"
             ],
             [
              0.7777777777777778,
              "#fb9f3a"
             ],
             [
              0.8888888888888888,
              "#fdca26"
             ],
             [
              1,
              "#f0f921"
             ]
            ],
            "type": "heatmap"
           }
          ],
          "heatmapgl": [
           {
            "colorbar": {
             "outlinewidth": 0,
             "ticks": ""
            },
            "colorscale": [
             [
              0,
              "#0d0887"
             ],
             [
              0.1111111111111111,
              "#46039f"
             ],
             [
              0.2222222222222222,
              "#7201a8"
             ],
             [
              0.3333333333333333,
              "#9c179e"
             ],
             [
              0.4444444444444444,
              "#bd3786"
             ],
             [
              0.5555555555555556,
              "#d8576b"
             ],
             [
              0.6666666666666666,
              "#ed7953"
             ],
             [
              0.7777777777777778,
              "#fb9f3a"
             ],
             [
              0.8888888888888888,
              "#fdca26"
             ],
             [
              1,
              "#f0f921"
             ]
            ],
            "type": "heatmapgl"
           }
          ],
          "histogram": [
           {
            "marker": {
             "pattern": {
              "fillmode": "overlay",
              "size": 10,
              "solidity": 0.2
             }
            },
            "type": "histogram"
           }
          ],
          "histogram2d": [
           {
            "colorbar": {
             "outlinewidth": 0,
             "ticks": ""
            },
            "colorscale": [
             [
              0,
              "#0d0887"
             ],
             [
              0.1111111111111111,
              "#46039f"
             ],
             [
              0.2222222222222222,
              "#7201a8"
             ],
             [
              0.3333333333333333,
              "#9c179e"
             ],
             [
              0.4444444444444444,
              "#bd3786"
             ],
             [
              0.5555555555555556,
              "#d8576b"
             ],
             [
              0.6666666666666666,
              "#ed7953"
             ],
             [
              0.7777777777777778,
              "#fb9f3a"
             ],
             [
              0.8888888888888888,
              "#fdca26"
             ],
             [
              1,
              "#f0f921"
             ]
            ],
            "type": "histogram2d"
           }
          ],
          "histogram2dcontour": [
           {
            "colorbar": {
             "outlinewidth": 0,
             "ticks": ""
            },
            "colorscale": [
             [
              0,
              "#0d0887"
             ],
             [
              0.1111111111111111,
              "#46039f"
             ],
             [
              0.2222222222222222,
              "#7201a8"
             ],
             [
              0.3333333333333333,
              "#9c179e"
             ],
             [
              0.4444444444444444,
              "#bd3786"
             ],
             [
              0.5555555555555556,
              "#d8576b"
             ],
             [
              0.6666666666666666,
              "#ed7953"
             ],
             [
              0.7777777777777778,
              "#fb9f3a"
             ],
             [
              0.8888888888888888,
              "#fdca26"
             ],
             [
              1,
              "#f0f921"
             ]
            ],
            "type": "histogram2dcontour"
           }
          ],
          "mesh3d": [
           {
            "colorbar": {
             "outlinewidth": 0,
             "ticks": ""
            },
            "type": "mesh3d"
           }
          ],
          "parcoords": [
           {
            "line": {
             "colorbar": {
              "outlinewidth": 0,
              "ticks": ""
             }
            },
            "type": "parcoords"
           }
          ],
          "pie": [
           {
            "automargin": true,
            "type": "pie"
           }
          ],
          "scatter": [
           {
            "fillpattern": {
             "fillmode": "overlay",
             "size": 10,
             "solidity": 0.2
            },
            "type": "scatter"
           }
          ],
          "scatter3d": [
           {
            "line": {
             "colorbar": {
              "outlinewidth": 0,
              "ticks": ""
             }
            },
            "marker": {
             "colorbar": {
              "outlinewidth": 0,
              "ticks": ""
             }
            },
            "type": "scatter3d"
           }
          ],
          "scattercarpet": [
           {
            "marker": {
             "colorbar": {
              "outlinewidth": 0,
              "ticks": ""
             }
            },
            "type": "scattercarpet"
           }
          ],
          "scattergeo": [
           {
            "marker": {
             "colorbar": {
              "outlinewidth": 0,
              "ticks": ""
             }
            },
            "type": "scattergeo"
           }
          ],
          "scattergl": [
           {
            "marker": {
             "colorbar": {
              "outlinewidth": 0,
              "ticks": ""
             }
            },
            "type": "scattergl"
           }
          ],
          "scattermapbox": [
           {
            "marker": {
             "colorbar": {
              "outlinewidth": 0,
              "ticks": ""
             }
            },
            "type": "scattermapbox"
           }
          ],
          "scatterpolar": [
           {
            "marker": {
             "colorbar": {
              "outlinewidth": 0,
              "ticks": ""
             }
            },
            "type": "scatterpolar"
           }
          ],
          "scatterpolargl": [
           {
            "marker": {
             "colorbar": {
              "outlinewidth": 0,
              "ticks": ""
             }
            },
            "type": "scatterpolargl"
           }
          ],
          "scatterternary": [
           {
            "marker": {
             "colorbar": {
              "outlinewidth": 0,
              "ticks": ""
             }
            },
            "type": "scatterternary"
           }
          ],
          "surface": [
           {
            "colorbar": {
             "outlinewidth": 0,
             "ticks": ""
            },
            "colorscale": [
             [
              0,
              "#0d0887"
             ],
             [
              0.1111111111111111,
              "#46039f"
             ],
             [
              0.2222222222222222,
              "#7201a8"
             ],
             [
              0.3333333333333333,
              "#9c179e"
             ],
             [
              0.4444444444444444,
              "#bd3786"
             ],
             [
              0.5555555555555556,
              "#d8576b"
             ],
             [
              0.6666666666666666,
              "#ed7953"
             ],
             [
              0.7777777777777778,
              "#fb9f3a"
             ],
             [
              0.8888888888888888,
              "#fdca26"
             ],
             [
              1,
              "#f0f921"
             ]
            ],
            "type": "surface"
           }
          ],
          "table": [
           {
            "cells": {
             "fill": {
              "color": "#EBF0F8"
             },
             "line": {
              "color": "white"
             }
            },
            "header": {
             "fill": {
              "color": "#C8D4E3"
             },
             "line": {
              "color": "white"
             }
            },
            "type": "table"
           }
          ]
         },
         "layout": {
          "annotationdefaults": {
           "arrowcolor": "#2a3f5f",
           "arrowhead": 0,
           "arrowwidth": 1
          },
          "autotypenumbers": "strict",
          "coloraxis": {
           "colorbar": {
            "outlinewidth": 0,
            "ticks": ""
           }
          },
          "colorscale": {
           "diverging": [
            [
             0,
             "#8e0152"
            ],
            [
             0.1,
             "#c51b7d"
            ],
            [
             0.2,
             "#de77ae"
            ],
            [
             0.3,
             "#f1b6da"
            ],
            [
             0.4,
             "#fde0ef"
            ],
            [
             0.5,
             "#f7f7f7"
            ],
            [
             0.6,
             "#e6f5d0"
            ],
            [
             0.7,
             "#b8e186"
            ],
            [
             0.8,
             "#7fbc41"
            ],
            [
             0.9,
             "#4d9221"
            ],
            [
             1,
             "#276419"
            ]
           ],
           "sequential": [
            [
             0,
             "#0d0887"
            ],
            [
             0.1111111111111111,
             "#46039f"
            ],
            [
             0.2222222222222222,
             "#7201a8"
            ],
            [
             0.3333333333333333,
             "#9c179e"
            ],
            [
             0.4444444444444444,
             "#bd3786"
            ],
            [
             0.5555555555555556,
             "#d8576b"
            ],
            [
             0.6666666666666666,
             "#ed7953"
            ],
            [
             0.7777777777777778,
             "#fb9f3a"
            ],
            [
             0.8888888888888888,
             "#fdca26"
            ],
            [
             1,
             "#f0f921"
            ]
           ],
           "sequentialminus": [
            [
             0,
             "#0d0887"
            ],
            [
             0.1111111111111111,
             "#46039f"
            ],
            [
             0.2222222222222222,
             "#7201a8"
            ],
            [
             0.3333333333333333,
             "#9c179e"
            ],
            [
             0.4444444444444444,
             "#bd3786"
            ],
            [
             0.5555555555555556,
             "#d8576b"
            ],
            [
             0.6666666666666666,
             "#ed7953"
            ],
            [
             0.7777777777777778,
             "#fb9f3a"
            ],
            [
             0.8888888888888888,
             "#fdca26"
            ],
            [
             1,
             "#f0f921"
            ]
           ]
          },
          "colorway": [
           "#636efa",
           "#EF553B",
           "#00cc96",
           "#ab63fa",
           "#FFA15A",
           "#19d3f3",
           "#FF6692",
           "#B6E880",
           "#FF97FF",
           "#FECB52"
          ],
          "font": {
           "color": "#2a3f5f"
          },
          "geo": {
           "bgcolor": "white",
           "lakecolor": "white",
           "landcolor": "#E5ECF6",
           "showlakes": true,
           "showland": true,
           "subunitcolor": "white"
          },
          "hoverlabel": {
           "align": "left"
          },
          "hovermode": "closest",
          "mapbox": {
           "style": "light"
          },
          "paper_bgcolor": "white",
          "plot_bgcolor": "#E5ECF6",
          "polar": {
           "angularaxis": {
            "gridcolor": "white",
            "linecolor": "white",
            "ticks": ""
           },
           "bgcolor": "#E5ECF6",
           "radialaxis": {
            "gridcolor": "white",
            "linecolor": "white",
            "ticks": ""
           }
          },
          "scene": {
           "xaxis": {
            "backgroundcolor": "#E5ECF6",
            "gridcolor": "white",
            "gridwidth": 2,
            "linecolor": "white",
            "showbackground": true,
            "ticks": "",
            "zerolinecolor": "white"
           },
           "yaxis": {
            "backgroundcolor": "#E5ECF6",
            "gridcolor": "white",
            "gridwidth": 2,
            "linecolor": "white",
            "showbackground": true,
            "ticks": "",
            "zerolinecolor": "white"
           },
           "zaxis": {
            "backgroundcolor": "#E5ECF6",
            "gridcolor": "white",
            "gridwidth": 2,
            "linecolor": "white",
            "showbackground": true,
            "ticks": "",
            "zerolinecolor": "white"
           }
          },
          "shapedefaults": {
           "line": {
            "color": "#2a3f5f"
           }
          },
          "ternary": {
           "aaxis": {
            "gridcolor": "white",
            "linecolor": "white",
            "ticks": ""
           },
           "baxis": {
            "gridcolor": "white",
            "linecolor": "white",
            "ticks": ""
           },
           "bgcolor": "#E5ECF6",
           "caxis": {
            "gridcolor": "white",
            "linecolor": "white",
            "ticks": ""
           }
          },
          "title": {
           "x": 0.05
          },
          "xaxis": {
           "automargin": true,
           "gridcolor": "white",
           "linecolor": "white",
           "ticks": "",
           "title": {
            "standoff": 15
           },
           "zerolinecolor": "white",
           "zerolinewidth": 2
          },
          "yaxis": {
           "automargin": true,
           "gridcolor": "white",
           "linecolor": "white",
           "ticks": "",
           "title": {
            "standoff": 15
           },
           "zerolinecolor": "white",
           "zerolinewidth": 2
          }
         }
        },
        "width": 1200,
        "xaxis": {
         "anchor": "y",
         "domain": [
          0,
          1
         ],
         "range": [
          2019.5,
          2023.5
         ],
         "showgrid": false,
         "showticklabels": true,
         "tickmode": "array",
         "ticktext": [
          "2020",
          "2021",
          "2022",
          "2023"
         ],
         "tickvals": [
          2020,
          2021,
          2022,
          2023
         ],
         "title": {
          "text": "연도"
         }
        },
        "yaxis": {
         "anchor": "x",
         "domain": [
          0,
          1
         ],
         "showgrid": true,
         "showticklabels": true,
         "title": {
          "text": "종합인구"
         }
        }
       }
      }
     },
     "metadata": {},
     "output_type": "display_data"
    }
   ],
   "source": [
    "fig = px.line(pop_df, x='연도', y='종합인구', labels={'x':'연도', 'y':'인구수'})\n",
    "fig.update_traces(mode='lines+markers')\n",
    "\n",
    "fig.update_xaxes(\n",
    "        showticklabels=True, \n",
    "        showgrid=False, \n",
    "        tickmode='array',\n",
    "        range=[2019.5, 2023.5],\n",
    "        tickvals=[2020, 2021, 2022, 2023],  # x축에 표시할 값\n",
    "        ticktext=['2020', '2021', '2022', '2023'],  # x축에 표시할 텍스트\n",
    "    )\n",
    "fig.update_yaxes(\n",
    "    showticklabels=True, \n",
    "    showgrid=True,\n",
    "    )\n",
    "fig.update_layout(height=800, width=1200)\n",
    "fig.show()"
   ]
  },
  {
   "cell_type": "code",
   "execution_count": 11,
   "metadata": {},
   "outputs": [
    {
     "name": "stderr",
     "output_type": "stream",
     "text": [
      "C:\\Users\\user\\AppData\\Local\\Temp\\ipykernel_22452\\734192253.py:5: SettingWithCopyWarning:\n",
      "\n",
      "\n",
      "A value is trying to be set on a copy of a slice from a DataFrame.\n",
      "Try using .loc[row_indexer,col_indexer] = value instead\n",
      "\n",
      "See the caveats in the documentation: https://pandas.pydata.org/pandas-docs/stable/user_guide/indexing.html#returning-a-view-versus-a-copy\n",
      "\n"
     ]
    }
   ],
   "source": [
    "grid_pop_df = grid_respop[['gid', 'year', '인구']]\n",
    "geometry_lst = []\n",
    "for _, row in grid_pop_df.iterrows():\n",
    "    geometry_lst.append(map_dic[row['gid']])\n",
    "grid_pop_df['geometry'] = geometry_lst\n",
    "grid_pop_df = grid_pop_df[grid_pop_df['인구'] != 0]\n",
    "grid_pop_df = gpd.GeoDataFrame(grid_pop_df, geometry='geometry')"
   ]
  },
  {
   "cell_type": "code",
   "execution_count": null,
   "metadata": {},
   "outputs": [],
   "source": [
    "# 맵 객체 생성 및 데이터 로드\n",
    "hwasung_gridpop_map = KeplerGl(height=1000, width=1500)\n",
    "hwasung_gridpop_map.add_data(data=grid_pop_df, name=\"화성시 격자거주인구 데이터\")\n",
    "\n",
    "# 맵 출력 및 상세설정\n",
    "hwasung_gridpop_map"
   ]
  },
  {
   "cell_type": "code",
   "execution_count": 75,
   "metadata": {},
   "outputs": [
    {
     "name": "stdout",
     "output_type": "stream",
     "text": [
      "Map saved to visualization/세종시 현황/세종시 격자거주인구 map.html!\n"
     ]
    }
   ],
   "source": [
    "# 맵 저장\n",
    "hwasung_gridpop_map.save_to_html(file_name=\"visualization/화성성시 현황/화성성시 격자거주인구 map.html\")"
   ]
  },
  {
   "cell_type": "markdown",
   "metadata": {},
   "source": [
    "#### 세대별 유동인구"
   ]
  },
  {
   "cell_type": "code",
   "execution_count": 184,
   "metadata": {},
   "outputs": [
    {
     "data": {
      "text/html": [
       "<div>\n",
       "<style scoped>\n",
       "    .dataframe tbody tr th:only-of-type {\n",
       "        vertical-align: middle;\n",
       "    }\n",
       "\n",
       "    .dataframe tbody tr th {\n",
       "        vertical-align: top;\n",
       "    }\n",
       "\n",
       "    .dataframe thead th {\n",
       "        text-align: right;\n",
       "    }\n",
       "</style>\n",
       "<table border=\"1\" class=\"dataframe\">\n",
       "  <thead>\n",
       "    <tr style=\"text-align: right;\">\n",
       "      <th></th>\n",
       "      <th>year</th>\n",
       "      <th>10대</th>\n",
       "      <th>20대</th>\n",
       "      <th>30대</th>\n",
       "      <th>40대</th>\n",
       "      <th>50대</th>\n",
       "      <th>60대</th>\n",
       "      <th>pop</th>\n",
       "      <th>lon</th>\n",
       "      <th>lat</th>\n",
       "      <th>geometry</th>\n",
       "    </tr>\n",
       "  </thead>\n",
       "  <tbody>\n",
       "    <tr>\n",
       "      <th>0</th>\n",
       "      <td>2020-01</td>\n",
       "      <td>0.53</td>\n",
       "      <td>1.14</td>\n",
       "      <td>1.55</td>\n",
       "      <td>1.87</td>\n",
       "      <td>2.39</td>\n",
       "      <td>2.63</td>\n",
       "      <td>8.77</td>\n",
       "      <td>126.616734</td>\n",
       "      <td>37.169078</td>\n",
       "      <td>POINT (126.61673 37.16908)</td>\n",
       "    </tr>\n",
       "    <tr>\n",
       "      <th>1</th>\n",
       "      <td>2020-01</td>\n",
       "      <td>0.52</td>\n",
       "      <td>1.12</td>\n",
       "      <td>1.45</td>\n",
       "      <td>1.86</td>\n",
       "      <td>2.29</td>\n",
       "      <td>2.40</td>\n",
       "      <td>8.47</td>\n",
       "      <td>126.616729</td>\n",
       "      <td>37.169528</td>\n",
       "      <td>POINT (126.61673 37.16953)</td>\n",
       "    </tr>\n",
       "    <tr>\n",
       "      <th>2</th>\n",
       "      <td>2020-01</td>\n",
       "      <td>0.62</td>\n",
       "      <td>1.35</td>\n",
       "      <td>1.69</td>\n",
       "      <td>2.10</td>\n",
       "      <td>2.64</td>\n",
       "      <td>2.74</td>\n",
       "      <td>9.80</td>\n",
       "      <td>126.616724</td>\n",
       "      <td>37.169979</td>\n",
       "      <td>POINT (126.61672 37.16998)</td>\n",
       "    </tr>\n",
       "    <tr>\n",
       "      <th>3</th>\n",
       "      <td>2020-01</td>\n",
       "      <td>0.70</td>\n",
       "      <td>1.51</td>\n",
       "      <td>1.83</td>\n",
       "      <td>2.28</td>\n",
       "      <td>2.90</td>\n",
       "      <td>2.99</td>\n",
       "      <td>10.75</td>\n",
       "      <td>126.616718</td>\n",
       "      <td>37.170430</td>\n",
       "      <td>POINT (126.61672 37.17043)</td>\n",
       "    </tr>\n",
       "    <tr>\n",
       "      <th>4</th>\n",
       "      <td>2020-01</td>\n",
       "      <td>0.42</td>\n",
       "      <td>1.23</td>\n",
       "      <td>1.75</td>\n",
       "      <td>2.77</td>\n",
       "      <td>3.60</td>\n",
       "      <td>3.42</td>\n",
       "      <td>11.54</td>\n",
       "      <td>126.616713</td>\n",
       "      <td>37.170880</td>\n",
       "      <td>POINT (126.61671 37.17088)</td>\n",
       "    </tr>\n",
       "    <tr>\n",
       "      <th>...</th>\n",
       "      <td>...</td>\n",
       "      <td>...</td>\n",
       "      <td>...</td>\n",
       "      <td>...</td>\n",
       "      <td>...</td>\n",
       "      <td>...</td>\n",
       "      <td>...</td>\n",
       "      <td>...</td>\n",
       "      <td>...</td>\n",
       "      <td>...</td>\n",
       "      <td>...</td>\n",
       "    </tr>\n",
       "    <tr>\n",
       "      <th>5269119</th>\n",
       "      <td>2022-12</td>\n",
       "      <td>70.58</td>\n",
       "      <td>24.42</td>\n",
       "      <td>71.33</td>\n",
       "      <td>109.11</td>\n",
       "      <td>45.58</td>\n",
       "      <td>33.80</td>\n",
       "      <td>337.37</td>\n",
       "      <td>127.111036</td>\n",
       "      <td>37.203731</td>\n",
       "      <td>POINT (127.11104 37.20373)</td>\n",
       "    </tr>\n",
       "    <tr>\n",
       "      <th>5269120</th>\n",
       "      <td>2022-12</td>\n",
       "      <td>14.86</td>\n",
       "      <td>4.29</td>\n",
       "      <td>11.85</td>\n",
       "      <td>19.34</td>\n",
       "      <td>7.80</td>\n",
       "      <td>5.86</td>\n",
       "      <td>61.00</td>\n",
       "      <td>127.111034</td>\n",
       "      <td>37.204182</td>\n",
       "      <td>POINT (127.11103 37.20418)</td>\n",
       "    </tr>\n",
       "    <tr>\n",
       "      <th>5269121</th>\n",
       "      <td>2022-12</td>\n",
       "      <td>4.12</td>\n",
       "      <td>1.38</td>\n",
       "      <td>4.17</td>\n",
       "      <td>5.96</td>\n",
       "      <td>2.48</td>\n",
       "      <td>2.00</td>\n",
       "      <td>19.05</td>\n",
       "      <td>127.111031</td>\n",
       "      <td>37.204633</td>\n",
       "      <td>POINT (127.11103 37.20463)</td>\n",
       "    </tr>\n",
       "    <tr>\n",
       "      <th>5269122</th>\n",
       "      <td>2022-12</td>\n",
       "      <td>12.86</td>\n",
       "      <td>7.08</td>\n",
       "      <td>7.98</td>\n",
       "      <td>11.64</td>\n",
       "      <td>8.78</td>\n",
       "      <td>3.88</td>\n",
       "      <td>50.28</td>\n",
       "      <td>127.111029</td>\n",
       "      <td>37.205083</td>\n",
       "      <td>POINT (127.11103 37.20508)</td>\n",
       "    </tr>\n",
       "    <tr>\n",
       "      <th>5269123</th>\n",
       "      <td>2022-12</td>\n",
       "      <td>18.45</td>\n",
       "      <td>5.95</td>\n",
       "      <td>13.88</td>\n",
       "      <td>20.24</td>\n",
       "      <td>8.76</td>\n",
       "      <td>6.79</td>\n",
       "      <td>70.56</td>\n",
       "      <td>127.111027</td>\n",
       "      <td>37.205534</td>\n",
       "      <td>POINT (127.11103 37.20553)</td>\n",
       "    </tr>\n",
       "  </tbody>\n",
       "</table>\n",
       "<p>5269124 rows × 11 columns</p>\n",
       "</div>"
      ],
      "text/plain": [
       "            year    10대    20대    30대     40대    50대    60대     pop  \\\n",
       "0        2020-01   0.53   1.14   1.55    1.87   2.39   2.63    8.77   \n",
       "1        2020-01   0.52   1.12   1.45    1.86   2.29   2.40    8.47   \n",
       "2        2020-01   0.62   1.35   1.69    2.10   2.64   2.74    9.80   \n",
       "3        2020-01   0.70   1.51   1.83    2.28   2.90   2.99   10.75   \n",
       "4        2020-01   0.42   1.23   1.75    2.77   3.60   3.42   11.54   \n",
       "...          ...    ...    ...    ...     ...    ...    ...     ...   \n",
       "5269119  2022-12  70.58  24.42  71.33  109.11  45.58  33.80  337.37   \n",
       "5269120  2022-12  14.86   4.29  11.85   19.34   7.80   5.86   61.00   \n",
       "5269121  2022-12   4.12   1.38   4.17    5.96   2.48   2.00   19.05   \n",
       "5269122  2022-12  12.86   7.08   7.98   11.64   8.78   3.88   50.28   \n",
       "5269123  2022-12  18.45   5.95  13.88   20.24   8.76   6.79   70.56   \n",
       "\n",
       "                lon        lat                    geometry  \n",
       "0        126.616734  37.169078  POINT (126.61673 37.16908)  \n",
       "1        126.616729  37.169528  POINT (126.61673 37.16953)  \n",
       "2        126.616724  37.169979  POINT (126.61672 37.16998)  \n",
       "3        126.616718  37.170430  POINT (126.61672 37.17043)  \n",
       "4        126.616713  37.170880  POINT (126.61671 37.17088)  \n",
       "...             ...        ...                         ...  \n",
       "5269119  127.111036  37.203731  POINT (127.11104 37.20373)  \n",
       "5269120  127.111034  37.204182  POINT (127.11103 37.20418)  \n",
       "5269121  127.111031  37.204633  POINT (127.11103 37.20463)  \n",
       "5269122  127.111029  37.205083  POINT (127.11103 37.20508)  \n",
       "5269123  127.111027  37.205534  POINT (127.11103 37.20553)  \n",
       "\n",
       "[5269124 rows x 11 columns]"
      ]
     },
     "execution_count": 184,
     "metadata": {},
     "output_type": "execute_result"
    }
   ],
   "source": [
    "floating_population_df"
   ]
  },
  {
   "cell_type": "code",
   "execution_count": 21,
   "metadata": {},
   "outputs": [
    {
     "name": "stderr",
     "output_type": "stream",
     "text": [
      "100%|██████████| 5269124/5269124 [03:21<00:00, 26141.99it/s]\n",
      "c:\\Users\\user\\anaconda3\\envs\\GIS\\lib\\site-packages\\pyproj\\crs\\crs.py:141: FutureWarning:\n",
      "\n",
      "'+init=<authority>:<code>' syntax is deprecated. '<authority>:<code>' is the preferred initialization method. When making the change, be mindful of axis order changes: https://pyproj4.github.io/pyproj/stable/gotchas.html#axis-order-changes-in-proj-6\n",
      "\n",
      "c:\\Users\\user\\anaconda3\\envs\\GIS\\lib\\site-packages\\pyproj\\crs\\crs.py:141: FutureWarning:\n",
      "\n",
      "'+init=<authority>:<code>' syntax is deprecated. '<authority>:<code>' is the preferred initialization method. When making the change, be mindful of axis order changes: https://pyproj4.github.io/pyproj/stable/gotchas.html#axis-order-changes-in-proj-6\n",
      "\n",
      "c:\\Users\\user\\anaconda3\\envs\\GIS\\lib\\site-packages\\IPython\\core\\interactiveshell.py:3445: FutureWarning:\n",
      "\n",
      "The `op` parameter is deprecated and will be removed in a future release. Please use the `predicate` parameter instead.\n",
      "\n",
      "C:\\Users\\user\\AppData\\Local\\Temp\\ipykernel_22452\\1144551870.py:34: UserWarning:\n",
      "\n",
      "CRS mismatch between the CRS of left geometries and the CRS of right geometries.\n",
      "Use `to_crs()` to reproject one of the input geometries to match the CRS of the other.\n",
      "\n",
      "Left CRS: +init=epsg:4326 +type=crs\n",
      "Right CRS: None\n",
      "\n",
      "\n"
     ]
    }
   ],
   "source": [
    "# 유동인구 df 로드\n",
    "floating_population_df = pd.read_csv('SBJ_2411_001/1-8.화성시_성연령별_유동인구.csv')\n",
    "floating_population_df['STD_YM'] = floating_population_df['STD_YM'].astype(str)\n",
    "\n",
    "# 성별구분 없이 통합 및 세대별 인구수 데이터프레임으로 변환\n",
    "columns = ['year']\n",
    "for i in range(1, 13):\n",
    "    floating_population_df[floating_population_df.columns[i]] = floating_population_df[floating_population_df.columns[i]].astype(float)\n",
    "    new_col = f'{floating_population_df.columns[i][2:4]}대_남' if floating_population_df.columns[i][0] != 'm' else f'{floating_population_df.columns[i][2:4]}대_여'\n",
    "    columns.append(new_col)\n",
    "floating_population_df.columns = columns + floating_population_df.columns[13:15].tolist()\n",
    "floating_population_df['pop'] = floating_population_df.iloc[:, 1:-3].sum(axis=1)\n",
    "\n",
    "# 연령대별로 성별 통합\n",
    "floating_population_df['10대'] = floating_population_df['10대_남'] + floating_population_df['10대_여']\n",
    "floating_population_df['20대'] = floating_population_df['20대_남'] + floating_population_df['20대_여']\n",
    "floating_population_df['30대'] = floating_population_df['30대_남'] + floating_population_df['30대_여']\n",
    "floating_population_df['40대'] = floating_population_df['40대_남'] + floating_population_df['40대_여']\n",
    "floating_population_df['50대'] = floating_population_df['50대_남'] + floating_population_df['50대_여']\n",
    "floating_population_df['60대'] = floating_population_df['60대_남'] + floating_population_df['60대_여']\n",
    "flopop_df = floating_population_df[['year', 'pop'] + list(floating_population_df.columns[13:15])]\n",
    "col_lst = ['year'] + list(floating_population_df.columns[1:13]) + list(floating_population_df.columns[-6:]) + ['pop'] + list(floating_population_df.columns[13:15])\n",
    "floating_population_df = floating_population_df[col_lst]\n",
    "# 연도 월 정보를 \"YYYY-MM-DD HH:MM:SS\" 형식으로 변환하는 함수\n",
    "def convert_to_datetime_format(year_month_str):\n",
    "    year = year_month_str[:4]\n",
    "    month = year_month_str[4:6]\n",
    "    return f\"{year}-{month}\"\n",
    "# 변환 적용\n",
    "floating_population_df['year'] = floating_population_df['year'].apply(convert_to_datetime_format)\n",
    "floating_population_df = floating_population_df[list(floating_population_df.columns[:1]) + list(floating_population_df.columns[13:])]\n",
    "floating_population_df = geo_transform(floating_population_df)\n",
    "\n",
    "merged_gdf = gpd.sjoin(floating_population_df, grid_map_df, how='inner', op='within')\n",
    "grid_time_summary = merged_gdf.groupby(['year', 'properties.gid']).agg({\n",
    "    'pop': 'sum',       # 유동인구 합계\n",
    "}).reset_index()\n",
    "grid_dict = dict(zip(grid_map_df['properties.gid'], grid_map_df['geometry']))\n",
    "grid_time_summary['geometry'] = grid_time_summary['properties.gid'].map(grid_dict)\n",
    "grid_time_summary = gpd.GeoDataFrame(grid_time_summary, geometry='geometry')"
   ]
  },
  {
   "cell_type": "code",
   "execution_count": 18,
   "metadata": {},
   "outputs": [
    {
     "name": "stdout",
     "output_type": "stream",
     "text": [
      "User Guide: https://docs.kepler.gl/docs/keplergl-jupyter\n"
     ]
    }
   ],
   "source": [
    "# 맵 객체 생성 및 데이터 로드\n",
    "hwasung_floatingpop_map = KeplerGl(height=1000, width=1500)\n",
    "hwasung_floatingpop_map.add_data(data=grid_time_summary, name=\"유동인구 데이터\")\n",
    "\n",
    "hwasung_floatingpop_map"
   ]
  },
  {
   "cell_type": "code",
   "execution_count": 19,
   "metadata": {},
   "outputs": [
    {
     "name": "stdout",
     "output_type": "stream",
     "text": [
      "Map saved to visualization/화성시 현황/화성시 세대별 유동인구 map.html!\n"
     ]
    }
   ],
   "source": [
    "# 맵 저장\n",
    "hwasung_floatingpop_map.save_to_html(file_name=\"visualization/화성시 현황/화성시 세대별 유동인구 map.html\")"
   ]
  },
  {
   "cell_type": "markdown",
   "metadata": {},
   "source": [
    "#### 공유차량 이용현황"
   ]
  },
  {
   "cell_type": "code",
   "execution_count": 130,
   "metadata": {},
   "outputs": [],
   "source": [
    "sharecar_df = pd.read_csv('SBJ_2411_001/1-11.화성시_공유차량_이용현황.csv')\n",
    "cols_to_exclude = ['car_type', 'car_cnt', 'car_type']  # 제외할 열\n",
    "columns_to_fill = [col for col in sharecar_df.columns if col not in cols_to_exclude]\n",
    "sharecar_df[columns_to_fill] = sharecar_df[columns_to_fill].fillna(0)\n",
    "sharecar_df['car_type'] = sharecar_df['car_type'].fillna(\"\")\n",
    "\n",
    "from sklearn.linear_model import LinearRegression\n",
    "\n",
    "train_data = sharecar_df.dropna(subset=['car_cnt', 'total_cnt', 'total_tm'])  # 세 열 모두 값이 있는 데이터\n",
    "test_data = sharecar_df[sharecar_df['car_cnt'].isna()]  # car_cnt가 결측인 데이터\n",
    "\n",
    "X_train = train_data[['total_cnt', 'total_tm']]  # 독립 변수\n",
    "y_train = train_data['car_cnt']  # 종속 변수\n",
    "\n",
    "model = LinearRegression()\n",
    "model.fit(X_train, y_train)\n",
    "\n",
    "if not test_data.empty:\n",
    "    X_test = test_data[['total_cnt', 'total_tm']]\n",
    "    predicted_car_cnt = model.predict(X_test) \n",
    "    predicted_car_cnt = np.maximum(predicted_car_cnt, 1)\n",
    "    sharecar_df.loc[test_data.index, 'car_cnt'] = predicted_car_cnt.astype(int)\n",
    "\n",
    "for col in columns_to_fill:\n",
    "    if sharecar_df[col].dtype in ['float64', 'int64']:\n",
    "        sharecar_df[col] = sharecar_df[col].astype(int)\n",
    "sharecar_df[\"car_cnt\"] = sharecar_df[\"car_cnt\"].astype(int)\n",
    "\n",
    "\n",
    "last_two_cols = sharecar_df.columns[-2:].tolist()\n",
    "new_columns = list(sharecar_df.columns)\n",
    "new_columns = [col for col in new_columns if col not in last_two_cols] \n",
    "new_columns[2:2] = last_two_cols \n",
    "sharecar_df = sharecar_df[new_columns]"
   ]
  },
  {
   "cell_type": "code",
   "execution_count": 132,
   "metadata": {},
   "outputs": [
    {
     "data": {
      "image/png": "[encoded data removed]",
      "text/plain": [
       "<Figure size 800x600 with 1 Axes>"
      ]
     },
     "metadata": {},
     "output_type": "display_data"
    },
    {
     "data": {
      "image/png": "[encoded data removed]",
      "text/plain": [
       "<Figure size 800x600 with 1 Axes>"
      ]
     },
     "metadata": {},
     "output_type": "display_data"
    },
    {
     "data": {
      "image/png": "[encoded data removed]",
      "text/plain": [
       "<Figure size 800x600 with 1 Axes>"
      ]
     },
     "metadata": {},
     "output_type": "display_data"
    },
    {
     "data": {
      "image/png": "[encoded data removed]",
      "text/plain": [
       "<Figure size 800x600 with 1 Axes>"
      ]
     },
     "metadata": {},
     "output_type": "display_data"
    }
   ],
   "source": [
    "import matplotlib.pyplot as plt\n",
    "import seaborn as sns\n",
    "\n",
    "# 1. 세 열이 모두 있는 데이터만 사용\n",
    "train_data = sharecar_df.dropna(subset=['car_cnt', 'total_cnt', 'total_tm'])\n",
    "\n",
    "# 2. 산점도 시각화\n",
    "# (1) total_cnt와 car_cnt의 관계\n",
    "plt.figure(figsize=(8, 6))\n",
    "sns.scatterplot(x=train_data['total_cnt'], y=train_data['car_cnt'])\n",
    "plt.title('Scatter Plot: total_cnt vs car_cnt')\n",
    "plt.xlabel('total_cnt')\n",
    "plt.ylabel('car_cnt')\n",
    "plt.grid()\n",
    "plt.show()\n",
    "\n",
    "# (2) total_tm와 car_cnt의 관계\n",
    "plt.figure(figsize=(8, 6))\n",
    "sns.scatterplot(x=train_data['total_tm'], y=train_data['car_cnt'])\n",
    "plt.title('Scatter Plot: total_tm vs car_cnt')\n",
    "plt.xlabel('total_tm')\n",
    "plt.ylabel('car_cnt')\n",
    "plt.grid()\n",
    "plt.show()\n",
    "\n",
    "# 3. 선형 회귀선을 함께 표시 (선형 관계 확인)\n",
    "# (1) total_cnt와 car_cnt\n",
    "plt.figure(figsize=(8, 6))\n",
    "sns.regplot(x=train_data['total_cnt'], y=train_data['car_cnt'], line_kws={\"color\": \"red\"})\n",
    "plt.title('Regression Plot: total_cnt vs car_cnt')\n",
    "plt.xlabel('total_cnt')\n",
    "plt.ylabel('car_cnt')\n",
    "plt.grid()\n",
    "plt.show()\n",
    "\n",
    "# (2) total_tm와 car_cnt\n",
    "plt.figure(figsize=(8, 6))\n",
    "sns.regplot(x=train_data['total_tm'], y=train_data['car_cnt'], line_kws={\"color\": \"red\"})\n",
    "plt.title('Regression Plot: total_tm vs car_cnt')\n",
    "plt.xlabel('total_tm')\n",
    "plt.ylabel('car_cnt')\n",
    "plt.grid()\n",
    "plt.show()\n"
   ]
  },
  {
   "cell_type": "markdown",
   "metadata": {},
   "source": [
    "#### 공공주택"
   ]
  },
  {
   "cell_type": "code",
   "execution_count": 137,
   "metadata": {},
   "outputs": [
    {
     "name": "stderr",
     "output_type": "stream",
     "text": [
      "100%|██████████| 30/30 [00:00<00:00, 9566.57it/s]\n",
      "c:\\Users\\user\\anaconda3\\envs\\GIS\\lib\\site-packages\\pyproj\\crs\\crs.py:141: FutureWarning:\n",
      "\n",
      "'+init=<authority>:<code>' syntax is deprecated. '<authority>:<code>' is the preferred initialization method. When making the change, be mindful of axis order changes: https://pyproj4.github.io/pyproj/stable/gotchas.html#axis-order-changes-in-proj-6\n",
      "\n",
      "c:\\Users\\user\\anaconda3\\envs\\GIS\\lib\\site-packages\\pyproj\\crs\\crs.py:141: FutureWarning:\n",
      "\n",
      "'+init=<authority>:<code>' syntax is deprecated. '<authority>:<code>' is the preferred initialization method. When making the change, be mindful of axis order changes: https://pyproj4.github.io/pyproj/stable/gotchas.html#axis-order-changes-in-proj-6\n",
      "\n"
     ]
    }
   ],
   "source": [
    "sharehouse_df = pd.read_csv('SBJ_2411_001/1-12.공공주택임대_정보(화성시).csv')\n",
    "\n",
    "# 그룹화 및 처리 함수 정의\n",
    "def process_matching_rows(group):\n",
    "    # 첫 번째와 두 번째 열: 같은 값이므로 하나의 값 선택\n",
    "    col1_value = group.iloc[0, 0]  # 첫 번째 열\n",
    "    col2_value = group.iloc[0, 1]  # 두 번째 열\n",
    "\n",
    "    # 세 번째 열: ','로 구분해 값 결합\n",
    "    col3_combined = \",\".join(group.iloc[:, 2].astype(str).unique())  # 세 번째 열\n",
    "\n",
    "    # 네 번째와 다섯 번째 열: 숫자 합산\n",
    "    col4_sum = group.iloc[:, 3].sum()  # 네 번째 열\n",
    "    col5_sum = group.iloc[:, 4].sum()  # 다섯 번째 열\n",
    "\n",
    "    # 여섯 번째와 일곱 번째 열: 같은 값이므로 하나의 값 선택\n",
    "    col6_value = group.iloc[0, 5]  # 여섯 번째 열\n",
    "    col7_value = group.iloc[0, 6]  # 일곱 번째 열\n",
    "\n",
    "    return pd.Series([col1_value, col2_value, col3_combined, col4_sum, col5_sum, col6_value, col7_value])\n",
    "\n",
    "# sharehouse_df를 blck_cd 기준으로 그룹화하고 처리\n",
    "processed_sharehouse = (\n",
    "    sharehouse_df.groupby(\"blck_cd\").apply(process_matching_rows)\n",
    ")\n",
    "\n",
    "# 열 이름 재설정\n",
    "processed_sharehouse.columns = [\n",
    "    \"col1_value\", \"col2_value\", \"col3_combined\", \"col4_sum\", \"col5_sum\", \"col6_value\", \"col7_value\"\n",
    "]\n",
    "\n",
    "# sharecar_df와 병합\n",
    "merged_df = pd.merge(sharecar_df, processed_sharehouse, on=\"blck_cd\", how=\"left\")\n",
    "merged_df = merged_df.iloc[:,2:]\n",
    "new_column_names = sharehouse_df.columns\n",
    "merged_df.columns = list(merged_df.columns[:-7]) + list(new_column_names)\n",
    "merged_df = geo_transform(merged_df)\n",
    "last_8_columns = merged_df.columns[-8:]\n",
    "remaining_columns = merged_df.columns[:-8]\n",
    "merged_df = merged_df[list(last_8_columns) + list(remaining_columns)]\n",
    "merged_df['parking_slot'] = merged_df['parking_slot'].astype(int)\n",
    "merged_df = merged_df.drop(columns=['lon', 'lat'])\n",
    "merged_gdf = merged_df.reset_index(drop=True)\n",
    "grid_map_gdf = grid_map_df.reset_index(drop=True)\n",
    "joined_gdf = gpd.sjoin(merged_df, grid_map_df, how='left', op='within')\n",
    "joined_gdf['geometry'] = joined_gdf['properties.gid'].map(grid_dict)\n",
    "target_column = joined_gdf.columns[-2]\n",
    "columns = list(joined_gdf.columns)\n",
    "columns.remove(target_column)\n",
    "columns.insert(5, target_column)\n",
    "joined_gdf = joined_gdf[columns]\n",
    "joined_gdf = joined_gdf.iloc[:,:-3]"
   ]
  },
  {
   "cell_type": "code",
   "execution_count": 172,
   "metadata": {},
   "outputs": [
    {
     "data": {
      "text/html": [
       "<div>\n",
       "<style scoped>\n",
       "    .dataframe tbody tr th:only-of-type {\n",
       "        vertical-align: middle;\n",
       "    }\n",
       "\n",
       "    .dataframe tbody tr th {\n",
       "        vertical-align: top;\n",
       "    }\n",
       "\n",
       "    .dataframe thead th {\n",
       "        text-align: right;\n",
       "    }\n",
       "</style>\n",
       "<table border=\"1\" class=\"dataframe\">\n",
       "  <thead>\n",
       "    <tr style=\"text-align: right;\">\n",
       "      <th></th>\n",
       "      <th>blck_cd</th>\n",
       "      <th>blck_nm</th>\n",
       "      <th>type_left</th>\n",
       "      <th>noh</th>\n",
       "      <th>parking_slot</th>\n",
       "      <th>properties.gid</th>\n",
       "      <th>geometry</th>\n",
       "      <th>car_type</th>\n",
       "      <th>car_cnt</th>\n",
       "      <th>cnt_2008</th>\n",
       "      <th>tm_2008</th>\n",
       "      <th>cnt_2009</th>\n",
       "      <th>tm_2009</th>\n",
       "      <th>cnt_2010</th>\n",
       "      <th>tm_2010</th>\n",
       "      <th>cnt_2011</th>\n",
       "      <th>tm_2011</th>\n",
       "      <th>cnt_2012</th>\n",
       "      <th>tm_2012</th>\n",
       "      <th>cnt_2101</th>\n",
       "      <th>tm_2101</th>\n",
       "      <th>cnt_2102</th>\n",
       "      <th>tm_2102</th>\n",
       "      <th>cnt_2103</th>\n",
       "      <th>tm_2103</th>\n",
       "      <th>cnt_2104</th>\n",
       "      <th>tm_2104</th>\n",
       "      <th>cnt_2105</th>\n",
       "      <th>tm_2105</th>\n",
       "      <th>cnt_2106</th>\n",
       "      <th>tm_2106</th>\n",
       "      <th>cnt_2107</th>\n",
       "      <th>tm_2107</th>\n",
       "      <th>cnt_2108</th>\n",
       "      <th>tm_2108</th>\n",
       "      <th>cnt_2109</th>\n",
       "      <th>tm_2109</th>\n",
       "      <th>cnt_2110</th>\n",
       "      <th>tm_2110</th>\n",
       "      <th>cnt_2111</th>\n",
       "      <th>tm_2111</th>\n",
       "      <th>cnt_2112</th>\n",
       "      <th>tm_2112</th>\n",
       "      <th>cnt_2201</th>\n",
       "      <th>tm_2201</th>\n",
       "      <th>cnt_2202</th>\n",
       "      <th>tm_2202</th>\n",
       "      <th>cnt_2203</th>\n",
       "      <th>tm_2203</th>\n",
       "      <th>cnt_2204</th>\n",
       "      <th>tm_2204</th>\n",
       "      <th>cnt_2205</th>\n",
       "      <th>tm_2205</th>\n",
       "      <th>cnt_2206</th>\n",
       "      <th>tm_2206</th>\n",
       "      <th>cnt_2207</th>\n",
       "      <th>tm_2207</th>\n",
       "      <th>cnt_2208</th>\n",
       "      <th>tm_2208</th>\n",
       "      <th>cnt_2209</th>\n",
       "      <th>tm_2209</th>\n",
       "      <th>cnt_2210</th>\n",
       "      <th>tm_2210</th>\n",
       "      <th>cnt_2211</th>\n",
       "      <th>tm_2211</th>\n",
       "      <th>cnt_2212</th>\n",
       "      <th>tm_2212</th>\n",
       "      <th>cnt_2301</th>\n",
       "      <th>tm_2301</th>\n",
       "      <th>cnt_2302</th>\n",
       "      <th>tm_2302</th>\n",
       "      <th>cnt_2303</th>\n",
       "      <th>tm_2303</th>\n",
       "      <th>cnt_2304</th>\n",
       "      <th>tm_2304</th>\n",
       "      <th>cnt_2305</th>\n",
       "      <th>tm_2305</th>\n",
       "      <th>cnt_2306</th>\n",
       "      <th>tm_2306</th>\n",
       "      <th>cnt_2307</th>\n",
       "      <th>tm_2307</th>\n",
       "      <th>cnt_2308</th>\n",
       "      <th>tm_2308</th>\n",
       "      <th>cnt_2309</th>\n",
       "      <th>tm_2309</th>\n",
       "      <th>cnt_2310</th>\n",
       "      <th>tm_2310</th>\n",
       "      <th>cnt_2311</th>\n",
       "      <th>tm_2311</th>\n",
       "      <th>cnt_2312</th>\n",
       "      <th>tm_2312</th>\n",
       "      <th>total_cnt</th>\n",
       "      <th>total_tm</th>\n",
       "    </tr>\n",
       "  </thead>\n",
       "  <tbody>\n",
       "    <tr>\n",
       "      <th>0</th>\n",
       "      <td>C02347</td>\n",
       "      <td>화성남양뉴타운(LH10단지)(국임,임대상가)</td>\n",
       "      <td>국민임대</td>\n",
       "      <td>1022</td>\n",
       "      <td>1533</td>\n",
       "      <td>다사409122</td>\n",
       "      <td>POLYGON ((126.83397 37.20674, 126.83397 37.207...</td>\n",
       "      <td>모닝어반</td>\n",
       "      <td>1</td>\n",
       "      <td>41</td>\n",
       "      <td>152</td>\n",
       "      <td>42</td>\n",
       "      <td>181</td>\n",
       "      <td>26</td>\n",
       "      <td>82</td>\n",
       "      <td>35</td>\n",
       "      <td>58</td>\n",
       "      <td>21</td>\n",
       "      <td>61</td>\n",
       "      <td>13</td>\n",
       "      <td>34</td>\n",
       "      <td>18</td>\n",
       "      <td>125</td>\n",
       "      <td>20</td>\n",
       "      <td>62</td>\n",
       "      <td>13</td>\n",
       "      <td>73</td>\n",
       "      <td>16</td>\n",
       "      <td>99</td>\n",
       "      <td>10</td>\n",
       "      <td>87</td>\n",
       "      <td>18</td>\n",
       "      <td>80</td>\n",
       "      <td>14</td>\n",
       "      <td>49</td>\n",
       "      <td>20</td>\n",
       "      <td>65</td>\n",
       "      <td>28</td>\n",
       "      <td>87</td>\n",
       "      <td>38</td>\n",
       "      <td>114</td>\n",
       "      <td>30</td>\n",
       "      <td>69</td>\n",
       "      <td>31</td>\n",
       "      <td>109</td>\n",
       "      <td>26</td>\n",
       "      <td>79</td>\n",
       "      <td>23</td>\n",
       "      <td>56</td>\n",
       "      <td>24</td>\n",
       "      <td>47</td>\n",
       "      <td>23</td>\n",
       "      <td>75</td>\n",
       "      <td>31</td>\n",
       "      <td>88</td>\n",
       "      <td>32</td>\n",
       "      <td>63</td>\n",
       "      <td>20</td>\n",
       "      <td>59</td>\n",
       "      <td>22</td>\n",
       "      <td>63</td>\n",
       "      <td>25</td>\n",
       "      <td>62</td>\n",
       "      <td>18</td>\n",
       "      <td>42</td>\n",
       "      <td>24</td>\n",
       "      <td>84</td>\n",
       "      <td>14</td>\n",
       "      <td>32</td>\n",
       "      <td>12</td>\n",
       "      <td>27</td>\n",
       "      <td>10</td>\n",
       "      <td>14</td>\n",
       "      <td>19</td>\n",
       "      <td>73</td>\n",
       "      <td>16</td>\n",
       "      <td>147</td>\n",
       "      <td>18</td>\n",
       "      <td>68</td>\n",
       "      <td>14</td>\n",
       "      <td>68</td>\n",
       "      <td>9</td>\n",
       "      <td>42</td>\n",
       "      <td>18</td>\n",
       "      <td>35</td>\n",
       "      <td>15</td>\n",
       "      <td>25</td>\n",
       "      <td>9</td>\n",
       "      <td>21</td>\n",
       "      <td>8</td>\n",
       "      <td>29</td>\n",
       "      <td>855</td>\n",
       "      <td>2888</td>\n",
       "    </tr>\n",
       "    <tr>\n",
       "      <th>1</th>\n",
       "      <td>C01961</td>\n",
       "      <td>화성남양뉴타운(LH4단지)(국임)</td>\n",
       "      <td>국민임대</td>\n",
       "      <td>876</td>\n",
       "      <td>1314</td>\n",
       "      <td>다사405125</td>\n",
       "      <td>POLYGON ((126.82944 37.20942, 126.82943 37.210...</td>\n",
       "      <td></td>\n",
       "      <td>1</td>\n",
       "      <td>25</td>\n",
       "      <td>224</td>\n",
       "      <td>6</td>\n",
       "      <td>43</td>\n",
       "      <td>1</td>\n",
       "      <td>6</td>\n",
       "      <td>2</td>\n",
       "      <td>2</td>\n",
       "      <td>2</td>\n",
       "      <td>5</td>\n",
       "      <td>2</td>\n",
       "      <td>3</td>\n",
       "      <td>3</td>\n",
       "      <td>4</td>\n",
       "      <td>4</td>\n",
       "      <td>21</td>\n",
       "      <td>4</td>\n",
       "      <td>4</td>\n",
       "      <td>7</td>\n",
       "      <td>25</td>\n",
       "      <td>9</td>\n",
       "      <td>31</td>\n",
       "      <td>9</td>\n",
       "      <td>35</td>\n",
       "      <td>5</td>\n",
       "      <td>91</td>\n",
       "      <td>6</td>\n",
       "      <td>46</td>\n",
       "      <td>10</td>\n",
       "      <td>42</td>\n",
       "      <td>9</td>\n",
       "      <td>63</td>\n",
       "      <td>0</td>\n",
       "      <td>0</td>\n",
       "      <td>0</td>\n",
       "      <td>0</td>\n",
       "      <td>0</td>\n",
       "      <td>0</td>\n",
       "      <td>0</td>\n",
       "      <td>0</td>\n",
       "      <td>0</td>\n",
       "      <td>0</td>\n",
       "      <td>0</td>\n",
       "      <td>0</td>\n",
       "      <td>0</td>\n",
       "      <td>0</td>\n",
       "      <td>0</td>\n",
       "      <td>0</td>\n",
       "      <td>0</td>\n",
       "      <td>0</td>\n",
       "      <td>0</td>\n",
       "      <td>0</td>\n",
       "      <td>0</td>\n",
       "      <td>0</td>\n",
       "      <td>0</td>\n",
       "      <td>0</td>\n",
       "      <td>0</td>\n",
       "      <td>0</td>\n",
       "      <td>0</td>\n",
       "      <td>0</td>\n",
       "      <td>0</td>\n",
       "      <td>0</td>\n",
       "      <td>0</td>\n",
       "      <td>0</td>\n",
       "      <td>0</td>\n",
       "      <td>0</td>\n",
       "      <td>0</td>\n",
       "      <td>0</td>\n",
       "      <td>0</td>\n",
       "      <td>0</td>\n",
       "      <td>0</td>\n",
       "      <td>0</td>\n",
       "      <td>0</td>\n",
       "      <td>0</td>\n",
       "      <td>0</td>\n",
       "      <td>0</td>\n",
       "      <td>0</td>\n",
       "      <td>0</td>\n",
       "      <td>0</td>\n",
       "      <td>0</td>\n",
       "      <td>0</td>\n",
       "      <td>0</td>\n",
       "      <td>104</td>\n",
       "      <td>645</td>\n",
       "    </tr>\n",
       "    <tr>\n",
       "      <th>2</th>\n",
       "      <td>C02042</td>\n",
       "      <td>화성남양뉴타운(LH9단지)(국임)</td>\n",
       "      <td>국민임대</td>\n",
       "      <td>782</td>\n",
       "      <td>1173</td>\n",
       "      <td>다사408124</td>\n",
       "      <td>POLYGON ((126.83283 37.20854, 126.83282 37.209...</td>\n",
       "      <td></td>\n",
       "      <td>1</td>\n",
       "      <td>11</td>\n",
       "      <td>82</td>\n",
       "      <td>13</td>\n",
       "      <td>20</td>\n",
       "      <td>22</td>\n",
       "      <td>17</td>\n",
       "      <td>36</td>\n",
       "      <td>50</td>\n",
       "      <td>39</td>\n",
       "      <td>46</td>\n",
       "      <td>41</td>\n",
       "      <td>34</td>\n",
       "      <td>35</td>\n",
       "      <td>61</td>\n",
       "      <td>27</td>\n",
       "      <td>66</td>\n",
       "      <td>19</td>\n",
       "      <td>52</td>\n",
       "      <td>12</td>\n",
       "      <td>18</td>\n",
       "      <td>8</td>\n",
       "      <td>10</td>\n",
       "      <td>17</td>\n",
       "      <td>43</td>\n",
       "      <td>18</td>\n",
       "      <td>59</td>\n",
       "      <td>25</td>\n",
       "      <td>69</td>\n",
       "      <td>28</td>\n",
       "      <td>55</td>\n",
       "      <td>23</td>\n",
       "      <td>88</td>\n",
       "      <td>38</td>\n",
       "      <td>103</td>\n",
       "      <td>59</td>\n",
       "      <td>201</td>\n",
       "      <td>47</td>\n",
       "      <td>109</td>\n",
       "      <td>40</td>\n",
       "      <td>83</td>\n",
       "      <td>39</td>\n",
       "      <td>125</td>\n",
       "      <td>47</td>\n",
       "      <td>99</td>\n",
       "      <td>49</td>\n",
       "      <td>150</td>\n",
       "      <td>24</td>\n",
       "      <td>64</td>\n",
       "      <td>10</td>\n",
       "      <td>68</td>\n",
       "      <td>30</td>\n",
       "      <td>57</td>\n",
       "      <td>8</td>\n",
       "      <td>41</td>\n",
       "      <td>16</td>\n",
       "      <td>47</td>\n",
       "      <td>13</td>\n",
       "      <td>46</td>\n",
       "      <td>13</td>\n",
       "      <td>20</td>\n",
       "      <td>12</td>\n",
       "      <td>22</td>\n",
       "      <td>17</td>\n",
       "      <td>29</td>\n",
       "      <td>16</td>\n",
       "      <td>26</td>\n",
       "      <td>9</td>\n",
       "      <td>17</td>\n",
       "      <td>11</td>\n",
       "      <td>30</td>\n",
       "      <td>11</td>\n",
       "      <td>35</td>\n",
       "      <td>6</td>\n",
       "      <td>9</td>\n",
       "      <td>0</td>\n",
       "      <td>0</td>\n",
       "      <td>0</td>\n",
       "      <td>0</td>\n",
       "      <td>0</td>\n",
       "      <td>0</td>\n",
       "      <td>0</td>\n",
       "      <td>0</td>\n",
       "      <td>889</td>\n",
       "      <td>2151</td>\n",
       "    </tr>\n",
       "    <tr>\n",
       "      <th>3</th>\n",
       "      <td>C01569</td>\n",
       "      <td>화성동탄7-2(1-5)(7단지 능동)</td>\n",
       "      <td>국민임대</td>\n",
       "      <td>963</td>\n",
       "      <td>1444</td>\n",
       "      <td>다사610125</td>\n",
       "      <td>POLYGON ((127.06047 37.21050, 127.06046 37.211...</td>\n",
       "      <td>더뉴레이</td>\n",
       "      <td>1</td>\n",
       "      <td>45</td>\n",
       "      <td>142</td>\n",
       "      <td>44</td>\n",
       "      <td>117</td>\n",
       "      <td>63</td>\n",
       "      <td>263</td>\n",
       "      <td>39</td>\n",
       "      <td>113</td>\n",
       "      <td>34</td>\n",
       "      <td>191</td>\n",
       "      <td>26</td>\n",
       "      <td>83</td>\n",
       "      <td>46</td>\n",
       "      <td>87</td>\n",
       "      <td>23</td>\n",
       "      <td>81</td>\n",
       "      <td>37</td>\n",
       "      <td>155</td>\n",
       "      <td>31</td>\n",
       "      <td>142</td>\n",
       "      <td>25</td>\n",
       "      <td>90</td>\n",
       "      <td>33</td>\n",
       "      <td>113</td>\n",
       "      <td>36</td>\n",
       "      <td>157</td>\n",
       "      <td>24</td>\n",
       "      <td>85</td>\n",
       "      <td>28</td>\n",
       "      <td>155</td>\n",
       "      <td>16</td>\n",
       "      <td>103</td>\n",
       "      <td>41</td>\n",
       "      <td>89</td>\n",
       "      <td>47</td>\n",
       "      <td>205</td>\n",
       "      <td>32</td>\n",
       "      <td>75</td>\n",
       "      <td>41</td>\n",
       "      <td>74</td>\n",
       "      <td>25</td>\n",
       "      <td>119</td>\n",
       "      <td>38</td>\n",
       "      <td>92</td>\n",
       "      <td>35</td>\n",
       "      <td>67</td>\n",
       "      <td>32</td>\n",
       "      <td>121</td>\n",
       "      <td>27</td>\n",
       "      <td>57</td>\n",
       "      <td>30</td>\n",
       "      <td>81</td>\n",
       "      <td>27</td>\n",
       "      <td>59</td>\n",
       "      <td>43</td>\n",
       "      <td>75</td>\n",
       "      <td>41</td>\n",
       "      <td>105</td>\n",
       "      <td>40</td>\n",
       "      <td>78</td>\n",
       "      <td>29</td>\n",
       "      <td>54</td>\n",
       "      <td>37</td>\n",
       "      <td>67</td>\n",
       "      <td>36</td>\n",
       "      <td>52</td>\n",
       "      <td>34</td>\n",
       "      <td>51</td>\n",
       "      <td>28</td>\n",
       "      <td>46</td>\n",
       "      <td>40</td>\n",
       "      <td>52</td>\n",
       "      <td>42</td>\n",
       "      <td>55</td>\n",
       "      <td>32</td>\n",
       "      <td>45</td>\n",
       "      <td>23</td>\n",
       "      <td>37</td>\n",
       "      <td>25</td>\n",
       "      <td>29</td>\n",
       "      <td>27</td>\n",
       "      <td>50</td>\n",
       "      <td>1377</td>\n",
       "      <td>3912</td>\n",
       "    </tr>\n",
       "    <tr>\n",
       "      <th>4</th>\n",
       "      <td>C02333</td>\n",
       "      <td>화성동탄2 A82블럭(28단지)(행복)</td>\n",
       "      <td>행복주택</td>\n",
       "      <td>816</td>\n",
       "      <td>1224</td>\n",
       "      <td>다사640072</td>\n",
       "      <td>POLYGON ((127.09453 37.16285, 127.09453 37.163...</td>\n",
       "      <td>더뉴레이/올뉴모닝</td>\n",
       "      <td>2</td>\n",
       "      <td>55</td>\n",
       "      <td>128</td>\n",
       "      <td>63</td>\n",
       "      <td>169</td>\n",
       "      <td>45</td>\n",
       "      <td>102</td>\n",
       "      <td>47</td>\n",
       "      <td>133</td>\n",
       "      <td>48</td>\n",
       "      <td>111</td>\n",
       "      <td>50</td>\n",
       "      <td>157</td>\n",
       "      <td>51</td>\n",
       "      <td>172</td>\n",
       "      <td>70</td>\n",
       "      <td>175</td>\n",
       "      <td>79</td>\n",
       "      <td>211</td>\n",
       "      <td>66</td>\n",
       "      <td>188</td>\n",
       "      <td>68</td>\n",
       "      <td>224</td>\n",
       "      <td>65</td>\n",
       "      <td>263</td>\n",
       "      <td>81</td>\n",
       "      <td>259</td>\n",
       "      <td>81</td>\n",
       "      <td>258</td>\n",
       "      <td>76</td>\n",
       "      <td>239</td>\n",
       "      <td>62</td>\n",
       "      <td>247</td>\n",
       "      <td>74</td>\n",
       "      <td>225</td>\n",
       "      <td>58</td>\n",
       "      <td>192</td>\n",
       "      <td>53</td>\n",
       "      <td>126</td>\n",
       "      <td>46</td>\n",
       "      <td>149</td>\n",
       "      <td>43</td>\n",
       "      <td>167</td>\n",
       "      <td>74</td>\n",
       "      <td>252</td>\n",
       "      <td>46</td>\n",
       "      <td>207</td>\n",
       "      <td>42</td>\n",
       "      <td>123</td>\n",
       "      <td>41</td>\n",
       "      <td>163</td>\n",
       "      <td>37</td>\n",
       "      <td>208</td>\n",
       "      <td>48</td>\n",
       "      <td>195</td>\n",
       "      <td>41</td>\n",
       "      <td>210</td>\n",
       "      <td>30</td>\n",
       "      <td>110</td>\n",
       "      <td>40</td>\n",
       "      <td>162</td>\n",
       "      <td>43</td>\n",
       "      <td>156</td>\n",
       "      <td>48</td>\n",
       "      <td>96</td>\n",
       "      <td>60</td>\n",
       "      <td>99</td>\n",
       "      <td>33</td>\n",
       "      <td>84</td>\n",
       "      <td>35</td>\n",
       "      <td>63</td>\n",
       "      <td>32</td>\n",
       "      <td>78</td>\n",
       "      <td>39</td>\n",
       "      <td>78</td>\n",
       "      <td>49</td>\n",
       "      <td>114</td>\n",
       "      <td>26</td>\n",
       "      <td>54</td>\n",
       "      <td>41</td>\n",
       "      <td>93</td>\n",
       "      <td>45</td>\n",
       "      <td>74</td>\n",
       "      <td>2090</td>\n",
       "      <td>6514</td>\n",
       "    </tr>\n",
       "    <tr>\n",
       "      <th>5</th>\n",
       "      <td>C01890</td>\n",
       "      <td>화성동탄2 A65블럭(26단지 레이크빌)</td>\n",
       "      <td>공공임대</td>\n",
       "      <td>754</td>\n",
       "      <td>1131</td>\n",
       "      <td>다사648086</td>\n",
       "      <td>POLYGON ((127.10348 37.17550, 127.10347 37.176...</td>\n",
       "      <td>올뉴모닝</td>\n",
       "      <td>1</td>\n",
       "      <td>13</td>\n",
       "      <td>26</td>\n",
       "      <td>19</td>\n",
       "      <td>44</td>\n",
       "      <td>22</td>\n",
       "      <td>122</td>\n",
       "      <td>14</td>\n",
       "      <td>41</td>\n",
       "      <td>18</td>\n",
       "      <td>36</td>\n",
       "      <td>19</td>\n",
       "      <td>46</td>\n",
       "      <td>28</td>\n",
       "      <td>69</td>\n",
       "      <td>22</td>\n",
       "      <td>52</td>\n",
       "      <td>21</td>\n",
       "      <td>50</td>\n",
       "      <td>20</td>\n",
       "      <td>118</td>\n",
       "      <td>38</td>\n",
       "      <td>151</td>\n",
       "      <td>30</td>\n",
       "      <td>129</td>\n",
       "      <td>58</td>\n",
       "      <td>92</td>\n",
       "      <td>35</td>\n",
       "      <td>96</td>\n",
       "      <td>43</td>\n",
       "      <td>150</td>\n",
       "      <td>49</td>\n",
       "      <td>131</td>\n",
       "      <td>37</td>\n",
       "      <td>66</td>\n",
       "      <td>31</td>\n",
       "      <td>76</td>\n",
       "      <td>27</td>\n",
       "      <td>64</td>\n",
       "      <td>26</td>\n",
       "      <td>79</td>\n",
       "      <td>30</td>\n",
       "      <td>62</td>\n",
       "      <td>24</td>\n",
       "      <td>58</td>\n",
       "      <td>18</td>\n",
       "      <td>60</td>\n",
       "      <td>30</td>\n",
       "      <td>130</td>\n",
       "      <td>21</td>\n",
       "      <td>45</td>\n",
       "      <td>18</td>\n",
       "      <td>84</td>\n",
       "      <td>14</td>\n",
       "      <td>49</td>\n",
       "      <td>18</td>\n",
       "      <td>58</td>\n",
       "      <td>22</td>\n",
       "      <td>60</td>\n",
       "      <td>15</td>\n",
       "      <td>34</td>\n",
       "      <td>18</td>\n",
       "      <td>44</td>\n",
       "      <td>25</td>\n",
       "      <td>44</td>\n",
       "      <td>26</td>\n",
       "      <td>57</td>\n",
       "      <td>20</td>\n",
       "      <td>24</td>\n",
       "      <td>18</td>\n",
       "      <td>36</td>\n",
       "      <td>19</td>\n",
       "      <td>48</td>\n",
       "      <td>12</td>\n",
       "      <td>27</td>\n",
       "      <td>11</td>\n",
       "      <td>9</td>\n",
       "      <td>8</td>\n",
       "      <td>21</td>\n",
       "      <td>4</td>\n",
       "      <td>3</td>\n",
       "      <td>0</td>\n",
       "      <td>0</td>\n",
       "      <td>937</td>\n",
       "      <td>2590</td>\n",
       "    </tr>\n",
       "    <tr>\n",
       "      <th>6</th>\n",
       "      <td>C02014</td>\n",
       "      <td>(NHF제3호)화성동탄2 A50블럭(22단지 르파비스)</td>\n",
       "      <td>공공임대</td>\n",
       "      <td>876</td>\n",
       "      <td>1314</td>\n",
       "      <td>다사668095</td>\n",
       "      <td>POLYGON ((127.12597 37.18369, 127.12596 37.184...</td>\n",
       "      <td>올뉴K3</td>\n",
       "      <td>1</td>\n",
       "      <td>31</td>\n",
       "      <td>125</td>\n",
       "      <td>25</td>\n",
       "      <td>85</td>\n",
       "      <td>39</td>\n",
       "      <td>119</td>\n",
       "      <td>36</td>\n",
       "      <td>102</td>\n",
       "      <td>36</td>\n",
       "      <td>73</td>\n",
       "      <td>34</td>\n",
       "      <td>96</td>\n",
       "      <td>32</td>\n",
       "      <td>112</td>\n",
       "      <td>46</td>\n",
       "      <td>113</td>\n",
       "      <td>48</td>\n",
       "      <td>155</td>\n",
       "      <td>34</td>\n",
       "      <td>184</td>\n",
       "      <td>47</td>\n",
       "      <td>123</td>\n",
       "      <td>36</td>\n",
       "      <td>145</td>\n",
       "      <td>40</td>\n",
       "      <td>116</td>\n",
       "      <td>34</td>\n",
       "      <td>171</td>\n",
       "      <td>45</td>\n",
       "      <td>150</td>\n",
       "      <td>48</td>\n",
       "      <td>132</td>\n",
       "      <td>44</td>\n",
       "      <td>125</td>\n",
       "      <td>35</td>\n",
       "      <td>180</td>\n",
       "      <td>50</td>\n",
       "      <td>142</td>\n",
       "      <td>33</td>\n",
       "      <td>111</td>\n",
       "      <td>35</td>\n",
       "      <td>149</td>\n",
       "      <td>37</td>\n",
       "      <td>187</td>\n",
       "      <td>42</td>\n",
       "      <td>196</td>\n",
       "      <td>51</td>\n",
       "      <td>190</td>\n",
       "      <td>43</td>\n",
       "      <td>305</td>\n",
       "      <td>42</td>\n",
       "      <td>216</td>\n",
       "      <td>41</td>\n",
       "      <td>138</td>\n",
       "      <td>42</td>\n",
       "      <td>102</td>\n",
       "      <td>27</td>\n",
       "      <td>53</td>\n",
       "      <td>35</td>\n",
       "      <td>116</td>\n",
       "      <td>29</td>\n",
       "      <td>55</td>\n",
       "      <td>42</td>\n",
       "      <td>73</td>\n",
       "      <td>38</td>\n",
       "      <td>105</td>\n",
       "      <td>32</td>\n",
       "      <td>119</td>\n",
       "      <td>26</td>\n",
       "      <td>56</td>\n",
       "      <td>39</td>\n",
       "      <td>44</td>\n",
       "      <td>34</td>\n",
       "      <td>126</td>\n",
       "      <td>38</td>\n",
       "      <td>97</td>\n",
       "      <td>27</td>\n",
       "      <td>37</td>\n",
       "      <td>30</td>\n",
       "      <td>35</td>\n",
       "      <td>13</td>\n",
       "      <td>16</td>\n",
       "      <td>1486</td>\n",
       "      <td>4975</td>\n",
       "    </tr>\n",
       "    <tr>\n",
       "      <th>7</th>\n",
       "      <td>C02015</td>\n",
       "      <td>(NHF제3호)화성동탄2 A69블럭(24단지 스타힐스)</td>\n",
       "      <td>공공임대</td>\n",
       "      <td>882</td>\n",
       "      <td>1323</td>\n",
       "      <td>다사661083</td>\n",
       "      <td>POLYGON ((127.11813 37.17284, 127.11813 37.173...</td>\n",
       "      <td>더뉴레이</td>\n",
       "      <td>1</td>\n",
       "      <td>26</td>\n",
       "      <td>165</td>\n",
       "      <td>31</td>\n",
       "      <td>90</td>\n",
       "      <td>24</td>\n",
       "      <td>91</td>\n",
       "      <td>29</td>\n",
       "      <td>138</td>\n",
       "      <td>31</td>\n",
       "      <td>75</td>\n",
       "      <td>27</td>\n",
       "      <td>129</td>\n",
       "      <td>21</td>\n",
       "      <td>62</td>\n",
       "      <td>29</td>\n",
       "      <td>90</td>\n",
       "      <td>40</td>\n",
       "      <td>118</td>\n",
       "      <td>54</td>\n",
       "      <td>126</td>\n",
       "      <td>56</td>\n",
       "      <td>137</td>\n",
       "      <td>78</td>\n",
       "      <td>140</td>\n",
       "      <td>45</td>\n",
       "      <td>99</td>\n",
       "      <td>43</td>\n",
       "      <td>171</td>\n",
       "      <td>55</td>\n",
       "      <td>139</td>\n",
       "      <td>55</td>\n",
       "      <td>161</td>\n",
       "      <td>64</td>\n",
       "      <td>154</td>\n",
       "      <td>47</td>\n",
       "      <td>135</td>\n",
       "      <td>52</td>\n",
       "      <td>133</td>\n",
       "      <td>37</td>\n",
       "      <td>99</td>\n",
       "      <td>34</td>\n",
       "      <td>91</td>\n",
       "      <td>41</td>\n",
       "      <td>99</td>\n",
       "      <td>31</td>\n",
       "      <td>117</td>\n",
       "      <td>43</td>\n",
       "      <td>99</td>\n",
       "      <td>29</td>\n",
       "      <td>76</td>\n",
       "      <td>32</td>\n",
       "      <td>112</td>\n",
       "      <td>36</td>\n",
       "      <td>62</td>\n",
       "      <td>40</td>\n",
       "      <td>75</td>\n",
       "      <td>37</td>\n",
       "      <td>126</td>\n",
       "      <td>43</td>\n",
       "      <td>82</td>\n",
       "      <td>34</td>\n",
       "      <td>87</td>\n",
       "      <td>59</td>\n",
       "      <td>65</td>\n",
       "      <td>51</td>\n",
       "      <td>108</td>\n",
       "      <td>47</td>\n",
       "      <td>79</td>\n",
       "      <td>29</td>\n",
       "      <td>29</td>\n",
       "      <td>24</td>\n",
       "      <td>46</td>\n",
       "      <td>30</td>\n",
       "      <td>32</td>\n",
       "      <td>36</td>\n",
       "      <td>48</td>\n",
       "      <td>30</td>\n",
       "      <td>35</td>\n",
       "      <td>17</td>\n",
       "      <td>28</td>\n",
       "      <td>31</td>\n",
       "      <td>62</td>\n",
       "      <td>1581</td>\n",
       "      <td>4013</td>\n",
       "    </tr>\n",
       "    <tr>\n",
       "      <th>8</th>\n",
       "      <td>C02329</td>\n",
       "      <td>(NHF제12호)화성동탄2 A63블럭(23단지 센트럴써밋)</td>\n",
       "      <td>공공임대</td>\n",
       "      <td>740</td>\n",
       "      <td>1110</td>\n",
       "      <td>다사665086</td>\n",
       "      <td>POLYGON ((127.12263 37.17556, 127.12262 37.176...</td>\n",
       "      <td>더뉴레이</td>\n",
       "      <td>1</td>\n",
       "      <td>0</td>\n",
       "      <td>0</td>\n",
       "      <td>0</td>\n",
       "      <td>0</td>\n",
       "      <td>0</td>\n",
       "      <td>0</td>\n",
       "      <td>5</td>\n",
       "      <td>16</td>\n",
       "      <td>22</td>\n",
       "      <td>54</td>\n",
       "      <td>24</td>\n",
       "      <td>78</td>\n",
       "      <td>25</td>\n",
       "      <td>86</td>\n",
       "      <td>28</td>\n",
       "      <td>95</td>\n",
       "      <td>19</td>\n",
       "      <td>76</td>\n",
       "      <td>25</td>\n",
       "      <td>80</td>\n",
       "      <td>21</td>\n",
       "      <td>68</td>\n",
       "      <td>30</td>\n",
       "      <td>79</td>\n",
       "      <td>32</td>\n",
       "      <td>80</td>\n",
       "      <td>42</td>\n",
       "      <td>103</td>\n",
       "      <td>43</td>\n",
       "      <td>242</td>\n",
       "      <td>39</td>\n",
       "      <td>123</td>\n",
       "      <td>37</td>\n",
       "      <td>124</td>\n",
       "      <td>41</td>\n",
       "      <td>109</td>\n",
       "      <td>24</td>\n",
       "      <td>55</td>\n",
       "      <td>20</td>\n",
       "      <td>43</td>\n",
       "      <td>30</td>\n",
       "      <td>100</td>\n",
       "      <td>22</td>\n",
       "      <td>63</td>\n",
       "      <td>22</td>\n",
       "      <td>67</td>\n",
       "      <td>23</td>\n",
       "      <td>96</td>\n",
       "      <td>28</td>\n",
       "      <td>115</td>\n",
       "      <td>27</td>\n",
       "      <td>87</td>\n",
       "      <td>26</td>\n",
       "      <td>106</td>\n",
       "      <td>46</td>\n",
       "      <td>153</td>\n",
       "      <td>49</td>\n",
       "      <td>154</td>\n",
       "      <td>50</td>\n",
       "      <td>203</td>\n",
       "      <td>47</td>\n",
       "      <td>116</td>\n",
       "      <td>36</td>\n",
       "      <td>63</td>\n",
       "      <td>57</td>\n",
       "      <td>110</td>\n",
       "      <td>64</td>\n",
       "      <td>102</td>\n",
       "      <td>55</td>\n",
       "      <td>89</td>\n",
       "      <td>65</td>\n",
       "      <td>136</td>\n",
       "      <td>71</td>\n",
       "      <td>94</td>\n",
       "      <td>51</td>\n",
       "      <td>68</td>\n",
       "      <td>36</td>\n",
       "      <td>50</td>\n",
       "      <td>49</td>\n",
       "      <td>78</td>\n",
       "      <td>44</td>\n",
       "      <td>108</td>\n",
       "      <td>1326</td>\n",
       "      <td>3669</td>\n",
       "    </tr>\n",
       "    <tr>\n",
       "      <th>9</th>\n",
       "      <td>C02160</td>\n",
       "      <td>(NHF제8호)화성동탄2 A48블럭(22단지 경남아너스빌)</td>\n",
       "      <td>공공임대</td>\n",
       "      <td>924</td>\n",
       "      <td>1386</td>\n",
       "      <td>다사669097</td>\n",
       "      <td>POLYGON ((127.12708 37.18549, 127.12708 37.186...</td>\n",
       "      <td>더뉴레이</td>\n",
       "      <td>1</td>\n",
       "      <td>22</td>\n",
       "      <td>72</td>\n",
       "      <td>23</td>\n",
       "      <td>92</td>\n",
       "      <td>28</td>\n",
       "      <td>90</td>\n",
       "      <td>30</td>\n",
       "      <td>96</td>\n",
       "      <td>34</td>\n",
       "      <td>107</td>\n",
       "      <td>38</td>\n",
       "      <td>128</td>\n",
       "      <td>28</td>\n",
       "      <td>112</td>\n",
       "      <td>45</td>\n",
       "      <td>144</td>\n",
       "      <td>38</td>\n",
       "      <td>127</td>\n",
       "      <td>30</td>\n",
       "      <td>105</td>\n",
       "      <td>37</td>\n",
       "      <td>90</td>\n",
       "      <td>23</td>\n",
       "      <td>92</td>\n",
       "      <td>32</td>\n",
       "      <td>104</td>\n",
       "      <td>35</td>\n",
       "      <td>90</td>\n",
       "      <td>23</td>\n",
       "      <td>86</td>\n",
       "      <td>37</td>\n",
       "      <td>128</td>\n",
       "      <td>30</td>\n",
       "      <td>162</td>\n",
       "      <td>30</td>\n",
       "      <td>83</td>\n",
       "      <td>24</td>\n",
       "      <td>79</td>\n",
       "      <td>36</td>\n",
       "      <td>113</td>\n",
       "      <td>28</td>\n",
       "      <td>84</td>\n",
       "      <td>23</td>\n",
       "      <td>117</td>\n",
       "      <td>34</td>\n",
       "      <td>223</td>\n",
       "      <td>46</td>\n",
       "      <td>215</td>\n",
       "      <td>36</td>\n",
       "      <td>240</td>\n",
       "      <td>35</td>\n",
       "      <td>202</td>\n",
       "      <td>19</td>\n",
       "      <td>130</td>\n",
       "      <td>25</td>\n",
       "      <td>109</td>\n",
       "      <td>33</td>\n",
       "      <td>142</td>\n",
       "      <td>19</td>\n",
       "      <td>109</td>\n",
       "      <td>20</td>\n",
       "      <td>72</td>\n",
       "      <td>33</td>\n",
       "      <td>127</td>\n",
       "      <td>46</td>\n",
       "      <td>153</td>\n",
       "      <td>72</td>\n",
       "      <td>117</td>\n",
       "      <td>51</td>\n",
       "      <td>81</td>\n",
       "      <td>33</td>\n",
       "      <td>40</td>\n",
       "      <td>2</td>\n",
       "      <td>0</td>\n",
       "      <td>25</td>\n",
       "      <td>71</td>\n",
       "      <td>24</td>\n",
       "      <td>45</td>\n",
       "      <td>18</td>\n",
       "      <td>42</td>\n",
       "      <td>16</td>\n",
       "      <td>91</td>\n",
       "      <td>1243</td>\n",
       "      <td>4510</td>\n",
       "    </tr>\n",
       "    <tr>\n",
       "      <th>10</th>\n",
       "      <td>C02246</td>\n",
       "      <td>(NHF제10호)화성동탄2 A83블럭(28단지 엘크루)</td>\n",
       "      <td>공공임대</td>\n",
       "      <td>856</td>\n",
       "      <td>1284</td>\n",
       "      <td>다사639071</td>\n",
       "      <td>POLYGON ((127.09341 37.16194, 127.09341 37.162...</td>\n",
       "      <td>더뉴레이</td>\n",
       "      <td>1</td>\n",
       "      <td>23</td>\n",
       "      <td>55</td>\n",
       "      <td>38</td>\n",
       "      <td>90</td>\n",
       "      <td>26</td>\n",
       "      <td>79</td>\n",
       "      <td>46</td>\n",
       "      <td>61</td>\n",
       "      <td>46</td>\n",
       "      <td>83</td>\n",
       "      <td>46</td>\n",
       "      <td>77</td>\n",
       "      <td>38</td>\n",
       "      <td>91</td>\n",
       "      <td>52</td>\n",
       "      <td>93</td>\n",
       "      <td>49</td>\n",
       "      <td>95</td>\n",
       "      <td>26</td>\n",
       "      <td>106</td>\n",
       "      <td>28</td>\n",
       "      <td>58</td>\n",
       "      <td>28</td>\n",
       "      <td>80</td>\n",
       "      <td>28</td>\n",
       "      <td>66</td>\n",
       "      <td>19</td>\n",
       "      <td>170</td>\n",
       "      <td>27</td>\n",
       "      <td>85</td>\n",
       "      <td>35</td>\n",
       "      <td>101</td>\n",
       "      <td>18</td>\n",
       "      <td>45</td>\n",
       "      <td>23</td>\n",
       "      <td>96</td>\n",
       "      <td>33</td>\n",
       "      <td>99</td>\n",
       "      <td>26</td>\n",
       "      <td>55</td>\n",
       "      <td>27</td>\n",
       "      <td>72</td>\n",
       "      <td>35</td>\n",
       "      <td>115</td>\n",
       "      <td>28</td>\n",
       "      <td>104</td>\n",
       "      <td>16</td>\n",
       "      <td>60</td>\n",
       "      <td>26</td>\n",
       "      <td>90</td>\n",
       "      <td>26</td>\n",
       "      <td>86</td>\n",
       "      <td>29</td>\n",
       "      <td>116</td>\n",
       "      <td>31</td>\n",
       "      <td>92</td>\n",
       "      <td>33</td>\n",
       "      <td>95</td>\n",
       "      <td>25</td>\n",
       "      <td>97</td>\n",
       "      <td>26</td>\n",
       "      <td>98</td>\n",
       "      <td>59</td>\n",
       "      <td>86</td>\n",
       "      <td>32</td>\n",
       "      <td>107</td>\n",
       "      <td>27</td>\n",
       "      <td>72</td>\n",
       "      <td>40</td>\n",
       "      <td>58</td>\n",
       "      <td>47</td>\n",
       "      <td>104</td>\n",
       "      <td>32</td>\n",
       "      <td>105</td>\n",
       "      <td>20</td>\n",
       "      <td>103</td>\n",
       "      <td>16</td>\n",
       "      <td>32</td>\n",
       "      <td>30</td>\n",
       "      <td>48</td>\n",
       "      <td>26</td>\n",
       "      <td>39</td>\n",
       "      <td>1256</td>\n",
       "      <td>3463</td>\n",
       "    </tr>\n",
       "    <tr>\n",
       "      <th>11</th>\n",
       "      <td>C02109</td>\n",
       "      <td>화성동탄2 C26블럭(26단지)(행복)</td>\n",
       "      <td>행복주택</td>\n",
       "      <td>608</td>\n",
       "      <td>912</td>\n",
       "      <td>다사637097</td>\n",
       "      <td>POLYGON ((127.09103 37.18537, 127.09103 37.186...</td>\n",
       "      <td>더뉴레이</td>\n",
       "      <td>1</td>\n",
       "      <td>47</td>\n",
       "      <td>172</td>\n",
       "      <td>28</td>\n",
       "      <td>78</td>\n",
       "      <td>33</td>\n",
       "      <td>87</td>\n",
       "      <td>26</td>\n",
       "      <td>78</td>\n",
       "      <td>30</td>\n",
       "      <td>75</td>\n",
       "      <td>39</td>\n",
       "      <td>69</td>\n",
       "      <td>40</td>\n",
       "      <td>89</td>\n",
       "      <td>34</td>\n",
       "      <td>91</td>\n",
       "      <td>36</td>\n",
       "      <td>114</td>\n",
       "      <td>48</td>\n",
       "      <td>157</td>\n",
       "      <td>34</td>\n",
       "      <td>74</td>\n",
       "      <td>28</td>\n",
       "      <td>64</td>\n",
       "      <td>20</td>\n",
       "      <td>66</td>\n",
       "      <td>23</td>\n",
       "      <td>56</td>\n",
       "      <td>14</td>\n",
       "      <td>40</td>\n",
       "      <td>10</td>\n",
       "      <td>31</td>\n",
       "      <td>27</td>\n",
       "      <td>68</td>\n",
       "      <td>23</td>\n",
       "      <td>67</td>\n",
       "      <td>12</td>\n",
       "      <td>55</td>\n",
       "      <td>27</td>\n",
       "      <td>57</td>\n",
       "      <td>31</td>\n",
       "      <td>59</td>\n",
       "      <td>29</td>\n",
       "      <td>102</td>\n",
       "      <td>28</td>\n",
       "      <td>54</td>\n",
       "      <td>23</td>\n",
       "      <td>88</td>\n",
       "      <td>31</td>\n",
       "      <td>110</td>\n",
       "      <td>30</td>\n",
       "      <td>118</td>\n",
       "      <td>25</td>\n",
       "      <td>97</td>\n",
       "      <td>23</td>\n",
       "      <td>83</td>\n",
       "      <td>30</td>\n",
       "      <td>88</td>\n",
       "      <td>17</td>\n",
       "      <td>46</td>\n",
       "      <td>22</td>\n",
       "      <td>51</td>\n",
       "      <td>21</td>\n",
       "      <td>43</td>\n",
       "      <td>21</td>\n",
       "      <td>55</td>\n",
       "      <td>31</td>\n",
       "      <td>52</td>\n",
       "      <td>20</td>\n",
       "      <td>42</td>\n",
       "      <td>27</td>\n",
       "      <td>97</td>\n",
       "      <td>12</td>\n",
       "      <td>22</td>\n",
       "      <td>4</td>\n",
       "      <td>3</td>\n",
       "      <td>8</td>\n",
       "      <td>6</td>\n",
       "      <td>4</td>\n",
       "      <td>7</td>\n",
       "      <td>6</td>\n",
       "      <td>10</td>\n",
       "      <td>1018</td>\n",
       "      <td>2824</td>\n",
       "    </tr>\n",
       "    <tr>\n",
       "      <th>12</th>\n",
       "      <td>C02194</td>\n",
       "      <td>화성동탄2 A6블럭(1단지)(국민)</td>\n",
       "      <td>국민임대</td>\n",
       "      <td>730</td>\n",
       "      <td>1095</td>\n",
       "      <td>다사658132</td>\n",
       "      <td>POLYGON ((127.11453 37.21700, 127.11452 37.217...</td>\n",
       "      <td></td>\n",
       "      <td>1</td>\n",
       "      <td>6</td>\n",
       "      <td>16</td>\n",
       "      <td>6</td>\n",
       "      <td>15</td>\n",
       "      <td>14</td>\n",
       "      <td>41</td>\n",
       "      <td>20</td>\n",
       "      <td>84</td>\n",
       "      <td>16</td>\n",
       "      <td>60</td>\n",
       "      <td>17</td>\n",
       "      <td>39</td>\n",
       "      <td>11</td>\n",
       "      <td>91</td>\n",
       "      <td>27</td>\n",
       "      <td>71</td>\n",
       "      <td>27</td>\n",
       "      <td>82</td>\n",
       "      <td>19</td>\n",
       "      <td>68</td>\n",
       "      <td>24</td>\n",
       "      <td>56</td>\n",
       "      <td>29</td>\n",
       "      <td>107</td>\n",
       "      <td>27</td>\n",
       "      <td>104</td>\n",
       "      <td>32</td>\n",
       "      <td>146</td>\n",
       "      <td>28</td>\n",
       "      <td>161</td>\n",
       "      <td>24</td>\n",
       "      <td>131</td>\n",
       "      <td>24</td>\n",
       "      <td>181</td>\n",
       "      <td>20</td>\n",
       "      <td>102</td>\n",
       "      <td>18</td>\n",
       "      <td>77</td>\n",
       "      <td>24</td>\n",
       "      <td>159</td>\n",
       "      <td>24</td>\n",
       "      <td>154</td>\n",
       "      <td>9</td>\n",
       "      <td>132</td>\n",
       "      <td>14</td>\n",
       "      <td>144</td>\n",
       "      <td>15</td>\n",
       "      <td>101</td>\n",
       "      <td>14</td>\n",
       "      <td>141</td>\n",
       "      <td>7</td>\n",
       "      <td>321</td>\n",
       "      <td>6</td>\n",
       "      <td>31</td>\n",
       "      <td>5</td>\n",
       "      <td>19</td>\n",
       "      <td>8</td>\n",
       "      <td>39</td>\n",
       "      <td>11</td>\n",
       "      <td>34</td>\n",
       "      <td>5</td>\n",
       "      <td>8</td>\n",
       "      <td>9</td>\n",
       "      <td>8</td>\n",
       "      <td>6</td>\n",
       "      <td>10</td>\n",
       "      <td>3</td>\n",
       "      <td>9</td>\n",
       "      <td>6</td>\n",
       "      <td>15</td>\n",
       "      <td>7</td>\n",
       "      <td>18</td>\n",
       "      <td>3</td>\n",
       "      <td>1</td>\n",
       "      <td>0</td>\n",
       "      <td>0</td>\n",
       "      <td>0</td>\n",
       "      <td>0</td>\n",
       "      <td>0</td>\n",
       "      <td>0</td>\n",
       "      <td>0</td>\n",
       "      <td>0</td>\n",
       "      <td>565</td>\n",
       "      <td>2977</td>\n",
       "    </tr>\n",
       "    <tr>\n",
       "      <th>13</th>\n",
       "      <td>C02512</td>\n",
       "      <td>화성동탄2 A4-2블럭(2단지)(국임/영구)</td>\n",
       "      <td>국민임대,영구임대</td>\n",
       "      <td>1390</td>\n",
       "      <td>2085</td>\n",
       "      <td>다사650126</td>\n",
       "      <td>POLYGON ((127.10554 37.21156, 127.10554 37.212...</td>\n",
       "      <td>올뉴K3</td>\n",
       "      <td>1</td>\n",
       "      <td>0</td>\n",
       "      <td>0</td>\n",
       "      <td>0</td>\n",
       "      <td>0</td>\n",
       "      <td>0</td>\n",
       "      <td>0</td>\n",
       "      <td>0</td>\n",
       "      <td>0</td>\n",
       "      <td>0</td>\n",
       "      <td>0</td>\n",
       "      <td>0</td>\n",
       "      <td>0</td>\n",
       "      <td>0</td>\n",
       "      <td>0</td>\n",
       "      <td>0</td>\n",
       "      <td>0</td>\n",
       "      <td>0</td>\n",
       "      <td>0</td>\n",
       "      <td>0</td>\n",
       "      <td>0</td>\n",
       "      <td>0</td>\n",
       "      <td>0</td>\n",
       "      <td>0</td>\n",
       "      <td>0</td>\n",
       "      <td>0</td>\n",
       "      <td>0</td>\n",
       "      <td>0</td>\n",
       "      <td>0</td>\n",
       "      <td>0</td>\n",
       "      <td>0</td>\n",
       "      <td>0</td>\n",
       "      <td>0</td>\n",
       "      <td>0</td>\n",
       "      <td>0</td>\n",
       "      <td>0</td>\n",
       "      <td>0</td>\n",
       "      <td>0</td>\n",
       "      <td>0</td>\n",
       "      <td>0</td>\n",
       "      <td>0</td>\n",
       "      <td>0</td>\n",
       "      <td>0</td>\n",
       "      <td>0</td>\n",
       "      <td>0</td>\n",
       "      <td>5</td>\n",
       "      <td>22</td>\n",
       "      <td>11</td>\n",
       "      <td>73</td>\n",
       "      <td>21</td>\n",
       "      <td>68</td>\n",
       "      <td>20</td>\n",
       "      <td>96</td>\n",
       "      <td>51</td>\n",
       "      <td>342</td>\n",
       "      <td>36</td>\n",
       "      <td>37</td>\n",
       "      <td>52</td>\n",
       "      <td>63</td>\n",
       "      <td>23</td>\n",
       "      <td>36</td>\n",
       "      <td>20</td>\n",
       "      <td>22</td>\n",
       "      <td>41</td>\n",
       "      <td>41</td>\n",
       "      <td>32</td>\n",
       "      <td>35</td>\n",
       "      <td>17</td>\n",
       "      <td>73</td>\n",
       "      <td>14</td>\n",
       "      <td>50</td>\n",
       "      <td>23</td>\n",
       "      <td>42</td>\n",
       "      <td>26</td>\n",
       "      <td>60</td>\n",
       "      <td>17</td>\n",
       "      <td>89</td>\n",
       "      <td>6</td>\n",
       "      <td>16</td>\n",
       "      <td>7</td>\n",
       "      <td>29</td>\n",
       "      <td>11</td>\n",
       "      <td>48</td>\n",
       "      <td>426</td>\n",
       "      <td>1241</td>\n",
       "    </tr>\n",
       "    <tr>\n",
       "      <th>14</th>\n",
       "      <td>C02421</td>\n",
       "      <td>화성동탄2 A4-1블럭(2단지)(행복)</td>\n",
       "      <td>행복주택</td>\n",
       "      <td>1640</td>\n",
       "      <td>2460</td>\n",
       "      <td>다사649128</td>\n",
       "      <td>POLYGON ((127.10440 37.21336, 127.10440 37.214...</td>\n",
       "      <td>니로 하이브리드/모닝어반/모닝어반/올뉴K3</td>\n",
       "      <td>4</td>\n",
       "      <td>0</td>\n",
       "      <td>0</td>\n",
       "      <td>0</td>\n",
       "      <td>0</td>\n",
       "      <td>0</td>\n",
       "      <td>0</td>\n",
       "      <td>0</td>\n",
       "      <td>0</td>\n",
       "      <td>0</td>\n",
       "      <td>0</td>\n",
       "      <td>0</td>\n",
       "      <td>0</td>\n",
       "      <td>93</td>\n",
       "      <td>415</td>\n",
       "      <td>129</td>\n",
       "      <td>380</td>\n",
       "      <td>140</td>\n",
       "      <td>480</td>\n",
       "      <td>186</td>\n",
       "      <td>603</td>\n",
       "      <td>170</td>\n",
       "      <td>546</td>\n",
       "      <td>180</td>\n",
       "      <td>560</td>\n",
       "      <td>179</td>\n",
       "      <td>690</td>\n",
       "      <td>199</td>\n",
       "      <td>809</td>\n",
       "      <td>231</td>\n",
       "      <td>860</td>\n",
       "      <td>201</td>\n",
       "      <td>767</td>\n",
       "      <td>224</td>\n",
       "      <td>760</td>\n",
       "      <td>203</td>\n",
       "      <td>724</td>\n",
       "      <td>194</td>\n",
       "      <td>672</td>\n",
       "      <td>178</td>\n",
       "      <td>642</td>\n",
       "      <td>162</td>\n",
       "      <td>563</td>\n",
       "      <td>166</td>\n",
       "      <td>657</td>\n",
       "      <td>162</td>\n",
       "      <td>648</td>\n",
       "      <td>213</td>\n",
       "      <td>911</td>\n",
       "      <td>190</td>\n",
       "      <td>824</td>\n",
       "      <td>145</td>\n",
       "      <td>696</td>\n",
       "      <td>181</td>\n",
       "      <td>639</td>\n",
       "      <td>172</td>\n",
       "      <td>578</td>\n",
       "      <td>210</td>\n",
       "      <td>727</td>\n",
       "      <td>175</td>\n",
       "      <td>624</td>\n",
       "      <td>167</td>\n",
       "      <td>556</td>\n",
       "      <td>229</td>\n",
       "      <td>537</td>\n",
       "      <td>207</td>\n",
       "      <td>419</td>\n",
       "      <td>226</td>\n",
       "      <td>483</td>\n",
       "      <td>197</td>\n",
       "      <td>479</td>\n",
       "      <td>158</td>\n",
       "      <td>402</td>\n",
       "      <td>122</td>\n",
       "      <td>261</td>\n",
       "      <td>122</td>\n",
       "      <td>276</td>\n",
       "      <td>139</td>\n",
       "      <td>296</td>\n",
       "      <td>106</td>\n",
       "      <td>204</td>\n",
       "      <td>101</td>\n",
       "      <td>369</td>\n",
       "      <td>5951</td>\n",
       "      <td>20057</td>\n",
       "    </tr>\n",
       "    <tr>\n",
       "      <th>15</th>\n",
       "      <td>C02413</td>\n",
       "      <td>화성동탄2 A77-2블럭(35단지)(국임/영구)</td>\n",
       "      <td>영구임대,국민임대</td>\n",
       "      <td>1768</td>\n",
       "      <td>2652</td>\n",
       "      <td>다사663073</td>\n",
       "      <td>POLYGON ((127.12043 37.16384, 127.12043 37.164...</td>\n",
       "      <td></td>\n",
       "      <td>1</td>\n",
       "      <td>0</td>\n",
       "      <td>0</td>\n",
       "      <td>0</td>\n",
       "      <td>0</td>\n",
       "      <td>0</td>\n",
       "      <td>0</td>\n",
       "      <td>0</td>\n",
       "      <td>0</td>\n",
       "      <td>0</td>\n",
       "      <td>0</td>\n",
       "      <td>0</td>\n",
       "      <td>0</td>\n",
       "      <td>5</td>\n",
       "      <td>9</td>\n",
       "      <td>3</td>\n",
       "      <td>10</td>\n",
       "      <td>12</td>\n",
       "      <td>39</td>\n",
       "      <td>17</td>\n",
       "      <td>43</td>\n",
       "      <td>12</td>\n",
       "      <td>24</td>\n",
       "      <td>9</td>\n",
       "      <td>32</td>\n",
       "      <td>11</td>\n",
       "      <td>38</td>\n",
       "      <td>14</td>\n",
       "      <td>40</td>\n",
       "      <td>11</td>\n",
       "      <td>51</td>\n",
       "      <td>15</td>\n",
       "      <td>107</td>\n",
       "      <td>22</td>\n",
       "      <td>58</td>\n",
       "      <td>23</td>\n",
       "      <td>70</td>\n",
       "      <td>20</td>\n",
       "      <td>55</td>\n",
       "      <td>18</td>\n",
       "      <td>56</td>\n",
       "      <td>18</td>\n",
       "      <td>84</td>\n",
       "      <td>11</td>\n",
       "      <td>47</td>\n",
       "      <td>16</td>\n",
       "      <td>40</td>\n",
       "      <td>18</td>\n",
       "      <td>38</td>\n",
       "      <td>23</td>\n",
       "      <td>86</td>\n",
       "      <td>37</td>\n",
       "      <td>120</td>\n",
       "      <td>38</td>\n",
       "      <td>136</td>\n",
       "      <td>28</td>\n",
       "      <td>120</td>\n",
       "      <td>28</td>\n",
       "      <td>97</td>\n",
       "      <td>34</td>\n",
       "      <td>118</td>\n",
       "      <td>28</td>\n",
       "      <td>187</td>\n",
       "      <td>47</td>\n",
       "      <td>84</td>\n",
       "      <td>35</td>\n",
       "      <td>154</td>\n",
       "      <td>25</td>\n",
       "      <td>159</td>\n",
       "      <td>19</td>\n",
       "      <td>56</td>\n",
       "      <td>29</td>\n",
       "      <td>85</td>\n",
       "      <td>11</td>\n",
       "      <td>18</td>\n",
       "      <td>0</td>\n",
       "      <td>0</td>\n",
       "      <td>0</td>\n",
       "      <td>0</td>\n",
       "      <td>0</td>\n",
       "      <td>0</td>\n",
       "      <td>0</td>\n",
       "      <td>0</td>\n",
       "      <td>637</td>\n",
       "      <td>2260</td>\n",
       "    </tr>\n",
       "    <tr>\n",
       "      <th>16</th>\n",
       "      <td>C02404</td>\n",
       "      <td>화성동탄2 A77-1블럭(35단지)(행복)</td>\n",
       "      <td>행복주택</td>\n",
       "      <td>900</td>\n",
       "      <td>1350</td>\n",
       "      <td>다사664075</td>\n",
       "      <td>POLYGON ((127.12155 37.16564, 127.12154 37.166...</td>\n",
       "      <td>모닝어반/올뉴K3</td>\n",
       "      <td>2</td>\n",
       "      <td>0</td>\n",
       "      <td>0</td>\n",
       "      <td>7</td>\n",
       "      <td>28</td>\n",
       "      <td>44</td>\n",
       "      <td>180</td>\n",
       "      <td>34</td>\n",
       "      <td>143</td>\n",
       "      <td>35</td>\n",
       "      <td>171</td>\n",
       "      <td>31</td>\n",
       "      <td>116</td>\n",
       "      <td>43</td>\n",
       "      <td>157</td>\n",
       "      <td>48</td>\n",
       "      <td>172</td>\n",
       "      <td>50</td>\n",
       "      <td>202</td>\n",
       "      <td>54</td>\n",
       "      <td>238</td>\n",
       "      <td>43</td>\n",
       "      <td>136</td>\n",
       "      <td>48</td>\n",
       "      <td>195</td>\n",
       "      <td>43</td>\n",
       "      <td>197</td>\n",
       "      <td>48</td>\n",
       "      <td>151</td>\n",
       "      <td>36</td>\n",
       "      <td>209</td>\n",
       "      <td>41</td>\n",
       "      <td>191</td>\n",
       "      <td>47</td>\n",
       "      <td>207</td>\n",
       "      <td>58</td>\n",
       "      <td>229</td>\n",
       "      <td>47</td>\n",
       "      <td>203</td>\n",
       "      <td>43</td>\n",
       "      <td>174</td>\n",
       "      <td>45</td>\n",
       "      <td>201</td>\n",
       "      <td>47</td>\n",
       "      <td>197</td>\n",
       "      <td>53</td>\n",
       "      <td>225</td>\n",
       "      <td>49</td>\n",
       "      <td>137</td>\n",
       "      <td>48</td>\n",
       "      <td>194</td>\n",
       "      <td>38</td>\n",
       "      <td>125</td>\n",
       "      <td>70</td>\n",
       "      <td>300</td>\n",
       "      <td>58</td>\n",
       "      <td>164</td>\n",
       "      <td>58</td>\n",
       "      <td>239</td>\n",
       "      <td>69</td>\n",
       "      <td>246</td>\n",
       "      <td>63</td>\n",
       "      <td>341</td>\n",
       "      <td>52</td>\n",
       "      <td>187</td>\n",
       "      <td>57</td>\n",
       "      <td>137</td>\n",
       "      <td>50</td>\n",
       "      <td>179</td>\n",
       "      <td>45</td>\n",
       "      <td>140</td>\n",
       "      <td>29</td>\n",
       "      <td>178</td>\n",
       "      <td>34</td>\n",
       "      <td>122</td>\n",
       "      <td>51</td>\n",
       "      <td>306</td>\n",
       "      <td>30</td>\n",
       "      <td>120</td>\n",
       "      <td>20</td>\n",
       "      <td>116</td>\n",
       "      <td>34</td>\n",
       "      <td>110</td>\n",
       "      <td>1780</td>\n",
       "      <td>7263</td>\n",
       "    </tr>\n",
       "    <tr>\n",
       "      <th>17</th>\n",
       "      <td>C01873</td>\n",
       "      <td>화성동탄2 A24블럭(4단지)(국임/영구)</td>\n",
       "      <td>국민임대,영구임대</td>\n",
       "      <td>2147</td>\n",
       "      <td>3220</td>\n",
       "      <td>다사664119</td>\n",
       "      <td>POLYGON ((127.12135 37.20530, 127.12135 37.206...</td>\n",
       "      <td>모닝어반/올뉴K3</td>\n",
       "      <td>2</td>\n",
       "      <td>24</td>\n",
       "      <td>52</td>\n",
       "      <td>30</td>\n",
       "      <td>114</td>\n",
       "      <td>10</td>\n",
       "      <td>26</td>\n",
       "      <td>20</td>\n",
       "      <td>41</td>\n",
       "      <td>44</td>\n",
       "      <td>75</td>\n",
       "      <td>59</td>\n",
       "      <td>153</td>\n",
       "      <td>78</td>\n",
       "      <td>232</td>\n",
       "      <td>85</td>\n",
       "      <td>203</td>\n",
       "      <td>95</td>\n",
       "      <td>299</td>\n",
       "      <td>109</td>\n",
       "      <td>301</td>\n",
       "      <td>91</td>\n",
       "      <td>272</td>\n",
       "      <td>82</td>\n",
       "      <td>197</td>\n",
       "      <td>69</td>\n",
       "      <td>292</td>\n",
       "      <td>67</td>\n",
       "      <td>206</td>\n",
       "      <td>53</td>\n",
       "      <td>206</td>\n",
       "      <td>50</td>\n",
       "      <td>173</td>\n",
       "      <td>58</td>\n",
       "      <td>290</td>\n",
       "      <td>46</td>\n",
       "      <td>191</td>\n",
       "      <td>45</td>\n",
       "      <td>235</td>\n",
       "      <td>46</td>\n",
       "      <td>211</td>\n",
       "      <td>57</td>\n",
       "      <td>191</td>\n",
       "      <td>65</td>\n",
       "      <td>210</td>\n",
       "      <td>57</td>\n",
       "      <td>184</td>\n",
       "      <td>34</td>\n",
       "      <td>120</td>\n",
       "      <td>29</td>\n",
       "      <td>126</td>\n",
       "      <td>38</td>\n",
       "      <td>261</td>\n",
       "      <td>34</td>\n",
       "      <td>218</td>\n",
       "      <td>33</td>\n",
       "      <td>179</td>\n",
       "      <td>74</td>\n",
       "      <td>114</td>\n",
       "      <td>81</td>\n",
       "      <td>190</td>\n",
       "      <td>62</td>\n",
       "      <td>109</td>\n",
       "      <td>70</td>\n",
       "      <td>197</td>\n",
       "      <td>69</td>\n",
       "      <td>155</td>\n",
       "      <td>41</td>\n",
       "      <td>85</td>\n",
       "      <td>48</td>\n",
       "      <td>105</td>\n",
       "      <td>30</td>\n",
       "      <td>58</td>\n",
       "      <td>50</td>\n",
       "      <td>133</td>\n",
       "      <td>32</td>\n",
       "      <td>85</td>\n",
       "      <td>24</td>\n",
       "      <td>39</td>\n",
       "      <td>52</td>\n",
       "      <td>131</td>\n",
       "      <td>53</td>\n",
       "      <td>143</td>\n",
       "      <td>2142</td>\n",
       "      <td>6802</td>\n",
       "    </tr>\n",
       "    <tr>\n",
       "      <th>18</th>\n",
       "      <td>C01571</td>\n",
       "      <td>화성동탄5-2(4-6)(5단지 새강)</td>\n",
       "      <td>국민임대</td>\n",
       "      <td>2342</td>\n",
       "      <td>3513</td>\n",
       "      <td>다사617106</td>\n",
       "      <td>POLYGON ((127.06845 37.19341, 127.06845 37.194...</td>\n",
       "      <td>더뉴레이/올뉴K3</td>\n",
       "      <td>2</td>\n",
       "      <td>70</td>\n",
       "      <td>226</td>\n",
       "      <td>51</td>\n",
       "      <td>175</td>\n",
       "      <td>54</td>\n",
       "      <td>100</td>\n",
       "      <td>56</td>\n",
       "      <td>112</td>\n",
       "      <td>55</td>\n",
       "      <td>120</td>\n",
       "      <td>58</td>\n",
       "      <td>144</td>\n",
       "      <td>41</td>\n",
       "      <td>64</td>\n",
       "      <td>55</td>\n",
       "      <td>117</td>\n",
       "      <td>39</td>\n",
       "      <td>174</td>\n",
       "      <td>46</td>\n",
       "      <td>150</td>\n",
       "      <td>61</td>\n",
       "      <td>250</td>\n",
       "      <td>30</td>\n",
       "      <td>204</td>\n",
       "      <td>50</td>\n",
       "      <td>230</td>\n",
       "      <td>24</td>\n",
       "      <td>100</td>\n",
       "      <td>33</td>\n",
       "      <td>109</td>\n",
       "      <td>37</td>\n",
       "      <td>182</td>\n",
       "      <td>32</td>\n",
       "      <td>132</td>\n",
       "      <td>36</td>\n",
       "      <td>183</td>\n",
       "      <td>22</td>\n",
       "      <td>79</td>\n",
       "      <td>31</td>\n",
       "      <td>76</td>\n",
       "      <td>21</td>\n",
       "      <td>96</td>\n",
       "      <td>50</td>\n",
       "      <td>208</td>\n",
       "      <td>38</td>\n",
       "      <td>126</td>\n",
       "      <td>31</td>\n",
       "      <td>121</td>\n",
       "      <td>31</td>\n",
       "      <td>96</td>\n",
       "      <td>23</td>\n",
       "      <td>60</td>\n",
       "      <td>26</td>\n",
       "      <td>108</td>\n",
       "      <td>23</td>\n",
       "      <td>83</td>\n",
       "      <td>43</td>\n",
       "      <td>186</td>\n",
       "      <td>52</td>\n",
       "      <td>210</td>\n",
       "      <td>35</td>\n",
       "      <td>122</td>\n",
       "      <td>31</td>\n",
       "      <td>58</td>\n",
       "      <td>35</td>\n",
       "      <td>190</td>\n",
       "      <td>64</td>\n",
       "      <td>234</td>\n",
       "      <td>49</td>\n",
       "      <td>141</td>\n",
       "      <td>56</td>\n",
       "      <td>129</td>\n",
       "      <td>26</td>\n",
       "      <td>73</td>\n",
       "      <td>23</td>\n",
       "      <td>123</td>\n",
       "      <td>47</td>\n",
       "      <td>121</td>\n",
       "      <td>50</td>\n",
       "      <td>121</td>\n",
       "      <td>45</td>\n",
       "      <td>102</td>\n",
       "      <td>1630</td>\n",
       "      <td>5639</td>\n",
       "    </tr>\n",
       "    <tr>\n",
       "      <th>19</th>\n",
       "      <td>C01574</td>\n",
       "      <td>화성봉담(2단지 동화)(국임)</td>\n",
       "      <td>국민임대</td>\n",
       "      <td>915</td>\n",
       "      <td>1372</td>\n",
       "      <td>다사521134</td>\n",
       "      <td>POLYGON ((126.96011 37.21820, 126.96010 37.219...</td>\n",
       "      <td></td>\n",
       "      <td>1</td>\n",
       "      <td>17</td>\n",
       "      <td>47</td>\n",
       "      <td>34</td>\n",
       "      <td>111</td>\n",
       "      <td>29</td>\n",
       "      <td>91</td>\n",
       "      <td>22</td>\n",
       "      <td>70</td>\n",
       "      <td>29</td>\n",
       "      <td>76</td>\n",
       "      <td>21</td>\n",
       "      <td>132</td>\n",
       "      <td>20</td>\n",
       "      <td>54</td>\n",
       "      <td>19</td>\n",
       "      <td>41</td>\n",
       "      <td>41</td>\n",
       "      <td>94</td>\n",
       "      <td>28</td>\n",
       "      <td>111</td>\n",
       "      <td>22</td>\n",
       "      <td>86</td>\n",
       "      <td>24</td>\n",
       "      <td>63</td>\n",
       "      <td>12</td>\n",
       "      <td>69</td>\n",
       "      <td>18</td>\n",
       "      <td>73</td>\n",
       "      <td>21</td>\n",
       "      <td>119</td>\n",
       "      <td>23</td>\n",
       "      <td>145</td>\n",
       "      <td>28</td>\n",
       "      <td>134</td>\n",
       "      <td>20</td>\n",
       "      <td>95</td>\n",
       "      <td>13</td>\n",
       "      <td>76</td>\n",
       "      <td>26</td>\n",
       "      <td>178</td>\n",
       "      <td>31</td>\n",
       "      <td>174</td>\n",
       "      <td>17</td>\n",
       "      <td>96</td>\n",
       "      <td>18</td>\n",
       "      <td>73</td>\n",
       "      <td>25</td>\n",
       "      <td>41</td>\n",
       "      <td>31</td>\n",
       "      <td>47</td>\n",
       "      <td>35</td>\n",
       "      <td>59</td>\n",
       "      <td>56</td>\n",
       "      <td>77</td>\n",
       "      <td>36</td>\n",
       "      <td>55</td>\n",
       "      <td>23</td>\n",
       "      <td>89</td>\n",
       "      <td>25</td>\n",
       "      <td>79</td>\n",
       "      <td>17</td>\n",
       "      <td>52</td>\n",
       "      <td>22</td>\n",
       "      <td>52</td>\n",
       "      <td>22</td>\n",
       "      <td>61</td>\n",
       "      <td>20</td>\n",
       "      <td>46</td>\n",
       "      <td>28</td>\n",
       "      <td>57</td>\n",
       "      <td>19</td>\n",
       "      <td>42</td>\n",
       "      <td>33</td>\n",
       "      <td>62</td>\n",
       "      <td>0</td>\n",
       "      <td>0</td>\n",
       "      <td>0</td>\n",
       "      <td>0</td>\n",
       "      <td>0</td>\n",
       "      <td>0</td>\n",
       "      <td>0</td>\n",
       "      <td>0</td>\n",
       "      <td>925</td>\n",
       "      <td>3028</td>\n",
       "    </tr>\n",
       "    <tr>\n",
       "      <th>20</th>\n",
       "      <td>C02360</td>\n",
       "      <td>화성발안(1단지)(행복,임대상가)</td>\n",
       "      <td>행복주택</td>\n",
       "      <td>608</td>\n",
       "      <td>912</td>\n",
       "      <td>다바475989</td>\n",
       "      <td>POLYGON ((126.90928 37.08725, 126.90927 37.088...</td>\n",
       "      <td>올뉴모닝</td>\n",
       "      <td>1</td>\n",
       "      <td>15</td>\n",
       "      <td>34</td>\n",
       "      <td>11</td>\n",
       "      <td>40</td>\n",
       "      <td>4</td>\n",
       "      <td>18</td>\n",
       "      <td>6</td>\n",
       "      <td>24</td>\n",
       "      <td>2</td>\n",
       "      <td>13</td>\n",
       "      <td>14</td>\n",
       "      <td>99</td>\n",
       "      <td>8</td>\n",
       "      <td>26</td>\n",
       "      <td>9</td>\n",
       "      <td>21</td>\n",
       "      <td>8</td>\n",
       "      <td>88</td>\n",
       "      <td>6</td>\n",
       "      <td>41</td>\n",
       "      <td>22</td>\n",
       "      <td>139</td>\n",
       "      <td>10</td>\n",
       "      <td>64</td>\n",
       "      <td>23</td>\n",
       "      <td>138</td>\n",
       "      <td>20</td>\n",
       "      <td>84</td>\n",
       "      <td>12</td>\n",
       "      <td>56</td>\n",
       "      <td>20</td>\n",
       "      <td>80</td>\n",
       "      <td>20</td>\n",
       "      <td>114</td>\n",
       "      <td>20</td>\n",
       "      <td>158</td>\n",
       "      <td>6</td>\n",
       "      <td>16</td>\n",
       "      <td>16</td>\n",
       "      <td>147</td>\n",
       "      <td>19</td>\n",
       "      <td>192</td>\n",
       "      <td>18</td>\n",
       "      <td>88</td>\n",
       "      <td>14</td>\n",
       "      <td>73</td>\n",
       "      <td>25</td>\n",
       "      <td>105</td>\n",
       "      <td>30</td>\n",
       "      <td>158</td>\n",
       "      <td>35</td>\n",
       "      <td>144</td>\n",
       "      <td>33</td>\n",
       "      <td>198</td>\n",
       "      <td>37</td>\n",
       "      <td>148</td>\n",
       "      <td>31</td>\n",
       "      <td>171</td>\n",
       "      <td>28</td>\n",
       "      <td>167</td>\n",
       "      <td>25</td>\n",
       "      <td>126</td>\n",
       "      <td>49</td>\n",
       "      <td>124</td>\n",
       "      <td>32</td>\n",
       "      <td>120</td>\n",
       "      <td>43</td>\n",
       "      <td>114</td>\n",
       "      <td>35</td>\n",
       "      <td>112</td>\n",
       "      <td>19</td>\n",
       "      <td>113</td>\n",
       "      <td>22</td>\n",
       "      <td>70</td>\n",
       "      <td>24</td>\n",
       "      <td>74</td>\n",
       "      <td>25</td>\n",
       "      <td>78</td>\n",
       "      <td>13</td>\n",
       "      <td>54</td>\n",
       "      <td>3</td>\n",
       "      <td>17</td>\n",
       "      <td>799</td>\n",
       "      <td>3847</td>\n",
       "    </tr>\n",
       "    <tr>\n",
       "      <th>21</th>\n",
       "      <td>C02140</td>\n",
       "      <td>화성봉담2(LH2단지)(국임)</td>\n",
       "      <td>국민임대</td>\n",
       "      <td>1028</td>\n",
       "      <td>1542</td>\n",
       "      <td>다사506138</td>\n",
       "      <td>POLYGON ((126.94318 37.22173, 126.94317 37.222...</td>\n",
       "      <td></td>\n",
       "      <td>1</td>\n",
       "      <td>51</td>\n",
       "      <td>235</td>\n",
       "      <td>33</td>\n",
       "      <td>129</td>\n",
       "      <td>30</td>\n",
       "      <td>206</td>\n",
       "      <td>26</td>\n",
       "      <td>144</td>\n",
       "      <td>26</td>\n",
       "      <td>148</td>\n",
       "      <td>46</td>\n",
       "      <td>191</td>\n",
       "      <td>38</td>\n",
       "      <td>205</td>\n",
       "      <td>53</td>\n",
       "      <td>288</td>\n",
       "      <td>49</td>\n",
       "      <td>223</td>\n",
       "      <td>60</td>\n",
       "      <td>272</td>\n",
       "      <td>39</td>\n",
       "      <td>189</td>\n",
       "      <td>33</td>\n",
       "      <td>145</td>\n",
       "      <td>39</td>\n",
       "      <td>102</td>\n",
       "      <td>47</td>\n",
       "      <td>148</td>\n",
       "      <td>56</td>\n",
       "      <td>167</td>\n",
       "      <td>36</td>\n",
       "      <td>150</td>\n",
       "      <td>36</td>\n",
       "      <td>92</td>\n",
       "      <td>34</td>\n",
       "      <td>225</td>\n",
       "      <td>24</td>\n",
       "      <td>91</td>\n",
       "      <td>28</td>\n",
       "      <td>176</td>\n",
       "      <td>25</td>\n",
       "      <td>68</td>\n",
       "      <td>30</td>\n",
       "      <td>123</td>\n",
       "      <td>16</td>\n",
       "      <td>62</td>\n",
       "      <td>23</td>\n",
       "      <td>70</td>\n",
       "      <td>20</td>\n",
       "      <td>72</td>\n",
       "      <td>34</td>\n",
       "      <td>113</td>\n",
       "      <td>26</td>\n",
       "      <td>82</td>\n",
       "      <td>33</td>\n",
       "      <td>145</td>\n",
       "      <td>30</td>\n",
       "      <td>90</td>\n",
       "      <td>35</td>\n",
       "      <td>105</td>\n",
       "      <td>26</td>\n",
       "      <td>79</td>\n",
       "      <td>52</td>\n",
       "      <td>92</td>\n",
       "      <td>41</td>\n",
       "      <td>85</td>\n",
       "      <td>74</td>\n",
       "      <td>164</td>\n",
       "      <td>31</td>\n",
       "      <td>42</td>\n",
       "      <td>32</td>\n",
       "      <td>57</td>\n",
       "      <td>12</td>\n",
       "      <td>27</td>\n",
       "      <td>0</td>\n",
       "      <td>0</td>\n",
       "      <td>0</td>\n",
       "      <td>0</td>\n",
       "      <td>0</td>\n",
       "      <td>0</td>\n",
       "      <td>0</td>\n",
       "      <td>0</td>\n",
       "      <td>1324</td>\n",
       "      <td>5001</td>\n",
       "    </tr>\n",
       "    <tr>\n",
       "      <th>22</th>\n",
       "      <td>C02139</td>\n",
       "      <td>화성봉담2(LH3단지)(국임)</td>\n",
       "      <td>국민임대</td>\n",
       "      <td>972</td>\n",
       "      <td>1458</td>\n",
       "      <td>다사513141</td>\n",
       "      <td>POLYGON ((126.95105 37.22447, 126.95104 37.225...</td>\n",
       "      <td>올뉴모닝</td>\n",
       "      <td>1</td>\n",
       "      <td>33</td>\n",
       "      <td>73</td>\n",
       "      <td>34</td>\n",
       "      <td>132</td>\n",
       "      <td>31</td>\n",
       "      <td>121</td>\n",
       "      <td>40</td>\n",
       "      <td>134</td>\n",
       "      <td>42</td>\n",
       "      <td>88</td>\n",
       "      <td>36</td>\n",
       "      <td>128</td>\n",
       "      <td>35</td>\n",
       "      <td>158</td>\n",
       "      <td>32</td>\n",
       "      <td>110</td>\n",
       "      <td>30</td>\n",
       "      <td>132</td>\n",
       "      <td>41</td>\n",
       "      <td>158</td>\n",
       "      <td>54</td>\n",
       "      <td>179</td>\n",
       "      <td>44</td>\n",
       "      <td>142</td>\n",
       "      <td>40</td>\n",
       "      <td>155</td>\n",
       "      <td>50</td>\n",
       "      <td>223</td>\n",
       "      <td>35</td>\n",
       "      <td>158</td>\n",
       "      <td>37</td>\n",
       "      <td>154</td>\n",
       "      <td>57</td>\n",
       "      <td>248</td>\n",
       "      <td>56</td>\n",
       "      <td>178</td>\n",
       "      <td>34</td>\n",
       "      <td>119</td>\n",
       "      <td>44</td>\n",
       "      <td>172</td>\n",
       "      <td>48</td>\n",
       "      <td>205</td>\n",
       "      <td>41</td>\n",
       "      <td>147</td>\n",
       "      <td>53</td>\n",
       "      <td>162</td>\n",
       "      <td>75</td>\n",
       "      <td>248</td>\n",
       "      <td>68</td>\n",
       "      <td>318</td>\n",
       "      <td>73</td>\n",
       "      <td>211</td>\n",
       "      <td>37</td>\n",
       "      <td>117</td>\n",
       "      <td>60</td>\n",
       "      <td>275</td>\n",
       "      <td>33</td>\n",
       "      <td>171</td>\n",
       "      <td>31</td>\n",
       "      <td>136</td>\n",
       "      <td>25</td>\n",
       "      <td>92</td>\n",
       "      <td>62</td>\n",
       "      <td>194</td>\n",
       "      <td>35</td>\n",
       "      <td>102</td>\n",
       "      <td>41</td>\n",
       "      <td>88</td>\n",
       "      <td>32</td>\n",
       "      <td>72</td>\n",
       "      <td>30</td>\n",
       "      <td>64</td>\n",
       "      <td>22</td>\n",
       "      <td>43</td>\n",
       "      <td>16</td>\n",
       "      <td>36</td>\n",
       "      <td>32</td>\n",
       "      <td>45</td>\n",
       "      <td>29</td>\n",
       "      <td>58</td>\n",
       "      <td>34</td>\n",
       "      <td>68</td>\n",
       "      <td>1653</td>\n",
       "      <td>5815</td>\n",
       "    </tr>\n",
       "    <tr>\n",
       "      <th>23</th>\n",
       "      <td>C02296</td>\n",
       "      <td>화성봉담2(LH4단지)(행복,임대상가)</td>\n",
       "      <td>행복주택</td>\n",
       "      <td>602</td>\n",
       "      <td>903</td>\n",
       "      <td>다사513146</td>\n",
       "      <td>POLYGON ((126.95101 37.22898, 126.95101 37.229...</td>\n",
       "      <td>더뉴스파크</td>\n",
       "      <td>1</td>\n",
       "      <td>62</td>\n",
       "      <td>171</td>\n",
       "      <td>88</td>\n",
       "      <td>279</td>\n",
       "      <td>72</td>\n",
       "      <td>265</td>\n",
       "      <td>81</td>\n",
       "      <td>294</td>\n",
       "      <td>105</td>\n",
       "      <td>308</td>\n",
       "      <td>101</td>\n",
       "      <td>279</td>\n",
       "      <td>67</td>\n",
       "      <td>216</td>\n",
       "      <td>88</td>\n",
       "      <td>168</td>\n",
       "      <td>72</td>\n",
       "      <td>420</td>\n",
       "      <td>76</td>\n",
       "      <td>184</td>\n",
       "      <td>79</td>\n",
       "      <td>192</td>\n",
       "      <td>63</td>\n",
       "      <td>177</td>\n",
       "      <td>71</td>\n",
       "      <td>198</td>\n",
       "      <td>69</td>\n",
       "      <td>178</td>\n",
       "      <td>72</td>\n",
       "      <td>217</td>\n",
       "      <td>54</td>\n",
       "      <td>175</td>\n",
       "      <td>56</td>\n",
       "      <td>196</td>\n",
       "      <td>53</td>\n",
       "      <td>147</td>\n",
       "      <td>41</td>\n",
       "      <td>95</td>\n",
       "      <td>40</td>\n",
       "      <td>105</td>\n",
       "      <td>43</td>\n",
       "      <td>143</td>\n",
       "      <td>48</td>\n",
       "      <td>141</td>\n",
       "      <td>37</td>\n",
       "      <td>109</td>\n",
       "      <td>49</td>\n",
       "      <td>177</td>\n",
       "      <td>42</td>\n",
       "      <td>212</td>\n",
       "      <td>23</td>\n",
       "      <td>175</td>\n",
       "      <td>23</td>\n",
       "      <td>47</td>\n",
       "      <td>22</td>\n",
       "      <td>86</td>\n",
       "      <td>29</td>\n",
       "      <td>82</td>\n",
       "      <td>34</td>\n",
       "      <td>194</td>\n",
       "      <td>31</td>\n",
       "      <td>93</td>\n",
       "      <td>47</td>\n",
       "      <td>112</td>\n",
       "      <td>37</td>\n",
       "      <td>83</td>\n",
       "      <td>27</td>\n",
       "      <td>56</td>\n",
       "      <td>38</td>\n",
       "      <td>77</td>\n",
       "      <td>19</td>\n",
       "      <td>46</td>\n",
       "      <td>14</td>\n",
       "      <td>31</td>\n",
       "      <td>9</td>\n",
       "      <td>22</td>\n",
       "      <td>6</td>\n",
       "      <td>31</td>\n",
       "      <td>14</td>\n",
       "      <td>62</td>\n",
       "      <td>21</td>\n",
       "      <td>32</td>\n",
       "      <td>2009</td>\n",
       "      <td>6278</td>\n",
       "    </tr>\n",
       "    <tr>\n",
       "      <th>24</th>\n",
       "      <td>C02562</td>\n",
       "      <td>화성비봉 A-1블록 국민영구임대주택</td>\n",
       "      <td>국민임대,영구임대</td>\n",
       "      <td>652</td>\n",
       "      <td>978</td>\n",
       "      <td>다사446163</td>\n",
       "      <td>POLYGON ((126.87536 37.24392, 126.87536 37.244...</td>\n",
       "      <td></td>\n",
       "      <td>1</td>\n",
       "      <td>0</td>\n",
       "      <td>0</td>\n",
       "      <td>0</td>\n",
       "      <td>0</td>\n",
       "      <td>0</td>\n",
       "      <td>0</td>\n",
       "      <td>0</td>\n",
       "      <td>0</td>\n",
       "      <td>0</td>\n",
       "      <td>0</td>\n",
       "      <td>0</td>\n",
       "      <td>0</td>\n",
       "      <td>0</td>\n",
       "      <td>0</td>\n",
       "      <td>0</td>\n",
       "      <td>0</td>\n",
       "      <td>0</td>\n",
       "      <td>0</td>\n",
       "      <td>0</td>\n",
       "      <td>0</td>\n",
       "      <td>0</td>\n",
       "      <td>0</td>\n",
       "      <td>0</td>\n",
       "      <td>0</td>\n",
       "      <td>0</td>\n",
       "      <td>0</td>\n",
       "      <td>0</td>\n",
       "      <td>0</td>\n",
       "      <td>0</td>\n",
       "      <td>0</td>\n",
       "      <td>0</td>\n",
       "      <td>0</td>\n",
       "      <td>0</td>\n",
       "      <td>0</td>\n",
       "      <td>0</td>\n",
       "      <td>0</td>\n",
       "      <td>0</td>\n",
       "      <td>0</td>\n",
       "      <td>0</td>\n",
       "      <td>0</td>\n",
       "      <td>0</td>\n",
       "      <td>0</td>\n",
       "      <td>0</td>\n",
       "      <td>0</td>\n",
       "      <td>1</td>\n",
       "      <td>1</td>\n",
       "      <td>3</td>\n",
       "      <td>6</td>\n",
       "      <td>1</td>\n",
       "      <td>4</td>\n",
       "      <td>1</td>\n",
       "      <td>46</td>\n",
       "      <td>0</td>\n",
       "      <td>0</td>\n",
       "      <td>0</td>\n",
       "      <td>0</td>\n",
       "      <td>0</td>\n",
       "      <td>0</td>\n",
       "      <td>0</td>\n",
       "      <td>0</td>\n",
       "      <td>0</td>\n",
       "      <td>0</td>\n",
       "      <td>0</td>\n",
       "      <td>0</td>\n",
       "      <td>0</td>\n",
       "      <td>0</td>\n",
       "      <td>0</td>\n",
       "      <td>0</td>\n",
       "      <td>0</td>\n",
       "      <td>0</td>\n",
       "      <td>0</td>\n",
       "      <td>0</td>\n",
       "      <td>0</td>\n",
       "      <td>0</td>\n",
       "      <td>0</td>\n",
       "      <td>0</td>\n",
       "      <td>0</td>\n",
       "      <td>0</td>\n",
       "      <td>0</td>\n",
       "      <td>0</td>\n",
       "      <td>0</td>\n",
       "      <td>0</td>\n",
       "      <td>6</td>\n",
       "      <td>57</td>\n",
       "    </tr>\n",
       "    <tr>\n",
       "      <th>25</th>\n",
       "      <td>C02553</td>\n",
       "      <td>화성비봉 A-2블록 행복주택</td>\n",
       "      <td>행복주택</td>\n",
       "      <td>440</td>\n",
       "      <td>660</td>\n",
       "      <td>다사447162</td>\n",
       "      <td>POLYGON ((126.87650 37.24303, 126.87649 37.243...</td>\n",
       "      <td></td>\n",
       "      <td>1</td>\n",
       "      <td>0</td>\n",
       "      <td>0</td>\n",
       "      <td>0</td>\n",
       "      <td>0</td>\n",
       "      <td>0</td>\n",
       "      <td>0</td>\n",
       "      <td>0</td>\n",
       "      <td>0</td>\n",
       "      <td>0</td>\n",
       "      <td>0</td>\n",
       "      <td>0</td>\n",
       "      <td>0</td>\n",
       "      <td>0</td>\n",
       "      <td>0</td>\n",
       "      <td>0</td>\n",
       "      <td>0</td>\n",
       "      <td>0</td>\n",
       "      <td>0</td>\n",
       "      <td>0</td>\n",
       "      <td>0</td>\n",
       "      <td>0</td>\n",
       "      <td>0</td>\n",
       "      <td>0</td>\n",
       "      <td>0</td>\n",
       "      <td>0</td>\n",
       "      <td>0</td>\n",
       "      <td>0</td>\n",
       "      <td>0</td>\n",
       "      <td>0</td>\n",
       "      <td>0</td>\n",
       "      <td>0</td>\n",
       "      <td>0</td>\n",
       "      <td>0</td>\n",
       "      <td>0</td>\n",
       "      <td>0</td>\n",
       "      <td>0</td>\n",
       "      <td>0</td>\n",
       "      <td>0</td>\n",
       "      <td>0</td>\n",
       "      <td>0</td>\n",
       "      <td>0</td>\n",
       "      <td>0</td>\n",
       "      <td>0</td>\n",
       "      <td>0</td>\n",
       "      <td>2</td>\n",
       "      <td>3</td>\n",
       "      <td>2</td>\n",
       "      <td>6</td>\n",
       "      <td>4</td>\n",
       "      <td>5</td>\n",
       "      <td>5</td>\n",
       "      <td>11</td>\n",
       "      <td>5</td>\n",
       "      <td>6</td>\n",
       "      <td>0</td>\n",
       "      <td>0</td>\n",
       "      <td>0</td>\n",
       "      <td>0</td>\n",
       "      <td>0</td>\n",
       "      <td>0</td>\n",
       "      <td>0</td>\n",
       "      <td>0</td>\n",
       "      <td>0</td>\n",
       "      <td>0</td>\n",
       "      <td>0</td>\n",
       "      <td>0</td>\n",
       "      <td>0</td>\n",
       "      <td>0</td>\n",
       "      <td>0</td>\n",
       "      <td>0</td>\n",
       "      <td>0</td>\n",
       "      <td>0</td>\n",
       "      <td>0</td>\n",
       "      <td>0</td>\n",
       "      <td>0</td>\n",
       "      <td>0</td>\n",
       "      <td>0</td>\n",
       "      <td>0</td>\n",
       "      <td>0</td>\n",
       "      <td>0</td>\n",
       "      <td>0</td>\n",
       "      <td>0</td>\n",
       "      <td>18</td>\n",
       "      <td>30</td>\n",
       "    </tr>\n",
       "    <tr>\n",
       "      <th>26</th>\n",
       "      <td>C02049</td>\n",
       "      <td>화성향남2(18단지 언덕)(국임)</td>\n",
       "      <td>국민임대</td>\n",
       "      <td>1742</td>\n",
       "      <td>2613</td>\n",
       "      <td>다사463000</td>\n",
       "      <td>POLYGON ((126.89570 37.09710, 126.89569 37.098...</td>\n",
       "      <td></td>\n",
       "      <td>1</td>\n",
       "      <td>22</td>\n",
       "      <td>111</td>\n",
       "      <td>13</td>\n",
       "      <td>42</td>\n",
       "      <td>19</td>\n",
       "      <td>54</td>\n",
       "      <td>16</td>\n",
       "      <td>132</td>\n",
       "      <td>20</td>\n",
       "      <td>59</td>\n",
       "      <td>21</td>\n",
       "      <td>68</td>\n",
       "      <td>18</td>\n",
       "      <td>59</td>\n",
       "      <td>20</td>\n",
       "      <td>84</td>\n",
       "      <td>21</td>\n",
       "      <td>99</td>\n",
       "      <td>17</td>\n",
       "      <td>32</td>\n",
       "      <td>13</td>\n",
       "      <td>48</td>\n",
       "      <td>23</td>\n",
       "      <td>70</td>\n",
       "      <td>20</td>\n",
       "      <td>36</td>\n",
       "      <td>16</td>\n",
       "      <td>61</td>\n",
       "      <td>20</td>\n",
       "      <td>67</td>\n",
       "      <td>34</td>\n",
       "      <td>90</td>\n",
       "      <td>23</td>\n",
       "      <td>55</td>\n",
       "      <td>11</td>\n",
       "      <td>31</td>\n",
       "      <td>14</td>\n",
       "      <td>38</td>\n",
       "      <td>23</td>\n",
       "      <td>54</td>\n",
       "      <td>23</td>\n",
       "      <td>63</td>\n",
       "      <td>29</td>\n",
       "      <td>162</td>\n",
       "      <td>8</td>\n",
       "      <td>18</td>\n",
       "      <td>15</td>\n",
       "      <td>50</td>\n",
       "      <td>14</td>\n",
       "      <td>36</td>\n",
       "      <td>13</td>\n",
       "      <td>56</td>\n",
       "      <td>15</td>\n",
       "      <td>95</td>\n",
       "      <td>0</td>\n",
       "      <td>0</td>\n",
       "      <td>0</td>\n",
       "      <td>0</td>\n",
       "      <td>0</td>\n",
       "      <td>0</td>\n",
       "      <td>0</td>\n",
       "      <td>0</td>\n",
       "      <td>0</td>\n",
       "      <td>0</td>\n",
       "      <td>0</td>\n",
       "      <td>0</td>\n",
       "      <td>0</td>\n",
       "      <td>0</td>\n",
       "      <td>0</td>\n",
       "      <td>0</td>\n",
       "      <td>0</td>\n",
       "      <td>0</td>\n",
       "      <td>0</td>\n",
       "      <td>0</td>\n",
       "      <td>0</td>\n",
       "      <td>0</td>\n",
       "      <td>0</td>\n",
       "      <td>0</td>\n",
       "      <td>0</td>\n",
       "      <td>0</td>\n",
       "      <td>0</td>\n",
       "      <td>0</td>\n",
       "      <td>501</td>\n",
       "      <td>1770</td>\n",
       "    </tr>\n",
       "    <tr>\n",
       "      <th>27</th>\n",
       "      <td>C01973</td>\n",
       "      <td>화성향남2(5단지 서봉)(국임)</td>\n",
       "      <td>국민임대</td>\n",
       "      <td>1242</td>\n",
       "      <td>1863</td>\n",
       "      <td>다사472020</td>\n",
       "      <td>POLYGON ((126.90569 37.11518, 126.90568 37.116...</td>\n",
       "      <td></td>\n",
       "      <td>1</td>\n",
       "      <td>0</td>\n",
       "      <td>0</td>\n",
       "      <td>0</td>\n",
       "      <td>0</td>\n",
       "      <td>0</td>\n",
       "      <td>0</td>\n",
       "      <td>8</td>\n",
       "      <td>49</td>\n",
       "      <td>14</td>\n",
       "      <td>74</td>\n",
       "      <td>13</td>\n",
       "      <td>38</td>\n",
       "      <td>28</td>\n",
       "      <td>50</td>\n",
       "      <td>35</td>\n",
       "      <td>54</td>\n",
       "      <td>29</td>\n",
       "      <td>45</td>\n",
       "      <td>37</td>\n",
       "      <td>70</td>\n",
       "      <td>21</td>\n",
       "      <td>46</td>\n",
       "      <td>14</td>\n",
       "      <td>35</td>\n",
       "      <td>11</td>\n",
       "      <td>16</td>\n",
       "      <td>18</td>\n",
       "      <td>31</td>\n",
       "      <td>26</td>\n",
       "      <td>99</td>\n",
       "      <td>11</td>\n",
       "      <td>37</td>\n",
       "      <td>12</td>\n",
       "      <td>43</td>\n",
       "      <td>10</td>\n",
       "      <td>28</td>\n",
       "      <td>5</td>\n",
       "      <td>17</td>\n",
       "      <td>11</td>\n",
       "      <td>22</td>\n",
       "      <td>13</td>\n",
       "      <td>25</td>\n",
       "      <td>3</td>\n",
       "      <td>15</td>\n",
       "      <td>1</td>\n",
       "      <td>1</td>\n",
       "      <td>11</td>\n",
       "      <td>71</td>\n",
       "      <td>10</td>\n",
       "      <td>153</td>\n",
       "      <td>14</td>\n",
       "      <td>53</td>\n",
       "      <td>9</td>\n",
       "      <td>23</td>\n",
       "      <td>17</td>\n",
       "      <td>95</td>\n",
       "      <td>17</td>\n",
       "      <td>84</td>\n",
       "      <td>15</td>\n",
       "      <td>59</td>\n",
       "      <td>20</td>\n",
       "      <td>36</td>\n",
       "      <td>9</td>\n",
       "      <td>24</td>\n",
       "      <td>8</td>\n",
       "      <td>34</td>\n",
       "      <td>8</td>\n",
       "      <td>26</td>\n",
       "      <td>18</td>\n",
       "      <td>63</td>\n",
       "      <td>17</td>\n",
       "      <td>26</td>\n",
       "      <td>17</td>\n",
       "      <td>42</td>\n",
       "      <td>0</td>\n",
       "      <td>0</td>\n",
       "      <td>0</td>\n",
       "      <td>0</td>\n",
       "      <td>0</td>\n",
       "      <td>0</td>\n",
       "      <td>0</td>\n",
       "      <td>0</td>\n",
       "      <td>510</td>\n",
       "      <td>1587</td>\n",
       "    </tr>\n",
       "    <tr>\n",
       "      <th>28</th>\n",
       "      <td>C01588</td>\n",
       "      <td>화성향남(5단지 한우물)(국임)</td>\n",
       "      <td>국민임대</td>\n",
       "      <td>1150</td>\n",
       "      <td>1725</td>\n",
       "      <td>다사480030</td>\n",
       "      <td>POLYGON ((126.91462 37.12424, 126.91462 37.125...</td>\n",
       "      <td></td>\n",
       "      <td>1</td>\n",
       "      <td>0</td>\n",
       "      <td>0</td>\n",
       "      <td>0</td>\n",
       "      <td>0</td>\n",
       "      <td>1</td>\n",
       "      <td>1</td>\n",
       "      <td>3</td>\n",
       "      <td>16</td>\n",
       "      <td>6</td>\n",
       "      <td>29</td>\n",
       "      <td>1</td>\n",
       "      <td>9</td>\n",
       "      <td>4</td>\n",
       "      <td>22</td>\n",
       "      <td>5</td>\n",
       "      <td>39</td>\n",
       "      <td>5</td>\n",
       "      <td>57</td>\n",
       "      <td>6</td>\n",
       "      <td>62</td>\n",
       "      <td>8</td>\n",
       "      <td>56</td>\n",
       "      <td>5</td>\n",
       "      <td>29</td>\n",
       "      <td>9</td>\n",
       "      <td>43</td>\n",
       "      <td>6</td>\n",
       "      <td>34</td>\n",
       "      <td>10</td>\n",
       "      <td>66</td>\n",
       "      <td>12</td>\n",
       "      <td>73</td>\n",
       "      <td>12</td>\n",
       "      <td>49</td>\n",
       "      <td>10</td>\n",
       "      <td>42</td>\n",
       "      <td>11</td>\n",
       "      <td>38</td>\n",
       "      <td>4</td>\n",
       "      <td>12</td>\n",
       "      <td>4</td>\n",
       "      <td>11</td>\n",
       "      <td>1</td>\n",
       "      <td>5</td>\n",
       "      <td>3</td>\n",
       "      <td>6</td>\n",
       "      <td>7</td>\n",
       "      <td>25</td>\n",
       "      <td>7</td>\n",
       "      <td>59</td>\n",
       "      <td>4</td>\n",
       "      <td>38</td>\n",
       "      <td>4</td>\n",
       "      <td>60</td>\n",
       "      <td>0</td>\n",
       "      <td>0</td>\n",
       "      <td>0</td>\n",
       "      <td>0</td>\n",
       "      <td>0</td>\n",
       "      <td>0</td>\n",
       "      <td>0</td>\n",
       "      <td>0</td>\n",
       "      <td>0</td>\n",
       "      <td>0</td>\n",
       "      <td>0</td>\n",
       "      <td>0</td>\n",
       "      <td>0</td>\n",
       "      <td>0</td>\n",
       "      <td>0</td>\n",
       "      <td>0</td>\n",
       "      <td>0</td>\n",
       "      <td>0</td>\n",
       "      <td>0</td>\n",
       "      <td>0</td>\n",
       "      <td>0</td>\n",
       "      <td>0</td>\n",
       "      <td>0</td>\n",
       "      <td>0</td>\n",
       "      <td>0</td>\n",
       "      <td>0</td>\n",
       "      <td>0</td>\n",
       "      <td>0</td>\n",
       "      <td>148</td>\n",
       "      <td>879</td>\n",
       "    </tr>\n",
       "    <tr>\n",
       "      <th>29</th>\n",
       "      <td>C01589</td>\n",
       "      <td>화성향남(6단지 한우물)(국임)</td>\n",
       "      <td>국민임대</td>\n",
       "      <td>1330</td>\n",
       "      <td>1995</td>\n",
       "      <td>다사483029</td>\n",
       "      <td>POLYGON ((126.91801 37.12335, 126.91800 37.124...</td>\n",
       "      <td></td>\n",
       "      <td>1</td>\n",
       "      <td>0</td>\n",
       "      <td>0</td>\n",
       "      <td>1</td>\n",
       "      <td>2</td>\n",
       "      <td>0</td>\n",
       "      <td>0</td>\n",
       "      <td>2</td>\n",
       "      <td>7</td>\n",
       "      <td>0</td>\n",
       "      <td>0</td>\n",
       "      <td>0</td>\n",
       "      <td>0</td>\n",
       "      <td>5</td>\n",
       "      <td>21</td>\n",
       "      <td>0</td>\n",
       "      <td>0</td>\n",
       "      <td>6</td>\n",
       "      <td>33</td>\n",
       "      <td>15</td>\n",
       "      <td>40</td>\n",
       "      <td>14</td>\n",
       "      <td>47</td>\n",
       "      <td>5</td>\n",
       "      <td>67</td>\n",
       "      <td>5</td>\n",
       "      <td>10</td>\n",
       "      <td>11</td>\n",
       "      <td>37</td>\n",
       "      <td>11</td>\n",
       "      <td>29</td>\n",
       "      <td>10</td>\n",
       "      <td>34</td>\n",
       "      <td>7</td>\n",
       "      <td>37</td>\n",
       "      <td>11</td>\n",
       "      <td>74</td>\n",
       "      <td>8</td>\n",
       "      <td>61</td>\n",
       "      <td>2</td>\n",
       "      <td>4</td>\n",
       "      <td>6</td>\n",
       "      <td>14</td>\n",
       "      <td>3</td>\n",
       "      <td>15</td>\n",
       "      <td>3</td>\n",
       "      <td>54</td>\n",
       "      <td>3</td>\n",
       "      <td>11</td>\n",
       "      <td>10</td>\n",
       "      <td>78</td>\n",
       "      <td>2</td>\n",
       "      <td>46</td>\n",
       "      <td>3</td>\n",
       "      <td>61</td>\n",
       "      <td>10</td>\n",
       "      <td>63</td>\n",
       "      <td>7</td>\n",
       "      <td>52</td>\n",
       "      <td>6</td>\n",
       "      <td>29</td>\n",
       "      <td>7</td>\n",
       "      <td>70</td>\n",
       "      <td>11</td>\n",
       "      <td>19</td>\n",
       "      <td>2</td>\n",
       "      <td>0</td>\n",
       "      <td>6</td>\n",
       "      <td>9</td>\n",
       "      <td>3</td>\n",
       "      <td>1</td>\n",
       "      <td>0</td>\n",
       "      <td>0</td>\n",
       "      <td>0</td>\n",
       "      <td>0</td>\n",
       "      <td>0</td>\n",
       "      <td>0</td>\n",
       "      <td>0</td>\n",
       "      <td>0</td>\n",
       "      <td>0</td>\n",
       "      <td>0</td>\n",
       "      <td>0</td>\n",
       "      <td>0</td>\n",
       "      <td>195</td>\n",
       "      <td>1027</td>\n",
       "    </tr>\n",
       "  </tbody>\n",
       "</table>\n",
       "</div>"
      ],
      "text/plain": [
       "   blck_cd                           blck_nm  type_left   noh  parking_slot  \\\n",
       "0   C02347          화성남양뉴타운(LH10단지)(국임,임대상가)       국민임대  1022          1533   \n",
       "1   C01961                화성남양뉴타운(LH4단지)(국임)       국민임대   876          1314   \n",
       "2   C02042                화성남양뉴타운(LH9단지)(국임)       국민임대   782          1173   \n",
       "3   C01569              화성동탄7-2(1-5)(7단지 능동)       국민임대   963          1444   \n",
       "4   C02333             화성동탄2 A82블럭(28단지)(행복)       행복주택   816          1224   \n",
       "5   C01890            화성동탄2 A65블럭(26단지 레이크빌)       공공임대   754          1131   \n",
       "6   C02014    (NHF제3호)화성동탄2 A50블럭(22단지 르파비스)       공공임대   876          1314   \n",
       "7   C02015    (NHF제3호)화성동탄2 A69블럭(24단지 스타힐스)       공공임대   882          1323   \n",
       "8   C02329  (NHF제12호)화성동탄2 A63블럭(23단지 센트럴써밋)       공공임대   740          1110   \n",
       "9   C02160  (NHF제8호)화성동탄2 A48블럭(22단지 경남아너스빌)       공공임대   924          1386   \n",
       "10  C02246    (NHF제10호)화성동탄2 A83블럭(28단지 엘크루)       공공임대   856          1284   \n",
       "11  C02109             화성동탄2 C26블럭(26단지)(행복)       행복주택   608           912   \n",
       "12  C02194               화성동탄2 A6블럭(1단지)(국민)       국민임대   730          1095   \n",
       "13  C02512          화성동탄2 A4-2블럭(2단지)(국임/영구)  국민임대,영구임대  1390          2085   \n",
       "14  C02421             화성동탄2 A4-1블럭(2단지)(행복)       행복주택  1640          2460   \n",
       "15  C02413        화성동탄2 A77-2블럭(35단지)(국임/영구)  영구임대,국민임대  1768          2652   \n",
       "16  C02404           화성동탄2 A77-1블럭(35단지)(행복)       행복주택   900          1350   \n",
       "17  C01873           화성동탄2 A24블럭(4단지)(국임/영구)  국민임대,영구임대  2147          3220   \n",
       "18  C01571              화성동탄5-2(4-6)(5단지 새강)       국민임대  2342          3513   \n",
       "19  C01574                  화성봉담(2단지 동화)(국임)       국민임대   915          1372   \n",
       "20  C02360                화성발안(1단지)(행복,임대상가)       행복주택   608           912   \n",
       "21  C02140                  화성봉담2(LH2단지)(국임)       국민임대  1028          1542   \n",
       "22  C02139                  화성봉담2(LH3단지)(국임)       국민임대   972          1458   \n",
       "23  C02296             화성봉담2(LH4단지)(행복,임대상가)       행복주택   602           903   \n",
       "24  C02562               화성비봉 A-1블록 국민영구임대주택  국민임대,영구임대   652           978   \n",
       "25  C02553                   화성비봉 A-2블록 행복주택       행복주택   440           660   \n",
       "26  C02049                화성향남2(18단지 언덕)(국임)       국민임대  1742          2613   \n",
       "27  C01973                 화성향남2(5단지 서봉)(국임)       국민임대  1242          1863   \n",
       "28  C01588                 화성향남(5단지 한우물)(국임)       국민임대  1150          1725   \n",
       "29  C01589                 화성향남(6단지 한우물)(국임)       국민임대  1330          1995   \n",
       "\n",
       "   properties.gid                                           geometry  \\\n",
       "0        다사409122  POLYGON ((126.83397 37.20674, 126.83397 37.207...   \n",
       "1        다사405125  POLYGON ((126.82944 37.20942, 126.82943 37.210...   \n",
       "2        다사408124  POLYGON ((126.83283 37.20854, 126.83282 37.209...   \n",
       "3        다사610125  POLYGON ((127.06047 37.21050, 127.06046 37.211...   \n",
       "4        다사640072  POLYGON ((127.09453 37.16285, 127.09453 37.163...   \n",
       "5        다사648086  POLYGON ((127.10348 37.17550, 127.10347 37.176...   \n",
       "6        다사668095  POLYGON ((127.12597 37.18369, 127.12596 37.184...   \n",
       "7        다사661083  POLYGON ((127.11813 37.17284, 127.11813 37.173...   \n",
       "8        다사665086  POLYGON ((127.12263 37.17556, 127.12262 37.176...   \n",
       "9        다사669097  POLYGON ((127.12708 37.18549, 127.12708 37.186...   \n",
       "10       다사639071  POLYGON ((127.09341 37.16194, 127.09341 37.162...   \n",
       "11       다사637097  POLYGON ((127.09103 37.18537, 127.09103 37.186...   \n",
       "12       다사658132  POLYGON ((127.11453 37.21700, 127.11452 37.217...   \n",
       "13       다사650126  POLYGON ((127.10554 37.21156, 127.10554 37.212...   \n",
       "14       다사649128  POLYGON ((127.10440 37.21336, 127.10440 37.214...   \n",
       "15       다사663073  POLYGON ((127.12043 37.16384, 127.12043 37.164...   \n",
       "16       다사664075  POLYGON ((127.12155 37.16564, 127.12154 37.166...   \n",
       "17       다사664119  POLYGON ((127.12135 37.20530, 127.12135 37.206...   \n",
       "18       다사617106  POLYGON ((127.06845 37.19341, 127.06845 37.194...   \n",
       "19       다사521134  POLYGON ((126.96011 37.21820, 126.96010 37.219...   \n",
       "20       다바475989  POLYGON ((126.90928 37.08725, 126.90927 37.088...   \n",
       "21       다사506138  POLYGON ((126.94318 37.22173, 126.94317 37.222...   \n",
       "22       다사513141  POLYGON ((126.95105 37.22447, 126.95104 37.225...   \n",
       "23       다사513146  POLYGON ((126.95101 37.22898, 126.95101 37.229...   \n",
       "24       다사446163  POLYGON ((126.87536 37.24392, 126.87536 37.244...   \n",
       "25       다사447162  POLYGON ((126.87650 37.24303, 126.87649 37.243...   \n",
       "26       다사463000  POLYGON ((126.89570 37.09710, 126.89569 37.098...   \n",
       "27       다사472020  POLYGON ((126.90569 37.11518, 126.90568 37.116...   \n",
       "28       다사480030  POLYGON ((126.91462 37.12424, 126.91462 37.125...   \n",
       "29       다사483029  POLYGON ((126.91801 37.12335, 126.91800 37.124...   \n",
       "\n",
       "                   car_type  car_cnt  cnt_2008  tm_2008  cnt_2009  tm_2009  \\\n",
       "0                      모닝어반        1        41      152        42      181   \n",
       "1                                  1        25      224         6       43   \n",
       "2                                  1        11       82        13       20   \n",
       "3                      더뉴레이        1        45      142        44      117   \n",
       "4                 더뉴레이/올뉴모닝        2        55      128        63      169   \n",
       "5                      올뉴모닝        1        13       26        19       44   \n",
       "6                      올뉴K3        1        31      125        25       85   \n",
       "7                      더뉴레이        1        26      165        31       90   \n",
       "8                      더뉴레이        1         0        0         0        0   \n",
       "9                      더뉴레이        1        22       72        23       92   \n",
       "10                     더뉴레이        1        23       55        38       90   \n",
       "11                     더뉴레이        1        47      172        28       78   \n",
       "12                                 1         6       16         6       15   \n",
       "13                     올뉴K3        1         0        0         0        0   \n",
       "14  니로 하이브리드/모닝어반/모닝어반/올뉴K3        4         0        0         0        0   \n",
       "15                                 1         0        0         0        0   \n",
       "16                모닝어반/올뉴K3        2         0        0         7       28   \n",
       "17                모닝어반/올뉴K3        2        24       52        30      114   \n",
       "18                더뉴레이/올뉴K3        2        70      226        51      175   \n",
       "19                                 1        17       47        34      111   \n",
       "20                     올뉴모닝        1        15       34        11       40   \n",
       "21                                 1        51      235        33      129   \n",
       "22                     올뉴모닝        1        33       73        34      132   \n",
       "23                    더뉴스파크        1        62      171        88      279   \n",
       "24                                 1         0        0         0        0   \n",
       "25                                 1         0        0         0        0   \n",
       "26                                 1        22      111        13       42   \n",
       "27                                 1         0        0         0        0   \n",
       "28                                 1         0        0         0        0   \n",
       "29                                 1         0        0         1        2   \n",
       "\n",
       "    cnt_2010  tm_2010  cnt_2011  tm_2011  cnt_2012  tm_2012  cnt_2101  \\\n",
       "0         26       82        35       58        21       61        13   \n",
       "1          1        6         2        2         2        5         2   \n",
       "2         22       17        36       50        39       46        41   \n",
       "3         63      263        39      113        34      191        26   \n",
       "4         45      102        47      133        48      111        50   \n",
       "5         22      122        14       41        18       36        19   \n",
       "6         39      119        36      102        36       73        34   \n",
       "7         24       91        29      138        31       75        27   \n",
       "8          0        0         5       16        22       54        24   \n",
       "9         28       90        30       96        34      107        38   \n",
       "10        26       79        46       61        46       83        46   \n",
       "11        33       87        26       78        30       75        39   \n",
       "12        14       41        20       84        16       60        17   \n",
       "13         0        0         0        0         0        0         0   \n",
       "14         0        0         0        0         0        0         0   \n",
       "15         0        0         0        0         0        0         0   \n",
       "16        44      180        34      143        35      171        31   \n",
       "17        10       26        20       41        44       75        59   \n",
       "18        54      100        56      112        55      120        58   \n",
       "19        29       91        22       70        29       76        21   \n",
       "20         4       18         6       24         2       13        14   \n",
       "21        30      206        26      144        26      148        46   \n",
       "22        31      121        40      134        42       88        36   \n",
       "23        72      265        81      294       105      308       101   \n",
       "24         0        0         0        0         0        0         0   \n",
       "25         0        0         0        0         0        0         0   \n",
       "26        19       54        16      132        20       59        21   \n",
       "27         0        0         8       49        14       74        13   \n",
       "28         1        1         3       16         6       29         1   \n",
       "29         0        0         2        7         0        0         0   \n",
       "\n",
       "    tm_2101  cnt_2102  tm_2102  cnt_2103  tm_2103  cnt_2104  tm_2104  \\\n",
       "0        34        18      125        20       62        13       73   \n",
       "1         3         3        4         4       21         4        4   \n",
       "2        34        35       61        27       66        19       52   \n",
       "3        83        46       87        23       81        37      155   \n",
       "4       157        51      172        70      175        79      211   \n",
       "5        46        28       69        22       52        21       50   \n",
       "6        96        32      112        46      113        48      155   \n",
       "7       129        21       62        29       90        40      118   \n",
       "8        78        25       86        28       95        19       76   \n",
       "9       128        28      112        45      144        38      127   \n",
       "10       77        38       91        52       93        49       95   \n",
       "11       69        40       89        34       91        36      114   \n",
       "12       39        11       91        27       71        27       82   \n",
       "13        0         0        0         0        0         0        0   \n",
       "14        0        93      415       129      380       140      480   \n",
       "15        0         5        9         3       10        12       39   \n",
       "16      116        43      157        48      172        50      202   \n",
       "17      153        78      232        85      203        95      299   \n",
       "18      144        41       64        55      117        39      174   \n",
       "19      132        20       54        19       41        41       94   \n",
       "20       99         8       26         9       21         8       88   \n",
       "21      191        38      205        53      288        49      223   \n",
       "22      128        35      158        32      110        30      132   \n",
       "23      279        67      216        88      168        72      420   \n",
       "24        0         0        0         0        0         0        0   \n",
       "25        0         0        0         0        0         0        0   \n",
       "26       68        18       59        20       84        21       99   \n",
       "27       38        28       50        35       54        29       45   \n",
       "28        9         4       22         5       39         5       57   \n",
       "29        0         5       21         0        0         6       33   \n",
       "\n",
       "    cnt_2105  tm_2105  cnt_2106  tm_2106  cnt_2107  tm_2107  cnt_2108  \\\n",
       "0         16       99        10       87        18       80        14   \n",
       "1          7       25         9       31         9       35         5   \n",
       "2         12       18         8       10        17       43        18   \n",
       "3         31      142        25       90        33      113        36   \n",
       "4         66      188        68      224        65      263        81   \n",
       "5         20      118        38      151        30      129        58   \n",
       "6         34      184        47      123        36      145        40   \n",
       "7         54      126        56      137        78      140        45   \n",
       "8         25       80        21       68        30       79        32   \n",
       "9         30      105        37       90        23       92        32   \n",
       "10        26      106        28       58        28       80        28   \n",
       "11        48      157        34       74        28       64        20   \n",
       "12        19       68        24       56        29      107        27   \n",
       "13         0        0         0        0         0        0         0   \n",
       "14       186      603       170      546       180      560       179   \n",
       "15        17       43        12       24         9       32        11   \n",
       "16        54      238        43      136        48      195        43   \n",
       "17       109      301        91      272        82      197        69   \n",
       "18        46      150        61      250        30      204        50   \n",
       "19        28      111        22       86        24       63        12   \n",
       "20         6       41        22      139        10       64        23   \n",
       "21        60      272        39      189        33      145        39   \n",
       "22        41      158        54      179        44      142        40   \n",
       "23        76      184        79      192        63      177        71   \n",
       "24         0        0         0        0         0        0         0   \n",
       "25         0        0         0        0         0        0         0   \n",
       "26        17       32        13       48        23       70        20   \n",
       "27        37       70        21       46        14       35        11   \n",
       "28         6       62         8       56         5       29         9   \n",
       "29        15       40        14       47         5       67         5   \n",
       "\n",
       "    tm_2108  cnt_2109  tm_2109  cnt_2110  tm_2110  cnt_2111  tm_2111  \\\n",
       "0        49        20       65        28       87        38      114   \n",
       "1        91         6       46        10       42         9       63   \n",
       "2        59        25       69        28       55        23       88   \n",
       "3       157        24       85        28      155        16      103   \n",
       "4       259        81      258        76      239        62      247   \n",
       "5        92        35       96        43      150        49      131   \n",
       "6       116        34      171        45      150        48      132   \n",
       "7        99        43      171        55      139        55      161   \n",
       "8        80        42      103        43      242        39      123   \n",
       "9       104        35       90        23       86        37      128   \n",
       "10       66        19      170        27       85        35      101   \n",
       "11       66        23       56        14       40        10       31   \n",
       "12      104        32      146        28      161        24      131   \n",
       "13        0         0        0         0        0         0        0   \n",
       "14      690       199      809       231      860       201      767   \n",
       "15       38        14       40        11       51        15      107   \n",
       "16      197        48      151        36      209        41      191   \n",
       "17      292        67      206        53      206        50      173   \n",
       "18      230        24      100        33      109        37      182   \n",
       "19       69        18       73        21      119        23      145   \n",
       "20      138        20       84        12       56        20       80   \n",
       "21      102        47      148        56      167        36      150   \n",
       "22      155        50      223        35      158        37      154   \n",
       "23      198        69      178        72      217        54      175   \n",
       "24        0         0        0         0        0         0        0   \n",
       "25        0         0        0         0        0         0        0   \n",
       "26       36        16       61        20       67        34       90   \n",
       "27       16        18       31        26       99        11       37   \n",
       "28       43         6       34        10       66        12       73   \n",
       "29       10        11       37        11       29        10       34   \n",
       "\n",
       "    cnt_2112  tm_2112  cnt_2201  tm_2201  cnt_2202  tm_2202  cnt_2203  \\\n",
       "0         30       69        31      109        26       79        23   \n",
       "1          0        0         0        0         0        0         0   \n",
       "2         38      103        59      201        47      109        40   \n",
       "3         41       89        47      205        32       75        41   \n",
       "4         74      225        58      192        53      126        46   \n",
       "5         37       66        31       76        27       64        26   \n",
       "6         44      125        35      180        50      142        33   \n",
       "7         64      154        47      135        52      133        37   \n",
       "8         37      124        41      109        24       55        20   \n",
       "9         30      162        30       83        24       79        36   \n",
       "10        18       45        23       96        33       99        26   \n",
       "11        27       68        23       67        12       55        27   \n",
       "12        24      181        20      102        18       77        24   \n",
       "13         0        0         0        0         0        0         0   \n",
       "14       224      760       203      724       194      672       178   \n",
       "15        22       58        23       70        20       55        18   \n",
       "16        47      207        58      229        47      203        43   \n",
       "17        58      290        46      191        45      235        46   \n",
       "18        32      132        36      183        22       79        31   \n",
       "19        28      134        20       95        13       76        26   \n",
       "20        20      114        20      158         6       16        16   \n",
       "21        36       92        34      225        24       91        28   \n",
       "22        57      248        56      178        34      119        44   \n",
       "23        56      196        53      147        41       95        40   \n",
       "24         0        0         0        0         0        0         0   \n",
       "25         0        0         0        0         0        0         0   \n",
       "26        23       55        11       31        14       38        23   \n",
       "27        12       43        10       28         5       17        11   \n",
       "28        12       49        10       42        11       38         4   \n",
       "29         7       37        11       74         8       61         2   \n",
       "\n",
       "    tm_2203  cnt_2204  tm_2204  cnt_2205  tm_2205  cnt_2206  tm_2206  \\\n",
       "0        56        24       47        23       75        31       88   \n",
       "1         0         0        0         0        0         0        0   \n",
       "2        83        39      125        47       99        49      150   \n",
       "3        74        25      119        38       92        35       67   \n",
       "4       149        43      167        74      252        46      207   \n",
       "5        79        30       62        24       58        18       60   \n",
       "6       111        35      149        37      187        42      196   \n",
       "7        99        34       91        41       99        31      117   \n",
       "8        43        30      100        22       63        22       67   \n",
       "9       113        28       84        23      117        34      223   \n",
       "10       55        27       72        35      115        28      104   \n",
       "11       57        31       59        29      102        28       54   \n",
       "12      159        24      154         9      132        14      144   \n",
       "13        0         0        0         0        0         5       22   \n",
       "14      642       162      563       166      657       162      648   \n",
       "15       56        18       84        11       47        16       40   \n",
       "16      174        45      201        47      197        53      225   \n",
       "17      211        57      191        65      210        57      184   \n",
       "18       76        21       96        50      208        38      126   \n",
       "19      178        31      174        17       96        18       73   \n",
       "20      147        19      192        18       88        14       73   \n",
       "21      176        25       68        30      123        16       62   \n",
       "22      172        48      205        41      147        53      162   \n",
       "23      105        43      143        48      141        37      109   \n",
       "24        0         0        0         0        0         1        1   \n",
       "25        0         0        0         0        0         2        3   \n",
       "26       54        23       63        29      162         8       18   \n",
       "27       22        13       25         3       15         1        1   \n",
       "28       12         4       11         1        5         3        6   \n",
       "29        4         6       14         3       15         3       54   \n",
       "\n",
       "    cnt_2207  tm_2207  cnt_2208  tm_2208  cnt_2209  tm_2209  cnt_2210  \\\n",
       "0         32       63        20       59        22       63        25   \n",
       "1          0        0         0        0         0        0         0   \n",
       "2         24       64        10       68        30       57         8   \n",
       "3         32      121        27       57        30       81        27   \n",
       "4         42      123        41      163        37      208        48   \n",
       "5         30      130        21       45        18       84        14   \n",
       "6         51      190        43      305        42      216        41   \n",
       "7         43       99        29       76        32      112        36   \n",
       "8         23       96        28      115        27       87        26   \n",
       "9         46      215        36      240        35      202        19   \n",
       "10        16       60        26       90        26       86        29   \n",
       "11        23       88        31      110        30      118        25   \n",
       "12        15      101        14      141         7      321         6   \n",
       "13        11       73        21       68        20       96        51   \n",
       "14       213      911       190      824       145      696       181   \n",
       "15        18       38        23       86        37      120        38   \n",
       "16        49      137        48      194        38      125        70   \n",
       "17        34      120        29      126        38      261        34   \n",
       "18        31      121        31       96        23       60        26   \n",
       "19        25       41        31       47        35       59        56   \n",
       "20        25      105        30      158        35      144        33   \n",
       "21        23       70        20       72        34      113        26   \n",
       "22        75      248        68      318        73      211        37   \n",
       "23        49      177        42      212        23      175        23   \n",
       "24         3        6         1        4         1       46         0   \n",
       "25         2        6         4        5         5       11         5   \n",
       "26        15       50        14       36        13       56        15   \n",
       "27        11       71        10      153        14       53         9   \n",
       "28         7       25         7       59         4       38         4   \n",
       "29         3       11        10       78         2       46         3   \n",
       "\n",
       "    tm_2210  cnt_2211  tm_2211  cnt_2212  tm_2212  cnt_2301  tm_2301  \\\n",
       "0        62        18       42        24       84        14       32   \n",
       "1         0         0        0         0        0         0        0   \n",
       "2        41        16       47        13       46        13       20   \n",
       "3        59        43       75        41      105        40       78   \n",
       "4       195        41      210        30      110        40      162   \n",
       "5        49        18       58        22       60        15       34   \n",
       "6       138        42      102        27       53        35      116   \n",
       "7        62        40       75        37      126        43       82   \n",
       "8       106        46      153        49      154        50      203   \n",
       "9       130        25      109        33      142        19      109   \n",
       "10      116        31       92        33       95        25       97   \n",
       "11       97        23       83        30       88        17       46   \n",
       "12       31         5       19         8       39        11       34   \n",
       "13      342        36       37        52       63        23       36   \n",
       "14      639       172      578       210      727       175      624   \n",
       "15      136        28      120        28       97        34      118   \n",
       "16      300        58      164        58      239        69      246   \n",
       "17      218        33      179        74      114        81      190   \n",
       "18      108        23       83        43      186        52      210   \n",
       "19       77        36       55        23       89        25       79   \n",
       "20      198        37      148        31      171        28      167   \n",
       "21       82        33      145        30       90        35      105   \n",
       "22      117        60      275        33      171        31      136   \n",
       "23       47        22       86        29       82        34      194   \n",
       "24        0         0        0         0        0         0        0   \n",
       "25        6         0        0         0        0         0        0   \n",
       "26       95         0        0         0        0         0        0   \n",
       "27       23        17       95        17       84        15       59   \n",
       "28       60         0        0         0        0         0        0   \n",
       "29       61        10       63         7       52         6       29   \n",
       "\n",
       "    cnt_2302  tm_2302  cnt_2303  tm_2303  cnt_2304  tm_2304  cnt_2305  \\\n",
       "0         12       27        10       14        19       73        16   \n",
       "1          0        0         0        0         0        0         0   \n",
       "2         12       22        17       29        16       26         9   \n",
       "3         29       54        37       67        36       52        34   \n",
       "4         43      156        48       96        60       99        33   \n",
       "5         18       44        25       44        26       57        20   \n",
       "6         29       55        42       73        38      105        32   \n",
       "7         34       87        59       65        51      108        47   \n",
       "8         47      116        36       63        57      110        64   \n",
       "9         20       72        33      127        46      153        72   \n",
       "10        26       98        59       86        32      107        27   \n",
       "11        22       51        21       43        21       55        31   \n",
       "12         5        8         9        8         6       10         3   \n",
       "13        20       22        41       41        32       35        17   \n",
       "14       167      556       229      537       207      419       226   \n",
       "15        28      187        47       84        35      154        25   \n",
       "16        63      341        52      187        57      137        50   \n",
       "17        62      109        70      197        69      155        41   \n",
       "18        35      122        31       58        35      190        64   \n",
       "19        17       52        22       52        22       61        20   \n",
       "20        25      126        49      124        32      120        43   \n",
       "21        26       79        52       92        41       85        74   \n",
       "22        25       92        62      194        35      102        41   \n",
       "23        31       93        47      112        37       83        27   \n",
       "24         0        0         0        0         0        0         0   \n",
       "25         0        0         0        0         0        0         0   \n",
       "26         0        0         0        0         0        0         0   \n",
       "27        20       36         9       24         8       34         8   \n",
       "28         0        0         0        0         0        0         0   \n",
       "29         7       70        11       19         2        0         6   \n",
       "\n",
       "    tm_2305  cnt_2306  tm_2306  cnt_2307  tm_2307  cnt_2308  tm_2308  \\\n",
       "0       147        18       68        14       68         9       42   \n",
       "1         0         0        0         0        0         0        0   \n",
       "2        17        11       30        11       35         6        9   \n",
       "3        51        28       46        40       52        42       55   \n",
       "4        84        35       63        32       78        39       78   \n",
       "5        24        18       36        19       48        12       27   \n",
       "6       119        26       56        39       44        34      126   \n",
       "7        79        29       29        24       46        30       32   \n",
       "8       102        55       89        65      136        71       94   \n",
       "9       117        51       81        33       40         2        0   \n",
       "10       72        40       58        47      104        32      105   \n",
       "11       52        20       42        27       97        12       22   \n",
       "12        9         6       15         7       18         3        1   \n",
       "13       73        14       50        23       42        26       60   \n",
       "14      483       197      479       158      402       122      261   \n",
       "15      159        19       56        29       85        11       18   \n",
       "16      179        45      140        29      178        34      122   \n",
       "17       85        48      105        30       58        50      133   \n",
       "18      234        49      141        56      129        26       73   \n",
       "19       46        28       57        19       42        33       62   \n",
       "20      114        35      112        19      113        22       70   \n",
       "21      164        31       42        32       57        12       27   \n",
       "22       88        32       72        30       64        22       43   \n",
       "23       56        38       77        19       46        14       31   \n",
       "24        0         0        0         0        0         0        0   \n",
       "25        0         0        0         0        0         0        0   \n",
       "26        0         0        0         0        0         0        0   \n",
       "27       26        18       63        17       26        17       42   \n",
       "28        0         0        0         0        0         0        0   \n",
       "29        9         3        1         0        0         0        0   \n",
       "\n",
       "    cnt_2309  tm_2309  cnt_2310  tm_2310  cnt_2311  tm_2311  cnt_2312  \\\n",
       "0         18       35        15       25         9       21         8   \n",
       "1          0        0         0        0         0        0         0   \n",
       "2          0        0         0        0         0        0         0   \n",
       "3         32       45        23       37        25       29        27   \n",
       "4         49      114        26       54        41       93        45   \n",
       "5         11        9         8       21         4        3         0   \n",
       "6         38       97        27       37        30       35        13   \n",
       "7         36       48        30       35        17       28        31   \n",
       "8         51       68        36       50        49       78        44   \n",
       "9         25       71        24       45        18       42        16   \n",
       "10        20      103        16       32        30       48        26   \n",
       "11         4        3         8        6         4        7         6   \n",
       "12         0        0         0        0         0        0         0   \n",
       "13        17       89         6       16         7       29        11   \n",
       "14       122      276       139      296       106      204       101   \n",
       "15         0        0         0        0         0        0         0   \n",
       "16        51      306        30      120        20      116        34   \n",
       "17        32       85        24       39        52      131        53   \n",
       "18        23      123        47      121        50      121        45   \n",
       "19         0        0         0        0         0        0         0   \n",
       "20        24       74        25       78        13       54         3   \n",
       "21         0        0         0        0         0        0         0   \n",
       "22        16       36        32       45        29       58        34   \n",
       "23         9       22         6       31        14       62        21   \n",
       "24         0        0         0        0         0        0         0   \n",
       "25         0        0         0        0         0        0         0   \n",
       "26         0        0         0        0         0        0         0   \n",
       "27         0        0         0        0         0        0         0   \n",
       "28         0        0         0        0         0        0         0   \n",
       "29         0        0         0        0         0        0         0   \n",
       "\n",
       "    tm_2312  total_cnt  total_tm  \n",
       "0        29        855      2888  \n",
       "1         0        104       645  \n",
       "2         0        889      2151  \n",
       "3        50       1377      3912  \n",
       "4        74       2090      6514  \n",
       "5         0        937      2590  \n",
       "6        16       1486      4975  \n",
       "7        62       1581      4013  \n",
       "8       108       1326      3669  \n",
       "9        91       1243      4510  \n",
       "10       39       1256      3463  \n",
       "11       10       1018      2824  \n",
       "12        0        565      2977  \n",
       "13       48        426      1241  \n",
       "14      369       5951     20057  \n",
       "15        0        637      2260  \n",
       "16      110       1780      7263  \n",
       "17      143       2142      6802  \n",
       "18      102       1630      5639  \n",
       "19        0        925      3028  \n",
       "20       17        799      3847  \n",
       "21        0       1324      5001  \n",
       "22       68       1653      5815  \n",
       "23       32       2009      6278  \n",
       "24        0          6        57  \n",
       "25        0         18        30  \n",
       "26        0        501      1770  \n",
       "27        0        510      1587  \n",
       "28        0        148       879  \n",
       "29        0        195      1027  "
      ]
     },
     "execution_count": 172,
     "metadata": {},
     "output_type": "execute_result"
    }
   ],
   "source": [
    "joined_gdf"
   ]
  },
  {
   "cell_type": "code",
   "execution_count": null,
   "metadata": {},
   "outputs": [],
   "source": [
    "# 맵 객체 생성 및 데이터 로드\n",
    "hwasung_share_map = KeplerGl(height=1000, width=1500)\n",
    "hwasung_share_map.add_data(data=joined_gdf, name=\"공유차량 병합 데이터\")\n",
    "hwasung_share_map.add_data(data=hwasung_gdf, name=\"화성시 행정동 데이터\")\n",
    "\n",
    "hwasung_share_map"
   ]
  }
 ],
 "metadata": {
  "kernelspec": {
   "display_name": "GIS",
   "language": "python",
   "name": "python3"
  },
  "language_info": {
   "codemirror_mode": {
    "name": "ipython",
    "version": 3
   },
   "file_extension": ".py",
   "mimetype": "text/x-python",
   "name": "python",
   "nbconvert_exporter": "python",
   "pygments_lexer": "ipython3",
   "version": "3.8.16"
  },
  "orig_nbformat": 4
 },
 "nbformat": 4,
 "nbformat_minor": 2
}

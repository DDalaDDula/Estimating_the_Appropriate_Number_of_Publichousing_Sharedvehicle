{
 "cells": [
  {
   "attachments": {},
   "cell_type": "markdown",
   "metadata": {},
   "source": [
    "## 기본설정 및 함수정의"
   ]
  },
  {
   "cell_type": "code",
   "execution_count": 1,
   "metadata": {},
   "outputs": [],
   "source": [
    "import pandas as pd\n",
    "import numpy as np\n",
    "import plotly.express as px\n",
    "import plotly.graph_objects as go\n",
    "import plotly.graph_objs as go\n",
    "import plotly.offline as offline\n",
    "from folium.plugins import HeatMapWithTime\n",
    "from plotly.subplots import make_subplots\n",
    "import folium\n",
    "from folium import plugins\n",
    "from folium.plugins import HeatMap\n",
    "from folium import FeatureGroup\n",
    "import json\n",
    "import math\n",
    "import re\n",
    "from datetime import datetime\n",
    "import os\n",
    "import glob\n",
    "import subprocess\n",
    "from bs4 import BeautifulSoup as bs\n",
    "from shapely.geometry import Point, Polygon, LineString\n",
    "from shapely.ops import unary_union\n",
    "import geopandas as gpd\n",
    "from geopandas import GeoSeries\n",
    "import pyproj\n",
    "from tqdm import tqdm\n",
    "from keplergl import KeplerGl\n",
    "import matplotlib.pyplot as plt\n",
    "plt.rcParams['font.family'] ='Malgun Gothic'\n",
    "plt.rcParams['axes.unicode_minus'] =False\n",
    "\n",
    "# tqdm의 pandas전용 메소드를 호출\n",
    "tqdm.pandas()\n",
    "# 모든 열이 생략되지 않도록 설정\n",
    "pd.set_option('display.max_columns', None)\n",
    " \n",
    "# Point를만드는 함수\n",
    "def make_point(x):\n",
    "    try:\n",
    "        return Point(x)\n",
    "    except Exception as e:\n",
    "        print(f\"An error occurred: {e}\")\n",
    "        return None\n",
    "# Polygon을 만드는 함수\n",
    "def make_pol(x):\n",
    "    try:\n",
    "        return Polygon(x[0])\n",
    "    except:\n",
    "        return Polygon(x[0][0])\n",
    "    \n",
    "# Linestring을 만드는 함수\n",
    "def make_lin(x):\n",
    "    try:\n",
    "        return LineString(x)\n",
    "    except:\n",
    "        return LineString(x[0])\n",
    "\n",
    "# 데이터프레임을 GeoPandas 데이터프레임으로 변환하는 함수 정의\n",
    "def geo_transform(DataFrame) :\n",
    "    # csv to geopandas\n",
    "    # lon, lat data를 geometry로 변경\n",
    "    DataFrame['lat'] = DataFrame['lat'].astype(float)\n",
    "    DataFrame['lon'] = DataFrame['lon'].astype(float)\n",
    "    DataFrame['geometry'] = DataFrame.progress_apply(lambda row : Point([row['lon'], row['lat']]), axis=1) # 위도 및 경도롤 GeoPandas Point 객체로 변환\n",
    "    DataFrame = gpd.GeoDataFrame(DataFrame, geometry='geometry')\n",
    "    DataFrame.crs = {'init':'epsg:4326'} # geopandas 데이터프레임의 좌표계를 EPSG 4326으로 설정\n",
    "    DataFrame = DataFrame.to_crs({'init':'epsg:4326'}) # 데이터프레임의 좌표계를 자체 좌표계에서 EPSG 4326으로 변환\n",
    "    return DataFrame"
   ]
  },
  {
   "cell_type": "markdown",
   "metadata": {},
   "source": [
    "##### 격자"
   ]
  },
  {
   "cell_type": "code",
   "execution_count": 2,
   "metadata": {},
   "outputs": [],
   "source": [
    "# GeoJSON 파일 불러오기\n",
    "with open('SBJ_2411_001/2-14.하남시_격자.geojson', encoding=\"UTF8\") as geojson_file:\n",
    "    geojson_data = json.load(geojson_file)\n",
    "grid_map_df = pd.json_normalize(geojson_data['features'])\n",
    "grid_map_df['geometry'] = grid_map_df['geometry.coordinates'].apply(lambda x : make_pol(x))\n",
    "grid_map_df.drop(columns=\"geometry.coordinates\", axis=1, inplace=True)\n",
    "grid_map_df = grid_map_df[~grid_map_df['properties.gid'].str.startswith('다아')]\n",
    "# grid_map_df 데이터프레임을 GeoDataFrame으로 변환\n",
    "grid_map_df = gpd.GeoDataFrame(grid_map_df, geometry='geometry')"
   ]
  },
  {
   "cell_type": "markdown",
   "metadata": {},
   "source": [
    "##### 행정동"
   ]
  },
  {
   "cell_type": "code",
   "execution_count": 3,
   "metadata": {},
   "outputs": [],
   "source": [
    "# 하남시 행정동 데이터\n",
    "shapefile_path1 = \"SBJ_2411_001/bnd_dong_31180_2023_2Q/bnd_dong_31180_2023_2Q.shp\"\n",
    "hanam_gdf = gpd.read_file(shapefile_path1)\n",
    "hanam_gdf = hanam_gdf.to_crs(epsg=4326) #EPSG4326 형식으로 변환\n",
    "\n",
    "# 화성시 행정동 데이터\n",
    "shapefile_path2 = \"SBJ_2411_001/bnd_dong_31240_2023_2Q/bnd_dong_31240_2023_2Q.shp\"\n",
    "hwasung_gdf = gpd.read_file(shapefile_path2)\n",
    "hwasung_gdf = hwasung_gdf.to_crs(epsg=4326) #EPSG4326 형식으로 변환"
   ]
  },
  {
   "attachments": {},
   "cell_type": "markdown",
   "metadata": {},
   "source": [
    "#### 격자(매핑용)"
   ]
  },
  {
   "cell_type": "code",
   "execution_count": 4,
   "metadata": {},
   "outputs": [],
   "source": [
    "# GeoJSON 파일 불러오기\n",
    "with open('SBJ_2411_001/2-14.하남시_격자.geojson', encoding=\"UTF8\") as geojson_file:\n",
    "    geojson_data = json.load(geojson_file)\n",
    "grid_map_df = pd.json_normalize(geojson_data['features'])\n",
    "grid_map_df['geometry'] = grid_map_df['geometry.coordinates'].apply(lambda x : make_pol(x))\n",
    "grid_map_df.drop(columns=\"geometry.coordinates\", axis=1, inplace=True)\n",
    "grid_map_df = grid_map_df[~grid_map_df['properties.gid'].str.startswith('다아')]\n",
    "# grid_map_df 데이터프레임을 GeoDataFrame으로 변환\n",
    "grid_map_df = gpd.GeoDataFrame(grid_map_df, geometry='geometry')\n",
    "grid_dict = dict(zip(grid_map_df['properties.gid'], grid_map_df['geometry']))"
   ]
  },
  {
   "cell_type": "code",
   "execution_count": null,
   "metadata": {},
   "outputs": [],
   "source": [
    "# 맵 객체 생성 및 데이터 로드\n",
    "map = KeplerGl(height=1000, width=1500)\n",
    "map.add_data(data=grid_map_df, name=\"격자 데이터\")\n",
    "\n",
    "# 맵 출력 및 상세설정\n",
    "map"
   ]
  },
  {
   "cell_type": "code",
   "execution_count": 7,
   "metadata": {},
   "outputs": [
    {
     "name": "stdout",
     "output_type": "stream",
     "text": [
      "Map saved to visualization/하남시 현황/하남시 격자 map.html!\n"
     ]
    }
   ],
   "source": [
    "# 맵 저장\n",
    "map.save_to_html(file_name=\"visualization/하남시 현황/하남시 격자 map.html\")"
   ]
  },
  {
   "attachments": {},
   "cell_type": "markdown",
   "metadata": {},
   "source": [
    "#### 격자인구통계"
   ]
  },
  {
   "cell_type": "code",
   "execution_count": 8,
   "metadata": {},
   "outputs": [],
   "source": [
    "respop_df = pd.read_csv('SBJ_2411_001/2-1.하남시_거주인구.csv')\n",
    "\n",
    "#grid ID 리스트 와 매핑 & respop_df 필터링\n",
    "grid_id = grid_map_df['properties.gid'].tolist() # gid는 전부 unique한 값\n",
    "grid_respop = respop_df[respop_df['gid'].isin(grid_id)]\n",
    "grid_respop = grid_respop.fillna(0)\n",
    "grid_respop = pd.concat([grid_respop.iloc[:, :2], grid_respop.iloc[:, 2:].astype(int)], axis=1)\n",
    "grid_respop['year'] = grid_respop['year'].astype(str)\n",
    "\n",
    "# 성별구분 없이 통합 및 세대별 인구수 데이터프레임으로 변환\n",
    "columns = ['gid', 'year']\n",
    "for i in range(2, len(grid_respop.columns)):\n",
    "    age = f'{grid_respop.columns[i][2:4]}대' if grid_respop.columns[i][2] != '1' else f'{grid_respop.columns[i][2:5]}대'\n",
    "    sex = '남' if grid_respop.columns[i][0] != 'm' else '여'\n",
    "    columns.append('%s_%s'%(age, sex))\n",
    "grid_respop.columns = columns\n",
    "# 인구 column & 고령인구 column & 고령인구 비율(%) column 생성\n",
    "grid_respop['인구'] = grid_respop.iloc[:, 2:].sum(axis=1)"
   ]
  },
  {
   "cell_type": "code",
   "execution_count": 9,
   "metadata": {},
   "outputs": [
    {
     "data": {
      "application/vnd.plotly.v1+json": {
       "config": {
        "plotlyServerURL": "https://plot.ly"
       },
       "data": [
        {
         "alignmentgroup": "True",
         "hovertemplate": "Age Group=%{x}<br>Population Count=%{marker.color}<extra></extra>",
         "legendgroup": "",
         "marker": {
          "color": [
           30294,
           44592,
           52831,
           40777,
           35535,
           16219,
           4277,
           146
          ],
          "coloraxis": "coloraxis",
          "pattern": {
           "shape": ""
          }
         },
         "name": "",
         "offsetgroup": "",
         "orientation": "v",
         "showlegend": false,
         "textposition": "auto",
         "type": "bar",
         "x": [
          "20대",
          "30대",
          "40대",
          "50대",
          "60대",
          "70대",
          "80대",
          "90대"
         ],
         "xaxis": "x",
         "y": [
          30294,
          44592,
          52831,
          40777,
          35535,
          16219,
          4277,
          146
         ],
         "yaxis": "y"
        }
       ],
       "layout": {
        "barmode": "relative",
        "coloraxis": {
         "colorbar": {
          "title": {
           "text": "Population Count"
          }
         },
         "colorscale": [
          [
           0,
           "#f0f921"
          ],
          [
           0.1111111111111111,
           "#fdca26"
          ],
          [
           0.2222222222222222,
           "#fb9f3a"
          ],
          [
           0.3333333333333333,
           "#ed7953"
          ],
          [
           0.4444444444444444,
           "#d8576b"
          ],
          [
           0.5555555555555556,
           "#bd3786"
          ],
          [
           0.6666666666666666,
           "#9c179e"
          ],
          [
           0.7777777777777778,
           "#7201a8"
          ],
          [
           0.8888888888888888,
           "#46039f"
          ],
          [
           1,
           "#0d0887"
          ]
         ]
        },
        "height": 600,
        "legend": {
         "tracegroupgap": 0
        },
        "margin": {
         "t": 60
        },
        "template": {
         "data": {
          "bar": [
           {
            "error_x": {
             "color": "#2a3f5f"
            },
            "error_y": {
             "color": "#2a3f5f"
            },
            "marker": {
             "line": {
              "color": "#E5ECF6",
              "width": 0.5
             },
             "pattern": {
              "fillmode": "overlay",
              "size": 10,
              "solidity": 0.2
             }
            },
            "type": "bar"
           }
          ],
          "barpolar": [
           {
            "marker": {
             "line": {
              "color": "#E5ECF6",
              "width": 0.5
             },
             "pattern": {
              "fillmode": "overlay",
              "size": 10,
              "solidity": 0.2
             }
            },
            "type": "barpolar"
           }
          ],
          "carpet": [
           {
            "aaxis": {
             "endlinecolor": "#2a3f5f",
             "gridcolor": "white",
             "linecolor": "white",
             "minorgridcolor": "white",
             "startlinecolor": "#2a3f5f"
            },
            "baxis": {
             "endlinecolor": "#2a3f5f",
             "gridcolor": "white",
             "linecolor": "white",
             "minorgridcolor": "white",
             "startlinecolor": "#2a3f5f"
            },
            "type": "carpet"
           }
          ],
          "choropleth": [
           {
            "colorbar": {
             "outlinewidth": 0,
             "ticks": ""
            },
            "type": "choropleth"
           }
          ],
          "contour": [
           {
            "colorbar": {
             "outlinewidth": 0,
             "ticks": ""
            },
            "colorscale": [
             [
              0,
              "#0d0887"
             ],
             [
              0.1111111111111111,
              "#46039f"
             ],
             [
              0.2222222222222222,
              "#7201a8"
             ],
             [
              0.3333333333333333,
              "#9c179e"
             ],
             [
              0.4444444444444444,
              "#bd3786"
             ],
             [
              0.5555555555555556,
              "#d8576b"
             ],
             [
              0.6666666666666666,
              "#ed7953"
             ],
             [
              0.7777777777777778,
              "#fb9f3a"
             ],
             [
              0.8888888888888888,
              "#fdca26"
             ],
             [
              1,
              "#f0f921"
             ]
            ],
            "type": "contour"
           }
          ],
          "contourcarpet": [
           {
            "colorbar": {
             "outlinewidth": 0,
             "ticks": ""
            },
            "type": "contourcarpet"
           }
          ],
          "heatmap": [
           {
            "colorbar": {
             "outlinewidth": 0,
             "ticks": ""
            },
            "colorscale": [
             [
              0,
              "#0d0887"
             ],
             [
              0.1111111111111111,
              "#46039f"
             ],
             [
              0.2222222222222222,
              "#7201a8"
             ],
             [
              0.3333333333333333,
              "#9c179e"
             ],
             [
              0.4444444444444444,
              "#bd3786"
             ],
             [
              0.5555555555555556,
              "#d8576b"
             ],
             [
              0.6666666666666666,
              "#ed7953"
             ],
             [
              0.7777777777777778,
              "#fb9f3a"
             ],
             [
              0.8888888888888888,
              "#fdca26"
             ],
             [
              1,
              "#f0f921"
             ]
            ],
            "type": "heatmap"
           }
          ],
          "heatmapgl": [
           {
            "colorbar": {
             "outlinewidth": 0,
             "ticks": ""
            },
            "colorscale": [
             [
              0,
              "#0d0887"
             ],
             [
              0.1111111111111111,
              "#46039f"
             ],
             [
              0.2222222222222222,
              "#7201a8"
             ],
             [
              0.3333333333333333,
              "#9c179e"
             ],
             [
              0.4444444444444444,
              "#bd3786"
             ],
             [
              0.5555555555555556,
              "#d8576b"
             ],
             [
              0.6666666666666666,
              "#ed7953"
             ],
             [
              0.7777777777777778,
              "#fb9f3a"
             ],
             [
              0.8888888888888888,
              "#fdca26"
             ],
             [
              1,
              "#f0f921"
             ]
            ],
            "type": "heatmapgl"
           }
          ],
          "histogram": [
           {
            "marker": {
             "pattern": {
              "fillmode": "overlay",
              "size": 10,
              "solidity": 0.2
             }
            },
            "type": "histogram"
           }
          ],
          "histogram2d": [
           {
            "colorbar": {
             "outlinewidth": 0,
             "ticks": ""
            },
            "colorscale": [
             [
              0,
              "#0d0887"
             ],
             [
              0.1111111111111111,
              "#46039f"
             ],
             [
              0.2222222222222222,
              "#7201a8"
             ],
             [
              0.3333333333333333,
              "#9c179e"
             ],
             [
              0.4444444444444444,
              "#bd3786"
             ],
             [
              0.5555555555555556,
              "#d8576b"
             ],
             [
              0.6666666666666666,
              "#ed7953"
             ],
             [
              0.7777777777777778,
              "#fb9f3a"
             ],
             [
              0.8888888888888888,
              "#fdca26"
             ],
             [
              1,
              "#f0f921"
             ]
            ],
            "type": "histogram2d"
           }
          ],
          "histogram2dcontour": [
           {
            "colorbar": {
             "outlinewidth": 0,
             "ticks": ""
            },
            "colorscale": [
             [
              0,
              "#0d0887"
             ],
             [
              0.1111111111111111,
              "#46039f"
             ],
             [
              0.2222222222222222,
              "#7201a8"
             ],
             [
              0.3333333333333333,
              "#9c179e"
             ],
             [
              0.4444444444444444,
              "#bd3786"
             ],
             [
              0.5555555555555556,
              "#d8576b"
             ],
             [
              0.6666666666666666,
              "#ed7953"
             ],
             [
              0.7777777777777778,
              "#fb9f3a"
             ],
             [
              0.8888888888888888,
              "#fdca26"
             ],
             [
              1,
              "#f0f921"
             ]
            ],
            "type": "histogram2dcontour"
           }
          ],
          "mesh3d": [
           {
            "colorbar": {
             "outlinewidth": 0,
             "ticks": ""
            },
            "type": "mesh3d"
           }
          ],
          "parcoords": [
           {
            "line": {
             "colorbar": {
              "outlinewidth": 0,
              "ticks": ""
             }
            },
            "type": "parcoords"
           }
          ],
          "pie": [
           {
            "automargin": true,
            "type": "pie"
           }
          ],
          "scatter": [
           {
            "fillpattern": {
             "fillmode": "overlay",
             "size": 10,
             "solidity": 0.2
            },
            "type": "scatter"
           }
          ],
          "scatter3d": [
           {
            "line": {
             "colorbar": {
              "outlinewidth": 0,
              "ticks": ""
             }
            },
            "marker": {
             "colorbar": {
              "outlinewidth": 0,
              "ticks": ""
             }
            },
            "type": "scatter3d"
           }
          ],
          "scattercarpet": [
           {
            "marker": {
             "colorbar": {
              "outlinewidth": 0,
              "ticks": ""
             }
            },
            "type": "scattercarpet"
           }
          ],
          "scattergeo": [
           {
            "marker": {
             "colorbar": {
              "outlinewidth": 0,
              "ticks": ""
             }
            },
            "type": "scattergeo"
           }
          ],
          "scattergl": [
           {
            "marker": {
             "colorbar": {
              "outlinewidth": 0,
              "ticks": ""
             }
            },
            "type": "scattergl"
           }
          ],
          "scattermapbox": [
           {
            "marker": {
             "colorbar": {
              "outlinewidth": 0,
              "ticks": ""
             }
            },
            "type": "scattermapbox"
           }
          ],
          "scatterpolar": [
           {
            "marker": {
             "colorbar": {
              "outlinewidth": 0,
              "ticks": ""
             }
            },
            "type": "scatterpolar"
           }
          ],
          "scatterpolargl": [
           {
            "marker": {
             "colorbar": {
              "outlinewidth": 0,
              "ticks": ""
             }
            },
            "type": "scatterpolargl"
           }
          ],
          "scatterternary": [
           {
            "marker": {
             "colorbar": {
              "outlinewidth": 0,
              "ticks": ""
             }
            },
            "type": "scatterternary"
           }
          ],
          "surface": [
           {
            "colorbar": {
             "outlinewidth": 0,
             "ticks": ""
            },
            "colorscale": [
             [
              0,
              "#0d0887"
             ],
             [
              0.1111111111111111,
              "#46039f"
             ],
             [
              0.2222222222222222,
              "#7201a8"
             ],
             [
              0.3333333333333333,
              "#9c179e"
             ],
             [
              0.4444444444444444,
              "#bd3786"
             ],
             [
              0.5555555555555556,
              "#d8576b"
             ],
             [
              0.6666666666666666,
              "#ed7953"
             ],
             [
              0.7777777777777778,
              "#fb9f3a"
             ],
             [
              0.8888888888888888,
              "#fdca26"
             ],
             [
              1,
              "#f0f921"
             ]
            ],
            "type": "surface"
           }
          ],
          "table": [
           {
            "cells": {
             "fill": {
              "color": "#EBF0F8"
             },
             "line": {
              "color": "white"
             }
            },
            "header": {
             "fill": {
              "color": "#C8D4E3"
             },
             "line": {
              "color": "white"
             }
            },
            "type": "table"
           }
          ]
         },
         "layout": {
          "annotationdefaults": {
           "arrowcolor": "#2a3f5f",
           "arrowhead": 0,
           "arrowwidth": 1
          },
          "autotypenumbers": "strict",
          "coloraxis": {
           "colorbar": {
            "outlinewidth": 0,
            "ticks": ""
           }
          },
          "colorscale": {
           "diverging": [
            [
             0,
             "#8e0152"
            ],
            [
             0.1,
             "#c51b7d"
            ],
            [
             0.2,
             "#de77ae"
            ],
            [
             0.3,
             "#f1b6da"
            ],
            [
             0.4,
             "#fde0ef"
            ],
            [
             0.5,
             "#f7f7f7"
            ],
            [
             0.6,
             "#e6f5d0"
            ],
            [
             0.7,
             "#b8e186"
            ],
            [
             0.8,
             "#7fbc41"
            ],
            [
             0.9,
             "#4d9221"
            ],
            [
             1,
             "#276419"
            ]
           ],
           "sequential": [
            [
             0,
             "#0d0887"
            ],
            [
             0.1111111111111111,
             "#46039f"
            ],
            [
             0.2222222222222222,
             "#7201a8"
            ],
            [
             0.3333333333333333,
             "#9c179e"
            ],
            [
             0.4444444444444444,
             "#bd3786"
            ],
            [
             0.5555555555555556,
             "#d8576b"
            ],
            [
             0.6666666666666666,
             "#ed7953"
            ],
            [
             0.7777777777777778,
             "#fb9f3a"
            ],
            [
             0.8888888888888888,
             "#fdca26"
            ],
            [
             1,
             "#f0f921"
            ]
           ],
           "sequentialminus": [
            [
             0,
             "#0d0887"
            ],
            [
             0.1111111111111111,
             "#46039f"
            ],
            [
             0.2222222222222222,
             "#7201a8"
            ],
            [
             0.3333333333333333,
             "#9c179e"
            ],
            [
             0.4444444444444444,
             "#bd3786"
            ],
            [
             0.5555555555555556,
             "#d8576b"
            ],
            [
             0.6666666666666666,
             "#ed7953"
            ],
            [
             0.7777777777777778,
             "#fb9f3a"
            ],
            [
             0.8888888888888888,
             "#fdca26"
            ],
            [
             1,
             "#f0f921"
            ]
           ]
          },
          "colorway": [
           "#636efa",
           "#EF553B",
           "#00cc96",
           "#ab63fa",
           "#FFA15A",
           "#19d3f3",
           "#FF6692",
           "#B6E880",
           "#FF97FF",
           "#FECB52"
          ],
          "font": {
           "color": "#2a3f5f"
          },
          "geo": {
           "bgcolor": "white",
           "lakecolor": "white",
           "landcolor": "#E5ECF6",
           "showlakes": true,
           "showland": true,
           "subunitcolor": "white"
          },
          "hoverlabel": {
           "align": "left"
          },
          "hovermode": "closest",
          "mapbox": {
           "style": "light"
          },
          "paper_bgcolor": "white",
          "plot_bgcolor": "#E5ECF6",
          "polar": {
           "angularaxis": {
            "gridcolor": "white",
            "linecolor": "white",
            "ticks": ""
           },
           "bgcolor": "#E5ECF6",
           "radialaxis": {
            "gridcolor": "white",
            "linecolor": "white",
            "ticks": ""
           }
          },
          "scene": {
           "xaxis": {
            "backgroundcolor": "#E5ECF6",
            "gridcolor": "white",
            "gridwidth": 2,
            "linecolor": "white",
            "showbackground": true,
            "ticks": "",
            "zerolinecolor": "white"
           },
           "yaxis": {
            "backgroundcolor": "#E5ECF6",
            "gridcolor": "white",
            "gridwidth": 2,
            "linecolor": "white",
            "showbackground": true,
            "ticks": "",
            "zerolinecolor": "white"
           },
           "zaxis": {
            "backgroundcolor": "#E5ECF6",
            "gridcolor": "white",
            "gridwidth": 2,
            "linecolor": "white",
            "showbackground": true,
            "ticks": "",
            "zerolinecolor": "white"
           }
          },
          "shapedefaults": {
           "line": {
            "color": "#2a3f5f"
           }
          },
          "ternary": {
           "aaxis": {
            "gridcolor": "white",
            "linecolor": "white",
            "ticks": ""
           },
           "baxis": {
            "gridcolor": "white",
            "linecolor": "white",
            "ticks": ""
           },
           "bgcolor": "#E5ECF6",
           "caxis": {
            "gridcolor": "white",
            "linecolor": "white",
            "ticks": ""
           }
          },
          "title": {
           "x": 0.05
          },
          "xaxis": {
           "automargin": true,
           "gridcolor": "white",
           "linecolor": "white",
           "ticks": "",
           "title": {
            "standoff": 15
           },
           "zerolinecolor": "white",
           "zerolinewidth": 2
          },
          "yaxis": {
           "automargin": true,
           "gridcolor": "white",
           "linecolor": "white",
           "ticks": "",
           "title": {
            "standoff": 15
           },
           "zerolinecolor": "white",
           "zerolinewidth": 2
          }
         }
        },
        "width": 1200,
        "xaxis": {
         "anchor": "y",
         "domain": [
          0,
          1
         ],
         "title": {
          "text": "Age Group"
         }
        },
        "yaxis": {
         "anchor": "x",
         "domain": [
          0,
          1
         ],
         "title": {
          "text": "Population Count"
         }
        }
       }
      }
     },
     "metadata": {},
     "output_type": "display_data"
    }
   ],
   "source": [
    "# 연령대별로 성별 통합\n",
    "grid_respop['20대'] = grid_respop['20대_여'] + grid_respop['20대_남']\n",
    "grid_respop['30대'] = grid_respop['30대_여'] + grid_respop['30대_남']\n",
    "grid_respop['40대'] = grid_respop['40대_여'] + grid_respop['40대_남']\n",
    "grid_respop['50대'] = grid_respop['50대_여'] + grid_respop['50대_남']\n",
    "grid_respop['60대'] = grid_respop['60대_여'] + grid_respop['60대_남']\n",
    "grid_respop['70대'] = grid_respop['70대_여'] + grid_respop['70대_남']\n",
    "grid_respop['80대'] = grid_respop['80대_여'] + grid_respop['80대_남']\n",
    "grid_respop['90대'] = grid_respop['90대_여'] + grid_respop['90대_남']\n",
    "grid_respop['100대'] = grid_respop['100대_여'] + grid_respop['100대_남']\n",
    "\n",
    "# 필요한 열만 선택\n",
    "age_totals = grid_respop[['year', '20대', '30대', '40대', '50대', '60대', '70대', '80대', '90대', '100대']]\n",
    "\n",
    "# 데이터프레임을 긴 형식으로 변환\n",
    "age_totals_melted = age_totals.melt(id_vars='year', var_name='Age Group', value_name='Count')\n",
    "\n",
    "# 연도별 연령대 분포 계산\n",
    "age_totals_yearly = age_totals_melted[['Age Group', 'Count']].groupby(['Age Group']).sum().reset_index()\n",
    "# 100대 연령대 제거\n",
    "age_totals_yearly = age_totals_yearly[age_totals_yearly['Age Group'] != '100대']\n",
    "\n",
    "# 연령대 종합 평균내기\n",
    "age_totals_yearly['Count'] = age_totals_yearly['Count'] / 4\n",
    "age_totals_yearly['Count'] = age_totals_yearly['Count'].astype(int)\n",
    "# 시각화\n",
    "fig = px.bar(\n",
    "    age_totals_yearly,\n",
    "    x='Age Group',\n",
    "    y='Count',\n",
    "    color='Count',\n",
    "    color_continuous_scale='Plasma_r',  # Plasma 색상 맵 사용\n",
    "    labels={'year': 'Year', 'Count': 'Population Count', 'Age Group': 'Age Group'},\n",
    ")\n",
    "fig.update_layout(height=600, width=1200)\n",
    "fig.show()"
   ]
  },
  {
   "cell_type": "code",
   "execution_count": 10,
   "metadata": {},
   "outputs": [],
   "source": [
    "gen_respop = grid_respop[['gid', '20대', '30대', '40대', '50대', '60대', '70대', '80대', '90대', '100대', '인구']]\n",
    "gen_respop = gen_respop.groupby('gid').sum().reset_index()\n",
    "\n",
    "# 격자 ID와 격자 폴리곤 각각을 매핑한 딕셔너리 생성\n",
    "map_dic = dict(zip(grid_map_df['properties.gid'], grid_map_df['geometry']))\n",
    "\n",
    "# 생성된 map_dic에 filtered_respop의 gid를 매핑하여 'geometry' column 생성\n",
    "geometry_lst = []\n",
    "for _, row in gen_respop.iterrows():\n",
    "    geometry_lst.append(map_dic[row['gid']])\n",
    "gen_respop['geometry'] = geometry_lst\n",
    "gen_respop = gpd.GeoDataFrame(gen_respop, geometry='geometry')"
   ]
  },
  {
   "cell_type": "code",
   "execution_count": null,
   "metadata": {},
   "outputs": [],
   "source": [
    "# 맵 객체 생성 및 데이터 로드\n",
    "gridgenpop_map = KeplerGl(height=1000, width=1500)\n",
    "gridgenpop_map.add_data(data=gen_respop, name=\"하남시 격자거주인구 데이터\")\n",
    "\n",
    "# 맵 출력 및 상세설정\n",
    "gridgenpop_map"
   ]
  },
  {
   "cell_type": "code",
   "execution_count": 12,
   "metadata": {},
   "outputs": [
    {
     "name": "stdout",
     "output_type": "stream",
     "text": [
      "Map saved to visualization/하남시 현황/하남시 격자거주인구 map.html!\n"
     ]
    }
   ],
   "source": [
    "# 맵 저장\n",
    "gridgenpop_map.save_to_html(file_name=\"visualization/하남시 현황/하남시 격자거주인구 map.html\")"
   ]
  },
  {
   "cell_type": "code",
   "execution_count": 14,
   "metadata": {},
   "outputs": [
    {
     "data": {
      "application/vnd.plotly.v1+json": {
       "config": {
        "plotlyServerURL": "https://plot.ly"
       },
       "data": [
        {
         "line": {
          "color": "#0d0887"
         },
         "mode": "lines+markers",
         "name": "40대",
         "type": "scatter",
         "x": [
          "2020",
          "2021",
          "2022",
          "2023"
         ],
         "y": [
          50209,
          51065,
          50775,
          59277
         ]
        },
        {
         "line": {
          "color": "#46039f"
         },
         "mode": "lines+markers",
         "name": "30대",
         "type": "scatter",
         "x": [
          "2020",
          "2021",
          "2022",
          "2023"
         ],
         "y": [
          44430,
          44072,
          41648,
          48220
         ]
        },
        {
         "line": {
          "color": "#7201a8"
         },
         "mode": "lines+markers",
         "name": "50대",
         "type": "scatter",
         "x": [
          "2020",
          "2021",
          "2022",
          "2023"
         ],
         "y": [
          38221,
          38988,
          39481,
          46421
         ]
        },
        {
         "line": {
          "color": "#9c179e"
         },
         "mode": "lines+markers",
         "name": "60대",
         "type": "scatter",
         "x": [
          "2020",
          "2021",
          "2022",
          "2023"
         ],
         "y": [
          33515,
          34525,
          35077,
          39023
         ]
        },
        {
         "line": {
          "color": "#bd3786"
         },
         "mode": "lines+markers",
         "name": "20대",
         "type": "scatter",
         "x": [
          "2020",
          "2021",
          "2022",
          "2023"
         ],
         "y": [
          30755,
          30308,
          28540,
          31575
         ]
        },
        {
         "line": {
          "color": "#d8576b"
         },
         "mode": "lines+markers",
         "name": "70대",
         "type": "scatter",
         "x": [
          "2020",
          "2021",
          "2022",
          "2023"
         ],
         "y": [
          13878,
          15449,
          16528,
          19021
         ]
        },
        {
         "line": {
          "color": "#ed7953"
         },
         "mode": "lines+markers",
         "name": "80대",
         "type": "scatter",
         "x": [
          "2020",
          "2021",
          "2022",
          "2023"
         ],
         "y": [
          3401,
          4169,
          4414,
          5126
         ]
        },
        {
         "line": {
          "color": "#fb9f3a"
         },
         "mode": "lines+markers",
         "name": "90대",
         "type": "scatter",
         "x": [
          "2020",
          "2021",
          "2022",
          "2023"
         ],
         "y": [
          140,
          161,
          133,
          152
         ]
        },
        {
         "line": {
          "color": "#fdca26"
         },
         "mode": "lines+markers",
         "name": "100대",
         "type": "scatter",
         "x": [
          "2020",
          "2021",
          "2022",
          "2023"
         ],
         "y": [
          47,
          0,
          0,
          0
         ]
        }
       ],
       "layout": {
        "height": 600,
        "template": {
         "data": {
          "bar": [
           {
            "error_x": {
             "color": "#2a3f5f"
            },
            "error_y": {
             "color": "#2a3f5f"
            },
            "marker": {
             "line": {
              "color": "#E5ECF6",
              "width": 0.5
             },
             "pattern": {
              "fillmode": "overlay",
              "size": 10,
              "solidity": 0.2
             }
            },
            "type": "bar"
           }
          ],
          "barpolar": [
           {
            "marker": {
             "line": {
              "color": "#E5ECF6",
              "width": 0.5
             },
             "pattern": {
              "fillmode": "overlay",
              "size": 10,
              "solidity": 0.2
             }
            },
            "type": "barpolar"
           }
          ],
          "carpet": [
           {
            "aaxis": {
             "endlinecolor": "#2a3f5f",
             "gridcolor": "white",
             "linecolor": "white",
             "minorgridcolor": "white",
             "startlinecolor": "#2a3f5f"
            },
            "baxis": {
             "endlinecolor": "#2a3f5f",
             "gridcolor": "white",
             "linecolor": "white",
             "minorgridcolor": "white",
             "startlinecolor": "#2a3f5f"
            },
            "type": "carpet"
           }
          ],
          "choropleth": [
           {
            "colorbar": {
             "outlinewidth": 0,
             "ticks": ""
            },
            "type": "choropleth"
           }
          ],
          "contour": [
           {
            "colorbar": {
             "outlinewidth": 0,
             "ticks": ""
            },
            "colorscale": [
             [
              0,
              "#0d0887"
             ],
             [
              0.1111111111111111,
              "#46039f"
             ],
             [
              0.2222222222222222,
              "#7201a8"
             ],
             [
              0.3333333333333333,
              "#9c179e"
             ],
             [
              0.4444444444444444,
              "#bd3786"
             ],
             [
              0.5555555555555556,
              "#d8576b"
             ],
             [
              0.6666666666666666,
              "#ed7953"
             ],
             [
              0.7777777777777778,
              "#fb9f3a"
             ],
             [
              0.8888888888888888,
              "#fdca26"
             ],
             [
              1,
              "#f0f921"
             ]
            ],
            "type": "contour"
           }
          ],
          "contourcarpet": [
           {
            "colorbar": {
             "outlinewidth": 0,
             "ticks": ""
            },
            "type": "contourcarpet"
           }
          ],
          "heatmap": [
           {
            "colorbar": {
             "outlinewidth": 0,
             "ticks": ""
            },
            "colorscale": [
             [
              0,
              "#0d0887"
             ],
             [
              0.1111111111111111,
              "#46039f"
             ],
             [
              0.2222222222222222,
              "#7201a8"
             ],
             [
              0.3333333333333333,
              "#9c179e"
             ],
             [
              0.4444444444444444,
              "#bd3786"
             ],
             [
              0.5555555555555556,
              "#d8576b"
             ],
             [
              0.6666666666666666,
              "#ed7953"
             ],
             [
              0.7777777777777778,
              "#fb9f3a"
             ],
             [
              0.8888888888888888,
              "#fdca26"
             ],
             [
              1,
              "#f0f921"
             ]
            ],
            "type": "heatmap"
           }
          ],
          "heatmapgl": [
           {
            "colorbar": {
             "outlinewidth": 0,
             "ticks": ""
            },
            "colorscale": [
             [
              0,
              "#0d0887"
             ],
             [
              0.1111111111111111,
              "#46039f"
             ],
             [
              0.2222222222222222,
              "#7201a8"
             ],
             [
              0.3333333333333333,
              "#9c179e"
             ],
             [
              0.4444444444444444,
              "#bd3786"
             ],
             [
              0.5555555555555556,
              "#d8576b"
             ],
             [
              0.6666666666666666,
              "#ed7953"
             ],
             [
              0.7777777777777778,
              "#fb9f3a"
             ],
             [
              0.8888888888888888,
              "#fdca26"
             ],
             [
              1,
              "#f0f921"
             ]
            ],
            "type": "heatmapgl"
           }
          ],
          "histogram": [
           {
            "marker": {
             "pattern": {
              "fillmode": "overlay",
              "size": 10,
              "solidity": 0.2
             }
            },
            "type": "histogram"
           }
          ],
          "histogram2d": [
           {
            "colorbar": {
             "outlinewidth": 0,
             "ticks": ""
            },
            "colorscale": [
             [
              0,
              "#0d0887"
             ],
             [
              0.1111111111111111,
              "#46039f"
             ],
             [
              0.2222222222222222,
              "#7201a8"
             ],
             [
              0.3333333333333333,
              "#9c179e"
             ],
             [
              0.4444444444444444,
              "#bd3786"
             ],
             [
              0.5555555555555556,
              "#d8576b"
             ],
             [
              0.6666666666666666,
              "#ed7953"
             ],
             [
              0.7777777777777778,
              "#fb9f3a"
             ],
             [
              0.8888888888888888,
              "#fdca26"
             ],
             [
              1,
              "#f0f921"
             ]
            ],
            "type": "histogram2d"
           }
          ],
          "histogram2dcontour": [
           {
            "colorbar": {
             "outlinewidth": 0,
             "ticks": ""
            },
            "colorscale": [
             [
              0,
              "#0d0887"
             ],
             [
              0.1111111111111111,
              "#46039f"
             ],
             [
              0.2222222222222222,
              "#7201a8"
             ],
             [
              0.3333333333333333,
              "#9c179e"
             ],
             [
              0.4444444444444444,
              "#bd3786"
             ],
             [
              0.5555555555555556,
              "#d8576b"
             ],
             [
              0.6666666666666666,
              "#ed7953"
             ],
             [
              0.7777777777777778,
              "#fb9f3a"
             ],
             [
              0.8888888888888888,
              "#fdca26"
             ],
             [
              1,
              "#f0f921"
             ]
            ],
            "type": "histogram2dcontour"
           }
          ],
          "mesh3d": [
           {
            "colorbar": {
             "outlinewidth": 0,
             "ticks": ""
            },
            "type": "mesh3d"
           }
          ],
          "parcoords": [
           {
            "line": {
             "colorbar": {
              "outlinewidth": 0,
              "ticks": ""
             }
            },
            "type": "parcoords"
           }
          ],
          "pie": [
           {
            "automargin": true,
            "type": "pie"
           }
          ],
          "scatter": [
           {
            "fillpattern": {
             "fillmode": "overlay",
             "size": 10,
             "solidity": 0.2
            },
            "type": "scatter"
           }
          ],
          "scatter3d": [
           {
            "line": {
             "colorbar": {
              "outlinewidth": 0,
              "ticks": ""
             }
            },
            "marker": {
             "colorbar": {
              "outlinewidth": 0,
              "ticks": ""
             }
            },
            "type": "scatter3d"
           }
          ],
          "scattercarpet": [
           {
            "marker": {
             "colorbar": {
              "outlinewidth": 0,
              "ticks": ""
             }
            },
            "type": "scattercarpet"
           }
          ],
          "scattergeo": [
           {
            "marker": {
             "colorbar": {
              "outlinewidth": 0,
              "ticks": ""
             }
            },
            "type": "scattergeo"
           }
          ],
          "scattergl": [
           {
            "marker": {
             "colorbar": {
              "outlinewidth": 0,
              "ticks": ""
             }
            },
            "type": "scattergl"
           }
          ],
          "scattermapbox": [
           {
            "marker": {
             "colorbar": {
              "outlinewidth": 0,
              "ticks": ""
             }
            },
            "type": "scattermapbox"
           }
          ],
          "scatterpolar": [
           {
            "marker": {
             "colorbar": {
              "outlinewidth": 0,
              "ticks": ""
             }
            },
            "type": "scatterpolar"
           }
          ],
          "scatterpolargl": [
           {
            "marker": {
             "colorbar": {
              "outlinewidth": 0,
              "ticks": ""
             }
            },
            "type": "scatterpolargl"
           }
          ],
          "scatterternary": [
           {
            "marker": {
             "colorbar": {
              "outlinewidth": 0,
              "ticks": ""
             }
            },
            "type": "scatterternary"
           }
          ],
          "surface": [
           {
            "colorbar": {
             "outlinewidth": 0,
             "ticks": ""
            },
            "colorscale": [
             [
              0,
              "#0d0887"
             ],
             [
              0.1111111111111111,
              "#46039f"
             ],
             [
              0.2222222222222222,
              "#7201a8"
             ],
             [
              0.3333333333333333,
              "#9c179e"
             ],
             [
              0.4444444444444444,
              "#bd3786"
             ],
             [
              0.5555555555555556,
              "#d8576b"
             ],
             [
              0.6666666666666666,
              "#ed7953"
             ],
             [
              0.7777777777777778,
              "#fb9f3a"
             ],
             [
              0.8888888888888888,
              "#fdca26"
             ],
             [
              1,
              "#f0f921"
             ]
            ],
            "type": "surface"
           }
          ],
          "table": [
           {
            "cells": {
             "fill": {
              "color": "#EBF0F8"
             },
             "line": {
              "color": "white"
             }
            },
            "header": {
             "fill": {
              "color": "#C8D4E3"
             },
             "line": {
              "color": "white"
             }
            },
            "type": "table"
           }
          ]
         },
         "layout": {
          "annotationdefaults": {
           "arrowcolor": "#2a3f5f",
           "arrowhead": 0,
           "arrowwidth": 1
          },
          "autotypenumbers": "strict",
          "coloraxis": {
           "colorbar": {
            "outlinewidth": 0,
            "ticks": ""
           }
          },
          "colorscale": {
           "diverging": [
            [
             0,
             "#8e0152"
            ],
            [
             0.1,
             "#c51b7d"
            ],
            [
             0.2,
             "#de77ae"
            ],
            [
             0.3,
             "#f1b6da"
            ],
            [
             0.4,
             "#fde0ef"
            ],
            [
             0.5,
             "#f7f7f7"
            ],
            [
             0.6,
             "#e6f5d0"
            ],
            [
             0.7,
             "#b8e186"
            ],
            [
             0.8,
             "#7fbc41"
            ],
            [
             0.9,
             "#4d9221"
            ],
            [
             1,
             "#276419"
            ]
           ],
           "sequential": [
            [
             0,
             "#0d0887"
            ],
            [
             0.1111111111111111,
             "#46039f"
            ],
            [
             0.2222222222222222,
             "#7201a8"
            ],
            [
             0.3333333333333333,
             "#9c179e"
            ],
            [
             0.4444444444444444,
             "#bd3786"
            ],
            [
             0.5555555555555556,
             "#d8576b"
            ],
            [
             0.6666666666666666,
             "#ed7953"
            ],
            [
             0.7777777777777778,
             "#fb9f3a"
            ],
            [
             0.8888888888888888,
             "#fdca26"
            ],
            [
             1,
             "#f0f921"
            ]
           ],
           "sequentialminus": [
            [
             0,
             "#0d0887"
            ],
            [
             0.1111111111111111,
             "#46039f"
            ],
            [
             0.2222222222222222,
             "#7201a8"
            ],
            [
             0.3333333333333333,
             "#9c179e"
            ],
            [
             0.4444444444444444,
             "#bd3786"
            ],
            [
             0.5555555555555556,
             "#d8576b"
            ],
            [
             0.6666666666666666,
             "#ed7953"
            ],
            [
             0.7777777777777778,
             "#fb9f3a"
            ],
            [
             0.8888888888888888,
             "#fdca26"
            ],
            [
             1,
             "#f0f921"
            ]
           ]
          },
          "colorway": [
           "#636efa",
           "#EF553B",
           "#00cc96",
           "#ab63fa",
           "#FFA15A",
           "#19d3f3",
           "#FF6692",
           "#B6E880",
           "#FF97FF",
           "#FECB52"
          ],
          "font": {
           "color": "#2a3f5f"
          },
          "geo": {
           "bgcolor": "white",
           "lakecolor": "white",
           "landcolor": "#E5ECF6",
           "showlakes": true,
           "showland": true,
           "subunitcolor": "white"
          },
          "hoverlabel": {
           "align": "left"
          },
          "hovermode": "closest",
          "mapbox": {
           "style": "light"
          },
          "paper_bgcolor": "white",
          "plot_bgcolor": "#E5ECF6",
          "polar": {
           "angularaxis": {
            "gridcolor": "white",
            "linecolor": "white",
            "ticks": ""
           },
           "bgcolor": "#E5ECF6",
           "radialaxis": {
            "gridcolor": "white",
            "linecolor": "white",
            "ticks": ""
           }
          },
          "scene": {
           "xaxis": {
            "backgroundcolor": "#E5ECF6",
            "gridcolor": "white",
            "gridwidth": 2,
            "linecolor": "white",
            "showbackground": true,
            "ticks": "",
            "zerolinecolor": "white"
           },
           "yaxis": {
            "backgroundcolor": "#E5ECF6",
            "gridcolor": "white",
            "gridwidth": 2,
            "linecolor": "white",
            "showbackground": true,
            "ticks": "",
            "zerolinecolor": "white"
           },
           "zaxis": {
            "backgroundcolor": "#E5ECF6",
            "gridcolor": "white",
            "gridwidth": 2,
            "linecolor": "white",
            "showbackground": true,
            "ticks": "",
            "zerolinecolor": "white"
           }
          },
          "shapedefaults": {
           "line": {
            "color": "#2a3f5f"
           }
          },
          "ternary": {
           "aaxis": {
            "gridcolor": "white",
            "linecolor": "white",
            "ticks": ""
           },
           "baxis": {
            "gridcolor": "white",
            "linecolor": "white",
            "ticks": ""
           },
           "bgcolor": "#E5ECF6",
           "caxis": {
            "gridcolor": "white",
            "linecolor": "white",
            "ticks": ""
           }
          },
          "title": {
           "x": 0.05
          },
          "xaxis": {
           "automargin": true,
           "gridcolor": "white",
           "linecolor": "white",
           "ticks": "",
           "title": {
            "standoff": 15
           },
           "zerolinecolor": "white",
           "zerolinewidth": 2
          },
          "yaxis": {
           "automargin": true,
           "gridcolor": "white",
           "linecolor": "white",
           "ticks": "",
           "title": {
            "standoff": 15
           },
           "zerolinecolor": "white",
           "zerolinewidth": 2
          }
         }
        },
        "width": 800,
        "xaxis": {
         "title": {
          "text": "Year"
         }
        },
        "yaxis": {
         "title": {
          "text": "Population"
         }
        }
       }
      }
     },
     "metadata": {},
     "output_type": "display_data"
    }
   ],
   "source": [
    "age_totals_gen = age_totals.groupby('year').sum().reset_index()\n",
    "# 각 세대별 총 인구수 계산 및 정렬\n",
    "total_pop = age_totals_gen.drop(columns='year').sum().sort_values(ascending=False)\n",
    "sorted_columns = total_pop.index.tolist()\n",
    "\n",
    "# 각 세대별로 데이터를 분리하여 선과 마커를 동시에 표시하는 그래프 생성\n",
    "fig = go.Figure()\n",
    "\n",
    "for column in sorted_columns:  # 'year' 열을 제외한 각 세대별 열에 대해 반복\n",
    "    fig.add_trace(go.Scatter(\n",
    "        x=age_totals_gen['year'], \n",
    "        y=age_totals_gen[column], \n",
    "        mode='lines+markers', \n",
    "        name=column\n",
    "    ))\n",
    "# 색상 업데이트\n",
    "colors =px.colors.sequential.Plasma # 컬러맵\n",
    "for i, trace in enumerate(fig.data):\n",
    "    trace.line.color = colors[i % len(colors)]\n",
    "# 그래프 레이아웃 설정\n",
    "fig.update_layout(\n",
    "    xaxis_title='Year',\n",
    "    yaxis_title='Population',\n",
    "    width=800,\n",
    "    height=600\n",
    ")\n",
    "\n",
    "# 그래프 시각화\n",
    "fig.show()"
   ]
  },
  {
   "cell_type": "markdown",
   "metadata": {},
   "source": [
    "#### 거주인구 성별 & 세대 구분한 데이터 생성"
   ]
  },
  {
   "cell_type": "code",
   "execution_count": 15,
   "metadata": {},
   "outputs": [],
   "source": [
    "gengen_respop = grid_respop[['gid'] + list(grid_respop.columns[2:20])]\n",
    "gengen_respop = gengen_respop.groupby('gid').mean().reset_index()\n",
    "\n",
    "# 격자 ID와 격자 폴리곤 각각을 매핑한 딕셔너리 생성\n",
    "map_dic = dict(zip(grid_map_df['properties.gid'], grid_map_df['geometry']))\n",
    "\n",
    "# 생성된 map_dic에 filtered_respop의 gid를 매핑하여 'geometry' column 생성\n",
    "geometry_lst = []\n",
    "for _, row in gengen_respop.iterrows():\n",
    "    geometry_lst.append(map_dic[row['gid']])\n",
    "gengen_respop['geometry'] = geometry_lst\n",
    "gengen_respop = gpd.GeoDataFrame(gengen_respop, geometry='geometry')"
   ]
  },
  {
   "cell_type": "markdown",
   "metadata": {},
   "source": [
    "#### 세대별 유동인구"
   ]
  },
  {
   "cell_type": "code",
   "execution_count": 16,
   "metadata": {},
   "outputs": [
    {
     "name": "stderr",
     "output_type": "stream",
     "text": [
      "100%|██████████| 718320/718320 [00:27<00:00, 26434.87it/s]\n",
      "c:\\Users\\user\\anaconda3\\envs\\GIS\\lib\\site-packages\\pyproj\\crs\\crs.py:141: FutureWarning:\n",
      "\n",
      "'+init=<authority>:<code>' syntax is deprecated. '<authority>:<code>' is the preferred initialization method. When making the change, be mindful of axis order changes: https://pyproj4.github.io/pyproj/stable/gotchas.html#axis-order-changes-in-proj-6\n",
      "\n",
      "c:\\Users\\user\\anaconda3\\envs\\GIS\\lib\\site-packages\\pyproj\\crs\\crs.py:141: FutureWarning:\n",
      "\n",
      "'+init=<authority>:<code>' syntax is deprecated. '<authority>:<code>' is the preferred initialization method. When making the change, be mindful of axis order changes: https://pyproj4.github.io/pyproj/stable/gotchas.html#axis-order-changes-in-proj-6\n",
      "\n",
      "c:\\Users\\user\\anaconda3\\envs\\GIS\\lib\\site-packages\\IPython\\core\\interactiveshell.py:3445: FutureWarning:\n",
      "\n",
      "The `op` parameter is deprecated and will be removed in a future release. Please use the `predicate` parameter instead.\n",
      "\n",
      "C:\\Users\\user\\AppData\\Local\\Temp\\ipykernel_7852\\3580893474.py:19: UserWarning:\n",
      "\n",
      "CRS mismatch between the CRS of left geometries and the CRS of right geometries.\n",
      "Use `to_crs()` to reproject one of the input geometries to match the CRS of the other.\n",
      "\n",
      "Left CRS: +init=epsg:4326 +type=crs\n",
      "Right CRS: None\n",
      "\n",
      "\n"
     ]
    }
   ],
   "source": [
    "# 유동인구 df 로드\n",
    "floating_population_df = pd.read_csv('SBJ_2411_001/2-8.하남시_성연령별_유동인구.csv')\n",
    "floating_population_df['STD_YM'] = floating_population_df['STD_YM'].astype(str)\n",
    "\n",
    "# 성별구분 없이 통합 및 세대별 인구수 데이터프레임으로 변환\n",
    "columns = ['year']\n",
    "for i in range(1, 13):\n",
    "    floating_population_df[floating_population_df.columns[i]] = floating_population_df[floating_population_df.columns[i]].astype(float)\n",
    "    new_col = f'{floating_population_df.columns[i][2:4]}대_남' if floating_population_df.columns[i][0] != 'm' else f'{floating_population_df.columns[i][2:4]}대_여'\n",
    "    columns.append(new_col)\n",
    "floating_population_df.columns = columns + floating_population_df.columns[13:15].tolist()\n",
    "floating_population_df['총합'] = floating_population_df.iloc[:, 1:-3].sum(axis=1)\n",
    "floating_population_df['year'] = floating_population_df['year'].apply(lambda x : x[2:])\n",
    "floating_population_df = geo_transform(floating_population_df)\n",
    "\n",
    "col_lst = ['year'] + list(floating_population_df.columns[-1:]) + list(floating_population_df.columns[1:13]) + ['총합']\n",
    "floating_population_df = floating_population_df[col_lst]\n",
    "\n",
    "merged_gdf = gpd.sjoin(floating_population_df, grid_map_df, how='inner', op='within')\n",
    "\n",
    "merged_gdf['year'] = \"20\" + merged_gdf['year'].astype(str).str[:2]\n",
    "merged_gdf['year'] = merged_gdf['year'].astype(int)\n",
    "\n",
    "aggregated_data = merged_gdf.groupby(['year', 'properties.gid'], as_index=False).agg({\n",
    "    '10대_여': 'sum',\n",
    "    '20대_여': 'sum',\n",
    "    '30대_여': 'sum',\n",
    "    '40대_여': 'sum',\n",
    "    '50대_여': 'sum',\n",
    "    '60대_여': 'sum',\n",
    "    '10대_남': 'sum',\n",
    "    '20대_남': 'sum',\n",
    "    '30대_남': 'sum',\n",
    "    '40대_남': 'sum',\n",
    "    '50대_남': 'sum',\n",
    "    '60대_남': 'sum',\n",
    "    '총합': 'sum',\n",
    "})\n",
    "aggregated_data['geometry'] = aggregated_data['properties.gid'].map(grid_dict)\n",
    "aggregated_data = gpd.GeoDataFrame(aggregated_data, geometry='geometry')"
   ]
  },
  {
   "cell_type": "code",
   "execution_count": 17,
   "metadata": {},
   "outputs": [
    {
     "name": "stderr",
     "output_type": "stream",
     "text": [
      "100%|██████████| 7808/7808 [02:14<00:00, 58.01it/s]\n"
     ]
    }
   ],
   "source": [
    "from sklearn.tree import DecisionTreeRegressor\n",
    "\n",
    "# 결과를 저장할 리스트 초기화\n",
    "filled_rows = []\n",
    "\n",
    "# properties.gid별로 데이터 그룹화\n",
    "for gid, group in tqdm(aggregated_data.groupby('properties.gid')):\n",
    "    group = group.sort_values(by='year')  # 연도 정렬\n",
    "    full_years = np.arange(2020, 2024)  # 2020~2023 연도 생성\n",
    "\n",
    "    # 입력 변수 (X: 기존 연도), 출력 변수 (y: 나머지 데이터)\n",
    "    X = group[['year']].values\n",
    "    y = group[['10대_여', '20대_여', '30대_여', '40대_여', '50대_여', '60대_여',\n",
    "               '10대_남', '20대_남', '30대_남', '40대_남', '50대_남', '60대_남', '총합']].values\n",
    "\n",
    "    # Decision Tree Regressor 초기화\n",
    "    model = DecisionTreeRegressor(random_state=42)\n",
    "\n",
    "    # 다중 출력 예측을 위한 컬럼별 개별 학습\n",
    "    y_pred_group = []\n",
    "    for col_idx in range(y.shape[1]):\n",
    "        model.fit(X, y[:, col_idx])  # 각 열에 대해 개별 학습\n",
    "        predictions = model.predict(full_years.reshape(-1, 1))  # 2020~2023 데이터 예측\n",
    "        predictions = np.maximum(predictions, 0)  # 음수값을 0으로 치환\n",
    "        y_pred_group.append(predictions)\n",
    "\n",
    "    # 예측 결과 결합\n",
    "    y_pred_group = np.column_stack(y_pred_group)\n",
    "\n",
    "    # 기존 데이터와 예측된 데이터를 결합하여 누락된 연도 채우기\n",
    "    pred_df = pd.DataFrame(y_pred_group, columns=['10대_여', '20대_여', '30대_여', '40대_여', '50대_여', '60대_여',\n",
    "                                                  '10대_남', '20대_남', '30대_남', '40대_남', '50대_남', '60대_남', '총합'])\n",
    "    pred_df['year'] = full_years\n",
    "    pred_df['properties.gid'] = gid\n",
    "    pred_df['geometry'] = group['geometry'].iloc[0]  # geometry 값 복사\n",
    "\n",
    "    # 결과 저장\n",
    "    filled_rows.append(pred_df)\n",
    "\n",
    "# 모든 결과를 하나의 데이터프레임으로 결합\n",
    "filled_data = pd.concat(filled_rows, ignore_index=True)\n",
    "\n",
    "# 기존 데이터와 병합\n",
    "complete_data = pd.concat([aggregated_data, filled_data], ignore_index=True)\n",
    "\n",
    "# 중복 제거 및 정렬\n",
    "complete_data = complete_data.drop_duplicates(subset=['year', 'properties.gid']).sort_values(by=['properties.gid', 'year'])"
   ]
  },
  {
   "cell_type": "code",
   "execution_count": 18,
   "metadata": {},
   "outputs": [
    {
     "data": {
      "image/png": "[encoded data removed]",
      "text/plain": [
       "<Figure size 1200x800 with 1 Axes>"
      ]
     },
     "metadata": {},
     "output_type": "display_data"
    }
   ],
   "source": [
    "from sklearn.tree import plot_tree\n",
    "import matplotlib.pyplot as plt\n",
    "\n",
    "# 특정 그룹(gid)과 특정 열(col_idx)의 트리를 시각화\n",
    "gid = aggregated_data['properties.gid'].iloc[0]  # 첫 번째 gid 선택\n",
    "group = aggregated_data[aggregated_data['properties.gid'] == gid].sort_values(by='year')\n",
    "X = group[['year']].values\n",
    "y = group[['10대_여']].values  # '10대_여' 열 선택\n",
    "\n",
    "# Decision Tree Regressor 초기화 및 학습\n",
    "model = DecisionTreeRegressor(random_state=42)\n",
    "model.fit(X, y)\n",
    "\n",
    "# 트리 시각화\n",
    "plt.figure(figsize=(12, 8))\n",
    "plot_tree(model, feature_names=['year'], filled=True, rounded=True)\n",
    "plt.show()\n"
   ]
  },
  {
   "cell_type": "code",
   "execution_count": 19,
   "metadata": {},
   "outputs": [
    {
     "data": {
      "image/png": "[encoded data removed]",
      "text/plain": [
       "<Figure size 1000x600 with 1 Axes>"
      ]
     },
     "metadata": {},
     "output_type": "display_data"
    }
   ],
   "source": [
    "# data target 관계 시각화\n",
    "gid = aggregated_data['properties.gid'].iloc[0]  # 첫 번째 gid 선택\n",
    "group = aggregated_data[aggregated_data['properties.gid'] == gid].sort_values(by='year')\n",
    "X = group[['year']].values\n",
    "y = group[['10대_여']].values  # '10대_여' 열 선택\n",
    "\n",
    "# Decision Tree Regressor 초기화 및 학습\n",
    "model = DecisionTreeRegressor(random_state=42)\n",
    "model.fit(X, y)\n",
    "\n",
    "# 2020~2023 연도에 대한 예측\n",
    "full_years = np.arange(2020, 2024).reshape(-1, 1)\n",
    "y_pred = model.predict(full_years)\n",
    "\n",
    "# 시각화\n",
    "plt.figure(figsize=(10, 6))\n",
    "\n",
    "# 원본 데이터 (실제 값)\n",
    "plt.scatter(X, y, color='blue', label='Actual Data', zorder=3)\n",
    "\n",
    "# 예측 데이터\n",
    "plt.plot(full_years, y_pred, color='red', marker='o', linestyle='-', label='Predicted', zorder=2)\n",
    "\n",
    "# 그래프 설정\n",
    "plt.xlabel('Year')\n",
    "plt.ylabel('10_gen_female')\n",
    "plt.xticks(np.arange(2020, 2024))\n",
    "plt.legend()\n",
    "plt.grid(True, linestyle='--', alpha=0.6)\n",
    "plt.show()"
   ]
  },
  {
   "cell_type": "code",
   "execution_count": 20,
   "metadata": {},
   "outputs": [
    {
     "data": {
      "text/html": [
       "<div>\n",
       "<style scoped>\n",
       "    .dataframe tbody tr th:only-of-type {\n",
       "        vertical-align: middle;\n",
       "    }\n",
       "\n",
       "    .dataframe tbody tr th {\n",
       "        vertical-align: top;\n",
       "    }\n",
       "\n",
       "    .dataframe thead th {\n",
       "        text-align: right;\n",
       "    }\n",
       "</style>\n",
       "<table border=\"1\" class=\"dataframe\">\n",
       "  <thead>\n",
       "    <tr style=\"text-align: right;\">\n",
       "      <th></th>\n",
       "      <th>year</th>\n",
       "      <th>properties.gid</th>\n",
       "      <th>10대_여</th>\n",
       "      <th>20대_여</th>\n",
       "      <th>30대_여</th>\n",
       "      <th>40대_여</th>\n",
       "      <th>50대_여</th>\n",
       "      <th>60대_여</th>\n",
       "      <th>10대_남</th>\n",
       "      <th>20대_남</th>\n",
       "      <th>30대_남</th>\n",
       "      <th>40대_남</th>\n",
       "      <th>50대_남</th>\n",
       "      <th>60대_남</th>\n",
       "      <th>총합</th>\n",
       "      <th>geometry</th>\n",
       "    </tr>\n",
       "  </thead>\n",
       "  <tbody>\n",
       "    <tr>\n",
       "      <th>0</th>\n",
       "      <td>2020</td>\n",
       "      <td>다사682452</td>\n",
       "      <td>13.48</td>\n",
       "      <td>36.32</td>\n",
       "      <td>102.95</td>\n",
       "      <td>146.10</td>\n",
       "      <td>146.57</td>\n",
       "      <td>123.49</td>\n",
       "      <td>13.47</td>\n",
       "      <td>21.83</td>\n",
       "      <td>45.71</td>\n",
       "      <td>59.30</td>\n",
       "      <td>59.80</td>\n",
       "      <td>50.19</td>\n",
       "      <td>769.02</td>\n",
       "      <td>POLYGON ((127.14021 37.50552, 127.14020 37.506...</td>\n",
       "    </tr>\n",
       "    <tr>\n",
       "      <th>6448</th>\n",
       "      <td>2021</td>\n",
       "      <td>다사682452</td>\n",
       "      <td>10.27</td>\n",
       "      <td>29.63</td>\n",
       "      <td>82.85</td>\n",
       "      <td>121.73</td>\n",
       "      <td>124.65</td>\n",
       "      <td>116.52</td>\n",
       "      <td>9.94</td>\n",
       "      <td>17.83</td>\n",
       "      <td>37.58</td>\n",
       "      <td>51.93</td>\n",
       "      <td>50.58</td>\n",
       "      <td>46.40</td>\n",
       "      <td>653.51</td>\n",
       "      <td>POLYGON ((127.14021 37.50552, 127.14020 37.506...</td>\n",
       "    </tr>\n",
       "    <tr>\n",
       "      <th>13960</th>\n",
       "      <td>2022</td>\n",
       "      <td>다사682452</td>\n",
       "      <td>17.55</td>\n",
       "      <td>24.95</td>\n",
       "      <td>63.14</td>\n",
       "      <td>101.82</td>\n",
       "      <td>101.36</td>\n",
       "      <td>107.18</td>\n",
       "      <td>17.55</td>\n",
       "      <td>18.78</td>\n",
       "      <td>35.77</td>\n",
       "      <td>52.83</td>\n",
       "      <td>50.63</td>\n",
       "      <td>57.87</td>\n",
       "      <td>591.56</td>\n",
       "      <td>POLYGON ((127.14021 37.50552, 127.14020 37.506...</td>\n",
       "    </tr>\n",
       "    <tr>\n",
       "      <th>21359</th>\n",
       "      <td>2023</td>\n",
       "      <td>다사682452</td>\n",
       "      <td>17.55</td>\n",
       "      <td>24.95</td>\n",
       "      <td>63.14</td>\n",
       "      <td>101.82</td>\n",
       "      <td>101.36</td>\n",
       "      <td>107.18</td>\n",
       "      <td>17.55</td>\n",
       "      <td>18.78</td>\n",
       "      <td>35.77</td>\n",
       "      <td>52.83</td>\n",
       "      <td>50.63</td>\n",
       "      <td>57.87</td>\n",
       "      <td>591.56</td>\n",
       "      <td>POLYGON ((127.14021 37.50552, 127.14020 37.506...</td>\n",
       "    </tr>\n",
       "    <tr>\n",
       "      <th>1</th>\n",
       "      <td>2020</td>\n",
       "      <td>다사682454</td>\n",
       "      <td>4.52</td>\n",
       "      <td>12.54</td>\n",
       "      <td>35.59</td>\n",
       "      <td>50.78</td>\n",
       "      <td>54.56</td>\n",
       "      <td>48.68</td>\n",
       "      <td>4.49</td>\n",
       "      <td>7.98</td>\n",
       "      <td>17.14</td>\n",
       "      <td>21.99</td>\n",
       "      <td>23.56</td>\n",
       "      <td>19.71</td>\n",
       "      <td>281.83</td>\n",
       "      <td>POLYGON ((127.14020 37.50733, 127.14019 37.508...</td>\n",
       "    </tr>\n",
       "    <tr>\n",
       "      <th>...</th>\n",
       "      <td>...</td>\n",
       "      <td>...</td>\n",
       "      <td>...</td>\n",
       "      <td>...</td>\n",
       "      <td>...</td>\n",
       "      <td>...</td>\n",
       "      <td>...</td>\n",
       "      <td>...</td>\n",
       "      <td>...</td>\n",
       "      <td>...</td>\n",
       "      <td>...</td>\n",
       "      <td>...</td>\n",
       "      <td>...</td>\n",
       "      <td>...</td>\n",
       "      <td>...</td>\n",
       "      <td>...</td>\n",
       "    </tr>\n",
       "    <tr>\n",
       "      <th>52583</th>\n",
       "      <td>2023</td>\n",
       "      <td>다사809466</td>\n",
       "      <td>0.47</td>\n",
       "      <td>0.85</td>\n",
       "      <td>2.17</td>\n",
       "      <td>3.05</td>\n",
       "      <td>3.62</td>\n",
       "      <td>6.10</td>\n",
       "      <td>0.54</td>\n",
       "      <td>0.93</td>\n",
       "      <td>1.64</td>\n",
       "      <td>2.43</td>\n",
       "      <td>3.02</td>\n",
       "      <td>4.69</td>\n",
       "      <td>24.82</td>\n",
       "      <td>POLYGON ((127.28386 37.51849, 127.28386 37.519...</td>\n",
       "    </tr>\n",
       "    <tr>\n",
       "      <th>6447</th>\n",
       "      <td>2020</td>\n",
       "      <td>다사810465</td>\n",
       "      <td>1.48</td>\n",
       "      <td>3.13</td>\n",
       "      <td>6.16</td>\n",
       "      <td>8.95</td>\n",
       "      <td>10.98</td>\n",
       "      <td>12.57</td>\n",
       "      <td>1.64</td>\n",
       "      <td>2.85</td>\n",
       "      <td>4.97</td>\n",
       "      <td>6.20</td>\n",
       "      <td>8.37</td>\n",
       "      <td>9.43</td>\n",
       "      <td>67.30</td>\n",
       "      <td>POLYGON ((127.28499 37.51759, 127.28499 37.518...</td>\n",
       "    </tr>\n",
       "    <tr>\n",
       "      <th>13959</th>\n",
       "      <td>2021</td>\n",
       "      <td>다사810465</td>\n",
       "      <td>2.87</td>\n",
       "      <td>6.01</td>\n",
       "      <td>12.34</td>\n",
       "      <td>17.89</td>\n",
       "      <td>22.10</td>\n",
       "      <td>27.85</td>\n",
       "      <td>2.88</td>\n",
       "      <td>5.16</td>\n",
       "      <td>9.32</td>\n",
       "      <td>12.72</td>\n",
       "      <td>16.97</td>\n",
       "      <td>20.45</td>\n",
       "      <td>136.11</td>\n",
       "      <td>POLYGON ((127.28499 37.51759, 127.28499 37.518...</td>\n",
       "    </tr>\n",
       "    <tr>\n",
       "      <th>21355</th>\n",
       "      <td>2022</td>\n",
       "      <td>다사810465</td>\n",
       "      <td>1.45</td>\n",
       "      <td>3.19</td>\n",
       "      <td>6.00</td>\n",
       "      <td>8.74</td>\n",
       "      <td>10.26</td>\n",
       "      <td>13.73</td>\n",
       "      <td>1.64</td>\n",
       "      <td>2.69</td>\n",
       "      <td>4.74</td>\n",
       "      <td>7.13</td>\n",
       "      <td>8.16</td>\n",
       "      <td>11.12</td>\n",
       "      <td>67.73</td>\n",
       "      <td>POLYGON ((127.28499 37.51759, 127.28499 37.518...</td>\n",
       "    </tr>\n",
       "    <tr>\n",
       "      <th>52587</th>\n",
       "      <td>2023</td>\n",
       "      <td>다사810465</td>\n",
       "      <td>1.45</td>\n",
       "      <td>3.19</td>\n",
       "      <td>6.00</td>\n",
       "      <td>8.74</td>\n",
       "      <td>10.26</td>\n",
       "      <td>13.73</td>\n",
       "      <td>1.64</td>\n",
       "      <td>2.69</td>\n",
       "      <td>4.74</td>\n",
       "      <td>7.13</td>\n",
       "      <td>8.16</td>\n",
       "      <td>11.12</td>\n",
       "      <td>67.73</td>\n",
       "      <td>POLYGON ((127.28499 37.51759, 127.28499 37.518...</td>\n",
       "    </tr>\n",
       "  </tbody>\n",
       "</table>\n",
       "<p>31232 rows × 16 columns</p>\n",
       "</div>"
      ],
      "text/plain": [
       "       year properties.gid  10대_여  20대_여   30대_여   40대_여   50대_여   60대_여  \\\n",
       "0      2020       다사682452  13.48  36.32  102.95  146.10  146.57  123.49   \n",
       "6448   2021       다사682452  10.27  29.63   82.85  121.73  124.65  116.52   \n",
       "13960  2022       다사682452  17.55  24.95   63.14  101.82  101.36  107.18   \n",
       "21359  2023       다사682452  17.55  24.95   63.14  101.82  101.36  107.18   \n",
       "1      2020       다사682454   4.52  12.54   35.59   50.78   54.56   48.68   \n",
       "...     ...            ...    ...    ...     ...     ...     ...     ...   \n",
       "52583  2023       다사809466   0.47   0.85    2.17    3.05    3.62    6.10   \n",
       "6447   2020       다사810465   1.48   3.13    6.16    8.95   10.98   12.57   \n",
       "13959  2021       다사810465   2.87   6.01   12.34   17.89   22.10   27.85   \n",
       "21355  2022       다사810465   1.45   3.19    6.00    8.74   10.26   13.73   \n",
       "52587  2023       다사810465   1.45   3.19    6.00    8.74   10.26   13.73   \n",
       "\n",
       "       10대_남  20대_남  30대_남  40대_남  50대_남  60대_남      총합  \\\n",
       "0      13.47  21.83  45.71  59.30  59.80  50.19  769.02   \n",
       "6448    9.94  17.83  37.58  51.93  50.58  46.40  653.51   \n",
       "13960  17.55  18.78  35.77  52.83  50.63  57.87  591.56   \n",
       "21359  17.55  18.78  35.77  52.83  50.63  57.87  591.56   \n",
       "1       4.49   7.98  17.14  21.99  23.56  19.71  281.83   \n",
       "...      ...    ...    ...    ...    ...    ...     ...   \n",
       "52583   0.54   0.93   1.64   2.43   3.02   4.69   24.82   \n",
       "6447    1.64   2.85   4.97   6.20   8.37   9.43   67.30   \n",
       "13959   2.88   5.16   9.32  12.72  16.97  20.45  136.11   \n",
       "21355   1.64   2.69   4.74   7.13   8.16  11.12   67.73   \n",
       "52587   1.64   2.69   4.74   7.13   8.16  11.12   67.73   \n",
       "\n",
       "                                                geometry  \n",
       "0      POLYGON ((127.14021 37.50552, 127.14020 37.506...  \n",
       "6448   POLYGON ((127.14021 37.50552, 127.14020 37.506...  \n",
       "13960  POLYGON ((127.14021 37.50552, 127.14020 37.506...  \n",
       "21359  POLYGON ((127.14021 37.50552, 127.14020 37.506...  \n",
       "1      POLYGON ((127.14020 37.50733, 127.14019 37.508...  \n",
       "...                                                  ...  \n",
       "52583  POLYGON ((127.28386 37.51849, 127.28386 37.519...  \n",
       "6447   POLYGON ((127.28499 37.51759, 127.28499 37.518...  \n",
       "13959  POLYGON ((127.28499 37.51759, 127.28499 37.518...  \n",
       "21355  POLYGON ((127.28499 37.51759, 127.28499 37.518...  \n",
       "52587  POLYGON ((127.28499 37.51759, 127.28499 37.518...  \n",
       "\n",
       "[31232 rows x 16 columns]"
      ]
     },
     "execution_count": 20,
     "metadata": {},
     "output_type": "execute_result"
    }
   ],
   "source": [
    "complete_data"
   ]
  },
  {
   "cell_type": "code",
   "execution_count": null,
   "metadata": {},
   "outputs": [],
   "source": [
    "# 맵 객체 생성 및 데이터 로드\n",
    "floatingpop_map = KeplerGl(height=1000, width=1500)\n",
    "floatingpop_map.add_data(data=complete_data, name=\"유동인구 데이터\")\n",
    "\n",
    "floatingpop_map"
   ]
  },
  {
   "cell_type": "code",
   "execution_count": 23,
   "metadata": {},
   "outputs": [
    {
     "name": "stdout",
     "output_type": "stream",
     "text": [
      "Map saved to visualization/하남시 현황/하남시 세대별 유동인구 map.html!\n"
     ]
    }
   ],
   "source": [
    "# 맵 저장\n",
    "floatingpop_map.save_to_html(file_name=\"visualization/하남시 현황/하남시 세대별 유동인구 map.html\")"
   ]
  },
  {
   "cell_type": "markdown",
   "metadata": {},
   "source": [
    "#### 공유차량 이용현황"
   ]
  },
  {
   "cell_type": "code",
   "execution_count": 24,
   "metadata": {},
   "outputs": [],
   "source": [
    "sharecar_df = pd.read_csv('SBJ_2411_001/2-11.하남시_공유차량_이용현황.csv')\n",
    "cols_to_exclude = ['car_type', 'car_cnt', 'car_type']  # 제외할 열\n",
    "columns_to_fill = [col for col in sharecar_df.columns if col not in cols_to_exclude]\n",
    "sharecar_df[columns_to_fill] = sharecar_df[columns_to_fill].fillna(0)\n",
    "sharecar_df['car_type'] = sharecar_df['car_type'].fillna(\"\")\n",
    "\n",
    "from sklearn.linear_model import LinearRegression\n",
    "\n",
    "train_data = sharecar_df.dropna(subset=['car_cnt', 'total_cnt', 'total_tm'])  # 세 열 모두 값이 있는 데이터\n",
    "test_data = sharecar_df[sharecar_df['car_cnt'].isna()]  # car_cnt가 결측인 데이터\n",
    "\n",
    "X_train = train_data[['total_cnt', 'total_tm']]  # 독립 변수\n",
    "y_train = train_data['car_cnt']  # 종속 변수\n",
    "\n",
    "model = LinearRegression()\n",
    "model.fit(X_train, y_train)\n",
    "\n",
    "if not test_data.empty:\n",
    "    X_test = test_data[['total_cnt', 'total_tm']]\n",
    "    predicted_car_cnt = model.predict(X_test) \n",
    "    predicted_car_cnt = np.maximum(predicted_car_cnt, 1)\n",
    "    sharecar_df.loc[test_data.index, 'car_cnt'] = predicted_car_cnt.astype(int)\n",
    "\n",
    "for col in columns_to_fill:\n",
    "    if sharecar_df[col].dtype in ['float64', 'int64']:\n",
    "        sharecar_df[col] = sharecar_df[col].astype(int)\n",
    "sharecar_df[\"car_cnt\"] = sharecar_df[\"car_cnt\"].astype(int)\n",
    "\n",
    "\n",
    "last_two_cols = sharecar_df.columns[-2:].tolist()\n",
    "new_columns = list(sharecar_df.columns)\n",
    "new_columns = [col for col in new_columns if col not in last_two_cols] \n",
    "new_columns[2:2] = last_two_cols \n",
    "sharecar_df = sharecar_df[new_columns]"
   ]
  },
  {
   "cell_type": "code",
   "execution_count": null,
   "metadata": {},
   "outputs": [
    {
     "name": "stderr",
     "output_type": "stream",
     "text": [
      "100%|██████████| 16/16 [00:00<00:00, 7796.10it/s]\n",
      "c:\\Users\\user\\anaconda3\\envs\\GIS\\lib\\site-packages\\pyproj\\crs\\crs.py:141: FutureWarning:\n",
      "\n",
      "'+init=<authority>:<code>' syntax is deprecated. '<authority>:<code>' is the preferred initialization method. When making the change, be mindful of axis order changes: https://pyproj4.github.io/pyproj/stable/gotchas.html#axis-order-changes-in-proj-6\n",
      "\n",
      "c:\\Users\\user\\anaconda3\\envs\\GIS\\lib\\site-packages\\pyproj\\crs\\crs.py:141: FutureWarning:\n",
      "\n",
      "'+init=<authority>:<code>' syntax is deprecated. '<authority>:<code>' is the preferred initialization method. When making the change, be mindful of axis order changes: https://pyproj4.github.io/pyproj/stable/gotchas.html#axis-order-changes-in-proj-6\n",
      "\n",
      "c:\\Users\\user\\anaconda3\\envs\\GIS\\lib\\site-packages\\IPython\\core\\interactiveshell.py:3445: FutureWarning:\n",
      "\n",
      "The `op` parameter is deprecated and will be removed in a future release. Please use the `predicate` parameter instead.\n",
      "\n",
      "C:\\Users\\user\\AppData\\Local\\Temp\\ipykernel_7852\\2733190203.py:48: UserWarning:\n",
      "\n",
      "CRS mismatch between the CRS of left geometries and the CRS of right geometries.\n",
      "Use `to_crs()` to reproject one of the input geometries to match the CRS of the other.\n",
      "\n",
      "Left CRS: +init=epsg:4326 +type=crs\n",
      "Right CRS: None\n",
      "\n",
      "\n"
     ]
    }
   ],
   "source": [
    "sharehouse_df = pd.read_csv('SBJ_2411_001/2-12.공공주택임대_정보(하남시).csv')\n",
    "\n",
    "# 그룹화 및 처리 함수 정의\n",
    "def process_matching_rows(group):\n",
    "    # 첫 번째와 두 번째 열: 같은 값이므로 하나의 값 선택\n",
    "    col1_value = group.iloc[0, 0]  # 첫 번째 열\n",
    "    col2_value = group.iloc[0, 1]  # 두 번째 열\n",
    "\n",
    "    # 세 번째 열: ','로 구분해 값 결합\n",
    "    col3_combined = \",\".join(group.iloc[:, 2].astype(str).unique())  # 세 번째 열\n",
    "\n",
    "    # 네 번째와 다섯 번째 열: 숫자 합산\n",
    "    col4_sum = group.iloc[:, 3].sum()  # 네 번째 열\n",
    "    col5_sum = group.iloc[:, 4].sum()  # 다섯 번째 열\n",
    "\n",
    "    # 여섯 번째와 일곱 번째 열: 같은 값이므로 하나의 값 선택\n",
    "    col6_value = group.iloc[0, 5]  # 여섯 번째 열\n",
    "    col7_value = group.iloc[0, 6]  # 일곱 번째 열\n",
    "\n",
    "    return pd.Series([col1_value, col2_value, col3_combined, col4_sum, col5_sum, col6_value, col7_value])\n",
    "\n",
    "# sharehouse_df를 blck_cd 기준으로 그룹화하고 처리\n",
    "processed_sharehouse = (\n",
    "    sharehouse_df.groupby(\"blck_cd\").apply(process_matching_rows)\n",
    ")\n",
    "\n",
    "# 열 이름 재설정\n",
    "processed_sharehouse.columns = [\n",
    "    \"col1_value\", \"col2_value\", \"col3_combined\", \"col4_sum\", \"col5_sum\", \"col6_value\", \"col7_value\"\n",
    "]\n",
    "\n",
    "# sharecar_df와 병합\n",
    "merged_df = pd.merge(sharecar_df, processed_sharehouse, on=\"blck_cd\", how=\"left\")\n",
    "merged_df = merged_df.iloc[:,2:]\n",
    "new_column_names = sharehouse_df.columns\n",
    "merged_df.columns = list(merged_df.columns[:-7]) + list(new_column_names)\n",
    "merged_df = geo_transform(merged_df)\n",
    "last_8_columns = merged_df.columns[-8:]\n",
    "remaining_columns = merged_df.columns[:-8]\n",
    "\n",
    "merged_df = merged_df[list(last_8_columns) + list(remaining_columns)]\n",
    "merged_df['parking_slot'] = merged_df['parking_slot'].fillna(0)\n",
    "merged_df['parking_slot'] = merged_df['parking_slot'].astype(int)\n",
    "merged_df = merged_df.drop(columns=['lon', 'lat'])\n",
    "merged_gdf = merged_df.reset_index(drop=True)\n",
    "\n",
    "grid_map_gdf = grid_map_df.reset_index(drop=True)\n",
    "joined_gdf = gpd.sjoin(merged_df, grid_map_df, how='left', op='within')\n",
    "joined_gdf['geometry'] = joined_gdf['properties.gid'].map(grid_dict)\n",
    "target_column = joined_gdf.columns[-2]\n",
    "columns = list(joined_gdf.columns)\n",
    "columns.remove(target_column)\n",
    "columns.insert(5, target_column)\n",
    "\n",
    "joined_gdf = joined_gdf[columns]\n",
    "joined_gdf = joined_gdf.iloc[:,:-3]\n",
    "joined_gdf = joined_gdf.dropna(subset=['blck_cd'])\n",
    "joined_gdf['noh'] = joined_gdf['noh'].astype(int)\n",
    "joined_gdf['type_left'] = joined_gdf['type_left'].apply(lambda x : '+'.join(x.split(',')))\n",
    "joined_gdf.rename(columns={'type_left':'type'}, inplace=True)\n",
    "joined_gdf['type'] = joined_gdf['type'].apply(\n",
    "    lambda x: '+'.join(sorted(x.split('+'))) if '+' in x else x\n",
    ")\n",
    "\n",
    "# 차량 활용 점수 (Vehicle Utilization Score, VUS) 계산코드\n",
    "joined_gdf['car_cnt'] = joined_gdf['car_cnt'].fillna(0).replace(0, 1)  # 0으로 나눔 방지\n",
    "joined_gdf['total_cnt'] = joined_gdf['total_cnt'].fillna(0)\n",
    "joined_gdf['total_tm'] = joined_gdf['total_tm'].fillna(0)\n",
    "\n",
    "# 가중치 설정\n",
    "w1, w2 = 0.5, 0.5  # 기본값: 건수와 시간을 동일한 비중으로 고려\n",
    "\n",
    "# 차량 활용 점수 계산\n",
    "joined_gdf['vehicle_utilization_score'] = (\n",
    "    w1 * (joined_gdf['total_cnt'] / joined_gdf['car_cnt']) + \n",
    "    w2 * (joined_gdf['total_tm'] / joined_gdf['car_cnt'])\n",
    ")"
   ]
  },
  {
   "cell_type": "markdown",
   "metadata": {},
   "source": [
    "#### 상관관계 계산"
   ]
  },
  {
   "cell_type": "markdown",
   "metadata": {},
   "source": [
    "##### 300m 내 거주인구"
   ]
  },
  {
   "cell_type": "code",
   "execution_count": 26,
   "metadata": {},
   "outputs": [],
   "source": [
    "# Step 2: Buffer the geometries in sharehouse_car by 300 meters\n",
    "joined_gdf['buffer_300m'] = joined_gdf['geometry'].apply(lambda geom: geom.buffer(0.003))\n",
    "\n",
    "# Step 3: Prepare gengen_respop data with all population categories\n",
    "population_columns = gengen_respop.columns[1:-1]\n",
    "gengen_respop_data = list(zip(gengen_respop['geometry'], gengen_respop[population_columns].to_dict(orient=\"records\")))\n",
    "\n",
    "# Step 4: Calculate population by gender and generation within the buffer\n",
    "def calculate_population(buffer_geom, gengen_data):\n",
    "    \"\"\"\n",
    "    Calculate the sum of populations by category for a given buffer.\n",
    "    \"\"\"\n",
    "    totals = {col: 0 for col in population_columns}\n",
    "    for geom, population_data in gengen_data:\n",
    "        if buffer_geom.intersects(geom):\n",
    "            for col, value in population_data.items():\n",
    "                totals[col] += value\n",
    "    return totals\n",
    "\n",
    "# Apply the calculation to each row in joined_gdf\n",
    "joined_gdf['population_totals'] = joined_gdf['buffer_300m'].apply(\n",
    "    lambda buffer_geom: calculate_population(buffer_geom, gengen_respop_data)\n",
    ")\n",
    "\n",
    "# Expand the population_totals dictionary into separate columns\n",
    "population_totals_df = pd.DataFrame(joined_gdf['population_totals'].tolist(), index=joined_gdf.index)\n",
    "joined_gdf = pd.concat([joined_gdf, population_totals_df], axis=1)\n",
    "\n",
    "# Drop the helper columns to clean up\n",
    "joined_gdf.drop(columns=['buffer_300m', 'population_totals'], inplace=True)\n"
   ]
  },
  {
   "cell_type": "code",
   "execution_count": 27,
   "metadata": {},
   "outputs": [
    {
     "data": {
      "image/png": "[encoded data removed]",
      "text/plain": [
       "<Figure size 1000x800 with 2 Axes>"
      ]
     },
     "metadata": {},
     "output_type": "display_data"
    },
    {
     "data": {
      "text/plain": [
       "vehicle_utilization_score    1.000000\n",
       "30대_여                       -0.041612\n",
       "30대_남                       -0.058171\n",
       "90대_남                       -0.126267\n",
       "20대_남                       -0.139895\n",
       "20대_여                       -0.182869\n",
       "40대_여                       -0.200113\n",
       "40대_남                       -0.200186\n",
       "80대_여                       -0.214007\n",
       "70대_여                       -0.217382\n",
       "70대_남                       -0.234777\n",
       "80대_남                       -0.243967\n",
       "60대_여                       -0.254363\n",
       "50대_여                       -0.259818\n",
       "60대_남                       -0.262647\n",
       "50대_남                       -0.265256\n",
       "100대_남                      -0.279320\n",
       "90대_여                             NaN\n",
       "100대_여                            NaN\n",
       "Name: vehicle_utilization_score, dtype: float64"
      ]
     },
     "execution_count": 27,
     "metadata": {},
     "output_type": "execute_result"
    }
   ],
   "source": [
    "import numpy as np\n",
    "import matplotlib.pyplot as plt\n",
    "import seaborn as sns\n",
    "\n",
    "# Extract relevant columns: gender/generation populations and vehicle utilization score\n",
    "relevant_columns = list(population_totals_df.columns) + ['vehicle_utilization_score']\n",
    "correlation_data = joined_gdf[relevant_columns]\n",
    "\n",
    "# Calculate correlation matrix\n",
    "correlation_matrix = correlation_data.corr()\n",
    "\n",
    "# Plot correlation heatmap\n",
    "plt.figure(figsize=(10, 8))  # 그림 크기 조정\n",
    "sns.heatmap(\n",
    "    correlation_matrix,\n",
    "    annot=True,\n",
    "    annot_kws={\"size\": 10},  # 글꼴 크기 조정\n",
    "    cmap='coolwarm',\n",
    "    fmt='.2f',\n",
    "    linewidths=0.5,\n",
    "    cbar=True\n",
    ")\n",
    "plt.title(\"Correlation between Gender/Generation Population and Vehicle Utilization Score\", fontsize=16)\n",
    "plt.xticks(fontsize=12)\n",
    "plt.yticks(fontsize=12)\n",
    "plt.show()\n",
    "\n",
    "# Display the correlation values for vehicle_utilization_score\n",
    "vehicle_correlation = correlation_matrix['vehicle_utilization_score'].sort_values(ascending=False)\n",
    "vehicle_correlation\n"
   ]
  },
  {
   "cell_type": "markdown",
   "metadata": {},
   "source": [
    "##### 300m 내 유동인구"
   ]
  },
  {
   "cell_type": "code",
   "execution_count": 36,
   "metadata": {},
   "outputs": [],
   "source": [
    "complete_data = complete_data[complete_data['year'] == 2023]\n",
    "joined_gdf['buffer_300m'] = joined_gdf['geometry'].apply(lambda geom: geom.buffer(0.003))\n",
    "# Define floating_columns to include relevant columns for floating population\n",
    "floating_columns = complete_data.columns[2:-2]\n",
    "\n",
    "# Function to calculate floating population by gender and generation within a buffer\n",
    "def calculate_floating_population(buffer_geom, floating_data):\n",
    "    totals = {col: 0 for col in floating_columns}\n",
    "    for geom, row in floating_data:\n",
    "        if buffer_geom.intersects(geom):\n",
    "            for col in floating_columns:\n",
    "                totals[col] += row[col]\n",
    "    return totals\n",
    "\n",
    "# Prepare floating_pop data for processing\n",
    "floating_pop_data = list(zip(complete_data['geometry'], complete_data[floating_columns].to_dict(orient=\"records\")))\n",
    "\n",
    "# Calculate floating population for each buffer in sharehouse_car\n",
    "joined_gdf['floating_population_totals'] = joined_gdf['geometry'].apply(\n",
    "    lambda buffer_geom: calculate_floating_population(buffer_geom, floating_pop_data)\n",
    ")\n",
    "\n",
    "# Expand the floating population totals into separate columns\n",
    "floating_totals_df = pd.DataFrame(joined_gdf['floating_population_totals'].tolist(), index=joined_gdf.index)\n",
    "joined_gdf = pd.concat([joined_gdf, floating_totals_df], axis=1)\n",
    "\n",
    "# Drop helper columns for clarity\n",
    "joined_gdf.drop(columns=['floating_population_totals'], inplace=True)\n"
   ]
  },
  {
   "cell_type": "code",
   "execution_count": 37,
   "metadata": {},
   "outputs": [
    {
     "data": {
      "image/png": "[encoded data removed]",
      "text/plain": [
       "<Figure size 1000x800 with 2 Axes>"
      ]
     },
     "metadata": {},
     "output_type": "display_data"
    },
    {
     "data": {
      "text/plain": [
       "vehicle_utilization_score    1.000000\n",
       "30대_여                       -0.047996\n",
       "50대_여                       -0.055268\n",
       "40대_여                       -0.075032\n",
       "30대_남                       -0.091057\n",
       "40대_남                       -0.109553\n",
       "20대_여                       -0.110211\n",
       "20대_남                       -0.113163\n",
       "50대_남                       -0.132690\n",
       "60대_여                       -0.140245\n",
       "10대_여                       -0.148296\n",
       "10대_남                       -0.181449\n",
       "60대_남                       -0.209049\n",
       "Name: vehicle_utilization_score, dtype: float64"
      ]
     },
     "execution_count": 37,
     "metadata": {},
     "output_type": "execute_result"
    }
   ],
   "source": [
    "import numpy as np\n",
    "import matplotlib.pyplot as plt\n",
    "import seaborn as sns\n",
    "\n",
    "# Extract relevant columns: gender/generation populations and vehicle utilization score\n",
    "relevant_columns = list(floating_columns) + ['vehicle_utilization_score']\n",
    "correlation_data = joined_gdf[relevant_columns]\n",
    "\n",
    "# Calculate correlation matrix\n",
    "correlation_matrix = correlation_data.corr()\n",
    "\n",
    "# Plot correlation heatmap\n",
    "plt.figure(figsize=(10, 8))  # 그림 크기 조정\n",
    "sns.heatmap(\n",
    "    correlation_matrix,\n",
    "    annot=True,\n",
    "    annot_kws={\"size\": 10},  # 글꼴 크기 조정\n",
    "    cmap='coolwarm',\n",
    "    fmt='.2f',\n",
    "    linewidths=0.5,\n",
    "    cbar=True\n",
    ")\n",
    "plt.xticks(fontsize=12)\n",
    "plt.yticks(fontsize=12)\n",
    "plt.show()\n",
    "\n",
    "# Display the correlation values for vehicle_utilization_score\n",
    "vehicle_correlation = correlation_matrix['vehicle_utilization_score'].sort_values(ascending=False)\n",
    "vehicle_correlation\n"
   ]
  },
  {
   "cell_type": "markdown",
   "metadata": {},
   "source": [
    "#### 모델 학습 준비"
   ]
  },
  {
   "cell_type": "code",
   "execution_count": 69,
   "metadata": {},
   "outputs": [],
   "source": [
    "# 인구적 특성\n",
    "# 94번째부터 111번째 열 제목에 \"거주인구_\" 추가\n",
    "joined_gdf.columns = [\n",
    "    f\"거주인구_{col}\" if 94 <= i <= 111 else col\n",
    "    for i, col in enumerate(joined_gdf.columns)\n",
    "]\n",
    "\n",
    "# 113번째부터 124번째 열 제목에 \"유동인구_\" 추가\n",
    "joined_gdf.columns = [\n",
    "    f\"유동인구_{col}\" if 113 <= i <= 124 else col\n",
    "    for i, col in enumerate(joined_gdf.columns)\n",
    "]"
   ]
  },
  {
   "cell_type": "code",
   "execution_count": null,
   "metadata": {},
   "outputs": [],
   "source": [
    "\n",
    "respop_lst = [f\"{col}\" for i, col in enumerate(joined_gdf.columns) if 94 <= i <= 111]\n",
    "floatpop_lst = ['유동인구_10대_여','유동인구_10대_남','유동인구_20대_여','유동인구_20대_남','유동인구_30대_여','유동인구_30대_남','유동인구_40대_여','유동인구_40대_남','유동인구_50대_여','유동인구_50대_남','유동인구_60대_여','유동인구_60대_남']\n",
    "\n",
    "property1_df = joined_gdf[['blck_cd', 'type', 'noh', 'total_cnt', 'total_tm', 'car_cnt', 'vehicle_utilization_score'] + respop_lst + floatpop_lst]"
   ]
  },
  {
   "cell_type": "code",
   "execution_count": 72,
   "metadata": {},
   "outputs": [
    {
     "data": {
      "text/html": [
       "<div>\n",
       "<style scoped>\n",
       "    .dataframe tbody tr th:only-of-type {\n",
       "        vertical-align: middle;\n",
       "    }\n",
       "\n",
       "    .dataframe tbody tr th {\n",
       "        vertical-align: top;\n",
       "    }\n",
       "\n",
       "    .dataframe thead th {\n",
       "        text-align: right;\n",
       "    }\n",
       "</style>\n",
       "<table border=\"1\" class=\"dataframe\">\n",
       "  <thead>\n",
       "    <tr style=\"text-align: right;\">\n",
       "      <th></th>\n",
       "      <th>blck_cd</th>\n",
       "      <th>type</th>\n",
       "      <th>noh</th>\n",
       "      <th>total_cnt</th>\n",
       "      <th>total_tm</th>\n",
       "      <th>car_cnt</th>\n",
       "      <th>vehicle_utilization_score</th>\n",
       "      <th>거주인구_20대_여</th>\n",
       "      <th>거주인구_20대_남</th>\n",
       "      <th>거주인구_30대_여</th>\n",
       "      <th>거주인구_30대_남</th>\n",
       "      <th>거주인구_40대_여</th>\n",
       "      <th>거주인구_40대_남</th>\n",
       "      <th>거주인구_50대_여</th>\n",
       "      <th>거주인구_50대_남</th>\n",
       "      <th>거주인구_60대_여</th>\n",
       "      <th>거주인구_60대_남</th>\n",
       "      <th>거주인구_70대_여</th>\n",
       "      <th>거주인구_70대_남</th>\n",
       "      <th>거주인구_80대_여</th>\n",
       "      <th>거주인구_80대_남</th>\n",
       "      <th>거주인구_90대_여</th>\n",
       "      <th>거주인구_90대_남</th>\n",
       "      <th>거주인구_100대_여</th>\n",
       "      <th>거주인구_100대_남</th>\n",
       "      <th>유동인구_10대_여</th>\n",
       "      <th>유동인구_10대_남</th>\n",
       "      <th>유동인구_20대_여</th>\n",
       "      <th>유동인구_20대_남</th>\n",
       "      <th>유동인구_30대_여</th>\n",
       "      <th>유동인구_30대_남</th>\n",
       "      <th>유동인구_40대_여</th>\n",
       "      <th>유동인구_40대_남</th>\n",
       "      <th>유동인구_50대_여</th>\n",
       "      <th>유동인구_50대_남</th>\n",
       "      <th>유동인구_60대_여</th>\n",
       "      <th>유동인구_60대_남</th>\n",
       "    </tr>\n",
       "  </thead>\n",
       "  <tbody>\n",
       "    <tr>\n",
       "      <th>0</th>\n",
       "      <td>C02258</td>\n",
       "      <td>공공임대</td>\n",
       "      <td>669</td>\n",
       "      <td>2274</td>\n",
       "      <td>5653</td>\n",
       "      <td>2</td>\n",
       "      <td>1981.750000</td>\n",
       "      <td>109.75</td>\n",
       "      <td>103.75</td>\n",
       "      <td>273.50</td>\n",
       "      <td>320.00</td>\n",
       "      <td>337.50</td>\n",
       "      <td>286.75</td>\n",
       "      <td>154.25</td>\n",
       "      <td>157.25</td>\n",
       "      <td>131.00</td>\n",
       "      <td>172.00</td>\n",
       "      <td>69.00</td>\n",
       "      <td>61.75</td>\n",
       "      <td>1.75</td>\n",
       "      <td>14.25</td>\n",
       "      <td>0.0</td>\n",
       "      <td>2.00</td>\n",
       "      <td>0.0</td>\n",
       "      <td>0.0</td>\n",
       "      <td>327.78</td>\n",
       "      <td>315.29</td>\n",
       "      <td>367.55</td>\n",
       "      <td>290.56</td>\n",
       "      <td>1031.02</td>\n",
       "      <td>787.93</td>\n",
       "      <td>1657.57</td>\n",
       "      <td>1004.30</td>\n",
       "      <td>1298.49</td>\n",
       "      <td>680.79</td>\n",
       "      <td>1535.43</td>\n",
       "      <td>844.78</td>\n",
       "    </tr>\n",
       "    <tr>\n",
       "      <th>1</th>\n",
       "      <td>C02256</td>\n",
       "      <td>공공임대</td>\n",
       "      <td>753</td>\n",
       "      <td>879</td>\n",
       "      <td>3066</td>\n",
       "      <td>1</td>\n",
       "      <td>1972.500000</td>\n",
       "      <td>407.00</td>\n",
       "      <td>410.50</td>\n",
       "      <td>889.75</td>\n",
       "      <td>958.00</td>\n",
       "      <td>813.50</td>\n",
       "      <td>732.50</td>\n",
       "      <td>546.00</td>\n",
       "      <td>542.25</td>\n",
       "      <td>478.75</td>\n",
       "      <td>446.50</td>\n",
       "      <td>247.25</td>\n",
       "      <td>203.25</td>\n",
       "      <td>44.75</td>\n",
       "      <td>87.75</td>\n",
       "      <td>0.0</td>\n",
       "      <td>6.00</td>\n",
       "      <td>0.0</td>\n",
       "      <td>0.0</td>\n",
       "      <td>816.22</td>\n",
       "      <td>897.56</td>\n",
       "      <td>997.90</td>\n",
       "      <td>811.24</td>\n",
       "      <td>2904.58</td>\n",
       "      <td>2849.62</td>\n",
       "      <td>4291.16</td>\n",
       "      <td>2848.09</td>\n",
       "      <td>3411.75</td>\n",
       "      <td>1917.76</td>\n",
       "      <td>3616.15</td>\n",
       "      <td>2210.90</td>\n",
       "    </tr>\n",
       "    <tr>\n",
       "      <th>2</th>\n",
       "      <td>C02384</td>\n",
       "      <td>행복주택</td>\n",
       "      <td>672</td>\n",
       "      <td>2634</td>\n",
       "      <td>11439</td>\n",
       "      <td>2</td>\n",
       "      <td>3518.250000</td>\n",
       "      <td>207.00</td>\n",
       "      <td>249.25</td>\n",
       "      <td>723.00</td>\n",
       "      <td>737.50</td>\n",
       "      <td>589.50</td>\n",
       "      <td>502.50</td>\n",
       "      <td>284.25</td>\n",
       "      <td>282.25</td>\n",
       "      <td>298.50</td>\n",
       "      <td>327.00</td>\n",
       "      <td>216.25</td>\n",
       "      <td>183.25</td>\n",
       "      <td>32.75</td>\n",
       "      <td>61.25</td>\n",
       "      <td>0.0</td>\n",
       "      <td>6.00</td>\n",
       "      <td>0.0</td>\n",
       "      <td>0.0</td>\n",
       "      <td>296.30</td>\n",
       "      <td>301.30</td>\n",
       "      <td>542.46</td>\n",
       "      <td>433.59</td>\n",
       "      <td>1659.02</td>\n",
       "      <td>1078.90</td>\n",
       "      <td>2291.18</td>\n",
       "      <td>1257.47</td>\n",
       "      <td>2045.01</td>\n",
       "      <td>1004.34</td>\n",
       "      <td>2052.28</td>\n",
       "      <td>1056.55</td>\n",
       "    </tr>\n",
       "    <tr>\n",
       "      <th>3</th>\n",
       "      <td>C02408</td>\n",
       "      <td>국민임대+영구임대</td>\n",
       "      <td>1088</td>\n",
       "      <td>1974</td>\n",
       "      <td>7810</td>\n",
       "      <td>3</td>\n",
       "      <td>1630.666667</td>\n",
       "      <td>204.50</td>\n",
       "      <td>256.25</td>\n",
       "      <td>785.50</td>\n",
       "      <td>797.00</td>\n",
       "      <td>576.00</td>\n",
       "      <td>466.25</td>\n",
       "      <td>270.25</td>\n",
       "      <td>272.00</td>\n",
       "      <td>354.25</td>\n",
       "      <td>353.00</td>\n",
       "      <td>230.50</td>\n",
       "      <td>194.75</td>\n",
       "      <td>44.75</td>\n",
       "      <td>73.75</td>\n",
       "      <td>0.0</td>\n",
       "      <td>6.00</td>\n",
       "      <td>0.0</td>\n",
       "      <td>0.0</td>\n",
       "      <td>732.69</td>\n",
       "      <td>847.10</td>\n",
       "      <td>1085.91</td>\n",
       "      <td>877.12</td>\n",
       "      <td>3223.79</td>\n",
       "      <td>2458.52</td>\n",
       "      <td>4563.87</td>\n",
       "      <td>2980.64</td>\n",
       "      <td>4140.75</td>\n",
       "      <td>2335.08</td>\n",
       "      <td>4505.17</td>\n",
       "      <td>2567.16</td>\n",
       "    </tr>\n",
       "    <tr>\n",
       "      <th>4</th>\n",
       "      <td>C02352</td>\n",
       "      <td>공공임대</td>\n",
       "      <td>617</td>\n",
       "      <td>989</td>\n",
       "      <td>3947</td>\n",
       "      <td>1</td>\n",
       "      <td>2468.000000</td>\n",
       "      <td>174.75</td>\n",
       "      <td>222.50</td>\n",
       "      <td>692.50</td>\n",
       "      <td>673.50</td>\n",
       "      <td>486.25</td>\n",
       "      <td>398.75</td>\n",
       "      <td>250.50</td>\n",
       "      <td>233.00</td>\n",
       "      <td>318.50</td>\n",
       "      <td>312.50</td>\n",
       "      <td>226.25</td>\n",
       "      <td>194.00</td>\n",
       "      <td>46.25</td>\n",
       "      <td>70.25</td>\n",
       "      <td>0.0</td>\n",
       "      <td>6.00</td>\n",
       "      <td>0.0</td>\n",
       "      <td>0.0</td>\n",
       "      <td>319.41</td>\n",
       "      <td>370.38</td>\n",
       "      <td>491.31</td>\n",
       "      <td>392.49</td>\n",
       "      <td>1361.33</td>\n",
       "      <td>955.11</td>\n",
       "      <td>2001.28</td>\n",
       "      <td>1264.82</td>\n",
       "      <td>1889.99</td>\n",
       "      <td>1054.99</td>\n",
       "      <td>2005.02</td>\n",
       "      <td>1128.23</td>\n",
       "    </tr>\n",
       "    <tr>\n",
       "      <th>5</th>\n",
       "      <td>C02012</td>\n",
       "      <td>공공임대</td>\n",
       "      <td>988</td>\n",
       "      <td>1968</td>\n",
       "      <td>6490</td>\n",
       "      <td>2</td>\n",
       "      <td>2114.500000</td>\n",
       "      <td>761.25</td>\n",
       "      <td>719.25</td>\n",
       "      <td>968.25</td>\n",
       "      <td>1306.75</td>\n",
       "      <td>2317.50</td>\n",
       "      <td>2296.00</td>\n",
       "      <td>1237.00</td>\n",
       "      <td>1149.50</td>\n",
       "      <td>771.25</td>\n",
       "      <td>926.75</td>\n",
       "      <td>320.25</td>\n",
       "      <td>317.25</td>\n",
       "      <td>1.50</td>\n",
       "      <td>30.50</td>\n",
       "      <td>0.0</td>\n",
       "      <td>0.00</td>\n",
       "      <td>0.0</td>\n",
       "      <td>0.0</td>\n",
       "      <td>1317.15</td>\n",
       "      <td>1317.72</td>\n",
       "      <td>1061.37</td>\n",
       "      <td>1003.03</td>\n",
       "      <td>2121.89</td>\n",
       "      <td>2144.56</td>\n",
       "      <td>4270.58</td>\n",
       "      <td>3467.01</td>\n",
       "      <td>2513.02</td>\n",
       "      <td>1810.10</td>\n",
       "      <td>2465.72</td>\n",
       "      <td>1930.57</td>\n",
       "    </tr>\n",
       "    <tr>\n",
       "      <th>6</th>\n",
       "      <td>C02126</td>\n",
       "      <td>공공임대</td>\n",
       "      <td>871</td>\n",
       "      <td>620</td>\n",
       "      <td>2116</td>\n",
       "      <td>1</td>\n",
       "      <td>1368.000000</td>\n",
       "      <td>1124.00</td>\n",
       "      <td>1551.00</td>\n",
       "      <td>1946.00</td>\n",
       "      <td>1917.75</td>\n",
       "      <td>1998.25</td>\n",
       "      <td>1802.50</td>\n",
       "      <td>1020.50</td>\n",
       "      <td>980.25</td>\n",
       "      <td>599.00</td>\n",
       "      <td>696.00</td>\n",
       "      <td>314.25</td>\n",
       "      <td>278.00</td>\n",
       "      <td>24.75</td>\n",
       "      <td>66.25</td>\n",
       "      <td>0.0</td>\n",
       "      <td>1.50</td>\n",
       "      <td>0.0</td>\n",
       "      <td>0.0</td>\n",
       "      <td>579.72</td>\n",
       "      <td>645.85</td>\n",
       "      <td>750.43</td>\n",
       "      <td>1030.85</td>\n",
       "      <td>1664.58</td>\n",
       "      <td>1427.37</td>\n",
       "      <td>1942.36</td>\n",
       "      <td>1888.39</td>\n",
       "      <td>1181.03</td>\n",
       "      <td>897.16</td>\n",
       "      <td>1031.65</td>\n",
       "      <td>964.37</td>\n",
       "    </tr>\n",
       "    <tr>\n",
       "      <th>7</th>\n",
       "      <td>C02127</td>\n",
       "      <td>공공임대</td>\n",
       "      <td>688</td>\n",
       "      <td>1062</td>\n",
       "      <td>1916</td>\n",
       "      <td>1</td>\n",
       "      <td>1489.000000</td>\n",
       "      <td>655.00</td>\n",
       "      <td>749.50</td>\n",
       "      <td>1051.75</td>\n",
       "      <td>1225.50</td>\n",
       "      <td>1765.25</td>\n",
       "      <td>1633.25</td>\n",
       "      <td>835.75</td>\n",
       "      <td>826.25</td>\n",
       "      <td>525.50</td>\n",
       "      <td>633.00</td>\n",
       "      <td>273.50</td>\n",
       "      <td>243.00</td>\n",
       "      <td>17.50</td>\n",
       "      <td>49.50</td>\n",
       "      <td>0.0</td>\n",
       "      <td>1.50</td>\n",
       "      <td>0.0</td>\n",
       "      <td>0.0</td>\n",
       "      <td>562.23</td>\n",
       "      <td>562.84</td>\n",
       "      <td>438.66</td>\n",
       "      <td>430.49</td>\n",
       "      <td>814.39</td>\n",
       "      <td>836.98</td>\n",
       "      <td>1314.60</td>\n",
       "      <td>1373.87</td>\n",
       "      <td>855.31</td>\n",
       "      <td>770.93</td>\n",
       "      <td>941.41</td>\n",
       "      <td>803.98</td>\n",
       "    </tr>\n",
       "    <tr>\n",
       "      <th>8</th>\n",
       "      <td>C01967</td>\n",
       "      <td>공공임대</td>\n",
       "      <td>1193</td>\n",
       "      <td>935</td>\n",
       "      <td>1868</td>\n",
       "      <td>1</td>\n",
       "      <td>1401.500000</td>\n",
       "      <td>1289.75</td>\n",
       "      <td>1749.25</td>\n",
       "      <td>2473.00</td>\n",
       "      <td>2323.75</td>\n",
       "      <td>1944.50</td>\n",
       "      <td>1832.50</td>\n",
       "      <td>1168.00</td>\n",
       "      <td>1115.50</td>\n",
       "      <td>713.75</td>\n",
       "      <td>760.75</td>\n",
       "      <td>367.75</td>\n",
       "      <td>365.25</td>\n",
       "      <td>34.00</td>\n",
       "      <td>87.75</td>\n",
       "      <td>0.0</td>\n",
       "      <td>0.00</td>\n",
       "      <td>0.0</td>\n",
       "      <td>0.0</td>\n",
       "      <td>6538.20</td>\n",
       "      <td>6753.16</td>\n",
       "      <td>7119.73</td>\n",
       "      <td>7027.99</td>\n",
       "      <td>16925.05</td>\n",
       "      <td>14311.69</td>\n",
       "      <td>22368.02</td>\n",
       "      <td>19813.30</td>\n",
       "      <td>16747.95</td>\n",
       "      <td>12379.59</td>\n",
       "      <td>17949.41</td>\n",
       "      <td>14268.22</td>\n",
       "    </tr>\n",
       "    <tr>\n",
       "      <th>9</th>\n",
       "      <td>C01801</td>\n",
       "      <td>공공임대</td>\n",
       "      <td>38</td>\n",
       "      <td>124</td>\n",
       "      <td>482</td>\n",
       "      <td>1</td>\n",
       "      <td>303.000000</td>\n",
       "      <td>727.00</td>\n",
       "      <td>699.25</td>\n",
       "      <td>1069.50</td>\n",
       "      <td>1190.25</td>\n",
       "      <td>1898.50</td>\n",
       "      <td>1878.75</td>\n",
       "      <td>1343.25</td>\n",
       "      <td>1275.75</td>\n",
       "      <td>1120.25</td>\n",
       "      <td>1295.50</td>\n",
       "      <td>765.50</td>\n",
       "      <td>735.75</td>\n",
       "      <td>142.25</td>\n",
       "      <td>331.25</td>\n",
       "      <td>0.0</td>\n",
       "      <td>24.00</td>\n",
       "      <td>0.0</td>\n",
       "      <td>0.0</td>\n",
       "      <td>1282.27</td>\n",
       "      <td>1283.09</td>\n",
       "      <td>893.93</td>\n",
       "      <td>816.59</td>\n",
       "      <td>1750.13</td>\n",
       "      <td>1822.80</td>\n",
       "      <td>3162.85</td>\n",
       "      <td>2830.34</td>\n",
       "      <td>2050.77</td>\n",
       "      <td>1608.44</td>\n",
       "      <td>2251.97</td>\n",
       "      <td>2061.05</td>\n",
       "    </tr>\n",
       "    <tr>\n",
       "      <th>10</th>\n",
       "      <td>C01921</td>\n",
       "      <td>국민임대+영구임대</td>\n",
       "      <td>2742</td>\n",
       "      <td>730</td>\n",
       "      <td>2349</td>\n",
       "      <td>1</td>\n",
       "      <td>1539.500000</td>\n",
       "      <td>1020.50</td>\n",
       "      <td>1205.00</td>\n",
       "      <td>1852.50</td>\n",
       "      <td>1656.00</td>\n",
       "      <td>1796.25</td>\n",
       "      <td>1520.75</td>\n",
       "      <td>1251.00</td>\n",
       "      <td>1105.50</td>\n",
       "      <td>1001.25</td>\n",
       "      <td>1127.25</td>\n",
       "      <td>688.25</td>\n",
       "      <td>687.50</td>\n",
       "      <td>140.25</td>\n",
       "      <td>321.50</td>\n",
       "      <td>0.0</td>\n",
       "      <td>24.00</td>\n",
       "      <td>0.0</td>\n",
       "      <td>0.0</td>\n",
       "      <td>5733.64</td>\n",
       "      <td>6111.64</td>\n",
       "      <td>9957.36</td>\n",
       "      <td>10099.33</td>\n",
       "      <td>18744.53</td>\n",
       "      <td>15914.26</td>\n",
       "      <td>22953.20</td>\n",
       "      <td>19108.04</td>\n",
       "      <td>15046.72</td>\n",
       "      <td>11533.80</td>\n",
       "      <td>20055.75</td>\n",
       "      <td>19071.20</td>\n",
       "    </tr>\n",
       "    <tr>\n",
       "      <th>11</th>\n",
       "      <td>C02198</td>\n",
       "      <td>국민임대</td>\n",
       "      <td>1632</td>\n",
       "      <td>2304</td>\n",
       "      <td>9218</td>\n",
       "      <td>2</td>\n",
       "      <td>2880.500000</td>\n",
       "      <td>742.50</td>\n",
       "      <td>686.25</td>\n",
       "      <td>1131.50</td>\n",
       "      <td>1193.50</td>\n",
       "      <td>1800.25</td>\n",
       "      <td>1735.75</td>\n",
       "      <td>1312.50</td>\n",
       "      <td>1284.50</td>\n",
       "      <td>1147.75</td>\n",
       "      <td>1335.00</td>\n",
       "      <td>774.25</td>\n",
       "      <td>765.75</td>\n",
       "      <td>148.00</td>\n",
       "      <td>324.75</td>\n",
       "      <td>0.0</td>\n",
       "      <td>24.00</td>\n",
       "      <td>0.0</td>\n",
       "      <td>0.0</td>\n",
       "      <td>1910.99</td>\n",
       "      <td>1868.23</td>\n",
       "      <td>1880.22</td>\n",
       "      <td>1839.60</td>\n",
       "      <td>3889.91</td>\n",
       "      <td>3514.24</td>\n",
       "      <td>5934.33</td>\n",
       "      <td>4921.76</td>\n",
       "      <td>4145.95</td>\n",
       "      <td>3167.26</td>\n",
       "      <td>5308.53</td>\n",
       "      <td>4652.55</td>\n",
       "    </tr>\n",
       "    <tr>\n",
       "      <th>12</th>\n",
       "      <td>C01995</td>\n",
       "      <td>국민임대</td>\n",
       "      <td>2180</td>\n",
       "      <td>6114</td>\n",
       "      <td>18553</td>\n",
       "      <td>5</td>\n",
       "      <td>2466.700000</td>\n",
       "      <td>488.00</td>\n",
       "      <td>496.50</td>\n",
       "      <td>833.75</td>\n",
       "      <td>935.00</td>\n",
       "      <td>1451.25</td>\n",
       "      <td>1435.75</td>\n",
       "      <td>835.00</td>\n",
       "      <td>843.00</td>\n",
       "      <td>652.00</td>\n",
       "      <td>814.25</td>\n",
       "      <td>387.50</td>\n",
       "      <td>380.25</td>\n",
       "      <td>49.00</td>\n",
       "      <td>131.75</td>\n",
       "      <td>0.0</td>\n",
       "      <td>13.00</td>\n",
       "      <td>0.0</td>\n",
       "      <td>0.0</td>\n",
       "      <td>3038.85</td>\n",
       "      <td>3091.58</td>\n",
       "      <td>1996.31</td>\n",
       "      <td>1965.71</td>\n",
       "      <td>4431.02</td>\n",
       "      <td>4074.18</td>\n",
       "      <td>6858.96</td>\n",
       "      <td>6971.04</td>\n",
       "      <td>4990.62</td>\n",
       "      <td>4019.36</td>\n",
       "      <td>6010.53</td>\n",
       "      <td>5831.69</td>\n",
       "    </tr>\n",
       "    <tr>\n",
       "      <th>14</th>\n",
       "      <td>C02212</td>\n",
       "      <td>행복주택</td>\n",
       "      <td>1492</td>\n",
       "      <td>6069</td>\n",
       "      <td>22929</td>\n",
       "      <td>5</td>\n",
       "      <td>2899.800000</td>\n",
       "      <td>1285.50</td>\n",
       "      <td>1778.00</td>\n",
       "      <td>2475.50</td>\n",
       "      <td>2294.50</td>\n",
       "      <td>1797.25</td>\n",
       "      <td>1707.00</td>\n",
       "      <td>1098.00</td>\n",
       "      <td>1010.00</td>\n",
       "      <td>636.25</td>\n",
       "      <td>642.25</td>\n",
       "      <td>333.25</td>\n",
       "      <td>328.50</td>\n",
       "      <td>32.50</td>\n",
       "      <td>96.25</td>\n",
       "      <td>0.0</td>\n",
       "      <td>1.50</td>\n",
       "      <td>0.0</td>\n",
       "      <td>0.0</td>\n",
       "      <td>4142.29</td>\n",
       "      <td>4148.45</td>\n",
       "      <td>6164.04</td>\n",
       "      <td>6293.44</td>\n",
       "      <td>14666.33</td>\n",
       "      <td>11611.47</td>\n",
       "      <td>16866.82</td>\n",
       "      <td>14359.04</td>\n",
       "      <td>13039.54</td>\n",
       "      <td>9163.84</td>\n",
       "      <td>13505.49</td>\n",
       "      <td>10455.38</td>\n",
       "    </tr>\n",
       "    <tr>\n",
       "      <th>15</th>\n",
       "      <td>C00406</td>\n",
       "      <td>국민임대</td>\n",
       "      <td>638</td>\n",
       "      <td>854</td>\n",
       "      <td>1386</td>\n",
       "      <td>1</td>\n",
       "      <td>1120.000000</td>\n",
       "      <td>335.75</td>\n",
       "      <td>313.00</td>\n",
       "      <td>259.25</td>\n",
       "      <td>254.00</td>\n",
       "      <td>430.00</td>\n",
       "      <td>463.50</td>\n",
       "      <td>513.00</td>\n",
       "      <td>538.25</td>\n",
       "      <td>442.00</td>\n",
       "      <td>523.00</td>\n",
       "      <td>225.00</td>\n",
       "      <td>293.50</td>\n",
       "      <td>57.50</td>\n",
       "      <td>126.75</td>\n",
       "      <td>0.0</td>\n",
       "      <td>4.75</td>\n",
       "      <td>0.0</td>\n",
       "      <td>1.5</td>\n",
       "      <td>3563.02</td>\n",
       "      <td>4436.42</td>\n",
       "      <td>4173.86</td>\n",
       "      <td>4201.85</td>\n",
       "      <td>6293.08</td>\n",
       "      <td>6489.61</td>\n",
       "      <td>9028.64</td>\n",
       "      <td>9360.78</td>\n",
       "      <td>7526.18</td>\n",
       "      <td>8550.43</td>\n",
       "      <td>15231.61</td>\n",
       "      <td>18410.45</td>\n",
       "    </tr>\n",
       "  </tbody>\n",
       "</table>\n",
       "</div>"
      ],
      "text/plain": [
       "   blck_cd       type   noh  total_cnt  total_tm  car_cnt  \\\n",
       "0   C02258       공공임대   669       2274      5653        2   \n",
       "1   C02256       공공임대   753        879      3066        1   \n",
       "2   C02384       행복주택   672       2634     11439        2   \n",
       "3   C02408  국민임대+영구임대  1088       1974      7810        3   \n",
       "4   C02352       공공임대   617        989      3947        1   \n",
       "5   C02012       공공임대   988       1968      6490        2   \n",
       "6   C02126       공공임대   871        620      2116        1   \n",
       "7   C02127       공공임대   688       1062      1916        1   \n",
       "8   C01967       공공임대  1193        935      1868        1   \n",
       "9   C01801       공공임대    38        124       482        1   \n",
       "10  C01921  국민임대+영구임대  2742        730      2349        1   \n",
       "11  C02198       국민임대  1632       2304      9218        2   \n",
       "12  C01995       국민임대  2180       6114     18553        5   \n",
       "14  C02212       행복주택  1492       6069     22929        5   \n",
       "15  C00406       국민임대   638        854      1386        1   \n",
       "\n",
       "    vehicle_utilization_score  거주인구_20대_여  거주인구_20대_남  거주인구_30대_여  거주인구_30대_남  \\\n",
       "0                 1981.750000      109.75      103.75      273.50      320.00   \n",
       "1                 1972.500000      407.00      410.50      889.75      958.00   \n",
       "2                 3518.250000      207.00      249.25      723.00      737.50   \n",
       "3                 1630.666667      204.50      256.25      785.50      797.00   \n",
       "4                 2468.000000      174.75      222.50      692.50      673.50   \n",
       "5                 2114.500000      761.25      719.25      968.25     1306.75   \n",
       "6                 1368.000000     1124.00     1551.00     1946.00     1917.75   \n",
       "7                 1489.000000      655.00      749.50     1051.75     1225.50   \n",
       "8                 1401.500000     1289.75     1749.25     2473.00     2323.75   \n",
       "9                  303.000000      727.00      699.25     1069.50     1190.25   \n",
       "10                1539.500000     1020.50     1205.00     1852.50     1656.00   \n",
       "11                2880.500000      742.50      686.25     1131.50     1193.50   \n",
       "12                2466.700000      488.00      496.50      833.75      935.00   \n",
       "14                2899.800000     1285.50     1778.00     2475.50     2294.50   \n",
       "15                1120.000000      335.75      313.00      259.25      254.00   \n",
       "\n",
       "    거주인구_40대_여  거주인구_40대_남  거주인구_50대_여  거주인구_50대_남  거주인구_60대_여  거주인구_60대_남  \\\n",
       "0       337.50      286.75      154.25      157.25      131.00      172.00   \n",
       "1       813.50      732.50      546.00      542.25      478.75      446.50   \n",
       "2       589.50      502.50      284.25      282.25      298.50      327.00   \n",
       "3       576.00      466.25      270.25      272.00      354.25      353.00   \n",
       "4       486.25      398.75      250.50      233.00      318.50      312.50   \n",
       "5      2317.50     2296.00     1237.00     1149.50      771.25      926.75   \n",
       "6      1998.25     1802.50     1020.50      980.25      599.00      696.00   \n",
       "7      1765.25     1633.25      835.75      826.25      525.50      633.00   \n",
       "8      1944.50     1832.50     1168.00     1115.50      713.75      760.75   \n",
       "9      1898.50     1878.75     1343.25     1275.75     1120.25     1295.50   \n",
       "10     1796.25     1520.75     1251.00     1105.50     1001.25     1127.25   \n",
       "11     1800.25     1735.75     1312.50     1284.50     1147.75     1335.00   \n",
       "12     1451.25     1435.75      835.00      843.00      652.00      814.25   \n",
       "14     1797.25     1707.00     1098.00     1010.00      636.25      642.25   \n",
       "15      430.00      463.50      513.00      538.25      442.00      523.00   \n",
       "\n",
       "    거주인구_70대_여  거주인구_70대_남  거주인구_80대_여  거주인구_80대_남  거주인구_90대_여  거주인구_90대_남  \\\n",
       "0        69.00       61.75        1.75       14.25         0.0        2.00   \n",
       "1       247.25      203.25       44.75       87.75         0.0        6.00   \n",
       "2       216.25      183.25       32.75       61.25         0.0        6.00   \n",
       "3       230.50      194.75       44.75       73.75         0.0        6.00   \n",
       "4       226.25      194.00       46.25       70.25         0.0        6.00   \n",
       "5       320.25      317.25        1.50       30.50         0.0        0.00   \n",
       "6       314.25      278.00       24.75       66.25         0.0        1.50   \n",
       "7       273.50      243.00       17.50       49.50         0.0        1.50   \n",
       "8       367.75      365.25       34.00       87.75         0.0        0.00   \n",
       "9       765.50      735.75      142.25      331.25         0.0       24.00   \n",
       "10      688.25      687.50      140.25      321.50         0.0       24.00   \n",
       "11      774.25      765.75      148.00      324.75         0.0       24.00   \n",
       "12      387.50      380.25       49.00      131.75         0.0       13.00   \n",
       "14      333.25      328.50       32.50       96.25         0.0        1.50   \n",
       "15      225.00      293.50       57.50      126.75         0.0        4.75   \n",
       "\n",
       "    거주인구_100대_여  거주인구_100대_남  유동인구_10대_여  유동인구_10대_남  유동인구_20대_여  유동인구_20대_남  \\\n",
       "0           0.0          0.0      327.78      315.29      367.55      290.56   \n",
       "1           0.0          0.0      816.22      897.56      997.90      811.24   \n",
       "2           0.0          0.0      296.30      301.30      542.46      433.59   \n",
       "3           0.0          0.0      732.69      847.10     1085.91      877.12   \n",
       "4           0.0          0.0      319.41      370.38      491.31      392.49   \n",
       "5           0.0          0.0     1317.15     1317.72     1061.37     1003.03   \n",
       "6           0.0          0.0      579.72      645.85      750.43     1030.85   \n",
       "7           0.0          0.0      562.23      562.84      438.66      430.49   \n",
       "8           0.0          0.0     6538.20     6753.16     7119.73     7027.99   \n",
       "9           0.0          0.0     1282.27     1283.09      893.93      816.59   \n",
       "10          0.0          0.0     5733.64     6111.64     9957.36    10099.33   \n",
       "11          0.0          0.0     1910.99     1868.23     1880.22     1839.60   \n",
       "12          0.0          0.0     3038.85     3091.58     1996.31     1965.71   \n",
       "14          0.0          0.0     4142.29     4148.45     6164.04     6293.44   \n",
       "15          0.0          1.5     3563.02     4436.42     4173.86     4201.85   \n",
       "\n",
       "    유동인구_30대_여  유동인구_30대_남  유동인구_40대_여  유동인구_40대_남  유동인구_50대_여  유동인구_50대_남  \\\n",
       "0      1031.02      787.93     1657.57     1004.30     1298.49      680.79   \n",
       "1      2904.58     2849.62     4291.16     2848.09     3411.75     1917.76   \n",
       "2      1659.02     1078.90     2291.18     1257.47     2045.01     1004.34   \n",
       "3      3223.79     2458.52     4563.87     2980.64     4140.75     2335.08   \n",
       "4      1361.33      955.11     2001.28     1264.82     1889.99     1054.99   \n",
       "5      2121.89     2144.56     4270.58     3467.01     2513.02     1810.10   \n",
       "6      1664.58     1427.37     1942.36     1888.39     1181.03      897.16   \n",
       "7       814.39      836.98     1314.60     1373.87      855.31      770.93   \n",
       "8     16925.05    14311.69    22368.02    19813.30    16747.95    12379.59   \n",
       "9      1750.13     1822.80     3162.85     2830.34     2050.77     1608.44   \n",
       "10    18744.53    15914.26    22953.20    19108.04    15046.72    11533.80   \n",
       "11     3889.91     3514.24     5934.33     4921.76     4145.95     3167.26   \n",
       "12     4431.02     4074.18     6858.96     6971.04     4990.62     4019.36   \n",
       "14    14666.33    11611.47    16866.82    14359.04    13039.54     9163.84   \n",
       "15     6293.08     6489.61     9028.64     9360.78     7526.18     8550.43   \n",
       "\n",
       "    유동인구_60대_여  유동인구_60대_남  \n",
       "0      1535.43      844.78  \n",
       "1      3616.15     2210.90  \n",
       "2      2052.28     1056.55  \n",
       "3      4505.17     2567.16  \n",
       "4      2005.02     1128.23  \n",
       "5      2465.72     1930.57  \n",
       "6      1031.65      964.37  \n",
       "7       941.41      803.98  \n",
       "8     17949.41    14268.22  \n",
       "9      2251.97     2061.05  \n",
       "10    20055.75    19071.20  \n",
       "11     5308.53     4652.55  \n",
       "12     6010.53     5831.69  \n",
       "14    13505.49    10455.38  \n",
       "15    15231.61    18410.45  "
      ]
     },
     "execution_count": 72,
     "metadata": {},
     "output_type": "execute_result"
    }
   ],
   "source": [
    "property1_df"
   ]
  },
  {
   "cell_type": "code",
   "execution_count": 73,
   "metadata": {},
   "outputs": [],
   "source": [
    "property1_df.to_csv('property1_hanam_df.csv', index=False)"
   ]
  },
  {
   "cell_type": "markdown",
   "metadata": {},
   "source": [
    "#### 교산지구 데이터"
   ]
  },
  {
   "cell_type": "code",
   "execution_count": 60,
   "metadata": {},
   "outputs": [],
   "source": [
    "from shapely.wkt import loads\n",
    "\n",
    "# Convert WKT strings to shapely geometry\n",
    "sh_ob_sup = pd.read_csv('sh_ob_sup.csv')\n",
    "sh_ob_sup['geometry'] = sh_ob_sup['geometry'].apply(loads)\n",
    "sh_ob_sup = gpd.GeoDataFrame(sh_ob_sup, geometry='geometry')"
   ]
  },
  {
   "cell_type": "code",
   "execution_count": 61,
   "metadata": {},
   "outputs": [],
   "source": [
    "# Step 2: Buffer the geometries in sharehouse_car by 300 meters\n",
    "sh_ob_sup['buffer_300m'] = sh_ob_sup['geometry'].apply(lambda geom: geom.buffer(0.003))\n",
    "\n",
    "# Step 3: Prepare gengen_respop data with all population categories\n",
    "population_columns = gengen_respop.columns[1:-1]\n",
    "gengen_respop_data = list(zip(gengen_respop['geometry'], gengen_respop[population_columns].to_dict(orient=\"records\")))\n",
    "\n",
    "# Step 4: Calculate population by gender and generation within the buffer\n",
    "def calculate_population(buffer_geom, gengen_data):\n",
    "    \"\"\"\n",
    "    Calculate the sum of populations by category for a given buffer.\n",
    "    \"\"\"\n",
    "    totals = {col: 0 for col in population_columns}\n",
    "    for geom, population_data in gengen_data:\n",
    "        if buffer_geom.intersects(geom):\n",
    "            for col, value in population_data.items():\n",
    "                totals[col] += value\n",
    "    return totals\n",
    "\n",
    "# Apply the calculation to each row in sh_ob_sup\n",
    "sh_ob_sup['population_totals'] = sh_ob_sup['buffer_300m'].apply(\n",
    "    lambda buffer_geom: calculate_population(buffer_geom, gengen_respop_data)\n",
    ")\n",
    "\n",
    "# Expand the population_totals dictionary into separate columns\n",
    "population_totals_df = pd.DataFrame(sh_ob_sup['population_totals'].tolist(), index=sh_ob_sup.index)\n",
    "sh_ob_sup = pd.concat([sh_ob_sup, population_totals_df], axis=1)\n",
    "\n",
    "# Drop the helper columns to clean up\n",
    "sh_ob_sup.drop(columns=['buffer_300m', 'population_totals'], inplace=True)\n"
   ]
  },
  {
   "cell_type": "code",
   "execution_count": 62,
   "metadata": {},
   "outputs": [],
   "source": [
    "complete_data = complete_data[complete_data['year'] == 2023]\n",
    "sh_ob_sup['buffer_300m'] = sh_ob_sup['geometry'].apply(lambda geom: geom.buffer(0.003))\n",
    "# Define floating_columns to include relevant columns for floating population\n",
    "floating_columns = complete_data.columns[2:-2]\n",
    "\n",
    "# Function to calculate floating population by gender and generation within a buffer\n",
    "def calculate_floating_population(buffer_geom, floating_data):\n",
    "    totals = {col: 0 for col in floating_columns}\n",
    "    for geom, row in floating_data:\n",
    "        if buffer_geom.intersects(geom):\n",
    "            for col in floating_columns:\n",
    "                totals[col] += row[col]\n",
    "    return totals\n",
    "\n",
    "# Prepare floating_pop data for processing\n",
    "floating_pop_data = list(zip(complete_data['geometry'], complete_data[floating_columns].to_dict(orient=\"records\")))\n",
    "\n",
    "# Calculate floating population for each buffer in sharehouse_car\n",
    "sh_ob_sup['floating_population_totals'] = sh_ob_sup['geometry'].apply(\n",
    "    lambda buffer_geom: calculate_floating_population(buffer_geom, floating_pop_data)\n",
    ")\n",
    "\n",
    "# Expand the floating population totals into separate columns\n",
    "floating_totals_df = pd.DataFrame(sh_ob_sup['floating_population_totals'].tolist(), index=sh_ob_sup.index)\n",
    "sh_ob_sup = pd.concat([sh_ob_sup, floating_totals_df], axis=1)\n",
    "\n",
    "# Drop helper columns for clarity\n",
    "sh_ob_sup.drop(columns=['floating_population_totals'], inplace=True)\n"
   ]
  },
  {
   "cell_type": "code",
   "execution_count": 63,
   "metadata": {},
   "outputs": [],
   "source": [
    "# 인구적 특성\n",
    "# 94번째부터 111번째 열 제목에 \"거주인구_\" 추가\n",
    "sh_ob_sup.columns = [\n",
    "    f\"거주인구_{col}\" if 6 <= i <= 23 else col\n",
    "    for i, col in enumerate(sh_ob_sup.columns)\n",
    "]\n",
    "\n",
    "# 113번째부터 124번째 열 제목에 \"유동인구_\" 추가\n",
    "sh_ob_sup.columns = [\n",
    "    f\"유동인구_{col}\" if 25 <= i <= 36 else col\n",
    "    for i, col in enumerate(sh_ob_sup.columns)\n",
    "]"
   ]
  },
  {
   "cell_type": "code",
   "execution_count": null,
   "metadata": {},
   "outputs": [],
   "source": [
    "respop_lst = [f\"{col}\" for i, col in enumerate(sh_ob_sup.columns) if 6 <= i <= 23]\n",
    "floatpop_lst = ['유동인구_10대_여','유동인구_10대_남','유동인구_20대_여','유동인구_20대_남','유동인구_30대_여','유동인구_30대_남','유동인구_40대_여','유동인구_40대_남','유동인구_50대_여','유동인구_50대_남','유동인구_60대_여','유동인구_60대_남']\n",
    "\n",
    "property_new_df = sh_ob_sup[['blockname', 'type', 'noh', 'total_cnt', 'total_tm'] + respop_lst + floatpop_lst]"
   ]
  },
  {
   "cell_type": "code",
   "execution_count": 68,
   "metadata": {},
   "outputs": [],
   "source": [
    "property_new_df.to_csv('property1_new_df.csv', index=False)"
   ]
  },
  {
   "cell_type": "code",
   "execution_count": 67,
   "metadata": {},
   "outputs": [
    {
     "data": {
      "text/html": [
       "<div>\n",
       "<style scoped>\n",
       "    .dataframe tbody tr th:only-of-type {\n",
       "        vertical-align: middle;\n",
       "    }\n",
       "\n",
       "    .dataframe tbody tr th {\n",
       "        vertical-align: top;\n",
       "    }\n",
       "\n",
       "    .dataframe thead th {\n",
       "        text-align: right;\n",
       "    }\n",
       "</style>\n",
       "<table border=\"1\" class=\"dataframe\">\n",
       "  <thead>\n",
       "    <tr style=\"text-align: right;\">\n",
       "      <th></th>\n",
       "      <th>blockname</th>\n",
       "      <th>type</th>\n",
       "      <th>noh</th>\n",
       "      <th>total_cnt</th>\n",
       "      <th>total_tm</th>\n",
       "      <th>거주인구_20대_여</th>\n",
       "      <th>거주인구_20대_남</th>\n",
       "      <th>거주인구_30대_여</th>\n",
       "      <th>거주인구_30대_남</th>\n",
       "      <th>거주인구_40대_여</th>\n",
       "      <th>거주인구_40대_남</th>\n",
       "      <th>거주인구_50대_여</th>\n",
       "      <th>거주인구_50대_남</th>\n",
       "      <th>거주인구_60대_여</th>\n",
       "      <th>거주인구_60대_남</th>\n",
       "      <th>거주인구_70대_여</th>\n",
       "      <th>거주인구_70대_남</th>\n",
       "      <th>거주인구_80대_여</th>\n",
       "      <th>거주인구_80대_남</th>\n",
       "      <th>거주인구_90대_여</th>\n",
       "      <th>거주인구_90대_남</th>\n",
       "      <th>거주인구_100대_여</th>\n",
       "      <th>거주인구_100대_남</th>\n",
       "      <th>유동인구_10대_여</th>\n",
       "      <th>유동인구_10대_남</th>\n",
       "      <th>유동인구_20대_여</th>\n",
       "      <th>유동인구_20대_남</th>\n",
       "      <th>유동인구_30대_여</th>\n",
       "      <th>유동인구_30대_남</th>\n",
       "      <th>유동인구_40대_여</th>\n",
       "      <th>유동인구_40대_남</th>\n",
       "      <th>유동인구_50대_여</th>\n",
       "      <th>유동인구_50대_남</th>\n",
       "      <th>유동인구_60대_여</th>\n",
       "      <th>유동인구_60대_남</th>\n",
       "    </tr>\n",
       "  </thead>\n",
       "  <tbody>\n",
       "    <tr>\n",
       "      <th>0</th>\n",
       "      <td>A-1</td>\n",
       "      <td>통합공공임대</td>\n",
       "      <td>823</td>\n",
       "      <td>1663.273114</td>\n",
       "      <td>5587.135208</td>\n",
       "      <td>679.25</td>\n",
       "      <td>658.00</td>\n",
       "      <td>886.00</td>\n",
       "      <td>864.00</td>\n",
       "      <td>966.50</td>\n",
       "      <td>949.00</td>\n",
       "      <td>900.75</td>\n",
       "      <td>1031.75</td>\n",
       "      <td>1006.00</td>\n",
       "      <td>1153.75</td>\n",
       "      <td>561.50</td>\n",
       "      <td>617.00</td>\n",
       "      <td>171.25</td>\n",
       "      <td>292.25</td>\n",
       "      <td>3.5</td>\n",
       "      <td>10.75</td>\n",
       "      <td>0.0</td>\n",
       "      <td>0.0</td>\n",
       "      <td>932.85</td>\n",
       "      <td>982.05</td>\n",
       "      <td>1665.06</td>\n",
       "      <td>1413.33</td>\n",
       "      <td>3319.16</td>\n",
       "      <td>2291.88</td>\n",
       "      <td>5100.99</td>\n",
       "      <td>3439.99</td>\n",
       "      <td>5756.01</td>\n",
       "      <td>3651.00</td>\n",
       "      <td>7519.15</td>\n",
       "      <td>4900.65</td>\n",
       "    </tr>\n",
       "    <tr>\n",
       "      <th>1</th>\n",
       "      <td>A-1</td>\n",
       "      <td>통합공공임대</td>\n",
       "      <td>823</td>\n",
       "      <td>1663.273114</td>\n",
       "      <td>5587.135208</td>\n",
       "      <td>679.25</td>\n",
       "      <td>658.00</td>\n",
       "      <td>886.00</td>\n",
       "      <td>864.00</td>\n",
       "      <td>966.50</td>\n",
       "      <td>949.00</td>\n",
       "      <td>900.75</td>\n",
       "      <td>1031.75</td>\n",
       "      <td>1006.00</td>\n",
       "      <td>1153.75</td>\n",
       "      <td>561.50</td>\n",
       "      <td>617.00</td>\n",
       "      <td>171.25</td>\n",
       "      <td>292.25</td>\n",
       "      <td>3.5</td>\n",
       "      <td>10.75</td>\n",
       "      <td>0.0</td>\n",
       "      <td>0.0</td>\n",
       "      <td>932.85</td>\n",
       "      <td>982.05</td>\n",
       "      <td>1665.06</td>\n",
       "      <td>1413.33</td>\n",
       "      <td>3319.16</td>\n",
       "      <td>2291.88</td>\n",
       "      <td>5100.99</td>\n",
       "      <td>3439.99</td>\n",
       "      <td>5756.01</td>\n",
       "      <td>3651.00</td>\n",
       "      <td>7519.15</td>\n",
       "      <td>4900.65</td>\n",
       "    </tr>\n",
       "    <tr>\n",
       "      <th>2</th>\n",
       "      <td>A-3</td>\n",
       "      <td>행복주택</td>\n",
       "      <td>394</td>\n",
       "      <td>1161.432585</td>\n",
       "      <td>3898.416378</td>\n",
       "      <td>380.25</td>\n",
       "      <td>367.25</td>\n",
       "      <td>479.50</td>\n",
       "      <td>446.50</td>\n",
       "      <td>509.75</td>\n",
       "      <td>521.25</td>\n",
       "      <td>498.75</td>\n",
       "      <td>578.50</td>\n",
       "      <td>546.25</td>\n",
       "      <td>643.25</td>\n",
       "      <td>324.25</td>\n",
       "      <td>347.00</td>\n",
       "      <td>96.75</td>\n",
       "      <td>160.00</td>\n",
       "      <td>3.5</td>\n",
       "      <td>4.50</td>\n",
       "      <td>0.0</td>\n",
       "      <td>0.0</td>\n",
       "      <td>62.49</td>\n",
       "      <td>61.70</td>\n",
       "      <td>90.34</td>\n",
       "      <td>73.39</td>\n",
       "      <td>184.95</td>\n",
       "      <td>127.65</td>\n",
       "      <td>294.06</td>\n",
       "      <td>217.00</td>\n",
       "      <td>350.73</td>\n",
       "      <td>231.16</td>\n",
       "      <td>493.52</td>\n",
       "      <td>335.74</td>\n",
       "    </tr>\n",
       "    <tr>\n",
       "      <th>3</th>\n",
       "      <td>A-4</td>\n",
       "      <td>통합공공임대</td>\n",
       "      <td>808</td>\n",
       "      <td>1645.726242</td>\n",
       "      <td>5528.089095</td>\n",
       "      <td>304.00</td>\n",
       "      <td>309.25</td>\n",
       "      <td>330.00</td>\n",
       "      <td>308.75</td>\n",
       "      <td>470.75</td>\n",
       "      <td>473.25</td>\n",
       "      <td>435.25</td>\n",
       "      <td>487.25</td>\n",
       "      <td>490.00</td>\n",
       "      <td>579.75</td>\n",
       "      <td>320.75</td>\n",
       "      <td>274.25</td>\n",
       "      <td>65.00</td>\n",
       "      <td>90.50</td>\n",
       "      <td>0.0</td>\n",
       "      <td>6.25</td>\n",
       "      <td>0.0</td>\n",
       "      <td>0.0</td>\n",
       "      <td>2310.99</td>\n",
       "      <td>2912.41</td>\n",
       "      <td>4556.19</td>\n",
       "      <td>3505.99</td>\n",
       "      <td>9912.73</td>\n",
       "      <td>6376.83</td>\n",
       "      <td>16494.44</td>\n",
       "      <td>9608.09</td>\n",
       "      <td>18461.43</td>\n",
       "      <td>10314.60</td>\n",
       "      <td>23382.42</td>\n",
       "      <td>14690.88</td>\n",
       "    </tr>\n",
       "    <tr>\n",
       "      <th>4</th>\n",
       "      <td>A-6</td>\n",
       "      <td>행복주택</td>\n",
       "      <td>769</td>\n",
       "      <td>1600.104376</td>\n",
       "      <td>5374.569201</td>\n",
       "      <td>30.25</td>\n",
       "      <td>27.25</td>\n",
       "      <td>39.25</td>\n",
       "      <td>26.25</td>\n",
       "      <td>56.75</td>\n",
       "      <td>40.25</td>\n",
       "      <td>56.50</td>\n",
       "      <td>44.00</td>\n",
       "      <td>38.75</td>\n",
       "      <td>43.75</td>\n",
       "      <td>23.00</td>\n",
       "      <td>19.50</td>\n",
       "      <td>0.00</td>\n",
       "      <td>3.25</td>\n",
       "      <td>0.0</td>\n",
       "      <td>0.00</td>\n",
       "      <td>0.0</td>\n",
       "      <td>0.0</td>\n",
       "      <td>72.60</td>\n",
       "      <td>79.40</td>\n",
       "      <td>188.60</td>\n",
       "      <td>121.85</td>\n",
       "      <td>463.83</td>\n",
       "      <td>227.31</td>\n",
       "      <td>817.89</td>\n",
       "      <td>370.84</td>\n",
       "      <td>879.06</td>\n",
       "      <td>408.90</td>\n",
       "      <td>1047.61</td>\n",
       "      <td>557.51</td>\n",
       "    </tr>\n",
       "    <tr>\n",
       "      <th>5</th>\n",
       "      <td>A-7</td>\n",
       "      <td>통합공공임대</td>\n",
       "      <td>1605</td>\n",
       "      <td>2578.050023</td>\n",
       "      <td>8665.405895</td>\n",
       "      <td>0.00</td>\n",
       "      <td>0.00</td>\n",
       "      <td>0.00</td>\n",
       "      <td>0.00</td>\n",
       "      <td>0.00</td>\n",
       "      <td>0.00</td>\n",
       "      <td>0.00</td>\n",
       "      <td>0.00</td>\n",
       "      <td>10.50</td>\n",
       "      <td>3.50</td>\n",
       "      <td>0.00</td>\n",
       "      <td>0.00</td>\n",
       "      <td>0.00</td>\n",
       "      <td>0.00</td>\n",
       "      <td>0.0</td>\n",
       "      <td>0.00</td>\n",
       "      <td>0.0</td>\n",
       "      <td>0.0</td>\n",
       "      <td>97.27</td>\n",
       "      <td>126.96</td>\n",
       "      <td>577.98</td>\n",
       "      <td>222.52</td>\n",
       "      <td>1472.49</td>\n",
       "      <td>539.60</td>\n",
       "      <td>3291.22</td>\n",
       "      <td>891.88</td>\n",
       "      <td>3984.71</td>\n",
       "      <td>1332.91</td>\n",
       "      <td>4247.05</td>\n",
       "      <td>1892.21</td>\n",
       "    </tr>\n",
       "    <tr>\n",
       "      <th>6</th>\n",
       "      <td>A-9</td>\n",
       "      <td>통합공공임대</td>\n",
       "      <td>525</td>\n",
       "      <td>1314.675264</td>\n",
       "      <td>4414.085764</td>\n",
       "      <td>5.00</td>\n",
       "      <td>5.75</td>\n",
       "      <td>6.25</td>\n",
       "      <td>0.00</td>\n",
       "      <td>7.00</td>\n",
       "      <td>0.00</td>\n",
       "      <td>21.50</td>\n",
       "      <td>11.00</td>\n",
       "      <td>11.25</td>\n",
       "      <td>6.50</td>\n",
       "      <td>0.00</td>\n",
       "      <td>6.00</td>\n",
       "      <td>0.00</td>\n",
       "      <td>0.00</td>\n",
       "      <td>0.0</td>\n",
       "      <td>0.00</td>\n",
       "      <td>0.0</td>\n",
       "      <td>0.0</td>\n",
       "      <td>1259.89</td>\n",
       "      <td>1132.44</td>\n",
       "      <td>3975.62</td>\n",
       "      <td>2154.75</td>\n",
       "      <td>9855.65</td>\n",
       "      <td>4437.93</td>\n",
       "      <td>17815.27</td>\n",
       "      <td>7025.26</td>\n",
       "      <td>20991.78</td>\n",
       "      <td>8946.66</td>\n",
       "      <td>24099.29</td>\n",
       "      <td>11891.15</td>\n",
       "    </tr>\n",
       "    <tr>\n",
       "      <th>7</th>\n",
       "      <td>A-10</td>\n",
       "      <td>통합공공임대</td>\n",
       "      <td>491</td>\n",
       "      <td>1274.902355</td>\n",
       "      <td>4280.247908</td>\n",
       "      <td>0.00</td>\n",
       "      <td>0.00</td>\n",
       "      <td>0.00</td>\n",
       "      <td>0.00</td>\n",
       "      <td>0.00</td>\n",
       "      <td>0.00</td>\n",
       "      <td>0.00</td>\n",
       "      <td>0.00</td>\n",
       "      <td>0.00</td>\n",
       "      <td>0.00</td>\n",
       "      <td>0.00</td>\n",
       "      <td>0.00</td>\n",
       "      <td>0.00</td>\n",
       "      <td>0.00</td>\n",
       "      <td>0.0</td>\n",
       "      <td>0.00</td>\n",
       "      <td>0.0</td>\n",
       "      <td>0.0</td>\n",
       "      <td>102.05</td>\n",
       "      <td>88.52</td>\n",
       "      <td>324.97</td>\n",
       "      <td>170.95</td>\n",
       "      <td>815.15</td>\n",
       "      <td>345.81</td>\n",
       "      <td>1613.61</td>\n",
       "      <td>592.62</td>\n",
       "      <td>2017.68</td>\n",
       "      <td>807.68</td>\n",
       "      <td>2292.60</td>\n",
       "      <td>1105.08</td>\n",
       "    </tr>\n",
       "    <tr>\n",
       "      <th>8</th>\n",
       "      <td>A-11</td>\n",
       "      <td>행복주택</td>\n",
       "      <td>715</td>\n",
       "      <td>1536.935638</td>\n",
       "      <td>5162.003195</td>\n",
       "      <td>0.00</td>\n",
       "      <td>1.50</td>\n",
       "      <td>0.00</td>\n",
       "      <td>0.00</td>\n",
       "      <td>1.50</td>\n",
       "      <td>1.75</td>\n",
       "      <td>10.25</td>\n",
       "      <td>0.00</td>\n",
       "      <td>11.75</td>\n",
       "      <td>0.00</td>\n",
       "      <td>0.00</td>\n",
       "      <td>0.00</td>\n",
       "      <td>0.00</td>\n",
       "      <td>0.00</td>\n",
       "      <td>0.0</td>\n",
       "      <td>0.00</td>\n",
       "      <td>0.0</td>\n",
       "      <td>0.0</td>\n",
       "      <td>25.32</td>\n",
       "      <td>8.23</td>\n",
       "      <td>92.67</td>\n",
       "      <td>30.86</td>\n",
       "      <td>239.14</td>\n",
       "      <td>64.59</td>\n",
       "      <td>546.08</td>\n",
       "      <td>173.56</td>\n",
       "      <td>649.15</td>\n",
       "      <td>231.22</td>\n",
       "      <td>750.35</td>\n",
       "      <td>418.49</td>\n",
       "    </tr>\n",
       "    <tr>\n",
       "      <th>9</th>\n",
       "      <td>A-12</td>\n",
       "      <td>통합공공임대</td>\n",
       "      <td>807</td>\n",
       "      <td>1644.556451</td>\n",
       "      <td>5524.152687</td>\n",
       "      <td>0.00</td>\n",
       "      <td>0.00</td>\n",
       "      <td>0.00</td>\n",
       "      <td>0.00</td>\n",
       "      <td>1.50</td>\n",
       "      <td>1.75</td>\n",
       "      <td>5.25</td>\n",
       "      <td>0.00</td>\n",
       "      <td>0.00</td>\n",
       "      <td>0.00</td>\n",
       "      <td>0.00</td>\n",
       "      <td>0.00</td>\n",
       "      <td>0.00</td>\n",
       "      <td>0.00</td>\n",
       "      <td>0.0</td>\n",
       "      <td>0.00</td>\n",
       "      <td>0.0</td>\n",
       "      <td>0.0</td>\n",
       "      <td>11.23</td>\n",
       "      <td>3.07</td>\n",
       "      <td>40.62</td>\n",
       "      <td>13.52</td>\n",
       "      <td>102.72</td>\n",
       "      <td>28.26</td>\n",
       "      <td>240.75</td>\n",
       "      <td>77.11</td>\n",
       "      <td>290.67</td>\n",
       "      <td>104.43</td>\n",
       "      <td>342.16</td>\n",
       "      <td>191.88</td>\n",
       "    </tr>\n",
       "    <tr>\n",
       "      <th>10</th>\n",
       "      <td>A-13</td>\n",
       "      <td>행복주택</td>\n",
       "      <td>589</td>\n",
       "      <td>1389.541916</td>\n",
       "      <td>4666.015846</td>\n",
       "      <td>0.00</td>\n",
       "      <td>0.00</td>\n",
       "      <td>0.00</td>\n",
       "      <td>0.00</td>\n",
       "      <td>1.50</td>\n",
       "      <td>1.75</td>\n",
       "      <td>5.25</td>\n",
       "      <td>0.00</td>\n",
       "      <td>0.00</td>\n",
       "      <td>3.50</td>\n",
       "      <td>0.00</td>\n",
       "      <td>0.00</td>\n",
       "      <td>0.00</td>\n",
       "      <td>0.00</td>\n",
       "      <td>0.0</td>\n",
       "      <td>0.00</td>\n",
       "      <td>0.0</td>\n",
       "      <td>0.0</td>\n",
       "      <td>4.68</td>\n",
       "      <td>0.77</td>\n",
       "      <td>18.62</td>\n",
       "      <td>7.29</td>\n",
       "      <td>46.86</td>\n",
       "      <td>14.80</td>\n",
       "      <td>116.56</td>\n",
       "      <td>34.21</td>\n",
       "      <td>139.63</td>\n",
       "      <td>46.78</td>\n",
       "      <td>164.09</td>\n",
       "      <td>83.19</td>\n",
       "    </tr>\n",
       "    <tr>\n",
       "      <th>11</th>\n",
       "      <td>A-14</td>\n",
       "      <td>행복주택</td>\n",
       "      <td>439</td>\n",
       "      <td>1214.073200</td>\n",
       "      <td>4075.554717</td>\n",
       "      <td>0.00</td>\n",
       "      <td>0.00</td>\n",
       "      <td>0.00</td>\n",
       "      <td>0.00</td>\n",
       "      <td>0.00</td>\n",
       "      <td>0.00</td>\n",
       "      <td>0.00</td>\n",
       "      <td>0.00</td>\n",
       "      <td>0.00</td>\n",
       "      <td>3.50</td>\n",
       "      <td>0.00</td>\n",
       "      <td>0.00</td>\n",
       "      <td>0.00</td>\n",
       "      <td>0.00</td>\n",
       "      <td>0.0</td>\n",
       "      <td>0.00</td>\n",
       "      <td>0.0</td>\n",
       "      <td>0.0</td>\n",
       "      <td>0.10</td>\n",
       "      <td>0.00</td>\n",
       "      <td>2.69</td>\n",
       "      <td>0.21</td>\n",
       "      <td>5.54</td>\n",
       "      <td>1.98</td>\n",
       "      <td>16.20</td>\n",
       "      <td>4.06</td>\n",
       "      <td>17.85</td>\n",
       "      <td>6.15</td>\n",
       "      <td>21.37</td>\n",
       "      <td>10.75</td>\n",
       "    </tr>\n",
       "    <tr>\n",
       "      <th>12</th>\n",
       "      <td>A-15</td>\n",
       "      <td>통합공공임대</td>\n",
       "      <td>975</td>\n",
       "      <td>1841.081413</td>\n",
       "      <td>6185.469152</td>\n",
       "      <td>0.00</td>\n",
       "      <td>0.00</td>\n",
       "      <td>0.00</td>\n",
       "      <td>0.00</td>\n",
       "      <td>0.00</td>\n",
       "      <td>0.00</td>\n",
       "      <td>0.00</td>\n",
       "      <td>0.00</td>\n",
       "      <td>0.00</td>\n",
       "      <td>0.00</td>\n",
       "      <td>0.00</td>\n",
       "      <td>0.00</td>\n",
       "      <td>0.00</td>\n",
       "      <td>0.00</td>\n",
       "      <td>0.0</td>\n",
       "      <td>0.00</td>\n",
       "      <td>0.0</td>\n",
       "      <td>0.0</td>\n",
       "      <td>0.38</td>\n",
       "      <td>0.04</td>\n",
       "      <td>38.57</td>\n",
       "      <td>3.18</td>\n",
       "      <td>59.51</td>\n",
       "      <td>3.92</td>\n",
       "      <td>107.59</td>\n",
       "      <td>12.74</td>\n",
       "      <td>224.53</td>\n",
       "      <td>37.17</td>\n",
       "      <td>205.28</td>\n",
       "      <td>33.10</td>\n",
       "    </tr>\n",
       "    <tr>\n",
       "      <th>13</th>\n",
       "      <td>A-16</td>\n",
       "      <td>통합공공임대</td>\n",
       "      <td>895</td>\n",
       "      <td>1747.498098</td>\n",
       "      <td>5870.556550</td>\n",
       "      <td>0.00</td>\n",
       "      <td>0.00</td>\n",
       "      <td>1.50</td>\n",
       "      <td>0.00</td>\n",
       "      <td>0.00</td>\n",
       "      <td>0.00</td>\n",
       "      <td>0.00</td>\n",
       "      <td>1.50</td>\n",
       "      <td>3.00</td>\n",
       "      <td>10.50</td>\n",
       "      <td>0.00</td>\n",
       "      <td>0.00</td>\n",
       "      <td>0.00</td>\n",
       "      <td>0.00</td>\n",
       "      <td>0.0</td>\n",
       "      <td>0.00</td>\n",
       "      <td>0.0</td>\n",
       "      <td>0.0</td>\n",
       "      <td>19.17</td>\n",
       "      <td>18.70</td>\n",
       "      <td>104.83</td>\n",
       "      <td>39.61</td>\n",
       "      <td>313.47</td>\n",
       "      <td>95.83</td>\n",
       "      <td>641.90</td>\n",
       "      <td>160.25</td>\n",
       "      <td>822.51</td>\n",
       "      <td>213.32</td>\n",
       "      <td>967.81</td>\n",
       "      <td>368.78</td>\n",
       "    </tr>\n",
       "    <tr>\n",
       "      <th>14</th>\n",
       "      <td>A-17</td>\n",
       "      <td>행복주택</td>\n",
       "      <td>247</td>\n",
       "      <td>989.473243</td>\n",
       "      <td>3319.764471</td>\n",
       "      <td>0.00</td>\n",
       "      <td>0.00</td>\n",
       "      <td>0.00</td>\n",
       "      <td>0.00</td>\n",
       "      <td>0.00</td>\n",
       "      <td>0.00</td>\n",
       "      <td>0.00</td>\n",
       "      <td>0.00</td>\n",
       "      <td>0.00</td>\n",
       "      <td>0.00</td>\n",
       "      <td>0.00</td>\n",
       "      <td>0.00</td>\n",
       "      <td>0.00</td>\n",
       "      <td>0.00</td>\n",
       "      <td>0.0</td>\n",
       "      <td>0.00</td>\n",
       "      <td>0.0</td>\n",
       "      <td>0.0</td>\n",
       "      <td>1.22</td>\n",
       "      <td>0.82</td>\n",
       "      <td>21.55</td>\n",
       "      <td>9.77</td>\n",
       "      <td>51.96</td>\n",
       "      <td>11.27</td>\n",
       "      <td>126.77</td>\n",
       "      <td>32.24</td>\n",
       "      <td>138.01</td>\n",
       "      <td>46.23</td>\n",
       "      <td>175.61</td>\n",
       "      <td>59.23</td>\n",
       "    </tr>\n",
       "    <tr>\n",
       "      <th>15</th>\n",
       "      <td>A-18</td>\n",
       "      <td>통합공공임대</td>\n",
       "      <td>948</td>\n",
       "      <td>1809.497044</td>\n",
       "      <td>6079.186149</td>\n",
       "      <td>0.00</td>\n",
       "      <td>0.00</td>\n",
       "      <td>0.00</td>\n",
       "      <td>0.00</td>\n",
       "      <td>0.00</td>\n",
       "      <td>0.00</td>\n",
       "      <td>0.00</td>\n",
       "      <td>0.00</td>\n",
       "      <td>0.00</td>\n",
       "      <td>0.00</td>\n",
       "      <td>0.00</td>\n",
       "      <td>0.00</td>\n",
       "      <td>0.00</td>\n",
       "      <td>0.00</td>\n",
       "      <td>0.0</td>\n",
       "      <td>0.00</td>\n",
       "      <td>0.0</td>\n",
       "      <td>0.0</td>\n",
       "      <td>6.16</td>\n",
       "      <td>6.65</td>\n",
       "      <td>93.04</td>\n",
       "      <td>43.84</td>\n",
       "      <td>225.98</td>\n",
       "      <td>44.76</td>\n",
       "      <td>566.27</td>\n",
       "      <td>138.93</td>\n",
       "      <td>586.30</td>\n",
       "      <td>201.25</td>\n",
       "      <td>754.88</td>\n",
       "      <td>251.99</td>\n",
       "    </tr>\n",
       "    <tr>\n",
       "      <th>16</th>\n",
       "      <td>A-19</td>\n",
       "      <td>통합공공임대</td>\n",
       "      <td>554</td>\n",
       "      <td>1348.599216</td>\n",
       "      <td>4528.241583</td>\n",
       "      <td>0.00</td>\n",
       "      <td>0.00</td>\n",
       "      <td>1.50</td>\n",
       "      <td>0.00</td>\n",
       "      <td>0.00</td>\n",
       "      <td>0.00</td>\n",
       "      <td>0.00</td>\n",
       "      <td>1.50</td>\n",
       "      <td>3.00</td>\n",
       "      <td>10.50</td>\n",
       "      <td>0.00</td>\n",
       "      <td>0.00</td>\n",
       "      <td>0.00</td>\n",
       "      <td>0.00</td>\n",
       "      <td>0.0</td>\n",
       "      <td>0.00</td>\n",
       "      <td>0.0</td>\n",
       "      <td>0.0</td>\n",
       "      <td>3.60</td>\n",
       "      <td>3.11</td>\n",
       "      <td>24.75</td>\n",
       "      <td>7.53</td>\n",
       "      <td>71.80</td>\n",
       "      <td>18.38</td>\n",
       "      <td>141.37</td>\n",
       "      <td>34.47</td>\n",
       "      <td>183.77</td>\n",
       "      <td>43.77</td>\n",
       "      <td>204.12</td>\n",
       "      <td>76.85</td>\n",
       "    </tr>\n",
       "    <tr>\n",
       "      <th>17</th>\n",
       "      <td>A-20</td>\n",
       "      <td>통합공공임대</td>\n",
       "      <td>959</td>\n",
       "      <td>1822.364750</td>\n",
       "      <td>6122.486632</td>\n",
       "      <td>0.00</td>\n",
       "      <td>0.00</td>\n",
       "      <td>1.50</td>\n",
       "      <td>0.00</td>\n",
       "      <td>0.00</td>\n",
       "      <td>0.00</td>\n",
       "      <td>0.00</td>\n",
       "      <td>1.50</td>\n",
       "      <td>3.00</td>\n",
       "      <td>7.50</td>\n",
       "      <td>0.00</td>\n",
       "      <td>0.00</td>\n",
       "      <td>0.00</td>\n",
       "      <td>0.00</td>\n",
       "      <td>0.0</td>\n",
       "      <td>0.00</td>\n",
       "      <td>0.0</td>\n",
       "      <td>0.0</td>\n",
       "      <td>13.86</td>\n",
       "      <td>13.24</td>\n",
       "      <td>96.25</td>\n",
       "      <td>45.58</td>\n",
       "      <td>255.11</td>\n",
       "      <td>80.16</td>\n",
       "      <td>550.97</td>\n",
       "      <td>128.86</td>\n",
       "      <td>690.07</td>\n",
       "      <td>167.49</td>\n",
       "      <td>701.48</td>\n",
       "      <td>266.83</td>\n",
       "    </tr>\n",
       "    <tr>\n",
       "      <th>18</th>\n",
       "      <td>A-21</td>\n",
       "      <td>행복주택</td>\n",
       "      <td>688</td>\n",
       "      <td>1505.351269</td>\n",
       "      <td>5055.720191</td>\n",
       "      <td>0.00</td>\n",
       "      <td>0.00</td>\n",
       "      <td>1.50</td>\n",
       "      <td>0.00</td>\n",
       "      <td>0.00</td>\n",
       "      <td>0.00</td>\n",
       "      <td>0.00</td>\n",
       "      <td>1.50</td>\n",
       "      <td>3.00</td>\n",
       "      <td>7.50</td>\n",
       "      <td>0.00</td>\n",
       "      <td>0.00</td>\n",
       "      <td>0.00</td>\n",
       "      <td>0.00</td>\n",
       "      <td>0.0</td>\n",
       "      <td>0.00</td>\n",
       "      <td>0.0</td>\n",
       "      <td>0.0</td>\n",
       "      <td>1.34</td>\n",
       "      <td>0.62</td>\n",
       "      <td>56.31</td>\n",
       "      <td>30.25</td>\n",
       "      <td>106.09</td>\n",
       "      <td>43.53</td>\n",
       "      <td>272.67</td>\n",
       "      <td>53.86</td>\n",
       "      <td>331.59</td>\n",
       "      <td>65.34</td>\n",
       "      <td>198.17</td>\n",
       "      <td>77.58</td>\n",
       "    </tr>\n",
       "  </tbody>\n",
       "</table>\n",
       "</div>"
      ],
      "text/plain": [
       "   blockname    type   noh    total_cnt     total_tm  거주인구_20대_여  거주인구_20대_남  \\\n",
       "0        A-1  통합공공임대   823  1663.273114  5587.135208      679.25      658.00   \n",
       "1        A-1  통합공공임대   823  1663.273114  5587.135208      679.25      658.00   \n",
       "2        A-3    행복주택   394  1161.432585  3898.416378      380.25      367.25   \n",
       "3        A-4  통합공공임대   808  1645.726242  5528.089095      304.00      309.25   \n",
       "4        A-6    행복주택   769  1600.104376  5374.569201       30.25       27.25   \n",
       "5        A-7  통합공공임대  1605  2578.050023  8665.405895        0.00        0.00   \n",
       "6        A-9  통합공공임대   525  1314.675264  4414.085764        5.00        5.75   \n",
       "7       A-10  통합공공임대   491  1274.902355  4280.247908        0.00        0.00   \n",
       "8       A-11    행복주택   715  1536.935638  5162.003195        0.00        1.50   \n",
       "9       A-12  통합공공임대   807  1644.556451  5524.152687        0.00        0.00   \n",
       "10      A-13    행복주택   589  1389.541916  4666.015846        0.00        0.00   \n",
       "11      A-14    행복주택   439  1214.073200  4075.554717        0.00        0.00   \n",
       "12      A-15  통합공공임대   975  1841.081413  6185.469152        0.00        0.00   \n",
       "13      A-16  통합공공임대   895  1747.498098  5870.556550        0.00        0.00   \n",
       "14      A-17    행복주택   247   989.473243  3319.764471        0.00        0.00   \n",
       "15      A-18  통합공공임대   948  1809.497044  6079.186149        0.00        0.00   \n",
       "16      A-19  통합공공임대   554  1348.599216  4528.241583        0.00        0.00   \n",
       "17      A-20  통합공공임대   959  1822.364750  6122.486632        0.00        0.00   \n",
       "18      A-21    행복주택   688  1505.351269  5055.720191        0.00        0.00   \n",
       "\n",
       "    거주인구_30대_여  거주인구_30대_남  거주인구_40대_여  거주인구_40대_남  거주인구_50대_여  거주인구_50대_남  \\\n",
       "0       886.00      864.00      966.50      949.00      900.75     1031.75   \n",
       "1       886.00      864.00      966.50      949.00      900.75     1031.75   \n",
       "2       479.50      446.50      509.75      521.25      498.75      578.50   \n",
       "3       330.00      308.75      470.75      473.25      435.25      487.25   \n",
       "4        39.25       26.25       56.75       40.25       56.50       44.00   \n",
       "5         0.00        0.00        0.00        0.00        0.00        0.00   \n",
       "6         6.25        0.00        7.00        0.00       21.50       11.00   \n",
       "7         0.00        0.00        0.00        0.00        0.00        0.00   \n",
       "8         0.00        0.00        1.50        1.75       10.25        0.00   \n",
       "9         0.00        0.00        1.50        1.75        5.25        0.00   \n",
       "10        0.00        0.00        1.50        1.75        5.25        0.00   \n",
       "11        0.00        0.00        0.00        0.00        0.00        0.00   \n",
       "12        0.00        0.00        0.00        0.00        0.00        0.00   \n",
       "13        1.50        0.00        0.00        0.00        0.00        1.50   \n",
       "14        0.00        0.00        0.00        0.00        0.00        0.00   \n",
       "15        0.00        0.00        0.00        0.00        0.00        0.00   \n",
       "16        1.50        0.00        0.00        0.00        0.00        1.50   \n",
       "17        1.50        0.00        0.00        0.00        0.00        1.50   \n",
       "18        1.50        0.00        0.00        0.00        0.00        1.50   \n",
       "\n",
       "    거주인구_60대_여  거주인구_60대_남  거주인구_70대_여  거주인구_70대_남  거주인구_80대_여  거주인구_80대_남  \\\n",
       "0      1006.00     1153.75      561.50      617.00      171.25      292.25   \n",
       "1      1006.00     1153.75      561.50      617.00      171.25      292.25   \n",
       "2       546.25      643.25      324.25      347.00       96.75      160.00   \n",
       "3       490.00      579.75      320.75      274.25       65.00       90.50   \n",
       "4        38.75       43.75       23.00       19.50        0.00        3.25   \n",
       "5        10.50        3.50        0.00        0.00        0.00        0.00   \n",
       "6        11.25        6.50        0.00        6.00        0.00        0.00   \n",
       "7         0.00        0.00        0.00        0.00        0.00        0.00   \n",
       "8        11.75        0.00        0.00        0.00        0.00        0.00   \n",
       "9         0.00        0.00        0.00        0.00        0.00        0.00   \n",
       "10        0.00        3.50        0.00        0.00        0.00        0.00   \n",
       "11        0.00        3.50        0.00        0.00        0.00        0.00   \n",
       "12        0.00        0.00        0.00        0.00        0.00        0.00   \n",
       "13        3.00       10.50        0.00        0.00        0.00        0.00   \n",
       "14        0.00        0.00        0.00        0.00        0.00        0.00   \n",
       "15        0.00        0.00        0.00        0.00        0.00        0.00   \n",
       "16        3.00       10.50        0.00        0.00        0.00        0.00   \n",
       "17        3.00        7.50        0.00        0.00        0.00        0.00   \n",
       "18        3.00        7.50        0.00        0.00        0.00        0.00   \n",
       "\n",
       "    거주인구_90대_여  거주인구_90대_남  거주인구_100대_여  거주인구_100대_남  유동인구_10대_여  유동인구_10대_남  \\\n",
       "0          3.5       10.75          0.0          0.0      932.85      982.05   \n",
       "1          3.5       10.75          0.0          0.0      932.85      982.05   \n",
       "2          3.5        4.50          0.0          0.0       62.49       61.70   \n",
       "3          0.0        6.25          0.0          0.0     2310.99     2912.41   \n",
       "4          0.0        0.00          0.0          0.0       72.60       79.40   \n",
       "5          0.0        0.00          0.0          0.0       97.27      126.96   \n",
       "6          0.0        0.00          0.0          0.0     1259.89     1132.44   \n",
       "7          0.0        0.00          0.0          0.0      102.05       88.52   \n",
       "8          0.0        0.00          0.0          0.0       25.32        8.23   \n",
       "9          0.0        0.00          0.0          0.0       11.23        3.07   \n",
       "10         0.0        0.00          0.0          0.0        4.68        0.77   \n",
       "11         0.0        0.00          0.0          0.0        0.10        0.00   \n",
       "12         0.0        0.00          0.0          0.0        0.38        0.04   \n",
       "13         0.0        0.00          0.0          0.0       19.17       18.70   \n",
       "14         0.0        0.00          0.0          0.0        1.22        0.82   \n",
       "15         0.0        0.00          0.0          0.0        6.16        6.65   \n",
       "16         0.0        0.00          0.0          0.0        3.60        3.11   \n",
       "17         0.0        0.00          0.0          0.0       13.86       13.24   \n",
       "18         0.0        0.00          0.0          0.0        1.34        0.62   \n",
       "\n",
       "    유동인구_20대_여  유동인구_20대_남  유동인구_30대_여  유동인구_30대_남  유동인구_40대_여  유동인구_40대_남  \\\n",
       "0      1665.06     1413.33     3319.16     2291.88     5100.99     3439.99   \n",
       "1      1665.06     1413.33     3319.16     2291.88     5100.99     3439.99   \n",
       "2        90.34       73.39      184.95      127.65      294.06      217.00   \n",
       "3      4556.19     3505.99     9912.73     6376.83    16494.44     9608.09   \n",
       "4       188.60      121.85      463.83      227.31      817.89      370.84   \n",
       "5       577.98      222.52     1472.49      539.60     3291.22      891.88   \n",
       "6      3975.62     2154.75     9855.65     4437.93    17815.27     7025.26   \n",
       "7       324.97      170.95      815.15      345.81     1613.61      592.62   \n",
       "8        92.67       30.86      239.14       64.59      546.08      173.56   \n",
       "9        40.62       13.52      102.72       28.26      240.75       77.11   \n",
       "10       18.62        7.29       46.86       14.80      116.56       34.21   \n",
       "11        2.69        0.21        5.54        1.98       16.20        4.06   \n",
       "12       38.57        3.18       59.51        3.92      107.59       12.74   \n",
       "13      104.83       39.61      313.47       95.83      641.90      160.25   \n",
       "14       21.55        9.77       51.96       11.27      126.77       32.24   \n",
       "15       93.04       43.84      225.98       44.76      566.27      138.93   \n",
       "16       24.75        7.53       71.80       18.38      141.37       34.47   \n",
       "17       96.25       45.58      255.11       80.16      550.97      128.86   \n",
       "18       56.31       30.25      106.09       43.53      272.67       53.86   \n",
       "\n",
       "    유동인구_50대_여  유동인구_50대_남  유동인구_60대_여  유동인구_60대_남  \n",
       "0      5756.01     3651.00     7519.15     4900.65  \n",
       "1      5756.01     3651.00     7519.15     4900.65  \n",
       "2       350.73      231.16      493.52      335.74  \n",
       "3     18461.43    10314.60    23382.42    14690.88  \n",
       "4       879.06      408.90     1047.61      557.51  \n",
       "5      3984.71     1332.91     4247.05     1892.21  \n",
       "6     20991.78     8946.66    24099.29    11891.15  \n",
       "7      2017.68      807.68     2292.60     1105.08  \n",
       "8       649.15      231.22      750.35      418.49  \n",
       "9       290.67      104.43      342.16      191.88  \n",
       "10      139.63       46.78      164.09       83.19  \n",
       "11       17.85        6.15       21.37       10.75  \n",
       "12      224.53       37.17      205.28       33.10  \n",
       "13      822.51      213.32      967.81      368.78  \n",
       "14      138.01       46.23      175.61       59.23  \n",
       "15      586.30      201.25      754.88      251.99  \n",
       "16      183.77       43.77      204.12       76.85  \n",
       "17      690.07      167.49      701.48      266.83  \n",
       "18      331.59       65.34      198.17       77.58  "
      ]
     },
     "execution_count": 67,
     "metadata": {},
     "output_type": "execute_result"
    }
   ],
   "source": [
    "property_new_df"
   ]
  }
 ],
 "metadata": {
  "kernelspec": {
   "display_name": "GIS",
   "language": "python",
   "name": "python3"
  },
  "language_info": {
   "codemirror_mode": {
    "name": "ipython",
    "version": 3
   },
   "file_extension": ".py",
   "mimetype": "text/x-python",
   "name": "python",
   "nbconvert_exporter": "python",
   "pygments_lexer": "ipython3",
   "version": "3.8.16"
  },
  "orig_nbformat": 4
 },
 "nbformat": 4,
 "nbformat_minor": 2
}

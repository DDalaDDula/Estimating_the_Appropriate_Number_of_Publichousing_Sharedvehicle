{
 "cells": [
  {
   "cell_type": "markdown",
   "metadata": {},
   "source": [
    "## 기본설정 및 함수정의"
   ]
  },
  {
   "cell_type": "code",
   "execution_count": null,
   "metadata": {},
   "outputs": [],
   "source": [
    "import pandas as pd\n",
    "import numpy as np\n",
    "import plotly.express as px\n",
    "import plotly.graph_objects as go\n",
    "import plotly.graph_objs as go\n",
    "import plotly.offline as offline\n",
    "from folium.plugins import HeatMapWithTime\n",
    "from plotly.subplots import make_subplots\n",
    "import folium\n",
    "from folium import plugins\n",
    "from folium.plugins import HeatMap\n",
    "from folium import FeatureGroup\n",
    "import json\n",
    "import math\n",
    "import re\n",
    "from datetime import datetime\n",
    "import os\n",
    "import glob\n",
    "import subprocess\n",
    "from bs4 import BeautifulSoup as bs\n",
    "from shapely.geometry import Point, Polygon, LineString\n",
    "from shapely.ops import unary_union\n",
    "import geopandas as gpd\n",
    "from geopandas import GeoSeries\n",
    "import pyproj\n",
    "from tqdm import tqdm\n",
    "from keplergl import KeplerGl\n",
    "\n",
    "# tqdm의 pandas전용 메소드를 호출\n",
    "tqdm.pandas()\n",
    "# 모든 열이 생략되지 않도록 설정\n",
    "pd.set_option('display.max_columns', None)\n",
    "\n",
    "# 목표표 위도, 경도\n",
    "hwasung = [37.20387682941874, 127.0634311210021]\n",
    " \n",
    "# Point를만드는 함수\n",
    "def make_point(x):\n",
    "    try:\n",
    "        return Point(x)\n",
    "    except Exception as e:\n",
    "        print(f\"An error occurred: {e}\")\n",
    "        return None\n",
    "# Polygon을 만드는 함수\n",
    "def make_pol(x):\n",
    "    try:\n",
    "        return Polygon(x[0])\n",
    "    except:\n",
    "        return Polygon(x[0][0])\n",
    "    \n",
    "# Linestring을 만드는 함수\n",
    "def make_lin(x):\n",
    "    try:\n",
    "        return LineString(x)\n",
    "    except:\n",
    "        return LineString(x[0])\n",
    "\n",
    "# 데이터프레임을 GeoPandas 데이터프레임으로 변환하는 함수 정의\n",
    "def geo_transform(DataFrame) :\n",
    "    # csv to geopandas\n",
    "    # lon, lat data를 geometry로 변경\n",
    "    DataFrame['lat'] = DataFrame['lat'].astype(float)\n",
    "    DataFrame['lon'] = DataFrame['lon'].astype(float)\n",
    "    DataFrame['geometry'] = DataFrame.progress_apply(lambda row : Point([row['lon'], row['lat']]), axis=1) # 위도 및 경도롤 GeoPandas Point 객체로 변환\n",
    "    DataFrame = gpd.GeoDataFrame(DataFrame, geometry='geometry')\n",
    "    DataFrame.crs = {'init':'epsg:4326'} # geopandas 데이터프레임의 좌표계를 EPSG 4326으로 설정\n",
    "    DataFrame = DataFrame.to_crs({'init':'epsg:4326'}) # 데이터프레임의 좌표계를 자체 좌표계에서 EPSG 4326으로 변환\n",
    "    return DataFrame"
   ]
  },
  {
   "cell_type": "markdown",
   "metadata": {},
   "source": [
    "#### 대상구역"
   ]
  },
  {
   "cell_type": "code",
   "execution_count": null,
   "metadata": {},
   "outputs": [],
   "source": [
    "# GeoJSON 파일 불러오기\n",
    "with open('SBJ_2411_001/3.대상구역도(하남교산).geojson', encoding=\"UTF8\") as geojson_file:\n",
    "    geojson_data = json.load(geojson_file)\n",
    "object_area_df = pd.json_normalize(geojson_data['features'])\n",
    "object_area_df['geometry'] = object_area_df['geometry.coordinates'].apply(lambda x : make_pol(x))\n",
    "object_area_df.drop(columns=\"geometry.coordinates\", inplace=True)\n",
    "object_area_df = gpd.GeoDataFrame(object_area_df, geometry='geometry')"
   ]
  },
  {
   "cell_type": "markdown",
   "metadata": {},
   "source": [
    "##### 격자"
   ]
  },
  {
   "cell_type": "code",
   "execution_count": null,
   "metadata": {},
   "outputs": [],
   "source": [
    "# GeoJSON 파일 불러오기\n",
    "with open('SBJ_2411_001/2-14.하남시_격자.geojson', encoding=\"UTF8\") as geojson_file:\n",
    "    geojson_data = json.load(geojson_file)\n",
    "grid_map_df = pd.json_normalize(geojson_data['features'])\n",
    "grid_map_df['geometry'] = grid_map_df['geometry.coordinates'].apply(lambda x : make_pol(x))\n",
    "grid_map_df.drop(columns=\"geometry.coordinates\", axis=1, inplace=True)\n",
    "grid_map_df = grid_map_df[~grid_map_df['properties.gid'].str.startswith('다아')]\n",
    "# grid_map_df 데이터프레임을 GeoDataFrame으로 변환\n",
    "grid_map_df = gpd.GeoDataFrame(grid_map_df, geometry='geometry')"
   ]
  }
 ],
 "metadata": {
  "language_info": {
   "name": "python"
  }
 },
 "nbformat": 4,
 "nbformat_minor": 2
}
